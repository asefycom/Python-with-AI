{
  "cells": [
    {
      "cell_type": "markdown",
      "metadata": {
        "id": "view-in-github",
        "colab_type": "text"
      },
      "source": [
        "<a href=\"https://colab.research.google.com/github/asefycom/Python-with-AI/blob/main/L09_llm_var_prompt.ipynb\" target=\"_parent\"><img src=\"https://colab.research.google.com/assets/colab-badge.svg\" alt=\"Open In Colab\"/></a>"
      ]
    },
    {
      "cell_type": "markdown",
      "id": "817221c9",
      "metadata": {
        "id": "817221c9"
      },
      "source": [
        "# هفته اول - درس ۹\n",
        "این دفترچه همگام با توضیحات فیلم این درس معنی پیدا می‌کنه.\n",
        "\n",
        "سه سلول‌ اول برای راه اندازی اتصال به مدل‌های زبانی و نیازمند ثبت‌نام و دریافت کلید ای پی آی (با اعتبار رایگان) از وبسایت [توگِدر ای آی](https://api.together.ai/) هستن.\n",
        "\n",
        "بعد از نوار سمت چپ کولب گزینه\n",
        "\n",
        "`Secrets`\n",
        "\n",
        "با علامت کلید رو انتخاب و یه کلید بساز که نام اون\n",
        "\n",
        "`TOGETHER_API_KEY`\n",
        "\n",
        "و ولیو برابر کلید ای‌پی‌آی دریافتی از توگدر ای آی هست.\n",
        "\n",
        "بعدش می‌تونی سه سلول اول رو اجرا کنی و به مدل وصل بشی."
      ]
    },
    {
      "cell_type": "code",
      "source": [
        "!pip install together"
      ],
      "metadata": {
        "colab": {
          "base_uri": "https://localhost:8080/"
        },
        "id": "5nBA11AYyfZ4",
        "outputId": "292b8dd4-e676-492f-f7ec-a4d9ec1a98ed"
      },
      "id": "5nBA11AYyfZ4",
      "execution_count": 27,
      "outputs": [
        {
          "output_type": "stream",
          "name": "stdout",
          "text": [
            "Requirement already satisfied: together in /usr/local/lib/python3.11/dist-packages (1.5.17)\n",
            "Requirement already satisfied: aiohttp<4.0.0,>=3.9.3 in /usr/local/lib/python3.11/dist-packages (from together) (3.11.15)\n",
            "Requirement already satisfied: click<9.0.0,>=8.1.7 in /usr/local/lib/python3.11/dist-packages (from together) (8.1.8)\n",
            "Requirement already satisfied: eval-type-backport<0.3.0,>=0.1.3 in /usr/local/lib/python3.11/dist-packages (from together) (0.2.2)\n",
            "Requirement already satisfied: filelock<4.0.0,>=3.13.1 in /usr/local/lib/python3.11/dist-packages (from together) (3.18.0)\n",
            "Requirement already satisfied: numpy>=1.23.5 in /usr/local/lib/python3.11/dist-packages (from together) (2.0.2)\n",
            "Requirement already satisfied: pillow<12.0.0,>=11.1.0 in /usr/local/lib/python3.11/dist-packages (from together) (11.2.1)\n",
            "Requirement already satisfied: pydantic<3.0.0,>=2.6.3 in /usr/local/lib/python3.11/dist-packages (from together) (2.11.7)\n",
            "Requirement already satisfied: requests<3.0.0,>=2.31.0 in /usr/local/lib/python3.11/dist-packages (from together) (2.32.3)\n",
            "Requirement already satisfied: rich<15.0.0,>=13.8.1 in /usr/local/lib/python3.11/dist-packages (from together) (13.9.4)\n",
            "Requirement already satisfied: tabulate<0.10.0,>=0.9.0 in /usr/local/lib/python3.11/dist-packages (from together) (0.9.0)\n",
            "Requirement already satisfied: tqdm<5.0.0,>=4.66.2 in /usr/local/lib/python3.11/dist-packages (from together) (4.67.1)\n",
            "Requirement already satisfied: typer<0.16,>=0.9 in /usr/local/lib/python3.11/dist-packages (from together) (0.15.4)\n",
            "Requirement already satisfied: aiohappyeyeballs>=2.3.0 in /usr/local/lib/python3.11/dist-packages (from aiohttp<4.0.0,>=3.9.3->together) (2.6.1)\n",
            "Requirement already satisfied: aiosignal>=1.1.2 in /usr/local/lib/python3.11/dist-packages (from aiohttp<4.0.0,>=3.9.3->together) (1.3.2)\n",
            "Requirement already satisfied: attrs>=17.3.0 in /usr/local/lib/python3.11/dist-packages (from aiohttp<4.0.0,>=3.9.3->together) (25.3.0)\n",
            "Requirement already satisfied: frozenlist>=1.1.1 in /usr/local/lib/python3.11/dist-packages (from aiohttp<4.0.0,>=3.9.3->together) (1.7.0)\n",
            "Requirement already satisfied: multidict<7.0,>=4.5 in /usr/local/lib/python3.11/dist-packages (from aiohttp<4.0.0,>=3.9.3->together) (6.6.3)\n",
            "Requirement already satisfied: propcache>=0.2.0 in /usr/local/lib/python3.11/dist-packages (from aiohttp<4.0.0,>=3.9.3->together) (0.3.2)\n",
            "Requirement already satisfied: yarl<2.0,>=1.17.0 in /usr/local/lib/python3.11/dist-packages (from aiohttp<4.0.0,>=3.9.3->together) (1.20.1)\n",
            "Requirement already satisfied: annotated-types>=0.6.0 in /usr/local/lib/python3.11/dist-packages (from pydantic<3.0.0,>=2.6.3->together) (0.7.0)\n",
            "Requirement already satisfied: pydantic-core==2.33.2 in /usr/local/lib/python3.11/dist-packages (from pydantic<3.0.0,>=2.6.3->together) (2.33.2)\n",
            "Requirement already satisfied: typing-extensions>=4.12.2 in /usr/local/lib/python3.11/dist-packages (from pydantic<3.0.0,>=2.6.3->together) (4.14.0)\n",
            "Requirement already satisfied: typing-inspection>=0.4.0 in /usr/local/lib/python3.11/dist-packages (from pydantic<3.0.0,>=2.6.3->together) (0.4.1)\n",
            "Requirement already satisfied: charset-normalizer<4,>=2 in /usr/local/lib/python3.11/dist-packages (from requests<3.0.0,>=2.31.0->together) (3.4.2)\n",
            "Requirement already satisfied: idna<4,>=2.5 in /usr/local/lib/python3.11/dist-packages (from requests<3.0.0,>=2.31.0->together) (3.10)\n",
            "Requirement already satisfied: urllib3<3,>=1.21.1 in /usr/local/lib/python3.11/dist-packages (from requests<3.0.0,>=2.31.0->together) (2.4.0)\n",
            "Requirement already satisfied: certifi>=2017.4.17 in /usr/local/lib/python3.11/dist-packages (from requests<3.0.0,>=2.31.0->together) (2025.6.15)\n",
            "Requirement already satisfied: markdown-it-py>=2.2.0 in /usr/local/lib/python3.11/dist-packages (from rich<15.0.0,>=13.8.1->together) (3.0.0)\n",
            "Requirement already satisfied: pygments<3.0.0,>=2.13.0 in /usr/local/lib/python3.11/dist-packages (from rich<15.0.0,>=13.8.1->together) (2.19.2)\n",
            "Requirement already satisfied: shellingham>=1.3.0 in /usr/local/lib/python3.11/dist-packages (from typer<0.16,>=0.9->together) (1.5.4)\n",
            "Requirement already satisfied: mdurl~=0.1 in /usr/local/lib/python3.11/dist-packages (from markdown-it-py>=2.2.0->rich<15.0.0,>=13.8.1->together) (0.1.2)\n"
          ]
        }
      ]
    },
    {
      "cell_type": "code",
      "source": [
        "from google.colab import userdata\n",
        "from together import Together\n",
        "\n",
        "client = Together(api_key=userdata.get('TOGETHER_API_KEY'))"
      ],
      "metadata": {
        "id": "YwZZLw1wzPVK"
      },
      "id": "YwZZLw1wzPVK",
      "execution_count": 2,
      "outputs": []
    },
    {
      "cell_type": "code",
      "source": [
        "def print_llm_response(prompt):\n",
        "    response = client.chat.completions.create(\n",
        "        # model=\"google/gemma-3n-E4B-it\",\n",
        "        model=\"meta-llama/Llama-3.3-70B-Instruct-Turbo-Free\",\n",
        "        messages=[\n",
        "        {\n",
        "            \"role\": \"user\",\n",
        "            \"content\": prompt\n",
        "        }\n",
        "        ]\n",
        "    )\n",
        "    return response.choices[0].message.content"
      ],
      "metadata": {
        "id": "oHyWIQyt2ZFd"
      },
      "id": "oHyWIQyt2ZFd",
      "execution_count": 16,
      "outputs": []
    },
    {
      "cell_type": "markdown",
      "id": "36029c06",
      "metadata": {
        "id": "36029c06"
      },
      "source": [
        "تابع پرینت ال ال ام ریسپانس که پایین استفاده کردم، بالا ساخته شده.\n",
        "\n",
        "نگران مفهوم تابع نباش. به زودی در موردش صحبت می‌کنیم.\n",
        "\n",
        "برای این لحظه تمرکز کن روی این که:\n",
        "از مفهوم متغیر میشه در پرامپت پویا استفاده کرد."
      ]
    },
    {
      "cell_type": "code",
      "execution_count": 22,
      "id": "afcf6686",
      "metadata": {
        "id": "afcf6686",
        "colab": {
          "base_uri": "https://localhost:8080/",
          "height": 36
        },
        "outputId": "9d92d64c-a677-4fbb-cd55-9abfc3b7893e"
      },
      "outputs": [
        {
          "output_type": "execute_result",
          "data": {
            "text/plain": [
              "'استر و گنجشک'"
            ],
            "application/vnd.google.colaboratory.intrinsic+json": {
              "type": "string"
            }
          },
          "metadata": {},
          "execution_count": 22
        }
      ],
      "source": [
        "print_llm_response(\"\"\"یک نام برای رستورانی تو همدان\n",
        "                    منطبق با فرهنگ و تاریخ این شهر پیشنهاد کن.\n",
        "                    فقط نام رو به من بده و توضیح نده.\"\"\")"
      ]
    },
    {
      "cell_type": "markdown",
      "id": "7e164d69",
      "metadata": {
        "id": "7e164d69"
      },
      "source": [
        "نام شهر رو در یک متغیر جدا وارد کن.\n",
        "حالا پرامپت رو با اف-استرینگ بازنویسی کن.\n",
        "\n",
        "به این شکل هر وقت نام شهر رو تغییر کنی پرامپت با این نام تازه عمل می‌کنه.\n",
        "\n",
        "فرض کن حالا تو این پرامپت رو پشت صحنه یک اپ اندروید گذاشتی و هر کاربر ممکنه شهر خودش رو وارد کنه."
      ]
    },
    {
      "cell_type": "code",
      "execution_count": 23,
      "id": "196644ca",
      "metadata": {
        "id": "196644ca"
      },
      "outputs": [],
      "source": [
        "name = \"اهواز\""
      ]
    },
    {
      "cell_type": "code",
      "execution_count": 25,
      "id": "ad18f441",
      "metadata": {
        "id": "ad18f441",
        "colab": {
          "base_uri": "https://localhost:8080/",
          "height": 36
        },
        "outputId": "d6d04563-fe57-4f91-acb5-07c94909e0f7"
      },
      "outputs": [
        {
          "output_type": "execute_result",
          "data": {
            "text/plain": [
              "'کارون'"
            ],
            "application/vnd.google.colaboratory.intrinsic+json": {
              "type": "string"
            }
          },
          "metadata": {},
          "execution_count": 25
        }
      ],
      "source": [
        "print_llm_response(f\"\"\"یک نام برای رستورانی تو {name}\n",
        "                    منطبق با فرهنگ و تاریخ این شهر پیشنهاد کن.\n",
        "                    فقط نام رو به من بده و توضیح نده.\"\"\")"
      ]
    },
    {
      "cell_type": "markdown",
      "id": "8349cb53",
      "metadata": {
        "id": "8349cb53"
      },
      "source": [
        "<b>تو از هوش مصنوعی با متغیرهای خودت استفاده کردی</b>\n",
        "\n",
        "در واقع تو پرامپتی به صورت یک اف-استرینگ دارای متغیر پویا رو به یک مدل زبانی بزرگ فرستادی و جواب گرفتی.\n",
        "\n",
        "<b>شادا 🎉🎉🎉</b>"
      ]
    },
    {
      "cell_type": "markdown",
      "id": "98ec7de7",
      "metadata": {
        "id": "98ec7de7"
      },
      "source": [
        "## تمرین\n",
        "\n",
        "از یافته‌های این درس و درس‌های گذشته تمرین های پایین رو حل کن.\n",
        "\n",
        "<b>نیاز بود از چت‌بات کمک بگیر.</b>"
      ]
    },
    {
      "cell_type": "code",
      "execution_count": null,
      "id": "9fb2bd26",
      "metadata": {
        "id": "9fb2bd26"
      },
      "outputs": [],
      "source": [
        "# خطاهای این چند خط کد رو درک و اصلاح کن\n",
        "1favorite-book = \"1001 Ways to Wear a Hat\"\n",
        "\"2002 Ways to Wear a Scarf\" = second_fav_book\n",
        "print(f\"My most favorite book is {1favorite-book}, but I also like {second_fav_book})"
      ]
    },
    {
      "cell_type": "code",
      "execution_count": null,
      "id": "407023e6",
      "metadata": {
        "id": "407023e6"
      },
      "outputs": [],
      "source": [
        "# سه متغیر برای فیلم، بازی و غذای دلخواهت پیدا کن\n",
        "# حالا به کمک تابع بالا از مدل زبانی بخواه که\n",
        "# یک آهنگ بهت پیشنهاد کنه که با سلیقه تو جور باشه.\n",
        "\n",
        "print_llm_response(f\"\"\"\n",
        "\n",
        "\"\"\")"
      ]
    }
  ],
  "metadata": {
    "kernelspec": {
      "display_name": "Python 3 (ipykernel)",
      "language": "python",
      "name": "python3"
    },
    "language_info": {
      "codemirror_mode": {
        "name": "ipython",
        "version": 3
      },
      "file_extension": ".py",
      "mimetype": "text/x-python",
      "name": "python",
      "nbconvert_exporter": "python",
      "pygments_lexer": "ipython3",
      "version": "3.9.19"
    },
    "colab": {
      "provenance": [],
      "include_colab_link": true
    }
  },
  "nbformat": 4,
  "nbformat_minor": 5
}