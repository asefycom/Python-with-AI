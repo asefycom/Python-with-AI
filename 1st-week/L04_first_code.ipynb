{
  "cells": [
    {
      "cell_type": "markdown",
      "metadata": {
        "id": "view-in-github",
        "colab_type": "text"
      },
      "source": [
        "<a href=\"https://colab.research.google.com/github/asefycom/Python-with-AI/blob/main/L04_first_code.ipynb\" target=\"_parent\"><img src=\"https://colab.research.google.com/assets/colab-badge.svg\" alt=\"Open In Colab\"/></a>"
      ]
    },
    {
      "cell_type": "markdown",
      "metadata": {
        "id": "6Ue9TRVeuZHw"
      },
      "source": [
        "# هفته اول - درس ۴\n",
        "\n",
        "فیلم این درس رو ببین؛ سپس این دفترچه رو گام به گام اجرا و تمرین کن."
      ]
    },
    {
      "cell_type": "markdown",
      "metadata": {
        "id": "BR43kka8uZHy"
      },
      "source": [
        "## ۱. به دنیا سلام کن. این نخستین کد توست\n",
        "\n",
        "چاپ عبارت «سلام دنیا» در آغاز یادگیری یک زبان برنامه‌نویسی سنت شده.\n",
        "\n",
        "برای اجرای سلول‌های کد و دیدین نتیجه اجرای کد از ترکیب شیفت و اینتر روی صفحه کلید استفاده کن."
      ]
    },
    {
      "cell_type": "code",
      "execution_count": null,
      "metadata": {
        "colab": {
          "base_uri": "https://localhost:8080/"
        },
        "id": "TOgAuDqSuZHz",
        "outputId": "05056e97-804a-4210-cbd2-157c1d0a4c5b"
      },
      "outputs": [
        {
          "output_type": "stream",
          "name": "stdout",
          "text": [
            "Hello, World!\n"
          ]
        }
      ],
      "source": [
        "print(\"Hello, World!\")"
      ]
    },
    {
      "cell_type": "markdown",
      "metadata": {
        "id": "E6WcpLV3uZH0"
      },
      "source": [
        "**شادا! تو به جمع میلیون‌ها برنامه‌نویسی پیوستی که نخستین گام خودشون در دنیای برنامه‌نویسی رو با چاپ همین عبارت برداشتن.**"
      ]
    },
    {
      "cell_type": "markdown",
      "metadata": {
        "id": "KPDQVq9BuZH1"
      },
      "source": [
        "## ۲. به خودت سلام کن\n",
        "\n",
        "کد بالا رو به چت‌بات دلخواهت بده تا طوری تغییرش بده که سلام به خودت چاپ بشه.\n",
        "\n",
        "۱- چت‌بات دلخواهت رو باز کن.\n",
        "\n",
        "۲- پرامپت پایین رو به چت‌بات بده. نام خودت رو به جای نام من بگذار. اگه چت‌بات فارسیش خوب بود پرامپت رو می‌تونی فارسی بدی.\n",
        "\n",
        "Modify the code below to have it say hello to me.\n",
        "            \n",
        "print(\"Hello, World!\")\n",
        "            \n",
        "My name is Mostapha\n",
        "   \n",
        "۳. کدی که دریافت کردی رو تو سلول پایین بگذار.\n",
        "\n",
        "۴. شیفت و اینتر رو بزن تا کد اجرا بشه.\n",
        "\n",
        "دقت کن که تو سلول پایین فقط باید کد رو درج کنی و نه توضیحات متنی که شاید چت بات برای درک خودت اضافه کرده."
      ]
    },
    {
      "cell_type": "code",
      "execution_count": null,
      "metadata": {
        "id": "Mm6T5cbhuZH1"
      },
      "outputs": [],
      "source": [
        "# کدی که از چت‌بات گرفتی این پایین درج کن.\n"
      ]
    },
    {
      "cell_type": "markdown",
      "metadata": {
        "id": "-vrpA8xhuZH2"
      },
      "source": [
        "این بالا باید «سلام مصطفی» رو البته با نام خودت ببینی.\n",
        "\n",
        "دقت کن که بعد از اجرای کد یک شماره داخل براکت سمت چپ سلول اضافه شد.\n"
      ]
    },
    {
      "cell_type": "markdown",
      "metadata": {
        "id": "nncj89pquZH2"
      },
      "source": [
        "## ۳. به کسی که دوست داری سلام کن.\n",
        "\n",
        "تکه کد بالا رو این بار این پایین خودت تایپ کن. نام خودت رو با نام کسی که خیلی دوست داری جایگزین کن."
      ]
    },
    {
      "cell_type": "code",
      "execution_count": null,
      "metadata": {
        "id": "-ciX5eXRuZH3"
      },
      "outputs": [],
      "source": [
        "# کدت رو این پایین بنویس\n"
      ]
    },
    {
      "cell_type": "markdown",
      "metadata": {
        "id": "poD307aGuZH3"
      },
      "source": [
        "## ۴. کامنت در برنامه‌نویسی\n",
        "به علامت پوند تو سلول بالا دقت کردی؟\n",
        "`#`\n",
        "این علامت اول هر خط کد پایتون که بیاد اون خط به عنوان یادداشت برنامه‌نویس تفسیر میشه.\n",
        "\n",
        "اگه این علامت رو نگذاری و همین طوری تو یک سلول پایتونی کلمات رو بنویسی خطا دریافت می‌کنی. چون مفسر پایتون فقط زبان پایتون رو می‌فهمه.\n",
        "\n",
        "در واقع با گذاشتن این علامت اول یک خط،  مفسر پایتون اون رو نادیده می‌گیره.\n",
        "\n",
        "به چنین خط‌هایی «کامنت» گفته میشه. کامنت‌ها یادداشت‌های کوتاه برنامه‌نویس‌هاست برای یادآوری کدهاشون.\n",
        "\n",
        "حالا سلول پایتونی پایین رو با شیفت اینتر اجرا کن. چه اتفاقی افتاد؟"
      ]
    },
    {
      "cell_type": "code",
      "execution_count": null,
      "metadata": {
        "id": "JbOJCkfEuZH4"
      },
      "outputs": [],
      "source": [
        "# THIS IS A COMMENT - PYTHON WILL IGNORE THIS LINE"
      ]
    },
    {
      "cell_type": "markdown",
      "metadata": {
        "id": "qigRqdOCuZH4"
      },
      "source": [
        "کامنت یعنی «یادداشت» و\n",
        "با گذاشتن علامت پوند در آغاز هر خط، حتی اگر اون خط یک کد پایتون باشه، نادیده انگاشته میشه و به صورت یادداشت درمیاد.\n",
        "\n",
        "آزمایش کنیم؟ خط کد پایین رو اجرا کن."
      ]
    },
    {
      "cell_type": "code",
      "execution_count": null,
      "metadata": {
        "id": "YyQOlnyRuZH4"
      },
      "outputs": [],
      "source": [
        "print(\"Salam Mostapha\")"
      ]
    },
    {
      "cell_type": "markdown",
      "metadata": {
        "id": "RkSbiGMLuZH5"
      },
      "source": [
        "حالا برگرد و آغاز این خط کد بالا یک علامت پوند بگذار.\n",
        "\n",
        "و دوباره اجراش کن. چه اتفاقی افتاد؟"
      ]
    },
    {
      "cell_type": "markdown",
      "metadata": {
        "id": "gkVtcVMRuZH5"
      },
      "source": [
        "ما می‌تونیم چند خط یادداشت پشت هم داشته باشیم.\n",
        "\n",
        "همچنین می‌تونیم جاهای مختلفی از کد یادداشت داشته باشیم."
      ]
    },
    {
      "cell_type": "code",
      "execution_count": null,
      "metadata": {
        "id": "0ftL4QOSuZH5"
      },
      "outputs": [],
      "source": [
        "# This is an example of code with multiple\n",
        "# comments, including this one which\n",
        "# spans multiple lines\n",
        "print(\"Hello, Mostapha!\")\n",
        "# Follow up with an additional print command\n",
        "print(\"How is your day going?\")"
      ]
    },
    {
      "cell_type": "markdown",
      "metadata": {
        "id": "vEadbQTtuZH5"
      },
      "source": [
        "## ۵. اشتباه کن. آسمون به زمین نمیاد\n",
        "\n",
        "خط کد پایین رو اجرا کن.\n",
        "\n",
        "این اولین تجربه اشتباه کدنویسی توست.\n",
        "\n",
        "ببین پایتون چطور خطای سینتکس رو گزارش می‌کنه.\n",
        "\n",
        "سینتکس تو برنامه‌نویسی یعنی چی؟ از چت‌بات بپرس."
      ]
    },
    {
      "cell_type": "code",
      "execution_count": null,
      "metadata": {
        "id": "EsXJZYgEuZH5"
      },
      "outputs": [],
      "source": [
        "print(\"Hello, Mostapha!)"
      ]
    },
    {
      "cell_type": "markdown",
      "metadata": {
        "id": "f5kAc8tSuZH6"
      },
      "source": [
        "از چت‌بات برای رفع این خطا کمک بگیر:\n",
        "\n",
        "۱. چت‌بات رو باز کن\n",
        "\n",
        "۲. پرامپت پایین رو وارد کن:\n",
        "\n",
        "What is wrong with this code, and how do I fix it?\n",
        "\n",
        "print(\"Hello, Mostapha!)\n",
        "\n",
        "۳. با پاسخ چت‌بات مشکل کد در سلول بعد رو حل کن."
      ]
    },
    {
      "cell_type": "code",
      "execution_count": null,
      "metadata": {
        "id": "feE0plWguZH6"
      },
      "outputs": [],
      "source": [
        "# خط کد پایین رو ویرایش و خطاش رو برطرف کن\n",
        "print(\"Hello, Andrew!)"
      ]
    },
    {
      "cell_type": "markdown",
      "metadata": {
        "id": "qi3KduBWuZH6"
      },
      "source": [
        "## تمرین\n",
        "\n",
        "با یافته‌های این درس می‌تونی تمرین‌های پایین رو حل کنی.\n",
        "\n",
        "تو هر مورد کد پایتون رو زیر یادداشت بنویس و با شیفت و اینتر سلول رو اجرا کن."
      ]
    },
    {
      "cell_type": "code",
      "execution_count": null,
      "metadata": {
        "id": "ou4rrv0YuZH6"
      },
      "outputs": [],
      "source": [
        "# کدی بنویس که رنگ‌های محبوبت رو اعلام کنه"
      ]
    },
    {
      "cell_type": "code",
      "execution_count": null,
      "metadata": {
        "id": "Pk96lfWMuZH7"
      },
      "outputs": [],
      "source": [
        "# کدی بنویس که پرسش «امروز حالت چطوره؟» و پاسخش رو چاپ کنه"
      ]
    },
    {
      "cell_type": "code",
      "execution_count": null,
      "metadata": {
        "id": "4NQ1yvbMuZH7"
      },
      "outputs": [],
      "source": [
        "# کد سلول قبلی رو طوری دستکاری کن که خطادار بشه"
      ]
    },
    {
      "cell_type": "code",
      "execution_count": null,
      "metadata": {
        "id": "vSr7H7TyuZH7"
      },
      "outputs": [],
      "source": [
        "# از چت‌بات بخواه که مشکل کد بالا رو پیدا و رفع کنه.\n",
        "# حالا کد اصلاح شده رو این پایین بنویس."
      ]
    }
  ],
  "metadata": {
    "kernelspec": {
      "display_name": "Python 3 (ipykernel)",
      "language": "python",
      "name": "python3"
    },
    "language_info": {
      "codemirror_mode": {
        "name": "ipython",
        "version": 3
      },
      "file_extension": ".py",
      "mimetype": "text/x-python",
      "name": "python",
      "nbconvert_exporter": "python",
      "pygments_lexer": "ipython3",
      "version": "3.9.19"
    },
    "colab": {
      "provenance": [],
      "include_colab_link": true
    }
  },
  "nbformat": 4,
  "nbformat_minor": 0
}