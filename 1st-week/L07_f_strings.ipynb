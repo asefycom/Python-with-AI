{
  "cells": [
    {
      "cell_type": "markdown",
      "metadata": {
        "id": "view-in-github",
        "colab_type": "text"
      },
      "source": [
        "<a href=\"https://colab.research.google.com/github/asefycom/Python-with-AI/blob/main/1st-week/L07_f_strings.ipynb\" target=\"_parent\"><img src=\"https://colab.research.google.com/assets/colab-badge.svg\" alt=\"Open In Colab\"/></a>"
      ]
    },
    {
      "cell_type": "markdown",
      "id": "214ecaa7",
      "metadata": {
        "id": "214ecaa7"
      },
      "source": [
        "# هفته اول: درس ۷\n",
        "ترکیب رشته و عدد و نمایش محاسبه‌ها\n",
        "فیلم این درس رو اول ببین بعد سراغ این دفترچه بیا."
      ]
    },
    {
      "cell_type": "markdown",
      "id": "7b673ff9",
      "metadata": {
        "id": "7b673ff9"
      },
      "source": [
        "دیدیم که استرینگ برای ذخیره رشته متنی و اینتیجر و فلوت برای ذخیره عددهای صحیح و اعشاری بودن.\n",
        "\n",
        "<b>Strings</b>:\n",
        "\n",
        "- `\"Hello, world\"`\n",
        "\n",
        "- `\"My favorite drink is Earl Grey tea\"`\n",
        "\n",
        "<b>Integers and floats</b>:\n",
        "\n",
        "- `42`\n",
        "\n",
        "- `3.14`\n",
        "\n",
        "همچنین تا به حال برای چاپ استرینگ از تابع پرینت استفاده کردی:\n",
        "\n",
        "`print()`:\n",
        "\n",
        "- `print(\"Hello, World!\")`\n",
        "\n",
        "و البته چاپ نتیجه محاسبه‌های عددی:\n",
        "\n",
        "- `print(3 * 4.5)`\n",
        "\n",
        "حالا یاد بگیریم که استرینگ‌های ترکیبی شامل عدد و متن بسازیم."
      ]
    },
    {
      "cell_type": "markdown",
      "id": "9e17dcfc",
      "metadata": {
        "id": "9e17dcfc"
      },
      "source": [
        "## ترکیب متن و محاسبه در استرینگ فرمت‌شده: f-Strings"
      ]
    },
    {
      "cell_type": "markdown",
      "id": "fe7c44ec",
      "metadata": {
        "id": "fe7c44ec"
      },
      "source": [
        "مثال: برای نمایش تبدیل فانهایت به سلسیوس باید چنین چیزی بنویسی درسته؟"
      ]
    },
    {
      "cell_type": "code",
      "execution_count": null,
      "id": "b25dbb3d",
      "metadata": {
        "id": "b25dbb3d"
      },
      "outputs": [],
      "source": [
        "print(((75 - 32) * 5 / 9))"
      ]
    },
    {
      "cell_type": "markdown",
      "id": "c46cd21a",
      "metadata": {
        "id": "c46cd21a"
      },
      "source": [
        "حالا این رو داشته باش! برای گزارش این تبدیل به صورت متنی که همزمان محاسبه هم درش اتفاق می‌افته باید این شکلی بنویسیم؟"
      ]
    },
    {
      "cell_type": "code",
      "execution_count": null,
      "id": "e0c8dbb3",
      "metadata": {
        "id": "e0c8dbb3"
      },
      "outputs": [],
      "source": [
        "print(\"The temperature 75F in degrees Celsius is ((75 - 32) * 5 / 9)C\")"
      ]
    },
    {
      "cell_type": "markdown",
      "id": "96d232d1",
      "metadata": {
        "id": "96d232d1"
      },
      "source": [
        "ولی نه! تو نمی‌خواهی شیوه محاسبه رو نشون بدی. تو قصد داری نتیجه محاسبه یکجا نشون داده بشه.\n",
        "\n",
        "برای این کار باید از اف-استرینگ یا استرینگ فرمت‌شده استفاده کنی:"
      ]
    },
    {
      "cell_type": "code",
      "execution_count": null,
      "id": "a434574b",
      "metadata": {
        "id": "a434574b"
      },
      "outputs": [],
      "source": [
        "print(f\"The temperature 75F in degrees celsius is {(75 - 32) * 5 / 9}C\")"
      ]
    },
    {
      "cell_type": "markdown",
      "id": "b0ff33f8",
      "metadata": {
        "id": "b0ff33f8"
      },
      "source": [
        "من جلوی دابل کوتیشن اول یک حرف «اف» گذاشتم.\n",
        "\n",
        "این به پایتون اعلام می‌کنه که داخل این استرینگ هر جا آکولاد باز و بسته دیدی، محاسبه داخلش رو انجام و نتیجه رو جایگذاری کن."
      ]
    },
    {
      "cell_type": "markdown",
      "id": "b8081f54",
      "metadata": {
        "id": "b8081f54"
      },
      "source": [
        "## نحوه نمایش عددها در اف-استرینگ"
      ]
    },
    {
      "cell_type": "markdown",
      "id": "1ad2fbac",
      "metadata": {
        "id": "1ad2fbac"
      },
      "source": [
        "این مثال رو ببین. ما سن رضا رو این طور چاپ کردیم:"
      ]
    },
    {
      "cell_type": "code",
      "execution_count": null,
      "id": "11225cfb",
      "metadata": {
        "id": "11225cfb"
      },
      "outputs": [],
      "source": [
        "print(\"Isabel is 28 years old.\")"
      ]
    },
    {
      "cell_type": "markdown",
      "metadata": {
        "id": "-WC-w3dfRHAx"
      },
      "source": [
        "تو برخی کشورها مفهومی با عنوان «سن سگی» وجود داره.\n",
        "\n",
        "چون انسان‌ها از سگ‌ها بیشتر عمر می‌کنن، سن سگی فرد رو یک هفتم سن انسانیش در نظر می‌گیرن.\n",
        "\n",
        "بنابراین برای اعلام سن سگی ایزابل داریم:"
      ],
      "id": "-WC-w3dfRHAx"
    },
    {
      "cell_type": "code",
      "execution_count": null,
      "id": "3fb5fdb4",
      "metadata": {
        "id": "3fb5fdb4"
      },
      "outputs": [],
      "source": [
        "print(\"Isabel is 28/7 dog years old.\")"
      ]
    },
    {
      "cell_type": "markdown",
      "id": "aec3622b",
      "metadata": {
        "id": "aec3622b"
      },
      "source": [
        "و برای اعلام و محاسبه همزمان عدد سن سگی ایزابل داریم:"
      ]
    },
    {
      "cell_type": "code",
      "execution_count": null,
      "id": "8b166959",
      "metadata": {
        "id": "8b166959"
      },
      "outputs": [],
      "source": [
        "print(f\"Isabel is {28/7} dog years old.\")"
      ]
    },
    {
      "cell_type": "markdown",
      "id": "8a177221",
      "metadata": {
        "id": "8a177221"
      },
      "source": [
        "چون دو عدد به هم تقسیم شدن پایتون حاصل رو به صورت اعشاری نمایش داد که خیلی برای گزارش سن مرسوم نیست. چه کنیم که حاصل به صورت عدد صحیح نمایش داده بشه؟\n",
        "\n",
        "در موردش با چت‌بات مشورت کن. از پرامپت پایین یا پرامپت دلخواه خودت استفاده کن."
      ]
    },
    {
      "cell_type": "markdown",
      "source": [
        "<p style=\"background-color:#F5C780; padding:15px\"> 🤖 <b>پرامپت به چت‌بات</b>: Modify this code to print the answer without any characters after the decimal place: print(f\"Isabel's dog age is {28/7}.\")  \n",
        "</p>\n"
      ],
      "metadata": {
        "id": "6EUJSl9kRxb0"
      },
      "id": "6EUJSl9kRxb0"
    },
    {
      "cell_type": "markdown",
      "id": "60469567",
      "metadata": {
        "id": "60469567"
      },
      "source": [
        "کم و بیش پیشنهاد چت بات چنین اصلاحی هست:"
      ]
    },
    {
      "cell_type": "code",
      "execution_count": null,
      "id": "c8cb9777",
      "metadata": {
        "id": "c8cb9777"
      },
      "outputs": [],
      "source": [
        "print(f\"Isabel is {28/7:.0f} dog years old.\")"
      ]
    },
    {
      "cell_type": "markdown",
      "id": "b8f96a44",
      "metadata": {
        "id": "b8f96a44"
      },
      "source": [
        "این بخشی که با انتهای تقسیم اضافه شده به پایتون میگه که نتیجه تقسیم رو با صفر رقم اعشار گزارش کن."
      ]
    },
    {
      "cell_type": "markdown",
      "id": "abe5e612",
      "metadata": {
        "id": "abe5e612"
      },
      "source": [
        "<b>دقت کردی که داری پایتون رو با هوش مصنوعی پیش می‌بری؟</b>\n",
        "\n",
        "کدی بهش دادی که به شیوه‌ای کار می‌کرد و بعد خواستی طوری اصلاح کنه که به شیوه تازه کار کنه.\n",
        "\n",
        "همیشه می‌تونی کد جدیدی که داد رو بخواهی که بیشتر برات توضیح بده. حتی خط به خط!  \n",
        "\n",
        "<b>شادا 🎉🎉🎉</b>"
      ]
    },
    {
      "cell_type": "markdown",
      "id": "8b16c40d",
      "metadata": {
        "id": "8b16c40d"
      },
      "source": [
        "## اف استرینگ چندخطی"
      ]
    },
    {
      "cell_type": "markdown",
      "id": "177387db",
      "metadata": {
        "id": "177387db"
      },
      "source": [
        "درس گذشته با استرینگ‌های چندخطی آشنا شدی.\n",
        "\n",
        "حالا آیا می‌شه استرینگ چندخطی فرمت شده داشته باشیم؟\n",
        "\n",
        "بله و این مثال رو ببین:"
      ]
    },
    {
      "cell_type": "code",
      "execution_count": null,
      "id": "01f5be22",
      "metadata": {
        "id": "01f5be22"
      },
      "outputs": [],
      "source": [
        "print(f\"\"\"\n",
        "یک کیلوگرم برابر با حدود ۲۱۵ مثقال است.\n",
        "\n",
        "اگر در مغازه زعفران‌فروشی دیدی نوشته:\n",
        "\n",
        "۴۳۰ مثقال زعفران موجود است،\n",
        "\n",
        "یعنی چقدر؟\n",
        "\n",
        "۴۳۰ ÷ ۲۱۵ = {430 / 215} کیلوگرم\n",
        "\n",
        "یعنی تقریبا ۲ کیلو زعفران!\n",
        "\"\"\")\n"
      ]
    },
    {
      "cell_type": "markdown",
      "id": "acc8ec4c",
      "metadata": {
        "id": "acc8ec4c"
      },
      "source": [
        "دقت کن که از تریپل کوت در آغاز و پایان استفاده شده."
      ]
    },
    {
      "cell_type": "markdown",
      "id": "65bf114b",
      "metadata": {
        "id": "65bf114b"
      },
      "source": [
        "اینجا فقط یک محاسبه داریم. اما اگر چند محاسبه و اون هم محاسبه‌های طولانی داشته باشیم احتمالا حس می‌کنی که این سبک گذاشتن محاسبه داخل استرینگ سخت هست.\n",
        "\n",
        "\n",
        "درس بعدی با مفهومی آشنا خواهی شد که کار رو ساده‌تر و خواناتر می‌کنه!"
      ]
    },
    {
      "cell_type": "markdown",
      "id": "630c7ed6",
      "metadata": {
        "id": "630c7ed6"
      },
      "source": [
        "## تمرین\n",
        "\n",
        "با یافته‌های این درس تمرین‌های پایین رو حل کن.\n",
        "\n",
        "<b>هر جا نیاز دیدی با چت‌بات مشورت کن.</b>"
      ]
    },
    {
      "cell_type": "code",
      "execution_count": null,
      "id": "98b11e54",
      "metadata": {
        "id": "98b11e54"
      },
      "outputs": [],
      "source": [
        "# این کد رو طوری ویرایش کن که سن خودت رو نمایش بده\n",
        "print(f\"I am {} years old.\")"
      ]
    },
    {
      "cell_type": "code",
      "execution_count": null,
      "id": "e815ac9d",
      "metadata": {
        "id": "e815ac9d"
      },
      "outputs": [],
      "source": [
        "# این کد رو خطایابی و درست کن\n",
        "print(f\"There are {365/7 weeks in a year\")"
      ]
    },
    {
      "cell_type": "code",
      "execution_count": null,
      "id": "1bddecfc",
      "metadata": {
        "id": "1bddecfc"
      },
      "outputs": [],
      "source": [
        "# این کد رو کامل کن\n",
        "print(f\"The area of a square with side 5 cm is {} cm squared.\")"
      ]
    },
    {
      "cell_type": "code",
      "execution_count": null,
      "id": "fcd07d9b",
      "metadata": {
        "id": "fcd07d9b"
      },
      "outputs": [],
      "source": [
        "# این کد رو طوری ویرایش کن که نتیجه رو به صورت یک رقم اعشار نمایش بده\n",
        "print(f\"The house was a good size: 1200 square feet, or {1200 * 0.092903} meters squared!\")"
      ]
    }
  ],
  "metadata": {
    "kernelspec": {
      "display_name": "Python 3 (ipykernel)",
      "language": "python",
      "name": "python3"
    },
    "language_info": {
      "codemirror_mode": {
        "name": "ipython",
        "version": 3
      },
      "file_extension": ".py",
      "mimetype": "text/x-python",
      "name": "python",
      "nbconvert_exporter": "python",
      "pygments_lexer": "ipython3",
      "version": "3.9.19"
    },
    "colab": {
      "provenance": [],
      "include_colab_link": true
    }
  },
  "nbformat": 4,
  "nbformat_minor": 5
}