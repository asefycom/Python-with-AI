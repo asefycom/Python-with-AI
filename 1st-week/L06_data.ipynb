{
  "cells": [
    {
      "cell_type": "markdown",
      "metadata": {
        "id": "view-in-github",
        "colab_type": "text"
      },
      "source": [
        "<a href=\"https://colab.research.google.com/github/asefycom/Python-with-AI/blob/main/1st-week/L06_data.ipynb\" target=\"_parent\"><img src=\"https://colab.research.google.com/assets/colab-badge.svg\" alt=\"Open In Colab\"/></a>"
      ]
    },
    {
      "cell_type": "markdown",
      "metadata": {
        "id": "lN5uWDEgY4c6"
      },
      "source": [
        "# هفته اول: درس ۶\n",
        "\n",
        "فیلم این درس رو ببین؛ بعد این دفترچه رو اجرا کن"
      ]
    },
    {
      "cell_type": "markdown",
      "metadata": {
        "id": "os8JlLQ9Y4c8"
      },
      "source": [
        "انواع گوناگونی از داده‌ها در پایتون وجود دارند.\n",
        "در این دفترچه کار با داده‌های متنی و عددی رو تجربه می‌کنی"
      ]
    },
    {
      "cell_type": "markdown",
      "metadata": {
        "id": "LimQR8hFY4c9"
      },
      "source": [
        "## String استرینگ یا"
      ]
    },
    {
      "cell_type": "markdown",
      "metadata": {
        "id": "SzOJpvmhY4c9"
      },
      "source": [
        "استرینگ‌ها برای ذخیره و ویرایش متن ساخته شدن. برای این که پایتون داده‌ای رو استرینگ در نظر بگیره باید بین دو دابل کوتیشن\n",
        "`\"‍ \"`\n",
        "گذاشته بشه.\n",
        "\n",
        "استرینگ‌ها می‌تونن شامل حرف‌ها، عددها و علایم خاص باشن.\n",
        "\n",
        "سلو‌ل‌های پایین رو اجرا و چهار استرینگ چاپ کن."
      ]
    },
    {
      "cell_type": "code",
      "execution_count": null,
      "metadata": {
        "id": "aDIXWuIUY4c-"
      },
      "outputs": [],
      "source": [
        "print(\"Hello, World\")"
      ]
    },
    {
      "cell_type": "code",
      "execution_count": null,
      "metadata": {
        "id": "e3gMY_IEY4c-"
      },
      "outputs": [],
      "source": [
        "print(\"نوشیدنی دلخواه من آب است.\")"
      ]
    },
    {
      "cell_type": "code",
      "execution_count": null,
      "metadata": {
        "id": "FCmmJ6yXY4c_"
      },
      "outputs": [],
      "source": [
        "print(\"¯\\_(ツ)_/¯\")"
      ]
    },
    {
      "cell_type": "code",
      "execution_count": null,
      "metadata": {
        "id": "k6TSIl-AY4dA"
      },
      "outputs": [],
      "source": [
        "print(\"2.99\")"
      ]
    },
    {
      "cell_type": "markdown",
      "metadata": {
        "id": "d90GO-SfY4dB"
      },
      "source": [
        "## استرینگ‌های چندخطی"
      ]
    },
    {
      "cell_type": "markdown",
      "metadata": {
        "id": "Se9sqq8uY4dB"
      },
      "source": [
        "برای ساخت استرینگ چندخطی (شاید یادداشت طولانی) می‌تونید از تریپِل کوتیشن `\"\"\"` استفاده کن."
      ]
    },
    {
      "cell_type": "code",
      "execution_count": null,
      "metadata": {
        "id": "i5LsYLvBY4dC"
      },
      "outputs": [],
      "source": [
        "print(\"\"\"Hello, World!\n",
        "      It's great to be here!\"\"\")"
      ]
    },
    {
      "cell_type": "markdown",
      "metadata": {
        "id": "1BC05TusY4dC"
      },
      "source": [
        "استرینگ چندخطی رو نمیشه با دابل کوتیشن ساخت. خطا دریافت می‌کنی."
      ]
    },
    {
      "cell_type": "code",
      "execution_count": null,
      "metadata": {
        "id": "7aVV4H4_Y4dC"
      },
      "outputs": [],
      "source": [
        "print(\"Hello, World!\n",
        "      It's great to be here!\")"
      ]
    },
    {
      "cell_type": "markdown",
      "metadata": {
        "id": "OkgBGI9gY4dD"
      },
      "source": [
        "## type() تابع تشخیص نوع"
      ]
    },
    {
      "cell_type": "markdown",
      "metadata": {
        "id": "Cm1lb9WdY4dD"
      },
      "source": [
        "نوع داده رو می‌تونی از پایتون بپرسی. برای این کار از تابع تایپ استفاده کن.\n",
        "\n",
        "برای نمونه وقتی سلول پایین رو جرا کنی نوع داده عبارت داخل دابل کوتیشن رو اعلام می‌کنه."
      ]
    },
    {
      "cell_type": "code",
      "execution_count": null,
      "metadata": {
        "id": "5OmY_c1uY4dD"
      },
      "outputs": [],
      "source": [
        "type(\"Mostapha\")"
      ]
    },
    {
      "cell_type": "markdown",
      "metadata": {
        "id": "uvPPw8NdY4dE"
      },
      "source": [
        "پایتون عبارت\n",
        "\n",
        " `str`\n",
        "\n",
        " رو اعلام می‌کنه یه مخفف نوع داده استرینگ هست.\n",
        "\n",
        " `string`\n",
        "\n",
        " حالا ببینیم در مورد این عبارت چندخطی چه نوع داده‌ای گزارش می‌کنه."
      ]
    },
    {
      "cell_type": "code",
      "execution_count": null,
      "metadata": {
        "id": "8JgpdY-2Y4dE"
      },
      "outputs": [],
      "source": [
        "type(\"\"\"\n",
        "Numbers, text, and truth,\n",
        "Strings, ints, and floats in our code,\n",
        "Data shapes our path\n",
        "\"\"\")"
      ]
    },
    {
      "cell_type": "markdown",
      "metadata": {
        "id": "S5VL10xoY4dE"
      },
      "source": [
        "این یکی هم از همون نوع داده هست. حالا ببینیم این عدد اعشاری که داخل دابل کوتیشن گذاشته شده چطور؟"
      ]
    },
    {
      "cell_type": "code",
      "execution_count": null,
      "metadata": {
        "id": "yrX61YqoY4dE"
      },
      "outputs": [],
      "source": [
        "type(\"2.99\")"
      ]
    },
    {
      "cell_type": "markdown",
      "metadata": {
        "id": "Wc-1cmd4Y4dF"
      },
      "source": [
        "جالب شد! اینم استرینگ اعلام شد.\n",
        "در واقع تو با گذاشتن عدد داخل دو دابل کوتیشن به پایتون گفتی که با این عدد مثل یک استرینگ رفتار کن.\n",
        "\n",
        "حالا ببینیم اگه دابل کوتیشن برای عدد نگذاریم چی میشه؟"
      ]
    },
    {
      "cell_type": "code",
      "execution_count": null,
      "metadata": {
        "id": "Vm-CPCrfY4dF"
      },
      "outputs": [],
      "source": [
        "type(100)"
      ]
    },
    {
      "cell_type": "markdown",
      "metadata": {
        "id": "LNbgToRaY4dF"
      },
      "source": [
        "این بار این نوع داده رو دریافت می‌کنی:\n",
        "\n",
        " `int`\n",
        "\n",
        " که کوتاه‌شده اینتیجر یا عدد صحیح هست:\n",
        "\n",
        " `integer`\n",
        "\n",
        "پایتون عددهایی مثل ۰ یا ۹- یا ۱۰۰ یا ۴۲ رو که عدد صحیح هستن با نام اینتیجر می‌شناسه.\n",
        "\n",
        "حالا ببینیم عددهای اعشاری چطور؟"
      ]
    },
    {
      "cell_type": "code",
      "execution_count": null,
      "metadata": {
        "id": "vPUuoMRiY4dF"
      },
      "outputs": [],
      "source": [
        "type(2.99)"
      ]
    },
    {
      "cell_type": "markdown",
      "metadata": {
        "id": "xhJFWCW0Y4dF"
      },
      "source": [
        "تابع تایپ این بار نوع داده  فلوت رو گزارش کرد:\n",
        "\n",
        " `float`\n",
        "\n",
        "این نوع داده برای عددهایی مثل ۲.۹۹ یا ۰.۰۰۳- یا ۳.۱۴ استفاده داره.\n"
      ]
    },
    {
      "cell_type": "markdown",
      "metadata": {
        "id": "g4zRsRZeY4dG"
      },
      "source": [
        "## پایتون ماشین حساب می‌شود"
      ]
    },
    {
      "cell_type": "markdown",
      "metadata": {
        "id": "6xJDz8KjY4dG"
      },
      "source": [
        "پایتون برای محاسبه های عددی به خوبی کار می کنه! برای نمونه با جمع چند عدد شروع کنیم."
      ]
    },
    {
      "cell_type": "code",
      "execution_count": null,
      "metadata": {
        "id": "VVmp5aiPY4dG"
      },
      "outputs": [],
      "source": [
        "print(28+35+43+50+80+95)"
      ]
    },
    {
      "cell_type": "markdown",
      "metadata": {
        "id": "pmutFaCVY4dG"
      },
      "source": [
        "مثال کاربردی بزنم؟\n",
        "\n",
        "فرض کن قصد داری وام بگیری.\n",
        "\n",
        "بانک اعلام می‌کنه که وام ۲۰۰ میلیون تومن با سود سالانه ۱۶ درصد و بازپرداخت ۳۶ ماهی قابل پرداخت هست.\n",
        "\n",
        "قسط هاش چقدر میشه؟ مجموع چیزی که آخرش می‌پردازی چقدر میشه؟\n",
        "\n",
        "با پایتون می‌تونی کدی بنویسی که این رو حساب کنه.\n",
        "\n",
        "برای دریافت چنین کدی از چت‌بات کمک بگیر."
      ]
    },
    {
      "cell_type": "markdown",
      "metadata": {
        "id": "nv2kGQ3JY4dG"
      },
      "source": [
        "<p style=\"background-color:#F5C780; padding:15px\"> 🤖 <b>من این پرامپت رو به چت‌جی‌پی‌تی دادم</b>\n",
        "\n",
        "</br>\n",
        "</br>\n",
        "قصد دارم از بانک وام بگیرم. ۲۰۰ میلیون با سود سالانه ۱۶ درصد و بازپرداخت ۳۶ ماهه.\n",
        "\n",
        "من در پایتون مبتدی هستم. لطفا یک تکه کد پایتونی ساده بنویس که با عملیات جبری ساده مبلغ هر قسط این وام رو محاسبه و چاپ کنه.\n",
        "\n",
        "در کدی که می نویسی از متغیرها استفاده نکن. فقط محاسبه ها رو با حداقل کد ممکن انجام بده.\n",
        "</p>"
      ]
    },
    {
      "cell_type": "code",
      "source": [
        "#به من این کد رو با پرامپت بالا داد\n",
        "print(200000000 * (0.16 / 12) * (1 + 0.16 / 12) ** 36 / ((1 + 0.16 / 12) ** 36 - 1))"
      ],
      "metadata": {
        "colab": {
          "base_uri": "https://localhost:8080/"
        },
        "id": "qCiDtjIZvIyg",
        "outputId": "41fb49d9-73ca-4fd6-8d0b-208fb5b1d2e9"
      },
      "execution_count": null,
      "outputs": [
        {
          "output_type": "stream",
          "name": "stdout",
          "text": [
            "7031406.607269983\n"
          ]
        }
      ]
    },
    {
      "cell_type": "markdown",
      "source": [
        "تو هم این پرامپت رو به چت‌بات بده.\n",
        "فقط خط آخر ‍`در کدی که می‌نویسی ...` رو حذف کن. ببین نتیجه چه فرقی کرد. فقط نگاش کن"
      ],
      "metadata": {
        "id": "IzL5ws99xwJQ"
      }
    },
    {
      "cell_type": "code",
      "source": [],
      "metadata": {
        "id": "muZd4jYXxvUW"
      },
      "execution_count": null,
      "outputs": []
    },
    {
      "cell_type": "markdown",
      "metadata": {
        "id": "IPmZZtKpY4dG"
      },
      "source": [
        "### ترتیب عملیات"
      ]
    },
    {
      "cell_type": "markdown",
      "metadata": {
        "id": "bfa2MLaVY4dH"
      },
      "source": [
        "الویت‌بندی عملیات در پایتون مشابه ریاضیات هست:\n",
        "\n",
        "ابتدا پرانتز، سپس توان، ضرب و تقسیم (از چپ به راست) و سرانجام جمع و تفریق (از چپ به راست) اجرا میشن..\n",
        "\n",
        "بنابراین برای مثال، تکه کد پایین جواب درستی برای [تبدیل فارنهایت به سلسیوس](https://fa.wikipedia.org/wiki/%D8%AA%D8%A8%D8%AF%DB%8C%D9%84_%DB%8C%DA%A9%D8%A7%D9%87%D8%A7%DB%8C_%D8%AF%D9%85%D8%A7)  نیست."
      ]
    },
    {
      "cell_type": "code",
      "execution_count": null,
      "metadata": {
        "id": "1oQeFvi2Y4dH"
      },
      "outputs": [],
      "source": [
        "print(75 - 32 * 5 / 9)"
      ]
    },
    {
      "cell_type": "markdown",
      "metadata": {
        "id": "B5FHE2bIY4dH"
      },
      "source": [
        "و باید به شکل پایین اصلاحش کرد:"
      ]
    },
    {
      "cell_type": "code",
      "execution_count": null,
      "metadata": {
        "id": "pDx76VQ4Y4dH"
      },
      "outputs": [],
      "source": [
        "print((75 - 32) * 5 / 9)"
      ]
    },
    {
      "cell_type": "markdown",
      "metadata": {
        "id": "OL9gFuwrY4dH"
      },
      "source": [
        "### تمرین\n",
        "با یافته‌های این درس می‌تونی تمرین‌های پایین رو حل کنی\n",
        "\n",
        "هر جا اشتباه کردی از چت‌بات دلخواهت کمک بگیر."
      ]
    },
    {
      "cell_type": "markdown",
      "source": [
        "تلاش کن که ترکیبی از حروف و عددها و نمادها رو پرینت کنی. تو هر مورد تایپ اونچه پرینت کردی هم بررسی کن."
      ],
      "metadata": {
        "id": "6QYr3Vcy0B4F"
      }
    },
    {
      "cell_type": "code",
      "execution_count": null,
      "metadata": {
        "id": "syVzn6ZKY4dH"
      },
      "outputs": [],
      "source": [
        "print()"
      ]
    },
    {
      "cell_type": "code",
      "execution_count": null,
      "metadata": {
        "id": "TwXSepyCY4dI"
      },
      "outputs": [],
      "source": [
        "type()"
      ]
    },
    {
      "cell_type": "markdown",
      "metadata": {
        "id": "HfqhpQ0MY4dN"
      },
      "source": [
        "خطای کد سلول‌های پایین رو پیدا کن."
      ]
    },
    {
      "cell_type": "code",
      "execution_count": null,
      "metadata": {
        "id": "kmnNlLOeY4dN"
      },
      "outputs": [],
      "source": [
        "# Fix the error in the following code\n",
        "print(There are 366 days in a leap year\")"
      ]
    },
    {
      "cell_type": "code",
      "execution_count": null,
      "metadata": {
        "id": "wXo2kZcKY4dN"
      },
      "outputs": [],
      "source": [
        "# Fix the error in the following code\n",
        "print(\"There are 366\n",
        "days in a leap year\")"
      ]
    },
    {
      "cell_type": "markdown",
      "metadata": {
        "id": "pHYJFK68Y4dN"
      },
      "source": [
        "در ۱۹۵۹ یک فوت دقیقا معادل ۰.۳۰۴۸ متر تعریف شد. تلاش کن که ۶ فوت رو به متر تبدیل کنی."
      ]
    },
    {
      "cell_type": "code",
      "execution_count": null,
      "metadata": {
        "id": "HQCRtdZ-Y4dO"
      },
      "outputs": [],
      "source": [
        "# Write code to convert 6 feet to meters\n",
        "print(\"Convert 6 feet to meters\")"
      ]
    }
  ],
  "metadata": {
    "kernelspec": {
      "display_name": "Python 3 (ipykernel)",
      "language": "python",
      "name": "python3"
    },
    "language_info": {
      "codemirror_mode": {
        "name": "ipython",
        "version": 3
      },
      "file_extension": ".py",
      "mimetype": "text/x-python",
      "name": "python",
      "nbconvert_exporter": "python",
      "pygments_lexer": "ipython3",
      "version": "3.9.19"
    },
    "colab": {
      "provenance": [],
      "include_colab_link": true
    }
  },
  "nbformat": 4,
  "nbformat_minor": 0
}