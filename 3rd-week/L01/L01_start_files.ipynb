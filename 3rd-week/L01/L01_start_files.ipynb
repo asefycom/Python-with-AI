{
  "cells": [
    {
      "cell_type": "markdown",
      "metadata": {
        "id": "view-in-github",
        "colab_type": "text"
      },
      "source": [
        "<a href=\"https://colab.research.google.com/github/asefycom/Python-with-AI/blob/main/3rd-week/L01/L01_start_files.ipynb\" target=\"_parent\"><img src=\"https://colab.research.google.com/assets/colab-badge.svg\" alt=\"Open In Colab\"/></a>"
      ]
    },
    {
      "cell_type": "markdown",
      "metadata": {
        "id": "WMGxBP-yQoCl"
      },
      "source": [
        "# هفته سوم - درس ۱: کار با فایل در پایتون\n",
        "\n",
        "فیلم این درس رو ببین تا بتونی همگام با این دفترچه پیش بری.\n",
        "\n",
        "تا اینجای دوره:\n",
        "* با داده‌هایی کار کردی که داخل خود دفترچه ژوپیتر ساخته شده و به متغیرهایی تخصیص داده می شدن.\n",
        "* استرینگ‌های چند خطی ساختی.\n",
        "* لیست و دیکشنری ساختی.\n",
        "* اجرای کارها رو با حلقه و شرط گذاشتن، خودکار کردی.\n",
        "\n",
        "حالا تو این درس با فایل‌ها کار می‌کنی و داده‌هایی که برای همیشه تو فایل‌ها ذخیره میشن.\n"
      ]
    },
    {
      "cell_type": "markdown",
      "source": [
        "## پیشنیازها\n",
        "\n",
        "اول بیا پیش‌نیازها رو آماده کنیم."
      ],
      "metadata": {
        "id": "Te3TpT3EearI"
      }
    },
    {
      "cell_type": "code",
      "source": [
        "#کلون مخزن گیت هاب و رفتن به پوشه کاری این هفته واین درس\n",
        "import os\n",
        "\n",
        "if not os.path.exists('Python-with-AI'):\n",
        "    !git clone https://github.com/asefycom/Python-with-AI.git\n",
        "\n",
        "os.chdir('Python-with-AI/3rd-week/L01')\n",
        "print(\"Current Working Directory:\", os.getcwd())"
      ],
      "metadata": {
        "id": "jsQHoggLpi4p",
        "outputId": "5fafb44b-42d3-45d4-ec07-d8b76a03d765",
        "colab": {
          "base_uri": "https://localhost:8080/"
        }
      },
      "execution_count": 1,
      "outputs": [
        {
          "output_type": "stream",
          "name": "stdout",
          "text": [
            "Cloning into 'Python-with-AI'...\n",
            "remote: Enumerating objects: 317, done.\u001b[K\n",
            "remote: Counting objects: 100% (163/163), done.\u001b[K\n",
            "remote: Compressing objects: 100% (159/159), done.\u001b[K\n",
            "remote: Total 317 (delta 99), reused 4 (delta 4), pack-reused 154 (from 1)\u001b[K\n",
            "Receiving objects: 100% (317/317), 167.77 KiB | 1.21 MiB/s, done.\n",
            "Resolving deltas: 100% (163/163), done.\n",
            "Current Working Directory: /content/Python-with-AI/3rd-week/L01\n"
          ]
        }
      ]
    },
    {
      "cell_type": "code",
      "execution_count": 2,
      "metadata": {
        "height": 48,
        "id": "-NyruzVSaNf-"
      },
      "outputs": [],
      "source": [
        "# یک تابع و یک کلاس که برنامه‌نویس‌های حرفه‌ای برامون قبلا درست کردن\n",
        "from IPython.display import display, Markdown"
      ]
    },
    {
      "cell_type": "code",
      "source": [
        "# و اینم پکیج توگدر که برنامه‌نویس‌های مجموعه توگدر برای کار با هوش مصنوعی‌ها رست کردن\n",
        "!pip install together"
      ],
      "metadata": {
        "colab": {
          "base_uri": "https://localhost:8080/"
        },
        "id": "C63UqOdneuNq",
        "outputId": "ea582428-787c-444e-e419-266356b3c4fe"
      },
      "execution_count": 3,
      "outputs": [
        {
          "output_type": "stream",
          "name": "stdout",
          "text": [
            "Collecting together\n",
            "  Downloading together-1.5.21-py3-none-any.whl.metadata (15 kB)\n",
            "Requirement already satisfied: aiohttp<4.0.0,>=3.9.3 in /usr/local/lib/python3.11/dist-packages (from together) (3.11.15)\n",
            "Requirement already satisfied: click<9.0.0,>=8.1.7 in /usr/local/lib/python3.11/dist-packages (from together) (8.2.1)\n",
            "Collecting eval-type-backport<0.3.0,>=0.1.3 (from together)\n",
            "  Downloading eval_type_backport-0.2.2-py3-none-any.whl.metadata (2.2 kB)\n",
            "Requirement already satisfied: filelock<4.0.0,>=3.13.1 in /usr/local/lib/python3.11/dist-packages (from together) (3.18.0)\n",
            "Requirement already satisfied: numpy>=1.23.5 in /usr/local/lib/python3.11/dist-packages (from together) (2.0.2)\n",
            "Requirement already satisfied: pillow<12.0.0,>=11.1.0 in /usr/local/lib/python3.11/dist-packages (from together) (11.3.0)\n",
            "Requirement already satisfied: pydantic<3.0.0,>=2.6.3 in /usr/local/lib/python3.11/dist-packages (from together) (2.11.7)\n",
            "Requirement already satisfied: requests<3.0.0,>=2.31.0 in /usr/local/lib/python3.11/dist-packages (from together) (2.32.3)\n",
            "Requirement already satisfied: rich<15.0.0,>=13.8.1 in /usr/local/lib/python3.11/dist-packages (from together) (13.9.4)\n",
            "Requirement already satisfied: tabulate<0.10.0,>=0.9.0 in /usr/local/lib/python3.11/dist-packages (from together) (0.9.0)\n",
            "Requirement already satisfied: tqdm<5.0.0,>=4.66.2 in /usr/local/lib/python3.11/dist-packages (from together) (4.67.1)\n",
            "Collecting typer<0.16,>=0.9 (from together)\n",
            "  Downloading typer-0.15.4-py3-none-any.whl.metadata (15 kB)\n",
            "Requirement already satisfied: aiohappyeyeballs>=2.3.0 in /usr/local/lib/python3.11/dist-packages (from aiohttp<4.0.0,>=3.9.3->together) (2.6.1)\n",
            "Requirement already satisfied: aiosignal>=1.1.2 in /usr/local/lib/python3.11/dist-packages (from aiohttp<4.0.0,>=3.9.3->together) (1.4.0)\n",
            "Requirement already satisfied: attrs>=17.3.0 in /usr/local/lib/python3.11/dist-packages (from aiohttp<4.0.0,>=3.9.3->together) (25.3.0)\n",
            "Requirement already satisfied: frozenlist>=1.1.1 in /usr/local/lib/python3.11/dist-packages (from aiohttp<4.0.0,>=3.9.3->together) (1.7.0)\n",
            "Requirement already satisfied: multidict<7.0,>=4.5 in /usr/local/lib/python3.11/dist-packages (from aiohttp<4.0.0,>=3.9.3->together) (6.6.3)\n",
            "Requirement already satisfied: propcache>=0.2.0 in /usr/local/lib/python3.11/dist-packages (from aiohttp<4.0.0,>=3.9.3->together) (0.3.2)\n",
            "Requirement already satisfied: yarl<2.0,>=1.17.0 in /usr/local/lib/python3.11/dist-packages (from aiohttp<4.0.0,>=3.9.3->together) (1.20.1)\n",
            "Requirement already satisfied: annotated-types>=0.6.0 in /usr/local/lib/python3.11/dist-packages (from pydantic<3.0.0,>=2.6.3->together) (0.7.0)\n",
            "Requirement already satisfied: pydantic-core==2.33.2 in /usr/local/lib/python3.11/dist-packages (from pydantic<3.0.0,>=2.6.3->together) (2.33.2)\n",
            "Requirement already satisfied: typing-extensions>=4.12.2 in /usr/local/lib/python3.11/dist-packages (from pydantic<3.0.0,>=2.6.3->together) (4.14.1)\n",
            "Requirement already satisfied: typing-inspection>=0.4.0 in /usr/local/lib/python3.11/dist-packages (from pydantic<3.0.0,>=2.6.3->together) (0.4.1)\n",
            "Requirement already satisfied: charset-normalizer<4,>=2 in /usr/local/lib/python3.11/dist-packages (from requests<3.0.0,>=2.31.0->together) (3.4.2)\n",
            "Requirement already satisfied: idna<4,>=2.5 in /usr/local/lib/python3.11/dist-packages (from requests<3.0.0,>=2.31.0->together) (3.10)\n",
            "Requirement already satisfied: urllib3<3,>=1.21.1 in /usr/local/lib/python3.11/dist-packages (from requests<3.0.0,>=2.31.0->together) (2.5.0)\n",
            "Requirement already satisfied: certifi>=2017.4.17 in /usr/local/lib/python3.11/dist-packages (from requests<3.0.0,>=2.31.0->together) (2025.7.14)\n",
            "Requirement already satisfied: markdown-it-py>=2.2.0 in /usr/local/lib/python3.11/dist-packages (from rich<15.0.0,>=13.8.1->together) (3.0.0)\n",
            "Requirement already satisfied: pygments<3.0.0,>=2.13.0 in /usr/local/lib/python3.11/dist-packages (from rich<15.0.0,>=13.8.1->together) (2.19.2)\n",
            "Collecting click<9.0.0,>=8.1.7 (from together)\n",
            "  Downloading click-8.1.8-py3-none-any.whl.metadata (2.3 kB)\n",
            "Requirement already satisfied: shellingham>=1.3.0 in /usr/local/lib/python3.11/dist-packages (from typer<0.16,>=0.9->together) (1.5.4)\n",
            "Requirement already satisfied: mdurl~=0.1 in /usr/local/lib/python3.11/dist-packages (from markdown-it-py>=2.2.0->rich<15.0.0,>=13.8.1->together) (0.1.2)\n",
            "Downloading together-1.5.21-py3-none-any.whl (96 kB)\n",
            "\u001b[2K   \u001b[90m━━━━━━━━━━━━━━━━━━━━━━━━━━━━━━━━━━━━━━━━\u001b[0m \u001b[32m96.1/96.1 kB\u001b[0m \u001b[31m3.5 MB/s\u001b[0m eta \u001b[36m0:00:00\u001b[0m\n",
            "\u001b[?25hDownloading eval_type_backport-0.2.2-py3-none-any.whl (5.8 kB)\n",
            "Downloading typer-0.15.4-py3-none-any.whl (45 kB)\n",
            "\u001b[2K   \u001b[90m━━━━━━━━━━━━━━━━━━━━━━━━━━━━━━━━━━━━━━━━\u001b[0m \u001b[32m45.3/45.3 kB\u001b[0m \u001b[31m5.2 MB/s\u001b[0m eta \u001b[36m0:00:00\u001b[0m\n",
            "\u001b[?25hDownloading click-8.1.8-py3-none-any.whl (98 kB)\n",
            "\u001b[2K   \u001b[90m━━━━━━━━━━━━━━━━━━━━━━━━━━━━━━━━━━━━━━━━\u001b[0m \u001b[32m98.2/98.2 kB\u001b[0m \u001b[31m9.9 MB/s\u001b[0m eta \u001b[36m0:00:00\u001b[0m\n",
            "\u001b[?25hInstalling collected packages: eval-type-backport, click, typer, together\n",
            "  Attempting uninstall: click\n",
            "    Found existing installation: click 8.2.1\n",
            "    Uninstalling click-8.2.1:\n",
            "      Successfully uninstalled click-8.2.1\n",
            "  Attempting uninstall: typer\n",
            "    Found existing installation: typer 0.16.0\n",
            "    Uninstalling typer-0.16.0:\n",
            "      Successfully uninstalled typer-0.16.0\n",
            "Successfully installed click-8.1.8 eval-type-backport-0.2.2 together-1.5.21 typer-0.15.4\n"
          ]
        }
      ]
    },
    {
      "cell_type": "code",
      "source": [
        "# و با استفاده از تابع‌های بسته توگدر و تابع‌های بسته کولب\n",
        "# تابع خودمون برای ارسال پرامپت و دریافت پاسخ هوش مصنوعی رو نوشتیم\n",
        "# یادمون هست که در مورد ثبت نام در توگدر، دریافت کلید و\n",
        "# ذخیره کردن کلید ای‌پی‌آی تو محیط کولب تو درس ۹ هفته اول توضیح داده شده\n",
        "from google.colab import userdata\n",
        "from together import Together\n",
        "\n",
        "client = Together(api_key=userdata.get('TOGETHER_API_KEY'))\n",
        "\n",
        "def print_llm_response(prompt):\n",
        "    response = client.chat.completions.create(\n",
        "        model=\"google/gemma-3n-E4B-it\",\n",
        "        # model=\"meta-llama/Llama-3.3-70B-Instruct-Turbo-Free\",\n",
        "        messages=[\n",
        "        {\n",
        "            \"role\": \"user\",\n",
        "            \"content\": prompt\n",
        "        }\n",
        "        ]\n",
        "    )\n",
        "    return response.choices[0].message.content"
      ],
      "metadata": {
        "id": "5vJIA06OfCbu"
      },
      "execution_count": 4,
      "outputs": []
    },
    {
      "cell_type": "markdown",
      "metadata": {
        "id": "nowtqjjraNf_"
      },
      "source": [
        "## آزمایش کار با هوش مصنوعی\n",
        "\n",
        "* پرامپتی برای دریافت دستور غذا از هوش مصنوعی بنویس"
      ]
    },
    {
      "cell_type": "code",
      "execution_count": 5,
      "metadata": {
        "height": 270,
        "colab": {
          "base_uri": "https://localhost:8080/"
        },
        "id": "MgTFdZdfaNgB",
        "outputId": "e8818f4f-6772-4862-cf1a-aaf70002f939"
      },
      "outputs": [
        {
          "output_type": "stream",
          "name": "stdout",
          "text": [
            "## مرغ و بروکلی با برنج\n",
            "\n",
            "این یک غذای ساده و خوشمزه است که می‌توانید به راحتی در خانه تهیه کنید.\n",
            "\n",
            "**مواد لازم:**\n",
            "\n",
            "*   2 عدد سینه مرغ (بدون استخوان و پوست)\n",
            "*   1 عدد بروکلی متوسط (تقسیم شده به گل‌ها)\n",
            "*   1 پیمانه برنج\n",
            "*   2 پیمانه آب\n",
            "*   روغن زیتون\n",
            "*   نمک و فلفل به میزان لازم\n",
            "*   (اختیاری: سیر، پیاز، ادویه‌های دلخواه)\n",
            "\n",
            "**طرز تهیه:**\n",
            "\n",
            "1.  **برنج:** برنج را بشویید و با آب در یک قابلمه بریزید. به جوش آورید، سپس حرارت را کم کنید و بپزید تا آب جذب شود (حدود 15-20 دقیقه).\n",
            "2.  **مرغ و بروکلی:** سینه مرغ را به قطعات کوچک‌تر برش دهید. در یک تابه، مقداری روغن زیتون بریزید و مرغ را تفت دهید تا رنگ آن تغییر کند.\n",
            "3.  بروکلی را به تابه اضافه کنید و به مدت 5-7 دقیقه تفت دهید تا کمی نرم شود.\n",
            "4.  نمک و فلفل (و سایر ادویه‌ها) را به مرغ و بروکلی اضافه کنید و خوب مخلوط کنید.\n",
            "5.  **سرو:** برنج پخته شده را در ظرف بکشید و مرغ و بروکلی را روی آن قرار دهید.\n",
            "\n",
            "نوش جان!\n",
            "\n"
          ]
        }
      ],
      "source": [
        "# لیست موادی که دوست داری تو غذا باشن یا تو خونه داری\n",
        "ingredients = ['مرغ', 'بروکلی', 'برنج']\n",
        "\n",
        "# نوشتن پرامپت\n",
        "prompt = f\"\"\"\n",
        "    یک دستور غذای کوتاه با استفاده از این مواد بساز:\n",
        "    {ingredients}\n",
        "\"\"\"\n",
        "\n",
        "# دریافت پاسخ مدل زبانی بزرگ یا ال ال ام\n",
        "response = print_llm_response(prompt)\n",
        "\n",
        "# چاپ پاسخ\n",
        "print(response)"
      ]
    },
    {
      "cell_type": "markdown",
      "metadata": {
        "id": "JRnU4V7DaNgC"
      },
      "source": [
        "## باز کردن فایل متنی و ذخیره در یک استرینگ"
      ]
    },
    {
      "cell_type": "markdown",
      "metadata": {
        "id": "HXLejevTaNgC"
      },
      "source": [
        "قصد داریم داده‌هایی رو باز کنیم که داخل فایل‌هایی از قبل ذخیره شدن.\n",
        "\n",
        "* بیا با ایمیلی شروع کنیم که دوستی فرستاده و متنش داخل یک فایل تکست ذخیره شده. فایل رو باز کن و محتواش رو بخون"
      ]
    },
    {
      "cell_type": "code",
      "execution_count": 6,
      "metadata": {
        "height": 65,
        "id": "o2ezCuk2aNgD"
      },
      "outputs": [],
      "source": [
        "f = open(\"email.txt\", \"r\")\n",
        "email = f.read()\n",
        "f.close()"
      ]
    },
    {
      "cell_type": "markdown",
      "metadata": {
        "id": "DFPJBmrjaNgE"
      },
      "source": [
        "* محتوای ایمیل رو چاپ کن"
      ]
    },
    {
      "cell_type": "code",
      "execution_count": 7,
      "metadata": {
        "height": 31,
        "id": "iAxSb-SEaNgF",
        "outputId": "5db5fa7d-e1d5-444c-e6d5-d2baddf1a3ef",
        "colab": {
          "base_uri": "https://localhost:8080/"
        }
      },
      "outputs": [
        {
          "output_type": "stream",
          "name": "stdout",
          "text": [
            "Subject: My Incredible Journey Around the World!\n",
            "\n",
            "Hi Andrew,\n",
            "\n",
            "I hope you are doing greatl! I just returned from an incredible trip around the world. I started in New York, enjoying a Broadway show and the skyline. In Rio de Janeiro, I soaked up the sun on Copacabana Beach and hiked to Christ the Redeemer. Cape Town amazed me with its natural beauty and safari adventures. Paris was magical with its charming streets and delicious food. Istanbul's Hagia Sophia and Bosphorus cruise were unforgettable. Tokyo dazzled with its neon lights and delicious sushi. Finally, Sydney's Opera House and Bondi Beach were the perfect end to my journey. Can't wait to share more stories and photos when we catch up!\n",
            "\n",
            "Best,\n",
            "\n",
            "Daniel\n"
          ]
        }
      ],
      "source": [
        "print(email)"
      ]
    },
    {
      "cell_type": "markdown",
      "metadata": {
        "id": "z12HI9MdaNgG"
      },
      "source": [
        "<p style=\"background-color:#F5C780; padding:15px\"> 🤖 <b>از چت‌بات استفاده کن</b>:\n",
        "    <br><br>\n",
        "    این کد رو خط به خط توضیح بده.\n",
        "    <br><br>f = open(\"email.txt\", \"r\")\n",
        "    <br>email = f.read()\n",
        "    <br>f.close()\n",
        "</p>"
      ]
    },
    {
      "cell_type": "markdown",
      "metadata": {
        "id": "HGc6hCPgaNgG"
      },
      "source": [
        "<p style=\"background-color:#F5C780; padding:15px\"> 🤖 <b>با چت‌بات تو همون چت بالا ادامه بده:</b>:\n",
        "    <br><br>\n",
        "    چی میشه اگه من فایل رو نبندم.\n",
        "</p>"
      ]
    },
    {
      "cell_type": "markdown",
      "metadata": {
        "id": "uXDy9UYOaNgG"
      },
      "source": [
        "## استفاده از هوش مصنوعی برای استخراج بخش خاصی از ایمیل"
      ]
    },
    {
      "cell_type": "markdown",
      "metadata": {
        "id": "7Gd5_3JnaNgK"
      },
      "source": [
        "* پرامپتی بساز که بخش‌های بولت‌دار ایمیل بالا رو استخراج کنه."
      ]
    },
    {
      "cell_type": "code",
      "execution_count": 8,
      "metadata": {
        "height": 151,
        "id": "2OL6h6fYaNgK",
        "outputId": "60674d74-2392-4fd3-a634-54256269d771",
        "colab": {
          "base_uri": "https://localhost:8080/"
        }
      },
      "outputs": [
        {
          "output_type": "stream",
          "name": "stdout",
          "text": [
            "نکته‌های کلیدی ایمیل زیر رو استخراج کن.\n",
            "اطلاعات فرستنده ایمیل هم درج کن.\n",
            "نکته‌های کلیدی رو بنویس. جلوی هر کدوم ترجمه فارسی اون هم بنویس.\n",
            "\n",
            "ایمیل:\n",
            "Subject: My Incredible Journey Around the World!\n",
            "\n",
            "Hi Andrew,\n",
            "\n",
            "I hope you are doing greatl! I just returned from an incredible trip around the world. I started in New York, enjoying a Broadway show and the skyline. In Rio de Janeiro, I soaked up the sun on Copacabana Beach and hiked to Christ the Redeemer. Cape Town amazed me with its natural beauty and safari adventures. Paris was magical with its charming streets and delicious food. Istanbul's Hagia Sophia and Bosphorus cruise were unforgettable. Tokyo dazzled with its neon lights and delicious sushi. Finally, Sydney's Opera House and Bondi Beach were the perfect end to my journey. Can't wait to share more stories and photos when we catch up!\n",
            "\n",
            "Best,\n",
            "\n",
            "Daniel\n"
          ]
        }
      ],
      "source": [
        "prompt = f\"\"\"نکته‌های کلیدی ایمیل زیر رو استخراج کن.\n",
        "اطلاعات فرستنده ایمیل هم درج کن.\n",
        "نکته‌های کلیدی رو بنویس. جلوی هر کدوم ترجمه فارسی اون هم بنویس.\n",
        "\n",
        "ایمیل:\n",
        "{email}\"\"\"\n",
        "\n",
        "print(prompt)"
      ]
    },
    {
      "cell_type": "markdown",
      "metadata": {
        "id": "mXkGkJdnaNgK"
      },
      "source": [
        "* حالا این پرامپت رو به مدل‌زبانی‌بزرگ بفرست ببینیم چی می‌کنه!"
      ]
    },
    {
      "cell_type": "code",
      "execution_count": 9,
      "metadata": {
        "height": 48,
        "id": "nE1lBSwmaNgK",
        "outputId": "60eab535-b912-4c00-a361-405b7d5be258",
        "colab": {
          "base_uri": "https://localhost:8080/"
        }
      },
      "outputs": [
        {
          "output_type": "stream",
          "name": "stdout",
          "text": [
            "## نکات کلیدی ایمیل و اطلاعات فرستنده:\n",
            "\n",
            "**اطلاعات فرستنده:**\n",
            "\n",
            "*   **نام:** Daniel\n",
            "*   **به:** Andrew\n",
            "\n",
            "**نکات کلیدی:**\n",
            "\n",
            "*   **موضوع:** سفر شگفت‌انگیز به دور دنیا! (My Incredible Journey Around the World!)\n",
            "*   **هدف:** اطلاع‌رسانی از بازگشت از یک سفر دور دنیا و اشتیاق به صحبت درباره تجربیات. (Informing Andrew of his return from a trip around the world and expressing eagerness to share stories.)\n",
            "*   **مسیر سفر:**\n",
            "    *   نیویورک: تماشای یک نمایش برادوی و تماشای خطوط شهر (New York: Broadway show and skyline viewing)\n",
            "    *   ریو دی جانیرو: آفتاب گرفتن در ساحل کوپاکابانا و پیاده‌روی به معبد مسیح نجات‌دهنده (Rio de Janeiro: Copacabana beach and Christ the Redeemer hike)\n",
            "    *   کیپ تاون: شگفتی از زیبایی‌های طبیعی و ماجراجویی‌های سافاری (Cape Town: Natural beauty and safari adventures)\n",
            "    *   پاریس: تجربه‌ای جادویی با خیابان‌های جذاب و غذاهای لذیذ (Paris: Charming streets and delicious food)\n",
            "    *    استانبول: بازدید از هیاج سوهان و گشت و گذار در بوسفور (Istanbul: Hagia Sophia and Bosphorus cruise)\n",
            "    *   توکیو: شگفتی از نورهای نئون و سوشی لذیذ (Tokyo: Neon lights and delicious sushi)\n",
            "    *   سیدنی: اپرا هاوس و ساحل بوندی به عنوان پایان عالی سفر (Sydney: Opera House and Bondi Beach)\n",
            "*   **احساسات:** هیجان‌زده و خوشحال از سفر و مشتاق به اشتراک‌گذاری تجربیات با Andrew. (Excited and happy about the trip and eager to share experiences with Andrew.)\n",
            "\n"
          ]
        }
      ],
      "source": [
        "bullet_points = print_llm_response(prompt)\n",
        "print(bullet_points)"
      ]
    },
    {
      "cell_type": "markdown",
      "metadata": {
        "id": "82vngq2WaNgK"
      },
      "source": [
        "* حالا از کلاس مارک‌داون که تو بخش پیشنیازها فراخوانی کردیم،\n",
        "\n",
        " استفاده کن تا علایم زبان مارک‌داون که تو خروجی مدل هست رو تجزیه و خروجی تجزیه شده رو چاپ کنی."
      ]
    },
    {
      "cell_type": "code",
      "execution_count": 10,
      "metadata": {
        "height": 48,
        "id": "uETGmb59aNgL",
        "outputId": "ab27db93-e62d-4c18-b7c9-c83fd9efc29f",
        "colab": {
          "base_uri": "https://localhost:8080/",
          "height": 380
        }
      },
      "outputs": [
        {
          "output_type": "display_data",
          "data": {
            "text/plain": [
              "<IPython.core.display.Markdown object>"
            ],
            "text/markdown": "## نکات کلیدی ایمیل و اطلاعات فرستنده:\n\n**اطلاعات فرستنده:**\n\n*   **نام:** Daniel\n*   **به:** Andrew\n\n**نکات کلیدی:**\n\n*   **موضوع:** سفر شگفت‌انگیز به دور دنیا! (My Incredible Journey Around the World!)\n*   **هدف:** اطلاع‌رسانی از بازگشت از یک سفر دور دنیا و اشتیاق به صحبت درباره تجربیات. (Informing Andrew of his return from a trip around the world and expressing eagerness to share stories.)\n*   **مسیر سفر:**\n    *   نیویورک: تماشای یک نمایش برادوی و تماشای خطوط شهر (New York: Broadway show and skyline viewing)\n    *   ریو دی جانیرو: آفتاب گرفتن در ساحل کوپاکابانا و پیاده‌روی به معبد مسیح نجات‌دهنده (Rio de Janeiro: Copacabana beach and Christ the Redeemer hike)\n    *   کیپ تاون: شگفتی از زیبایی‌های طبیعی و ماجراجویی‌های سافاری (Cape Town: Natural beauty and safari adventures)\n    *   پاریس: تجربه‌ای جادویی با خیابان‌های جذاب و غذاهای لذیذ (Paris: Charming streets and delicious food)\n    *    استانبول: بازدید از هیاج سوهان و گشت و گذار در بوسفور (Istanbul: Hagia Sophia and Bosphorus cruise)\n    *   توکیو: شگفتی از نورهای نئون و سوشی لذیذ (Tokyo: Neon lights and delicious sushi)\n    *   سیدنی: اپرا هاوس و ساحل بوندی به عنوان پایان عالی سفر (Sydney: Opera House and Bondi Beach)\n*   **احساسات:** هیجان‌زده و خوشحال از سفر و مشتاق به اشتراک‌گذاری تجربیات با Andrew. (Excited and happy about the trip and eager to share experiences with Andrew.)\n"
          },
          "metadata": {}
        }
      ],
      "source": [
        "# چاپ خروجی به فرمت مارک داون\n",
        "display(Markdown(bullet_points))"
      ]
    },
    {
      "cell_type": "markdown",
      "metadata": {
        "id": "J3j66i7raNgL"
      },
      "source": [
        "## تمرین فراتر\n",
        "\n",
        "تمرین‌های جذاب پایین رو بخون. از مدل زبانی کمک بگیر تا کارهایی رو بر اساس متن ایمیل انجام بده.\n",
        "\n",
        "### تمرین ۱\n",
        "\n",
        "کد پایین رو طوری کامل کن که کشورهای ذکر شده داخل متن ایمیل رو استخراج کنی"
      ]
    },
    {
      "cell_type": "code",
      "execution_count": null,
      "metadata": {
        "height": 202,
        "id": "J4dhgoklaNgL"
      },
      "outputs": [],
      "source": [
        "# پرامپت رو طوری بنویس که کشورهای داخل ایمیل استخراج بشن\n",
        "prompt = f\"\"\"WRITE YOUR PROMPT HERE\n",
        "\n",
        "Email:\n",
        "{email}\n",
        "\"\"\"\n",
        "\n",
        "countries = print_llm_response(prompt)\n",
        "print(countries)"
      ]
    },
    {
      "cell_type": "markdown",
      "metadata": {
        "id": "eQ5kztD9aNgL"
      },
      "source": [
        "### تمرین ۲\n",
        "\n",
        "کدی بنویس که بر اساس متن ایمیل همه کارهایی که در سفر توسط فرستنده انجام شده فهرست بشن:\n",
        "\n",
        "از تابع زیر باید استفاده کنی:\n",
        "\n",
        "`print_llm_response`."
      ]
    },
    {
      "cell_type": "code",
      "execution_count": null,
      "metadata": {
        "height": 100,
        "id": "EGmydya_aNgL"
      },
      "outputs": [],
      "source": [
        "# لیستی از کارهای انجام شده در سفر تهیه کن.\n",
        "# باید پرامپت مناسب بنویسی و خروجی رو ذخیره کنی\n",
        "# START YOUR CODE HERE"
      ]
    },
    {
      "cell_type": "markdown",
      "source": [
        "### تمرین چالشی و سخت\n",
        "این تمرین با سطحی که درش هستی دست کم ۳ ساعت زمان می‌بره.\n",
        "\n",
        "و تازه شاید موفق هم نشی. ولی تلاش براش هم خیلی ارزش داره.\n"
      ],
      "metadata": {
        "id": "snQY9m6I8hlM"
      }
    },
    {
      "cell_type": "markdown",
      "source": [
        "\n",
        "\n",
        "جستجو کن که آیا امکان دریافت ایمیل‌های گوگلت رو باید ای‌پی‌آی داری؟\n",
        "\n",
        "من این پرامپت رو به چت‌جی‌پی‌تی دادم:\n",
        "\n",
        "> گام به گام توضیح بده که چطور به کمک ای‌پی‌آی به جیمیل وصل بشم و فهرست ایمیل هام رو بخونم و متن یک ایمیل به خصوص هم چاپ کنم.\n",
        "\n"
      ],
      "metadata": {
        "id": "135R7APq7Zcv"
      }
    },
    {
      "cell_type": "code",
      "source": [
        "# مراحل رو تا هر جا تونستی پیش ببر و کدها رو اینجا بنویس و اجرا کن\n"
      ],
      "metadata": {
        "id": "c72w46LB7TlN"
      },
      "execution_count": null,
      "outputs": []
    }
  ],
  "metadata": {
    "colab": {
      "gpuType": "T4",
      "provenance": [],
      "include_colab_link": true
    },
    "kernelspec": {
      "display_name": "Python 3 (ipykernel)",
      "language": "python",
      "name": "python3"
    },
    "language_info": {
      "codemirror_mode": {
        "name": "ipython",
        "version": 3
      },
      "file_extension": ".py",
      "mimetype": "text/x-python",
      "name": "python",
      "nbconvert_exporter": "python",
      "pygments_lexer": "ipython3",
      "version": "3.9.19"
    }
  },
  "nbformat": 4,
  "nbformat_minor": 0
}