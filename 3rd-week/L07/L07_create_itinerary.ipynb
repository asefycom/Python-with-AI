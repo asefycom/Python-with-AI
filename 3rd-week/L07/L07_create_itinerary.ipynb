{
  "cells": [
    {
      "cell_type": "markdown",
      "metadata": {
        "id": "view-in-github",
        "colab_type": "text"
      },
      "source": [
        "<a href=\"https://colab.research.google.com/github/asefycom/Python-with-AI/blob/main/3rd-week/L07/L07_create_itinerary.ipynb\" target=\"_parent\"><img src=\"https://colab.research.google.com/assets/colab-badge.svg\" alt=\"Open In Colab\"/></a>"
      ]
    },
    {
      "cell_type": "markdown",
      "metadata": {
        "id": "1PDjCFxFKzE0"
      },
      "source": [
        "# هفته سوم - درس ۷: ساخت برنامه سفر به چند شهر"
      ]
    },
    {
      "cell_type": "markdown",
      "metadata": {
        "id": "hxnsntepKzE3"
      },
      "source": [
        "با چیزهایی که تا حالا یاد گرفتی تو این درس بناست که برنامه سفر به دور دنیا برای تعطیلات بسازی."
      ]
    },
    {
      "cell_type": "markdown",
      "source": [
        "## پیشنیازها"
      ],
      "metadata": {
        "id": "0J_Q9HQcN2tj"
      }
    },
    {
      "cell_type": "code",
      "execution_count": null,
      "metadata": {
        "id": "0nfNDKEOKzE4"
      },
      "outputs": [],
      "source": [
        "# ایمپورت‌های لازم\n",
        "from IPython.display import Markdown\n",
        "import csv\n",
        "import pandas as pd"
      ]
    },
    {
      "cell_type": "code",
      "source": [
        "# تابعی برای نمایش داده ها به صورت جدول\n",
        "def display_table(data):\n",
        "    # تبدیل داده ورودی به دیتافریم\n",
        "    df = pd.DataFrame(data)\n",
        "\n",
        "    # نمایش دیتافریم به شکل جدول ا‌چ‌تی‌ام‌ال\n",
        "    display(HTML(df.to_html(index=False)))"
      ],
      "metadata": {
        "id": "xfE37W0HOJhc"
      },
      "execution_count": null,
      "outputs": []
    },
    {
      "cell_type": "code",
      "source": [
        "# نصب بسته توگدر\n",
        "!pip install together"
      ],
      "metadata": {
        "id": "k8iYwnz2OVqB"
      },
      "execution_count": null,
      "outputs": []
    },
    {
      "cell_type": "code",
      "source": [
        "# فراخوانی توگدر با کلیدی که ازش گرفتیم\n",
        "# که به صورت امن تو محیط اجرای این دفترچه کولب کار گذاشتیم\n",
        "from google.colab import userdata\n",
        "from together import Together\n",
        "\n",
        "client = Together(api_key=userdata.get('TOGETHER_API_KEY'))\n",
        "\n",
        "# تابعی برای ارسال پرامپت به مدل زبانی به واسطه توگدر و بعد چاپ جواب\n",
        "def print_llm_response(prompt):\n",
        "    response = client.chat.completions.create(\n",
        "        model=\"google/gemma-3n-E4B-it\",\n",
        "        # model=\"meta-llama/Llama-3.3-70B-Instruct-Turbo-Free\",\n",
        "        messages=[\n",
        "        {\n",
        "            \"role\": \"user\",\n",
        "            \"content\": prompt\n",
        "        }\n",
        "        ]\n",
        "    )\n",
        "    return response.choices[0].message.content"
      ],
      "metadata": {
        "id": "5efr2u_GOjWx"
      },
      "execution_count": null,
      "outputs": []
    },
    {
      "cell_type": "markdown",
      "metadata": {
        "id": "29jZ2_gyKzE7"
      },
      "source": [
        "## واکشی برنامه‌ سفر از فایل‌ سی‌اس‌وی"
      ]
    },
    {
      "cell_type": "markdown",
      "metadata": {
        "id": "_hgFNAZOKzE8"
      },
      "source": [
        "نخست بیا تابعی تعریف کنیم که اطلاعات فایل سی‌اس‌وی رو بخونه و به صورت یک دیکشنری به ما بده."
      ]
    },
    {
      "cell_type": "code",
      "execution_count": null,
      "metadata": {
        "id": "81SHUPkVKzE9"
      },
      "outputs": [],
      "source": [
        "def read_csv(file):\n",
        "    f = open(file, \"r\")\n",
        "\n",
        "    csv_reader = csv.DictReader(f)\n",
        "    data = []\n",
        "    for row in csv_reader:\n",
        "        data.append(row)\n",
        "    f.close()\n",
        "\n",
        "    return data"
      ]
    },
    {
      "cell_type": "markdown",
      "metadata": {
        "id": "a2D0KNijKzE-"
      },
      "source": [
        "حالا از این تابع استفاده کنیم. برنامه‌های سفر رو از فایل\n",
        "\n",
        " `itinerary.csv`\n",
        "\n",
        " بخونیم و اطلاعاتش رو که به صورت دیکشنری دریافت می‌کنیم به صورت یک جدول نمایش بدیم."
      ]
    },
    {
      "cell_type": "code",
      "execution_count": null,
      "metadata": {
        "id": "avIEiIP_KzE-"
      },
      "outputs": [],
      "source": [
        "# Read the itinerary.csv file\n",
        "itinerary = read_csv(\"itinerary.csv\")\n",
        "\n",
        "# Display the itinerary\n",
        "display_table(itinerary)"
      ]
    },
    {
      "cell_type": "markdown",
      "metadata": {
        "id": "wiCG5-5jKzE_"
      },
      "source": [
        "## واکشی اطلاعات رستوران‌ها از یادداشت‌های غذایی"
      ]
    },
    {
      "cell_type": "markdown",
      "metadata": {
        "id": "5zGwHKpJKzE_"
      },
      "source": [
        "حالا تابعلی بسازیم که محتوای فایل متنی رو می‌خونه و به صورت یک استرینگ بلند برمی‌گردونه."
      ]
    },
    {
      "cell_type": "code",
      "execution_count": null,
      "metadata": {
        "id": "-3ywHhXmKzFA"
      },
      "outputs": [],
      "source": [
        "# این تابع رو «رید جورنال» نام گذاشتیم\n",
        "def read_journal(journal_file):\n",
        "    f = open(journal_file, \"r\")\n",
        "    journal = f.read()\n",
        "    f.close()\n",
        "\n",
        "    # بازگشت محتوای یادداشت\n",
        "    return journal"
      ]
    },
    {
      "cell_type": "markdown",
      "metadata": {
        "id": "6b1ab3qrKzFA"
      },
      "source": [
        "حالا برای نمونه از این تابع استفاده کنیم و یادداشت شهر سیدنی رو بخونیم."
      ]
    },
    {
      "cell_type": "code",
      "execution_count": null,
      "metadata": {
        "id": "UYcL6p5UKzFA"
      },
      "outputs": [],
      "source": [
        "journal = read_journal(\"sydney.txt\")\n",
        "\n",
        "print(journal)"
      ]
    },
    {
      "cell_type": "markdown",
      "metadata": {
        "id": "W9BmadpDKzFB"
      },
      "source": [
        "و حالا ... یک پرامپت (سپارش) بنویس که اطلاعات رستوران‌ها و غذای مخصوص هر کدوم رو استخراج و به فرمت سی‌اس‌وی ذخیره کنه."
      ]
    },
    {
      "cell_type": "code",
      "execution_count": null,
      "metadata": {
        "id": "ugQsi635KzFB"
      },
      "outputs": [],
      "source": [
        "# Write the prompt\n",
        "prompt = f\"\"\"Please extract a comprehensive list of the restaurants\n",
        "and their respective specialties mentioned in the following journal entry.\n",
        "Ensure that each restaurant name is accurately identified and listed.\n",
        "Provide your answer in CSV format, ready to save.\n",
        "Exclude the \"```csv\" declaration, don't add spaces after the comma, include column headers.\n",
        "\n",
        "Format:\n",
        "Restaurant, Specialty\n",
        "Res_1, Sp_1\n",
        "...\n",
        "\n",
        "Journal entry:\n",
        "{journal}\n",
        "\"\"\"\n",
        "\n",
        "# Print the prompt\n",
        "print(print_llm_response(prompt))"
      ]
    },
    {
      "cell_type": "markdown",
      "source": [
        "از مدل زبانی بخواه تابعی برای ساخت فایل سی اس وی بنویسه.\n",
        "تابعی نیاز داریم که داده‌هایی که با فرمت سی‌اس‌وی ساختیم در یک فایل ذخیره کنه."
      ],
      "metadata": {
        "id": "UNEK6TRJVLgG"
      }
    },
    {
      "cell_type": "markdown",
      "metadata": {
        "id": "dTSJlNCOKzFB"
      },
      "source": [
        "فایل پایین یک نمونه ذخیره شده از خروجی مدل هست:\n",
        "\n",
        "`Sydney.csv`\n",
        "\n",
        "فایل رو بخون و به صورت جدول نمایش بده:"
      ]
    },
    {
      "cell_type": "code",
      "execution_count": null,
      "metadata": {
        "id": "eFCoyK1zKzFC"
      },
      "outputs": [],
      "source": [
        "# استفاده از تابعی که پیش‌تر تعریف کردی\n",
        "sydney_restaurants = read_csv(\"Sydney.csv\")\n",
        "\n",
        "display_table(sydney_restaurants)"
      ]
    },
    {
      "cell_type": "markdown",
      "metadata": {
        "id": "aRntI1Z3KzFC"
      },
      "source": [
        "## ساخت برنامه سفر کامل با پیشنهادهایی برای رستوران"
      ]
    },
    {
      "cell_type": "markdown",
      "metadata": {
        "id": "JS_EoslpKzFD"
      },
      "source": [
        "بیا داده‌های برنامه  سفر و یادداشت غذا رو کنار هم بگذاریم و یک برنامه کامل برای بازدیداز سیدنی بسازیم.\n",
        "\n",
        "دقت کن که تو فایل برنامه سفر اطلاعات سیدنی در ایندکس ۶ هستن چون سیدنی هفتمین مقصد سفر هست."
      ]
    },
    {
      "cell_type": "code",
      "execution_count": null,
      "metadata": {
        "id": "b9XpKBHyKzFE"
      },
      "outputs": [],
      "source": [
        "# انتخاب سیدنی از برنامه سفر\n",
        "trip_stop = itinerary[6]"
      ]
    },
    {
      "cell_type": "markdown",
      "metadata": {
        "id": "7Lzttp9pKzFE"
      },
      "source": [
        "حالا همه اطلاعاتی که داری رو داخل متغیرهای جداگانه ذخیره کن: اطلاعات زمان بندی ورود و خروج سیدنی و رستوران‌هاش"
      ]
    },
    {
      "cell_type": "code",
      "execution_count": null,
      "metadata": {
        "id": "YaDmsZ0tKzFE"
      },
      "outputs": [],
      "source": [
        "city = trip_stop[\"City\"]\n",
        "country = trip_stop[\"Country\"]\n",
        "arrival = trip_stop[\"Arrival\"]\n",
        "departure = trip_stop[\"Departure\"]\n",
        "restaurants = sydney_restaurants"
      ]
    },
    {
      "cell_type": "markdown",
      "metadata": {
        "id": "7hdbVa5aKzFF"
      },
      "source": [
        "سرانجام همه این اطلاعات رو در یک پرامپت به مدل‌زبانی بده تا یک برنامه سفر جامع تهیه کنه."
      ]
    },
    {
      "cell_type": "code",
      "execution_count": null,
      "metadata": {
        "id": "MNpm_2msKzFF"
      },
      "outputs": [],
      "source": [
        "# متن پرامپت یا سپارش\n",
        "prompt = f\"\"\"I will visit {city}, {country} from {arrival} to {departure}.\n",
        "Create a daily itinerary with detailed activities.\n",
        "Designate times for breakfast, lunch, and dinner.\n",
        "\n",
        "I want to visit the restaurants listed in the restaurant dictionary\n",
        "without repeating any place. Make sure to mention the specialty\n",
        "that I should try at each of them.\n",
        "\n",
        "Restaurant dictionary:\n",
        "{restaurants}\n",
        "\n",
        "\"\"\"\n",
        "\n",
        "response = print_llm_response(prompt)\n",
        "\n",
        "# چاپ پاسخ مدل به فرمت مارک‌داون\n",
        "display(Markdown(response))"
      ]
    },
    {
      "cell_type": "markdown",
      "metadata": {
        "id": "lXRXYvShKzFF"
      },
      "source": [
        "## ساخت برنامه جامع سفر برای همه شهرها"
      ]
    },
    {
      "cell_type": "markdown",
      "metadata": {
        "id": "8cvD_luLKzFF"
      },
      "source": [
        "یک حلقه فور و بعد بوممممم! همه چیز برای همه شهرها تکرار می‌شه."
      ]
    },
    {
      "cell_type": "code",
      "execution_count": null,
      "metadata": {
        "id": "u-7CMutmKzFF"
      },
      "outputs": [],
      "source": [
        "# دیکشنری خالی برای ثبت برنامه همه شهرها\n",
        "detailed_itinerary = {}\n",
        "\n",
        " # حلقه تکرار برای واکشی اطلاعات همه مقصدها\n",
        "for trip_stop in itinerary:\n",
        "    city = trip_stop[\"City\"]\n",
        "    country = trip_stop[\"Country\"]\n",
        "    arrival = trip_stop[\"Arrival\"]\n",
        "    departure = trip_stop[\"Departure\"]\n",
        "\n",
        "    rest_dict = read_csv(f\"{city}.csv\")\n",
        "\n",
        "    print(f\"Creating detailed itinerary for {city}, {country}.\")\n",
        "\n",
        "    prompt = f\"\"\"I will visit {city}, {country} from {arrival} to {departure}.\n",
        "    Create a daily itinerary with detailed activities.\n",
        "    Designate times for breakfast, lunch, and dinner.\n",
        "\n",
        "    I want to visit the restaurants listed in the restaurant dictionary without repeating any place.\n",
        "    Make sure to mention the specialty that I should try at each of them.\n",
        "\n",
        "    Restaurant dictionary:\n",
        "    {rest_dict}\n",
        "\n",
        "    \"\"\"\n",
        "    # ذخیره برنامه سفر پیشنهادی برای همه شهرها در دیکشنری\n",
        "    detailed_itinerary[city] = print(get_llm_response(prompt))"
      ]
    },
    {
      "cell_type": "markdown",
      "metadata": {
        "id": "MKzpBCeAKzFG"
      },
      "source": [
        "حالا برنامه هر شهری که بخواهی کافیه نامش رو از دیکشنری صدا بزنی."
      ]
    },
    {
      "cell_type": "code",
      "execution_count": null,
      "metadata": {
        "id": "MgRWMC3GKzFG"
      },
      "outputs": [],
      "source": [
        "# Print in Markdown format\n",
        "display(Markdown(detailed_itinerary[\"Tokyo\"]))"
      ]
    },
    {
      "cell_type": "markdown",
      "metadata": {
        "id": "zsvMA5oeKzFG"
      },
      "source": [
        "## تمرین برای خودت\n",
        "\n",
        "کد پایین رو اصلاح کن تا برنامه دریافتی برای تک تک شهرهای پایین رو ببینی:\n",
        "**گزینه‌ها:**\n",
        "- Cape Town\n",
        "- Istanbul\n",
        "- New York\n",
        "- Paris\n",
        "- Rio de Janeiro\n",
        "- Sydney\n",
        "- Tokyo"
      ]
    },
    {
      "cell_type": "code",
      "execution_count": null,
      "metadata": {
        "id": "PD_yfhqzKzFG"
      },
      "outputs": [],
      "source": [
        "# نام شهر رو جایگزین کن\n",
        "display(Markdown(detailed_itinerary[\"YOUR CITY HERE\"]))"
      ]
    },
    {
      "cell_type": "markdown",
      "metadata": {
        "id": "hPIjOUS7KzFH"
      },
      "source": [
        "## شادباش! این هفته هم تموم شد 🎉🎉🎉\n",
        "\n",
        "تمرینش کن. فقط تمرین کن و ایده‌هات رو امتحان کن. خراب کن. گیر کن. ادامه بده. پیشرفت می‌کنی"
      ]
    }
  ],
  "metadata": {
    "language_info": {
      "name": "python"
    },
    "colab": {
      "provenance": [],
      "include_colab_link": true
    }
  },
  "nbformat": 4,
  "nbformat_minor": 0
}