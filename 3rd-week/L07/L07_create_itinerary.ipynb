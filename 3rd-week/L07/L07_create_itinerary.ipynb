{
  "cells": [
    {
      "cell_type": "markdown",
      "metadata": {
        "id": "view-in-github",
        "colab_type": "text"
      },
      "source": [
        "<a href=\"https://colab.research.google.com/github/asefycom/Python-with-AI/blob/main/3rd-week/L07/L07_create_itinerary.ipynb\" target=\"_parent\"><img src=\"https://colab.research.google.com/assets/colab-badge.svg\" alt=\"Open In Colab\"/></a>"
      ]
    },
    {
      "cell_type": "markdown",
      "metadata": {
        "id": "1PDjCFxFKzE0"
      },
      "source": [
        "# هفته سوم - درس ۷: ساخت برنامه سفر به چند شهر"
      ]
    },
    {
      "cell_type": "markdown",
      "metadata": {
        "id": "hxnsntepKzE3"
      },
      "source": [
        "با چیزهایی که تا حالا یاد گرفتی تو این درس بناست که برنامه سفر به دور دنیا برای تعطیلات بسازی."
      ]
    },
    {
      "cell_type": "markdown",
      "source": [
        "## پیشنیازها"
      ],
      "metadata": {
        "id": "0J_Q9HQcN2tj"
      }
    },
    {
      "cell_type": "code",
      "source": [
        "# کلون مخزن گیت هاب  و تغییر مسیر کاری به پوشه این درس\n",
        "import os\n",
        "\n",
        "if not os.path.exists('Python-with-AI'):\n",
        "    !git clone https://github.com/asefycom/Python-with-AI.git\n",
        "\n",
        "os.chdir('Python-with-AI/3rd-week/L07')\n",
        "print(\"Current Working Directory:\", os.getcwd())"
      ],
      "metadata": {
        "id": "us_d-NwVJcyG",
        "outputId": "9c8e216b-d7c5-4aba-d948-a48adbd56baf",
        "colab": {
          "base_uri": "https://localhost:8080/"
        }
      },
      "execution_count": null,
      "outputs": [
        {
          "output_type": "stream",
          "name": "stdout",
          "text": [
            "Cloning into 'Python-with-AI'...\n",
            "remote: Enumerating objects: 272, done.\u001b[K\n",
            "remote: Counting objects: 100% (118/118), done.\u001b[K\n",
            "remote: Compressing objects: 100% (114/114), done.\u001b[K\n",
            "remote: Total 272 (delta 63), reused 4 (delta 4), pack-reused 154 (from 1)\u001b[K\n",
            "Receiving objects: 100% (272/272), 158.47 KiB | 1.82 MiB/s, done.\n",
            "Resolving deltas: 100% (127/127), done.\n",
            "Current Working Directory: /content/Python-with-AI/3rd-week/L07\n"
          ]
        }
      ]
    },
    {
      "cell_type": "code",
      "execution_count": null,
      "metadata": {
        "id": "0nfNDKEOKzE4"
      },
      "outputs": [],
      "source": [
        "# ایمپورت‌های لازم\n",
        "from IPython.display import Markdown, HTML\n",
        "import csv\n",
        "import pandas as pd"
      ]
    },
    {
      "cell_type": "code",
      "source": [
        "# تابعی برای نمایش داده ها به صورت جدول\n",
        "def display_table(data):\n",
        "    # تبدیل داده ورودی به دیتافریم\n",
        "    df = pd.DataFrame(data)\n",
        "\n",
        "    # نمایش دیتافریم به شکل جدول ا‌چ‌تی‌ام‌ال\n",
        "    display(HTML(df.to_html(index=False)))"
      ],
      "metadata": {
        "id": "xfE37W0HOJhc"
      },
      "execution_count": null,
      "outputs": []
    },
    {
      "cell_type": "code",
      "source": [
        "# نصب بسته توگدر\n",
        "!pip install together"
      ],
      "metadata": {
        "id": "k8iYwnz2OVqB",
        "outputId": "1066e3dd-b3d1-40cd-cec7-db4234e593b7",
        "colab": {
          "base_uri": "https://localhost:8080/"
        }
      },
      "execution_count": null,
      "outputs": [
        {
          "output_type": "stream",
          "name": "stdout",
          "text": [
            "Collecting together\n",
            "  Downloading together-1.5.21-py3-none-any.whl.metadata (15 kB)\n",
            "Requirement already satisfied: aiohttp<4.0.0,>=3.9.3 in /usr/local/lib/python3.11/dist-packages (from together) (3.11.15)\n",
            "Requirement already satisfied: click<9.0.0,>=8.1.7 in /usr/local/lib/python3.11/dist-packages (from together) (8.2.1)\n",
            "Collecting eval-type-backport<0.3.0,>=0.1.3 (from together)\n",
            "  Downloading eval_type_backport-0.2.2-py3-none-any.whl.metadata (2.2 kB)\n",
            "Requirement already satisfied: filelock<4.0.0,>=3.13.1 in /usr/local/lib/python3.11/dist-packages (from together) (3.18.0)\n",
            "Requirement already satisfied: numpy>=1.23.5 in /usr/local/lib/python3.11/dist-packages (from together) (2.0.2)\n",
            "Requirement already satisfied: pillow<12.0.0,>=11.1.0 in /usr/local/lib/python3.11/dist-packages (from together) (11.3.0)\n",
            "Requirement already satisfied: pydantic<3.0.0,>=2.6.3 in /usr/local/lib/python3.11/dist-packages (from together) (2.11.7)\n",
            "Requirement already satisfied: requests<3.0.0,>=2.31.0 in /usr/local/lib/python3.11/dist-packages (from together) (2.32.3)\n",
            "Requirement already satisfied: rich<15.0.0,>=13.8.1 in /usr/local/lib/python3.11/dist-packages (from together) (13.9.4)\n",
            "Requirement already satisfied: tabulate<0.10.0,>=0.9.0 in /usr/local/lib/python3.11/dist-packages (from together) (0.9.0)\n",
            "Requirement already satisfied: tqdm<5.0.0,>=4.66.2 in /usr/local/lib/python3.11/dist-packages (from together) (4.67.1)\n",
            "Collecting typer<0.16,>=0.9 (from together)\n",
            "  Downloading typer-0.15.4-py3-none-any.whl.metadata (15 kB)\n",
            "Requirement already satisfied: aiohappyeyeballs>=2.3.0 in /usr/local/lib/python3.11/dist-packages (from aiohttp<4.0.0,>=3.9.3->together) (2.6.1)\n",
            "Requirement already satisfied: aiosignal>=1.1.2 in /usr/local/lib/python3.11/dist-packages (from aiohttp<4.0.0,>=3.9.3->together) (1.4.0)\n",
            "Requirement already satisfied: attrs>=17.3.0 in /usr/local/lib/python3.11/dist-packages (from aiohttp<4.0.0,>=3.9.3->together) (25.3.0)\n",
            "Requirement already satisfied: frozenlist>=1.1.1 in /usr/local/lib/python3.11/dist-packages (from aiohttp<4.0.0,>=3.9.3->together) (1.7.0)\n",
            "Requirement already satisfied: multidict<7.0,>=4.5 in /usr/local/lib/python3.11/dist-packages (from aiohttp<4.0.0,>=3.9.3->together) (6.6.3)\n",
            "Requirement already satisfied: propcache>=0.2.0 in /usr/local/lib/python3.11/dist-packages (from aiohttp<4.0.0,>=3.9.3->together) (0.3.2)\n",
            "Requirement already satisfied: yarl<2.0,>=1.17.0 in /usr/local/lib/python3.11/dist-packages (from aiohttp<4.0.0,>=3.9.3->together) (1.20.1)\n",
            "Requirement already satisfied: annotated-types>=0.6.0 in /usr/local/lib/python3.11/dist-packages (from pydantic<3.0.0,>=2.6.3->together) (0.7.0)\n",
            "Requirement already satisfied: pydantic-core==2.33.2 in /usr/local/lib/python3.11/dist-packages (from pydantic<3.0.0,>=2.6.3->together) (2.33.2)\n",
            "Requirement already satisfied: typing-extensions>=4.12.2 in /usr/local/lib/python3.11/dist-packages (from pydantic<3.0.0,>=2.6.3->together) (4.14.1)\n",
            "Requirement already satisfied: typing-inspection>=0.4.0 in /usr/local/lib/python3.11/dist-packages (from pydantic<3.0.0,>=2.6.3->together) (0.4.1)\n",
            "Requirement already satisfied: charset-normalizer<4,>=2 in /usr/local/lib/python3.11/dist-packages (from requests<3.0.0,>=2.31.0->together) (3.4.2)\n",
            "Requirement already satisfied: idna<4,>=2.5 in /usr/local/lib/python3.11/dist-packages (from requests<3.0.0,>=2.31.0->together) (3.10)\n",
            "Requirement already satisfied: urllib3<3,>=1.21.1 in /usr/local/lib/python3.11/dist-packages (from requests<3.0.0,>=2.31.0->together) (2.5.0)\n",
            "Requirement already satisfied: certifi>=2017.4.17 in /usr/local/lib/python3.11/dist-packages (from requests<3.0.0,>=2.31.0->together) (2025.7.14)\n",
            "Requirement already satisfied: markdown-it-py>=2.2.0 in /usr/local/lib/python3.11/dist-packages (from rich<15.0.0,>=13.8.1->together) (3.0.0)\n",
            "Requirement already satisfied: pygments<3.0.0,>=2.13.0 in /usr/local/lib/python3.11/dist-packages (from rich<15.0.0,>=13.8.1->together) (2.19.2)\n",
            "Collecting click<9.0.0,>=8.1.7 (from together)\n",
            "  Downloading click-8.1.8-py3-none-any.whl.metadata (2.3 kB)\n",
            "Requirement already satisfied: shellingham>=1.3.0 in /usr/local/lib/python3.11/dist-packages (from typer<0.16,>=0.9->together) (1.5.4)\n",
            "Requirement already satisfied: mdurl~=0.1 in /usr/local/lib/python3.11/dist-packages (from markdown-it-py>=2.2.0->rich<15.0.0,>=13.8.1->together) (0.1.2)\n",
            "Downloading together-1.5.21-py3-none-any.whl (96 kB)\n",
            "\u001b[2K   \u001b[90m━━━━━━━━━━━━━━━━━━━━━━━━━━━━━━━━━━━━━━━━\u001b[0m \u001b[32m96.1/96.1 kB\u001b[0m \u001b[31m2.6 MB/s\u001b[0m eta \u001b[36m0:00:00\u001b[0m\n",
            "\u001b[?25hDownloading eval_type_backport-0.2.2-py3-none-any.whl (5.8 kB)\n",
            "Downloading typer-0.15.4-py3-none-any.whl (45 kB)\n",
            "\u001b[2K   \u001b[90m━━━━━━━━━━━━━━━━━━━━━━━━━━━━━━━━━━━━━━━━\u001b[0m \u001b[32m45.3/45.3 kB\u001b[0m \u001b[31m3.0 MB/s\u001b[0m eta \u001b[36m0:00:00\u001b[0m\n",
            "\u001b[?25hDownloading click-8.1.8-py3-none-any.whl (98 kB)\n",
            "\u001b[2K   \u001b[90m━━━━━━━━━━━━━━━━━━━━━━━━━━━━━━━━━━━━━━━━\u001b[0m \u001b[32m98.2/98.2 kB\u001b[0m \u001b[31m4.6 MB/s\u001b[0m eta \u001b[36m0:00:00\u001b[0m\n",
            "\u001b[?25hInstalling collected packages: eval-type-backport, click, typer, together\n",
            "  Attempting uninstall: click\n",
            "    Found existing installation: click 8.2.1\n",
            "    Uninstalling click-8.2.1:\n",
            "      Successfully uninstalled click-8.2.1\n",
            "  Attempting uninstall: typer\n",
            "    Found existing installation: typer 0.16.0\n",
            "    Uninstalling typer-0.16.0:\n",
            "      Successfully uninstalled typer-0.16.0\n",
            "Successfully installed click-8.1.8 eval-type-backport-0.2.2 together-1.5.21 typer-0.15.4\n"
          ]
        }
      ]
    },
    {
      "cell_type": "code",
      "source": [
        "# فراخوانی توگدر با کلیدی که ازش گرفتیم\n",
        "# که به صورت امن تو محیط اجرای این دفترچه کولب کار گذاشتیم\n",
        "from google.colab import userdata\n",
        "from together import Together\n",
        "\n",
        "client = Together(api_key=userdata.get('TOGETHER_API_KEY'))\n",
        "\n",
        "# تابعی برای ارسال پرامپت به مدل زبانی به واسطه توگدر و بعد چاپ جواب\n",
        "def print_llm_response(prompt):\n",
        "    response = client.chat.completions.create(\n",
        "        model=\"google/gemma-3n-E4B-it\",\n",
        "        # model=\"meta-llama/Llama-3.3-70B-Instruct-Turbo-Free\",\n",
        "        messages=[\n",
        "        {\n",
        "            \"role\": \"user\",\n",
        "            \"content\": prompt\n",
        "        }\n",
        "        ]\n",
        "    )\n",
        "    return response.choices[0].message.content"
      ],
      "metadata": {
        "id": "5efr2u_GOjWx"
      },
      "execution_count": null,
      "outputs": []
    },
    {
      "cell_type": "markdown",
      "metadata": {
        "id": "29jZ2_gyKzE7"
      },
      "source": [
        "## واکشی برنامه‌ سفر از فایل‌ سی‌اس‌وی"
      ]
    },
    {
      "cell_type": "markdown",
      "metadata": {
        "id": "_hgFNAZOKzE8"
      },
      "source": [
        "نخست بیا تابعی تعریف کنیم که اطلاعات فایل سی‌اس‌وی رو بخونه و به صورت یک دیکشنری به ما بده."
      ]
    },
    {
      "cell_type": "code",
      "execution_count": null,
      "metadata": {
        "id": "81SHUPkVKzE9"
      },
      "outputs": [],
      "source": [
        "def read_csv(file):\n",
        "    f = open(file, \"r\")\n",
        "\n",
        "    csv_reader = csv.DictReader(f)\n",
        "    data = []\n",
        "    for row in csv_reader:\n",
        "        data.append(row)\n",
        "    f.close()\n",
        "\n",
        "    return data"
      ]
    },
    {
      "cell_type": "markdown",
      "metadata": {
        "id": "a2D0KNijKzE-"
      },
      "source": [
        "حالا از این تابع استفاده کنیم. برنامه‌های سفر رو از فایل\n",
        "\n",
        " `itinerary.csv`\n",
        "\n",
        " بخونیم و اطلاعاتش رو که به صورت دیکشنری دریافت می‌کنیم و به صورت یک جدول نمایش بدیم."
      ]
    },
    {
      "cell_type": "code",
      "execution_count": null,
      "metadata": {
        "id": "avIEiIP_KzE-",
        "outputId": "ae0b4364-4067-4e2b-ee7a-34e61d0d024f",
        "colab": {
          "base_uri": "https://localhost:8080/",
          "height": 269
        }
      },
      "outputs": [
        {
          "output_type": "display_data",
          "data": {
            "text/plain": [
              "<IPython.core.display.HTML object>"
            ],
            "text/html": [
              "<table border=\"1\" class=\"dataframe\">\n",
              "  <thead>\n",
              "    <tr style=\"text-align: right;\">\n",
              "      <th>Arrival</th>\n",
              "      <th>Departure</th>\n",
              "      <th>City</th>\n",
              "      <th>Country</th>\n",
              "    </tr>\n",
              "  </thead>\n",
              "  <tbody>\n",
              "    <tr>\n",
              "      <td>July-01</td>\n",
              "      <td>July-08</td>\n",
              "      <td>New York</td>\n",
              "      <td>USA</td>\n",
              "    </tr>\n",
              "    <tr>\n",
              "      <td>July-09</td>\n",
              "      <td>July-16</td>\n",
              "      <td>Rio de Janeiro</td>\n",
              "      <td>Brazil</td>\n",
              "    </tr>\n",
              "    <tr>\n",
              "      <td>July-17</td>\n",
              "      <td>July-24</td>\n",
              "      <td>Cape Town</td>\n",
              "      <td>South Africa</td>\n",
              "    </tr>\n",
              "    <tr>\n",
              "      <td>July-25</td>\n",
              "      <td>August-01</td>\n",
              "      <td>Istanbul</td>\n",
              "      <td>Turkey</td>\n",
              "    </tr>\n",
              "    <tr>\n",
              "      <td>August-02</td>\n",
              "      <td>August-09</td>\n",
              "      <td>Paris</td>\n",
              "      <td>France</td>\n",
              "    </tr>\n",
              "    <tr>\n",
              "      <td>August-10</td>\n",
              "      <td>August-17</td>\n",
              "      <td>Tokyo</td>\n",
              "      <td>Japan</td>\n",
              "    </tr>\n",
              "    <tr>\n",
              "      <td>August-18</td>\n",
              "      <td>August-25</td>\n",
              "      <td>Sydney</td>\n",
              "      <td>Australia</td>\n",
              "    </tr>\n",
              "  </tbody>\n",
              "</table>"
            ]
          },
          "metadata": {}
        }
      ],
      "source": [
        "# Read the itinerary.csv file\n",
        "itinerary = read_csv(\"itinerary.csv\")\n",
        "\n",
        "# Display the itinerary\n",
        "display_table(itinerary)"
      ]
    },
    {
      "cell_type": "markdown",
      "metadata": {
        "id": "wiCG5-5jKzE_"
      },
      "source": [
        "## واکشی اطلاعات رستوران‌ها از یادداشت‌های غذایی"
      ]
    },
    {
      "cell_type": "markdown",
      "metadata": {
        "id": "5zGwHKpJKzE_"
      },
      "source": [
        "حالا تابعی بسازیم که محتوای فایل متنی رو می‌خونه و به صورت یک استرینگ بلند برمی‌گردونه."
      ]
    },
    {
      "cell_type": "code",
      "execution_count": null,
      "metadata": {
        "id": "-3ywHhXmKzFA"
      },
      "outputs": [],
      "source": [
        "# این تابع رو «رید جورنال» نام گذاشتیم\n",
        "def read_journal(journal_file):\n",
        "    f = open(journal_file, \"r\")\n",
        "    journal = f.read()\n",
        "    f.close()\n",
        "\n",
        "    # بازگشت محتوای یادداشت\n",
        "    return journal"
      ]
    },
    {
      "cell_type": "markdown",
      "metadata": {
        "id": "6b1ab3qrKzFA"
      },
      "source": [
        "حالا برای نمونه از این تابع استفاده کنیم و یادداشت شهر سیدنی رو بخونیم."
      ]
    },
    {
      "cell_type": "code",
      "execution_count": null,
      "metadata": {
        "id": "UYcL6p5UKzFA",
        "outputId": "8413a7d8-87dc-4fe8-f683-5d566b29ea53",
        "colab": {
          "base_uri": "https://localhost:8080/"
        }
      },
      "outputs": [
        {
          "output_type": "stream",
          "name": "stdout",
          "text": [
            "My culinary adventure began at Saint Peter, a renowned seafood restaurant in Paddington. This place is a temple to Australian seafood, and the \"Murray Cod\" was a revelation. The fish, sourced from the Murray River, was perfectly cooked, with a crispy skin and tender, flaky flesh. It was served with a simple yet flavorful accompaniment of seasonal vegetables, allowing the quality of the fish to shine. The restaurant's dedication to sustainability and nose-to-tail seafood cooking added an educational aspect to the delicious meal.\n",
            "\n",
            "Next, I visited Billy Kwong in Potts Point, where celebrated chef Kylie Kwong puts a unique spin on modern Australian cuisine using native ingredients. The standout dish here was the \"Crispy Skin Duck with Davidson’s Plum Sauce.\" The duck was cooked to perfection, with a rich, flavorful meat and delightfully crispy skin, complemented by the tart and slightly sweet Davidson’s plum sauce. This dish was a perfect example of how traditional recipes can be elevated with local, indigenous ingredients, creating something both familiar and new.\n",
            "\n",
            "In search of a true Australian pub experience, I headed to The Lord Nelson Brewery Hotel in The Rocks. This historic pub serves up hearty, classic Australian fare, and the \"Roast Lamb\" was exactly what I was craving. The lamb, roasted to tender perfection, was served with a medley of root vegetables and a rich gravy, making for a comforting and satisfying meal. Paired with one of their house-brewed ales, it was a quintessential Aussie pub experience that I would highly recommend.\n",
            "\n",
            "I couldn't miss out on trying some of the famous Australian barbecue, so I headed to Vic's Meat Market at the Sydney Fish Market. The \"BBQ Beef Brisket\" was a highlight, slow-cooked to achieve a melt-in-the-mouth texture, and served with a tangy barbecue sauce. The smoky, rich flavor of the brisket was enhanced by the vibrant, outdoor setting of the market, where the aroma of grilling meat filled the air.\n",
            "\n",
            "To round off my exploration of local cuisine, I visited Bennelong, located within the iconic Sydney Opera House. This fine dining restaurant celebrates Australian produce in every dish. The \"Sydney Rock Oysters\" were an exquisite start to the meal, served with a delicate vinaigrette that highlighted their briny freshness. The oysters, sourced from local waters, were plump and succulent, offering a pure taste of the sea.\n",
            "\n",
            "\n"
          ]
        }
      ],
      "source": [
        "journal = read_journal(\"sydney.txt\")\n",
        "\n",
        "print(journal)"
      ]
    },
    {
      "cell_type": "markdown",
      "metadata": {
        "id": "W9BmadpDKzFB"
      },
      "source": [
        "و حالا ... یک پرامپت (سپارش) بنویسیم که اطلاعات رستوران‌ها و غذای مخصوص هر کدوم رو استخراج و به فرمت سی‌اس‌وی ذخیره کنه."
      ]
    },
    {
      "cell_type": "code",
      "execution_count": null,
      "metadata": {
        "id": "ugQsi635KzFB",
        "outputId": "89d13ffb-c21e-4459-8f8e-1bc6df557986",
        "colab": {
          "base_uri": "https://localhost:8080/"
        }
      },
      "outputs": [
        {
          "output_type": "stream",
          "name": "stdout",
          "text": [
            "Restaurant,Specialty\n",
            "Saint Peter,Australian Seafood, Murray Cod\n",
            "Billy Kwong,Modern Australian Cuisine, Crispy Skin Duck with Davidson’s Plum Sauce\n",
            "The Lord Nelson Brewery Hotel,Classic Australian Fare, Roast Lamb\n",
            "Vic's Meat Market,Australian Barbecue, BBQ Beef Brisket\n",
            "Bennelong,Australian Produce, Sydney Rock Oysters\n",
            "\n"
          ]
        }
      ],
      "source": [
        "# Write the prompt\n",
        "prompt = f\"\"\"Please extract a comprehensive list of the restaurants\n",
        "and their respective specialties mentioned in the following journal entry.\n",
        "Ensure that each restaurant name is accurately identified and listed.\n",
        "Provide your answer in CSV format, ready to save.\n",
        "Exclude the \"```csv\" declaration, don't add spaces after the comma, include column headers.\n",
        "\n",
        "Format:\n",
        "Restaurant, Specialty\n",
        "Res_1, Sp_1\n",
        "...\n",
        "\n",
        "Journal entry:\n",
        "{journal}\n",
        "\"\"\"\n",
        "\n",
        "# Print the prompt\n",
        "print(print_llm_response(prompt))"
      ]
    },
    {
      "cell_type": "markdown",
      "source": [
        "از مدل زبانی بخواه تابعی برای ذخیره داده‌های سی اس وی به صورت فایل به زبان پایتون تولید کنه.\n",
        "\n",
        "این پایین بنویسش."
      ],
      "metadata": {
        "id": "UNEK6TRJVLgG"
      }
    },
    {
      "cell_type": "code",
      "source": [
        "# تابع ایجاد فایل سی اس وی رو بنویس\n"
      ],
      "metadata": {
        "id": "4_JRbDpHKXq4"
      },
      "execution_count": null,
      "outputs": []
    },
    {
      "cell_type": "markdown",
      "metadata": {
        "id": "dTSJlNCOKzFB"
      },
      "source": [
        "فایل پایین یک نمونه ذخیره شده از خروجی مدل هست:\n",
        "\n",
        "`Sydney.csv`\n",
        "\n",
        "فایل رو بخون و به صورت جدول نمایش بده:"
      ]
    },
    {
      "cell_type": "code",
      "execution_count": null,
      "metadata": {
        "id": "eFCoyK1zKzFC",
        "outputId": "49c2f0ce-a85e-4f1a-ab88-ab216b7b5301",
        "colab": {
          "base_uri": "https://localhost:8080/",
          "height": 237
        }
      },
      "outputs": [
        {
          "output_type": "display_data",
          "data": {
            "text/plain": [
              "<IPython.core.display.HTML object>"
            ],
            "text/html": [
              "<table border=\"1\" class=\"dataframe\">\n",
              "  <thead>\n",
              "    <tr style=\"text-align: right;\">\n",
              "      <th>Restaurant</th>\n",
              "      <th>Specialty</th>\n",
              "    </tr>\n",
              "  </thead>\n",
              "  <tbody>\n",
              "    <tr>\n",
              "      <td>Saint Peter</td>\n",
              "      <td>Murray Cod</td>\n",
              "    </tr>\n",
              "    <tr>\n",
              "      <td>Billy Kwong</td>\n",
              "      <td>Crispy Skin Duck with Davidson’s Plum Sauce</td>\n",
              "    </tr>\n",
              "    <tr>\n",
              "      <td>The Lord Nelson Brewery Hotel</td>\n",
              "      <td>Roast Lamb</td>\n",
              "    </tr>\n",
              "    <tr>\n",
              "      <td>Carriageworks Farmers Market</td>\n",
              "      <td>Kangaroo Pie</td>\n",
              "    </tr>\n",
              "    <tr>\n",
              "      <td>Vic's Meat Market</td>\n",
              "      <td>BBQ Beef Brisket</td>\n",
              "    </tr>\n",
              "    <tr>\n",
              "      <td>Bennelong</td>\n",
              "      <td>Sydney Rock Oysters</td>\n",
              "    </tr>\n",
              "  </tbody>\n",
              "</table>"
            ]
          },
          "metadata": {}
        }
      ],
      "source": [
        "# استفاده از تابعی که پیش‌تر تعریف کردی\n",
        "sydney_restaurants = read_csv(\"Sydney.csv\")\n",
        "\n",
        "display_table(sydney_restaurants)"
      ]
    },
    {
      "cell_type": "markdown",
      "metadata": {
        "id": "aRntI1Z3KzFC"
      },
      "source": [
        "## ساخت برنامه سفر کامل با پیشنهادهایی برای رستوران"
      ]
    },
    {
      "cell_type": "markdown",
      "metadata": {
        "id": "JS_EoslpKzFD"
      },
      "source": [
        "بیا داده‌های برنامه  سفر و یادداشت غذا رو کنار هم بگذاریم و یک برنامه کامل برای بازدید از سیدنی بسازیم.\n",
        "\n",
        "دقت کن که اطلاعات سیدنی در ایندکس ۶ «فایل برنامه سفر» درج شده چون سیدنی هفتمین مقصد سفر هست."
      ]
    },
    {
      "cell_type": "code",
      "execution_count": null,
      "metadata": {
        "id": "b9XpKBHyKzFE"
      },
      "outputs": [],
      "source": [
        "# انتخاب سیدنی از برنامه سفر\n",
        "trip_stop = itinerary[6]"
      ]
    },
    {
      "cell_type": "markdown",
      "metadata": {
        "id": "7Lzttp9pKzFE"
      },
      "source": [
        "حالا همه اطلاعات برنامه سفر سیدنی رو داخل متغیرهای جداگانه ذخیره کن:"
      ]
    },
    {
      "cell_type": "code",
      "execution_count": null,
      "metadata": {
        "id": "YaDmsZ0tKzFE"
      },
      "outputs": [],
      "source": [
        "city = trip_stop[\"City\"]\n",
        "country = trip_stop[\"Country\"]\n",
        "arrival = trip_stop[\"Arrival\"]\n",
        "departure = trip_stop[\"Departure\"]\n",
        "restaurants = sydney_restaurants"
      ]
    },
    {
      "cell_type": "markdown",
      "metadata": {
        "id": "7hdbVa5aKzFF"
      },
      "source": [
        "سرانجام همه این اطلاعات رو در یک پرامپت به مدل‌زبانی بده تا یک برنامه سفر جامع تهیه کنه."
      ]
    },
    {
      "cell_type": "code",
      "execution_count": null,
      "metadata": {
        "id": "MNpm_2msKzFF",
        "outputId": "035aa551-4001-41f1-b13a-ce22a3977d4d",
        "colab": {
          "base_uri": "https://localhost:8080/",
          "height": 1000
        }
      },
      "outputs": [
        {
          "output_type": "display_data",
          "data": {
            "text/plain": [
              "<IPython.core.display.Markdown object>"
            ],
            "text/markdown": "Okay, here is a detailed daily itinerary for your trip to Sydney from August 18th to August 25th, incorporating your restaurant preferences and aiming for a balanced mix of sightseeing, cultural experiences, and delicious food. I've included suggested times for meals and activities.  I've also made sure to avoid repeating restaurants.  Enjoy your trip!\n\n**Important Notes:**\n\n*   **August in Sydney:** Expect mild weather (average highs around 18°C/64°F, lows around 11°C/52°F). Pack layers, including a light jacket or sweater.\n*   **Transportation:** Sydney has a good public transportation system (trains, buses, ferries). Consider getting an Opal card for easy travel.  Walking is also a great way to explore many areas.\n*   **Reservations:**  I *highly* recommend making reservations for dinner, especially at the restaurants listed, well in advance.  You can usually book online.\n*   **Flexibility:** This is a suggestion. Feel free to adjust it based on your interests and energy levels.\n*   **Opening Hours:** Double-check the opening hours of all attractions and restaurants before you go, as they can change.\n\n\n\n---\n\n**Day 1: Arrival & Harbour Exploration (August 18th - Saturday)**\n\n*   **9:00 AM:** Arrive at Sydney Airport (SYD). Take the Airport Link train to your accommodation in the city center (e.g., Circular Quay, Darling Harbour, CBD). Check in.\n*   **11:00 AM:** Settle in and take a stroll around Circular Quay. Admire the Sydney Opera House and Harbour Bridge.\n*   **12:30 PM:** **Lunch:** Casual lunch at a cafe near Circular Quay. Many options available.\n*   **2:00 PM:**  **Sydney Opera House Tour:** Take a guided tour of the iconic Sydney Opera House.  Allow 1.5 - 2 hours.  Book in advance!\n*   **4:00 PM:** **Harbour Bridge Climb (Optional):** If you're feeling adventurous, consider a climb of the Harbour Bridge for spectacular views.  Book well in advance. Alternatively, walk across the bridge.\n*   **6:00 PM:** **Dinner:** **Bennelong** (inside the Opera House). *Specialty: Sydney Rock Oysters*. Enjoy a fine dining experience with stunning harbour views.  Make a reservation!\n*   **8:30 PM:**  Evening stroll along the harbour, enjoying the illuminated Opera House and Harbour Bridge.\n\n\n\n**Day 2: Bondi Beach & Coastal Walk (August 19th - Sunday)**\n\n*   **9:00 AM:** **Breakfast:**  Enjoy breakfast at a cafe in your neighborhood.\n*   **10:00 AM:** Travel to Bondi Beach (train or bus).\n*   **10:30 AM - 1:00 PM:** **Bondi Beach:** Relax on the beach, swim, or try surfing.  Consider a surf lesson.\n*   **1:00 PM:** **Lunch:** Casual lunch at a cafe overlooking Bondi Beach.\n*   **2:00 PM - 4:00 PM:** **Bondi to Coogee Coastal Walk:**  Enjoy the scenic coastal walk from Bondi to Coogee (approx. 6km).  Allow 2-3 hours, stopping at beaches and viewpoints along the way.\n*   **4:00 PM:** **Coogee Beach:** Relax at Coogee Beach.\n*   **6:00 PM:** **Dinner:**  Dinner at a restaurant in Coogee.  Many options available with ocean views.\n*   **8:00 PM:** Return to your accommodation.\n\n\n\n**Day 3:  Culture & Markets (August 20th - Monday)**\n\n*   **9:00 AM:** **Breakfast:**  At your accommodation or a local cafe.\n*   **10:00 AM - 1:00 PM:** **Art Gallery of NSW:** Explore the extensive collection of Australian and international art.\n*   **1:00 PM:** **Lunch:**  Lunch at the Art Gallery's cafe or a nearby cafe in the city.\n*   **2:30 PM - 5:00 PM:** **The Rocks:** Explore the historic Rocks district. Browse the shops, visit the Rocks Discovery Museum, and learn about Sydney's convict past.\n*   **5:00 PM - 7:00 PM:** **Carriageworks Farmers Market (Saturday & Sunday):**  If it's a Saturday or Sunday, visit this vibrant market for local produce, artisan goods, and food stalls. *Specialty: Kangaroo Pie*.\n*   **7:30 PM:** **Dinner:** Dinner at a restaurant in The Rocks.\n*   **9:00 PM:** Enjoy a drink at a pub in The Rocks.\n\n\n\n**Day 4:  Blue Mountains Day Trip (August 21st - Tuesday)**\n\n*   **8:00 AM:** **Breakfast:**  Grab a quick breakfast before heading out.\n*   **8:30 AM - 9:30 AM:** Travel to the Blue Mountains.  You can take a train from Central Station to Katoomba (approx. 2 hours).\n*   **10:00 AM - 4:00 PM:** **Blue Mountains Exploration:** Explore the Blue Mountains National Park.\n    *   **Scenic World:** Ride the Scenic Railway, Scenic Cableway, and Scenic Skyway for breathtaking views.\n    *   **Three Sisters:**  Visit Echo Point for iconic views of the Three Sisters rock formation.\n    *   **Hiking:** Choose a hiking trail based on your fitness level.  (e.g., Wentworth Falls, Govetts Leap).\n*   **1:00 PM:** **Lunch:**  Have lunch at a cafe in Katoomba or a picnic lunch amidst the scenery.\n*   **4:00 PM - 6:00 PM:** Travel back to Sydney.\n*   **7:00 PM:** **Dinner:** Dinner in your preferred neighborhood.\n\n\n\n**Day 5:  North Sydney & Taronga Zoo (August 22nd - Wednesday)**\n\n*   **9:00 AM:** **Breakfast:** At your accommodation or a local cafe.\n*   **10:00 AM:** Travel to North Sydney.\n*   **10:30 AM - 12:30 PM:** **North Sydney Olympic Pool:** Enjoy the Olympic-sized pool with stunning harbour views. \n*   **1:00 PM:** **Lunch:** Enjoy lunch at a cafe in North Sydney.\n*   **2:30 PM - 5:30 PM:** **Taronga Zoo:** Take a ferry from Circular Quay to Taronga Zoo. Explore the zoo and enjoy the harbour views.\n*   **6:00 PM:** **Dinner:** Enjoy dinner at the zoo or back in the city.\n*   **8:00 PM:** Return to your accommodation.\n\n\n\n**Day 6:  Darling Harbour & Maritime Museum (August 23rd - Thursday)**\n\n*   **9:00 AM:** **Breakfast:** At your accommodation or a local cafe.\n*   **10:00 AM - 12:00 PM:** **Australian National Maritime Museum:** Explore Australia's maritime history.\n*   **12:30 PM:** **Lunch:** Lunch at a restaurant in Darling Harbour.\n*   **2:00 PM - 4:00 PM:** **Darling Harbour Activities:** Choose from a variety of activities in Darling Harbour:\n    *   **Wild Life Sydney Zoo:** See Australian animals.\n    *   **Sea Life Sydney Aquarium:** Explore marine life.\n    *   **Australian Centre for Science Exploration (SciTech):** Interactive science exhibits.\n*   **6:00 PM:** **Dinner:** **Vic's Meat Market**. *Specialty: BBQ Beef Brisket*. Enjoy a delicious BBQ meal.  Make a reservation!\n*   **8:00 PM:** Evening stroll around Darling Harbour.\n\n\n\n**Day 7:  South Head & Lavender Bay (August 24th - Friday)**\n\n*   **9:00 AM:** **Breakfast:** At your accommodation or a local cafe.\n*   **10:00 AM:** Travel to South Head.\n*   **10:30 AM - 1:00 PM:** **South Head:** Explore the historic South Head Quarantine Station. Enjoy panoramic views of Sydney Harbour.\n*   **1:00 PM:** **Lunch:** Enjoy lunch at a cafe near South Head.\n*   **2:30 PM - 4:30 PM:** **Lavender Bay:** Relax at Lavender Bay, a picturesque bay with beautiful views of the city skyline.\n*   **5:00 PM:** **Dinner:** **Saint Peter**. *Specialty: Murray Cod*. Indulge in a seafood-focused dinner.  Requires advance booking!\n*   **7:30 PM:** Enjoy a final evening stroll and perhaps a drink at a harbour-side bar.\n\n\n\n**Day 8: Departure (August 25th - Saturday)**\n\n*   **9:00 AM:** **Breakfast:** Enjoy a final breakfast in Sydney.\n*   **10:00 AM:** Last-minute souvenir shopping or revisit a favorite spot.\n*   **12:00 PM:** Check out of your accommodation"
          },
          "metadata": {}
        }
      ],
      "source": [
        "# متن پرامپت یا سپارش\n",
        "prompt = f\"\"\"I will visit {city}, {country} from {arrival} to {departure}.\n",
        "Create a daily itinerary with detailed activities.\n",
        "Designate times for breakfast, lunch, and dinner.\n",
        "\n",
        "I want to visit the restaurants listed in the restaurant dictionary\n",
        "without repeating any place. Make sure to mention the specialty\n",
        "that I should try at each of them.\n",
        "\n",
        "Restaurant dictionary:\n",
        "{restaurants}\n",
        "\n",
        "\"\"\"\n",
        "\n",
        "response = print_llm_response(prompt)\n",
        "\n",
        "# چاپ پاسخ مدل به فرمت مارک‌داون\n",
        "display(Markdown(response))"
      ]
    },
    {
      "cell_type": "markdown",
      "metadata": {
        "id": "lXRXYvShKzFF"
      },
      "source": [
        "## ساخت برنامه جامع سفر برای همه شهرها"
      ]
    },
    {
      "cell_type": "markdown",
      "metadata": {
        "id": "8cvD_luLKzFF"
      },
      "source": [
        "یک حلقه فور و بعد بوممممم! همه چیز برای همه شهرها تکرار می‌شه."
      ]
    },
    {
      "cell_type": "code",
      "execution_count": null,
      "metadata": {
        "id": "u-7CMutmKzFF",
        "outputId": "310327a1-12e6-4cfb-e12a-f45b0ff4183c",
        "colab": {
          "base_uri": "https://localhost:8080/"
        }
      },
      "outputs": [
        {
          "output_type": "stream",
          "name": "stdout",
          "text": [
            "Creating detailed itinerary for New York, USA.\n",
            "Creating detailed itinerary for Rio de Janeiro, Brazil.\n",
            "Creating detailed itinerary for Cape Town, South Africa.\n",
            "Creating detailed itinerary for Istanbul, Turkey.\n",
            "Creating detailed itinerary for Paris, France.\n",
            "Creating detailed itinerary for Tokyo, Japan.\n",
            "Creating detailed itinerary for Sydney, Australia.\n"
          ]
        }
      ],
      "source": [
        "# دیکشنری خالی برای ثبت برنامه همه شهرها\n",
        "detailed_itinerary = {}\n",
        "\n",
        " # حلقه تکرار برای واکشی اطلاعات همه مقصدها\n",
        "for trip_stop in itinerary:\n",
        "    city = trip_stop[\"City\"]\n",
        "    country = trip_stop[\"Country\"]\n",
        "    arrival = trip_stop[\"Arrival\"]\n",
        "    departure = trip_stop[\"Departure\"]\n",
        "\n",
        "    rest_dict = read_csv(f\"{city}.csv\")\n",
        "\n",
        "    print(f\"Creating detailed itinerary for {city}, {country}.\")\n",
        "\n",
        "    prompt = f\"\"\"I will visit {city}, {country} from {arrival} to {departure}.\n",
        "    Create a daily itinerary with detailed activities.\n",
        "    Designate times for breakfast, lunch, and dinner.\n",
        "\n",
        "    I want to visit the restaurants listed in the restaurant dictionary without repeating any place.\n",
        "    Make sure to mention the specialty that I should try at each of them.\n",
        "\n",
        "    Restaurant dictionary:\n",
        "    {rest_dict}\n",
        "\n",
        "    \"\"\"\n",
        "    # ذخیره برنامه سفر پیشنهادی برای همه شهرها در دیکشنری\n",
        "    detailed_itinerary[city] = print_llm_response(prompt)"
      ]
    },
    {
      "cell_type": "markdown",
      "metadata": {
        "id": "MKzpBCeAKzFG"
      },
      "source": [
        "حالا برنامه هر شهری که بخواهی کافیه نامش رو از دیکشنری صدا بزنی."
      ]
    },
    {
      "cell_type": "code",
      "execution_count": null,
      "metadata": {
        "id": "MgRWMC3GKzFG",
        "outputId": "322e72a5-a22d-4326-9907-e0c94152dedb",
        "colab": {
          "base_uri": "https://localhost:8080/"
        }
      },
      "outputs": [
        {
          "output_type": "stream",
          "name": "stdout",
          "text": [
            "Okay, here's a detailed itinerary for your Tokyo trip from August 10th to August 17th, incorporating your restaurant preferences and aiming for a balanced mix of cultural experiences, food, and relaxation.  I've included estimated times, but feel free to adjust based on your pace.  August in Tokyo is hot and humid, so I've built in some breaks and considered indoor activities.\n",
            "\n",
            "**Important Notes:**\n",
            "\n",
            "*   **Reservations are *essential* for many of these restaurants, *especially* Sukiyabashi Jiro, Narisawa, Ginza Kojyu, and Akasaka Kikunoi.**  Book *well* in advance (weeks or even months).  I recommend using your hotel concierge or a service like TableCheck.\n",
            "*   **Transportation:**  Tokyo has an excellent public transportation system (trains and subways).  Consider purchasing a Suica or Pasmo card for easy travel.\n",
            "*   **Pocket Wifi/eSIM:**  Highly recommended for navigation and communication.\n",
            "*   **Heat & Humidity:** Stay hydrated, wear light clothing, and be prepared for potential rain.  August is typhoon season.\n",
            "*   **Restaurant Costs:**  These restaurants range from moderately expensive to very expensive. Be prepared for a higher dining budget.\n",
            "\n",
            "---\n",
            "\n",
            "## **Tokyo Itinerary: August 10 - August 17**\n",
            "\n",
            "**Day 1: August 10th (Arrival & Shinjuku Exploration)**\n",
            "\n",
            "*   **14:00:** Arrive at Narita (NRT) or Haneda (HND) Airport.  Take the Narita Express or Limousine Bus (NRT) or Keikyu Line or Limousine Bus (HND) to your hotel in Shinjuku.\n",
            "*   **16:00:** Check into your hotel.  (e.g., Park Hyatt Tokyo for iconic views, Keio Plaza Hotel Tokyo for convenience).\n",
            "*   **17:00:** Shinjuku Gyoen National Garden.  A beautiful oasis with different garden styles (English Landscape, French Formal, Japanese Traditional). (Allow 2-3 hours).\n",
            "*   **19:00:** Dinner at **Ichiran Ramen** (Shinjuku Central East Entrance Branch).  *Specialty: Tonkotsu Ramen*.  (Enjoy the customizable ramen experience in individual booths.)\n",
            "*   **20:30:**  Tokyo Metropolitan Government Building. Free observation decks with panoramic city views.  (Open until 11 PM).\n",
            "*   **22:00:** Relax at your hotel.\n",
            "\n",
            "**Day 2: August 11th (Culture & Shibuya)**\n",
            "\n",
            "*   **08:00:** Breakfast at your hotel or a local cafe.\n",
            "*   **09:00:**  Meiji Jingu Shrine.  A peaceful oasis dedicated to Emperor Meiji and Empress Shoken. (Allow 1.5-2 hours).\n",
            "*   **11:00:** Harajuku. Explore Takeshita Street (unique fashion, crepes) and Omotesando (high-end boutiques).\n",
            "*   **13:00:** Lunch in Harajuku - try a colorful crepe or street food.\n",
            "*   **14:30:** Shibuya Crossing. Experience the iconic scramble crossing.  Get a coffee at Starbucks overlooking the crossing for a great view.\n",
            "*   **16:00:** Hachiko Statue.  A symbol of loyalty.\n",
            "*   **17:00:** Shopping in Shibuya 109 or explore the department stores.\n",
            "*   **19:00:** Dinner at **Den** (Jingumae). *Specialty: Creative Japanese cuisine*. (Reservations *absolutely* required, book far in advance!).\n",
            "*   **21:00:** Explore Shibuya nightlife or head back to your hotel.\n",
            "\n",
            "**Day 3: August 12th (Asakusa & Sumida River)**\n",
            "\n",
            "*   **08:00:** Breakfast near your hotel or at a local bakery.\n",
            "*   **09:00:** Asakusa. Visit Senso-ji Temple, Tokyo's oldest temple. Explore Nakamise-dori (street lined with shops).\n",
            "*   **11:00:** Sumida River Cruise.  Enjoy a scenic boat ride along the Sumida River, offering views of Tokyo Skytree and the city skyline.\n",
            "*   **12:30:** Lunch near Asakusa - try Monjayaki (a savory pancake).\n",
            "*   **14:00:** Tokyo Skytree.  Ascend to the observation decks for stunning panoramic views.\n",
            "*   **16:00:**  Explore the shops and restaurants around Tokyo Skytree Town.\n",
            "*   **19:00:** Dinner at **Tsukiji Outer Market**. *Specialty: Fresh Sashimi and Street Food*. (Enjoy the vibrant atmosphere and sample various seafood delicacies.)\n",
            "*   **21:00:** Return to your hotel.\n",
            "\n",
            "**Day 4: August 13th (Ginza & Imperial Palace)**\n",
            "\n",
            "*   **08:00:** Breakfast at your hotel or a cafe in Ginza.\n",
            "*   **09:00:** Ginza. Explore high-end department stores (Mitsukoshi, Ginza Six), luxury boutiques, and art galleries.\n",
            "*   **11:00:** Imperial Palace East Garden.  Explore the grounds of the former Edo Castle.\n",
            "*   **13:00:** Lunch in Ginza – try a tempura set meal.\n",
            "*   **14:30:** Kabuki-za Theatre (Optional). If interested in traditional Japanese theatre, consider attending a Kabuki performance. (Book tickets in advance).\n",
            "*   **17:00:**  Shopping or relaxing in Ginza.\n",
            "*   **19:00:** Dinner at **Ginza Kojyu**. *Specialty: Kaiseki (traditional multi-course meal)*. (Reservations *essential*.)\n",
            "*   **21:30:**  Enjoy a drink at a Ginza bar.\n",
            "\n",
            "**Day 5: August 14th (Day Trip to Hakone)**\n",
            "\n",
            "*   **08:00:** Breakfast at your hotel.\n",
            "*   **09:00:** Travel to Hakone. Take the Odakyu Romancecar from Shinjuku Station to Hakone-Yumoto Station (approx. 1.5 hours).\n",
            "*   **10:30:** Hakone Open-Air Museum.  Contemporary sculptures set against the backdrop of Mount Fuji and natural landscapes.\n",
            "*   **12:30:** Lunch in Hakone - try soba noodles.\n",
            "*   **14:00:** Hakone Ropeway.  Ride the ropeway over volcanic hot springs with views of Mount Fuji (weather permitting).\n",
            "*   **15:30:** Lake Ashi Cruise. Enjoy a scenic cruise on Lake Ashi, surrounded by mountains.\n",
            "*   **17:00:**  Hakone Shrine.  A picturesque shrine located on the shores of Lake Ashi.\n",
            "*   **18:30:**  Dinner in Hakone or back in Shinjuku (depending on your preference).\n",
            "*   **21:00:** Return to your hotel.\n",
            "\n",
            "**Day 6: August 15th (Fish Market & TeamLab Planets)**\n",
            "\n",
            "*   **05:30:** (Optional, early start) Toyosu Fish Market. Witness the tuna auction (reservations required, check availability) or explore the market stalls.  (Note: The famous Tsukiji Outer Market is still a great option for seafood and food stalls.)\n",
            "*   **09:00:** Breakfast near Toyosu or back in your neighborhood.\n",
            "*   **10:30:** TeamLab Planets TOKYO. Immerse yourself in a digital art museum with interactive installations. (Book tickets well in advance!).\n",
            "*   **13:30:** Lunch near TeamLab Planets.\n",
            "*   **15:00:** Odaiba. Explore the futuristic entertainment island of Odaiba. Visit the giant Gundam statue, shopping malls, and the Miraikan (science museum).\n",
            "*   **19:00:** Dinner in Odaiba - enjoy waterfront views.\n",
            "*   **21:00:**  Enjoy the illuminated Rainbow Bridge.\n",
            "\n",
            "**Day 7: August 16th (Sushi & Relaxation)**\n",
            "\n",
            "*   **11:00:**  **Kyubey**. *Specialty: Sushi*. (Reservations are *absolutely* essential, and it's a very high-end sushi experience.)\n",
            "*   **13:00:** Lunch near Kyubey.\n",
            "*    **14:30:** Relaxing afternoon. Options include:\n",
            "    *   **Spa LaQua (Tokyo Dome City):**  Enjoy a traditional Japanese onsen (hot spring bath) and spa treatments.\n",
            "    *   **Shopping in a neighborhood you haven't explored yet (e.g., Daikanyama, Shimokitazawa).**\n",
            "    *   **Visit a local cafe and people-watch.**\n",
            "*   **19:00:** Dinner at **Narisawa**. *Specialty: Innovative Tasting Menu*. (Very high-end, requires advanced booking.  Expect a unique and artistic dining experience.)\n",
            "*   **22:00:**  Enjoy a final evening in Tokyo.\n",
            "\n",
            "**Day 8: August 17th (Departure)**\n",
            "\n",
            "*   **08:00:** Breakfast at your hotel.\n",
            "*   **09:00:** Last-\n"
          ]
        }
      ],
      "source": [
        "# Print in Markdown format\n",
        "print(detailed_itinerary[\"Tokyo\"])"
      ]
    },
    {
      "cell_type": "markdown",
      "metadata": {
        "id": "zsvMA5oeKzFG"
      },
      "source": [
        "## تمرین\n",
        "\n",
        "کد پایین رو اصلاح کن تا برنامه دریافتی برای تک تک شهرهای پایین رو ببینی:\n",
        "\n",
        "**گزینه‌ها:**\n",
        "- Cape Town\n",
        "- Istanbul\n",
        "- New York\n",
        "- Paris\n",
        "- Rio de Janeiro\n",
        "- Sydney\n",
        "- Tokyo"
      ]
    },
    {
      "cell_type": "code",
      "execution_count": null,
      "metadata": {
        "id": "PD_yfhqzKzFG"
      },
      "outputs": [],
      "source": [
        "# نام شهر رو جایگزین کن\n",
        "print(detailed_itinerary[\"YOUR CITY HERE\"])"
      ]
    },
    {
      "cell_type": "markdown",
      "metadata": {
        "id": "hPIjOUS7KzFH"
      },
      "source": [
        "## شادباش! این هفته هم تموم شد 🎉🎉🎉\n",
        "\n",
        "مرور کن. تمرین کن. فکرهات رو امتحان کن. خراب کن. گیر کن. ادامه بده. پیشرفت می‌کنی"
      ]
    }
  ],
  "metadata": {
    "language_info": {
      "name": "python"
    },
    "colab": {
      "provenance": [],
      "include_colab_link": true
    },
    "kernelspec": {
      "name": "python3",
      "display_name": "Python 3"
    }
  },
  "nbformat": 4,
  "nbformat_minor": 0
}