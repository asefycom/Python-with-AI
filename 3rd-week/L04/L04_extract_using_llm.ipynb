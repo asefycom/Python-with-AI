{
  "cells": [
    {
      "cell_type": "markdown",
      "metadata": {
        "id": "view-in-github",
        "colab_type": "text"
      },
      "source": [
        "<a href=\"https://colab.research.google.com/github/asefycom/Python-with-AI/blob/main/3rd-week/L04/L04_extract_using_llm.ipynb\" target=\"_parent\"><img src=\"https://colab.research.google.com/assets/colab-badge.svg\" alt=\"Open In Colab\"/></a>"
      ]
    },
    {
      "cell_type": "markdown",
      "metadata": {
        "id": "QOndZQHvKda1"
      },
      "source": [
        "# هفته سوم - درس ۴: استخراج اطلاعات با ال‌ال‌ام\n",
        "\n",
        "حالا وقتش رسیده که به کمک هوش مصنوعی اطلاعات رو از دل متن‌های بی‌ساختار استخراج کنی.\n",
        "\n",
        "برای نمونه با هم نام رستوران‌ها و غذای ویژه اون‌ها رو استخراج می‌کنیم.\n",
        "\n",
        "البته اول پیشنیازها رو فراهم کنیم."
      ]
    },
    {
      "cell_type": "markdown",
      "source": [
        "## پیشنیازها"
      ],
      "metadata": {
        "id": "bN8J0mYJVdW_"
      }
    },
    {
      "cell_type": "code",
      "source": [
        "# نصب بسته توگدر ای‌آی\n",
        "!pip install together"
      ],
      "metadata": {
        "id": "65Xy-2RfVlUZ"
      },
      "execution_count": null,
      "outputs": []
    },
    {
      "cell_type": "code",
      "source": [
        "# فراخوانی توگدر با کلیدی که ازش گرفتیم\n",
        "# که به صورت امن تو محیط اجرای این دفترچه کولب کار گذاشتیم\n",
        "# و بعد نوشتن تابعی برای ارسال پرامپت و چاپ جواب مدل\n",
        "from google.colab import userdata\n",
        "from together import Together\n",
        "\n",
        "client = Together(api_key=userdata.get('TOGETHER_API_KEY'))\n",
        "\n",
        "def print_llm_response(prompt):\n",
        "    response = client.chat.completions.create(\n",
        "        model=\"google/gemma-3n-E4B-it\",\n",
        "        # model=\"meta-llama/Llama-3.3-70B-Instruct-Turbo-Free\",\n",
        "        messages=[\n",
        "        {\n",
        "            \"role\": \"user\",\n",
        "            \"content\": prompt\n",
        "        }\n",
        "        ]\n",
        "    )\n",
        "    return response.choices[0].message.content"
      ],
      "metadata": {
        "id": "tgqxGUMyV9ym"
      },
      "execution_count": null,
      "outputs": []
    },
    {
      "cell_type": "code",
      "execution_count": null,
      "metadata": {
        "id": "1XHPSRFbKda-"
      },
      "outputs": [],
      "source": [
        "# فراخوانی یک تابع و یک کلاس (هنوز نمی‌دونیم چیه)\n",
        "# از ماژول دیسپلی که قراره چاپ خروجی مدل رو برامون زیباتر کنن\n",
        "# برنامه‌نویس‌های حرفه‌ای این‌ها رو برای ما کدنویسی کردن تا استفاه کنیم\n",
        "from IPython.display import display, HTML"
      ]
    },
    {
      "cell_type": "code",
      "source": [
        "# اینم یه تابع که دیگه هر بار نخوای کدهای خوندن فایل رو بنویسی\n",
        "def read_journal(journal_file):\n",
        "    f = open(journal_file, \"r\")\n",
        "    journal = f.read()\n",
        "    f.close()\n",
        "    return journal"
      ],
      "metadata": {
        "id": "tf7pp0o6a476"
      },
      "execution_count": null,
      "outputs": []
    },
    {
      "cell_type": "markdown",
      "metadata": {
        "id": "ap4iNC7aKdbB"
      },
      "source": [
        "## استفاه از مدل زبانی بزرگ برای پررنگ کردن اطلاعات مهم"
      ]
    },
    {
      "cell_type": "markdown",
      "metadata": {
        "id": "WVCQ12auKdbC"
      },
      "source": [
        "متن یادداشت شهر ریودوژانیرو داخل این فایل ذخیره شده:\n",
        "\n",
        "`rio_de_janeiro.txt`\n",
        "\n",
        "* این فایل رو به کمک این تابع بخون:\n",
        "\n",
        " `read_journal`\n"
      ]
    },
    {
      "cell_type": "code",
      "execution_count": null,
      "metadata": {
        "id": "P2jwiTR5KdbD"
      },
      "outputs": [],
      "source": [
        "journal_rio_de_janeiro = read_journal(\"rio_de_janeiro.txt\")"
      ]
    },
    {
      "cell_type": "markdown",
      "metadata": {
        "id": "JuhmILW2KdbD"
      },
      "source": [
        "حالا بیا پرامپتی بنویسیم که هوش مصنوعی نام رستوران‌ها و غذای مخصوصشون (بهترین غذای پیشنهادی خودشون) برامون استخراج کنه."
      ]
    },
    {
      "cell_type": "code",
      "execution_count": null,
      "metadata": {
        "id": "wAcmvo3DKdbE"
      },
      "outputs": [],
      "source": [
        "prompt = f\"\"\"\n",
        "با بررسی این یادداشت که توسط یک منتقد غذا نوشته شده،\n",
        "نام رستوران‌ها و بهترین غذاشون رو تعیین کن.\n",
        "نام هر رستوران رو هم بولد و هم پررنگ (نارنجی) بنویس.\n",
        "بهترین غذای هر رستوران رو هم بولد و پررنگ (آبی) بنویس.\n",
        "\n",
        "خروجی رو به فرمت اچ تی ام ال و مناسب نمایش در دفترچه ژوپیتر بده.\n",
        "\n",
        "یادداشت منتقد:\n",
        "{journal_rio_de_janeiro}\n",
        "\"\"\"\n",
        "\n",
        "print(prompt)"
      ]
    },
    {
      "cell_type": "markdown",
      "metadata": {
        "id": "OE70gJv0KdbF"
      },
      "source": [
        "خب! بیا حالا این پرامپت رو بفرستیم برای هوش مصنوعی و پاسخش رو به کمک تابع پرینت پایتون چاپ کنیم."
      ]
    },
    {
      "cell_type": "code",
      "execution_count": null,
      "metadata": {
        "id": "H71Ivj8eKdbG"
      },
      "outputs": [],
      "source": [
        "html_response = print_llm_response(prompt)\n",
        "print(html_response)"
      ]
    },
    {
      "cell_type": "markdown",
      "metadata": {
        "id": "b9mfqjbSKdbH"
      },
      "source": [
        "تابع پرینت متن خام دریافتی از هوش مصنوعی رو چاپ می‌کنه. این متن حاوی تگ‌های اچ‌تی‌ام‌ال هم هست که فقط تو مرورگرها تجزیه و نمایش داده می‌شن.\n",
        "اما خب ما از ماژول دیسپلی تو پیشنیازها کمک گرفتیم تا همین جا هم بتونیم داخل این دفترچه ژوپیتر این تگ‌ها رو تجزیه و قابل نمایش کنیم."
      ]
    },
    {
      "cell_type": "code",
      "execution_count": null,
      "metadata": {
        "id": "x3U3zgNwKdbH"
      },
      "outputs": [],
      "source": [
        "display(HTML(html_response))"
      ]
    },
    {
      "cell_type": "markdown",
      "metadata": {
        "id": "OwKlGwl2KdbI"
      },
      "source": [
        "حالا همین مراحل رو با یادداشت توکیو تکرار کن."
      ]
    },
    {
      "cell_type": "code",
      "execution_count": null,
      "metadata": {
        "id": "2AEAIkzFKdbI"
      },
      "outputs": [],
      "source": [
        "journal_tokyo = read_journal(\"tokyo.txt\")\n",
        "\n",
        "prompt = f\"\"\"\n",
        "با بررسی این یادداشت که توسط یک منتقد غذا نوشته شده،\n",
        "نام رستوران‌ها و بهترین غذاشون رو تعیین کن.\n",
        "نام هر رستوران رو هم بولد و هم پررنگ (نارنجی) بنویس.\n",
        "بهترین غذای هر رستوران رو هم بولد و پررنگ (آبی) بنویس.\n",
        "\n",
        "خروجی رو به فرمت اچ تی ام ال و مناسب نمایش در دفترچه ژوپیتر بده.\n",
        "\n",
        "یادداشت منتقد:\n",
        "{journal_tokyo}\n",
        "\"\"\"\n",
        "\n",
        "html_response = print_llm_response(prompt)\n",
        "display(HTML(html_response))"
      ]
    },
    {
      "cell_type": "markdown",
      "metadata": {
        "id": "8qDWxHQ0KdbI"
      },
      "source": [
        "خودت این دو یادداشت رو باز کن! ساختارشون با هم متفاوت هست نه؟\n",
        "\n",
        "این دو یادداشت ساختار متفاوتی دارن ولی تو  با کد و پرامپت یکسانی موفق به واکاوی هر دو شدی.\n"
      ]
    },
    {
      "cell_type": "markdown",
      "metadata": {
        "id": "2TJUse4BKdbI"
      },
      "source": [
        "## دست‌ورزی\n",
        "\n",
        "با تغییر پرامپت‌های بالا و مثلا ایجاد سلول‌های تازه این پایین، تلاش کن اطلاعات متفاوتی رو استخراج و اضافه کنی:\n",
        "\n",
        "- اگه دسری هست با رنگ سبز اضافه بشه\n",
        "- کنار نام مواد غذایی اموجی مرتبط اضافه کنه"
      ]
    },
    {
      "cell_type": "markdown",
      "metadata": {
        "id": "QcuJM9d2KdbJ"
      },
      "source": [
        "## ساخت لیست رستوران‌ها و بهترین غذاشون"
      ]
    },
    {
      "cell_type": "markdown",
      "metadata": {
        "id": "wR4yFLhRKdbJ"
      },
      "source": [
        "حالا پرامپتی بسازیم که اطلاعات استخراج شده رو به جای نمایش و رنگ‌آمیزی، به صورت لیست داخل یک فایل ذخیره کنه.\n",
        "\n",
        "هست مخفف CSV فایلی که می‌سازیم یک فایل\n",
        "\n",
        "**Comma Separated Value**"
      ]
    },
    {
      "cell_type": "code",
      "execution_count": null,
      "metadata": {
        "id": "BuLPwR4UKdbJ"
      },
      "outputs": [],
      "source": [
        "# پرامپت رو انگلیسی بنویسم چون فرمت خروجی در مورد این پرامپت\n",
        "# با پرامپت انگلیسی ساده تر منتقل میشه\n",
        "prompt = f\"\"\"Please extract a comprehensive list of the restaurants\n",
        "and their respective best dishes mentioned in the following journal entry.\n",
        "Ensure that each restaurant name is accurately identified and listed.\n",
        "\n",
        "Provide your answer in CSV format, ready to save.\n",
        "Exclude the \"```csv\" declaration, don't add spaces after the comma, include column headers.\n",
        "\n",
        "Format:\n",
        "Restaurant, Dish\n",
        "Res_1, Dsh_1\n",
        "...\n",
        "\n",
        "Journal entry:\n",
        "{journal_rio_de_janeiro}\n",
        "\"\"\"\n",
        "\n",
        "restaurants_csv_ready_string = print_llm_response(prompt)\n",
        "\n",
        "print(restaurants_csv_ready_string)"
      ]
    },
    {
      "cell_type": "markdown",
      "metadata": {
        "id": "ACrOi2muKdbJ"
      },
      "source": [
        "حالا خروجی ساختارمندی داریم. خط اول سرستون‌هاست. خط های بعدی هر خط شامل نام یک رستوران و بهترین غذاش.\n",
        "\n",
        "دقت کن که داده ها چطور با کاما جدا شدن."
      ]
    },
    {
      "cell_type": "markdown",
      "metadata": {
        "id": "v-Zzd5omKdbK"
      },
      "source": [
        "## حلقه تکرار برای چند یادداشت"
      ]
    },
    {
      "cell_type": "markdown",
      "metadata": {
        "id": "TL57LiISKdbK"
      },
      "source": [
        "حالا که منطق کار دستمون اومد از حلقه فور برای استخراج اطلاعات همه فایل‌ها استفاده کنیم."
      ]
    },
    {
      "cell_type": "code",
      "execution_count": null,
      "metadata": {
        "id": "ohojtgGCKdbK"
      },
      "outputs": [],
      "source": [
        "files = [\"cape_town.txt\", \"istanbul.txt\", \"new_york.txt\", \"paris.txt\",\n",
        "          \"rio_de_janeiro.txt\", \"sydney.txt\", \"tokyo.txt\"]\n",
        "\n",
        "for file in files:\n",
        "    #باز کردن فایل یادداشت و خوندن محتواش\n",
        "    journal_entry = read_journal(file)\n",
        "\n",
        "    # (csv) استخراج اطلاعات و نمایش به فرمت جدا با کاما\n",
        "    prompt =  f\"\"\"Please extract a comprehensive list of the restaurants\n",
        "    and their respective best dishes mentioned in the following journal entry.\n",
        "\n",
        "    Ensure that each restaurant name is accurately identified and listed.\n",
        "    Provide your answer in CSV format, ready to save.\n",
        "\n",
        "    Exclude the \"```csv\" declaration, don't add spaces after the\n",
        "    comma, include column headers.\n",
        "\n",
        "    Format:\n",
        "    Restaurant, Dish\n",
        "    Res_1, Dsh_1\n",
        "    ...\n",
        "\n",
        "    Journal entry:\n",
        "    {journal_entry}\n",
        "    \"\"\"\n",
        "\n",
        "    print(file)\n",
        "    print_llm_response(prompt)\n",
        "    print(\"\") # چاپ یک خط خالی برای خوانایی"
      ]
    },
    {
      "cell_type": "markdown",
      "metadata": {
        "id": "FeleENP7KdbK"
      },
      "source": [
        "## دست‌ورزی\n",
        "حلقه بالا رو طوری بازنویسی کن این پایین که اطلاعات بیشتری استخراج کنی.\n",
        "\n",
        " مثلا نام محله ای که رستوران واقع شده یا نام تک تک غذاهای هر رستوران و مواد تشکیل دهنده اون‌ها"
      ]
    },
    {
      "cell_type": "markdown",
      "metadata": {
        "id": "mbepVuscKdbK"
      },
      "source": [
        "## ایجاد فایل"
      ]
    },
    {
      "cell_type": "markdown",
      "metadata": {
        "id": "L7ctri5xKdbK"
      },
      "source": [
        "حالا بیا اطلاعات دریافتی از مدل زبانی رو به صورت فایل ذخیره کنیم.\n",
        "\n",
        "\n",
        "برای یادآوری پاسخ اچ تی ام الی رو یادته که بالا گرفتیم."
      ]
    },
    {
      "cell_type": "code",
      "source": [
        "display(HTML(html_response))"
      ],
      "metadata": {
        "id": "RwBrn0R60WeC"
      },
      "execution_count": null,
      "outputs": []
    },
    {
      "cell_type": "markdown",
      "metadata": {
        "id": "QZaknkKbKdbL"
      },
      "source": [
        "بیا اون رو داخل یک فایل اچ تی ام ال ذخیره کنیم."
      ]
    },
    {
      "cell_type": "code",
      "execution_count": null,
      "metadata": {
        "id": "ttsc1ntEKdbL"
      },
      "outputs": [],
      "source": [
        "f = open(\"highlighted_text.html\", 'w')\n",
        "f.write(html_response)\n",
        "f.close()"
      ]
    },
    {
      "cell_type": "markdown",
      "metadata": {
        "id": "1A1ZdyqbKdbL"
      },
      "source": [
        "ببین این همون تابع اوپن هست ولی با این آرگومان\n",
        "\n",
        " `'w'`\n",
        "\n",
        " به جای آرگومان\n",
        "\n",
        "  `'r'`\n",
        "  \n",
        "  و بعد تابع\n",
        "\n",
        "   `f.write`\n",
        "   \n",
        "   به جای\n",
        "\n",
        " `f.read`\n",
        "\n",
        "که باعث شده به جای خوانش فایل در عمل ما نگارش فایل انجام بدیم."
      ]
    },
    {
      "cell_type": "markdown",
      "metadata": {
        "id": "A8EJLlthKdbM"
      },
      "source": [
        "<p style=\"background-color:#F5C780; padding:15px\"> 🤖 <b>از چت‌بات استفاده کن</b>:\n",
        "    <br><br>\n",
        "    این تکه کد رو خط به به خط برای من توضیح بده:\n",
        "    <br><br>f = open(\"highlighted_text.html\", 'w')\n",
        "    <br>f.write(html_response)\n",
        "    <br>f.close()\n",
        "</p>"
      ]
    },
    {
      "cell_type": "markdown",
      "metadata": {
        "id": "Qn7WXhUUKdbM"
      },
      "source": [
        "فایلی که ساختیم کجا رفت؟\n",
        "\n",
        "تو دفترچه می‌تونی پیداش کنی؟\n",
        "\n",
        "با قطع اتصال دفترچه فایلمون چی ‌میشه؟\n",
        "\n",
        "چطور برای همیشه داخل درایو گوگل ذخیره کنیم؟\n",
        " برا این سوال آخر یه تکه کد بگیریم از چت بات؟\n",
        " هستی؟"
      ]
    },
    {
      "cell_type": "markdown",
      "metadata": {
        "id": "VXnBpBSPKdbN"
      },
      "source": [
        "## تمرین بیشتر\n",
        "\n",
        "### تمرین ۱\n",
        "\n",
        "پرامپت پایین رو طوری اصلاح کن که یک فایل اچ تی ام ال بسازه که نام رستوران‌ها رو با رنگ سبز و نام محله اون ها رو با صورتی نمایش بده."
      ]
    },
    {
      "cell_type": "code",
      "execution_count": null,
      "metadata": {
        "id": "ChQPZ3FHKdbN"
      },
      "outputs": [],
      "source": [
        "journal_sydney = read_journal(\"sydney.txt\")\n",
        "\n",
        "# Modify the prompt below\n",
        "prompt = f\"\"\"\n",
        "Given the following journal entry from a food critic, identify the\n",
        "restaurants and their best dishes. Highlight and bold each restaurant\n",
        "(in orange) and best dish (in blue) within the original text.\n",
        "\n",
        "Provide the output as HTML suitable for display in a Jupyter notebook.\n",
        "\n",
        "Journal entry:\n",
        "{journal_tokyo}\n",
        "\"\"\"\n",
        "\n",
        "html_sydney = print_llm_response(prompt)\n",
        "display(HTML(html_sydney))"
      ]
    },
    {
      "cell_type": "markdown",
      "metadata": {
        "id": "FPgdoLVrKdbN"
      },
      "source": [
        "### تمرین ۲\n",
        "\n",
        "با الهام از مطالب این دفترچه کدهای پایین رو طوری کامل کن که خروجی مدل زبانی در مورد سیدنی رو داخل فایل اچ‌تی‌ام‌ال با این نام ذخیره کنه\n",
        "\n",
        "`highlighted_sydney.html`."
      ]
    },
    {
      "cell_type": "code",
      "execution_count": null,
      "metadata": {
        "id": "OrtM7K-PKdbN"
      },
      "outputs": [],
      "source": [
        "\n",
        "f = open()\n",
        "f.write()\n",
        "f.close()"
      ]
    }
  ],
  "metadata": {
    "language_info": {
      "name": "python"
    },
    "colab": {
      "provenance": [],
      "include_colab_link": true
    },
    "kernelspec": {
      "name": "python3",
      "display_name": "Python 3"
    }
  },
  "nbformat": 4,
  "nbformat_minor": 0
}