{
  "cells": [
    {
      "cell_type": "markdown",
      "metadata": {
        "id": "view-in-github",
        "colab_type": "text"
      },
      "source": [
        "<a href=\"https://colab.research.google.com/github/asefycom/Python-with-AI/blob/main/3rd-week/L06/L06_reusable_functions.ipynb\" target=\"_parent\"><img src=\"https://colab.research.google.com/assets/colab-badge.svg\" alt=\"Open In Colab\"/></a>"
      ]
    },
    {
      "cell_type": "markdown",
      "metadata": {
        "id": "55i2UME-pf1Y"
      },
      "source": [
        "# هفته سوم - درس ۶: تبدیل کدها به تابع برای استفاده‌های بعدی"
      ]
    },
    {
      "cell_type": "markdown",
      "metadata": {
        "id": "pOJXmN-4pf1e"
      },
      "source": [
        "در این هفته تا اینجا از چند تابع استفاده کردیم.\n",
        "\n",
        " **function**.\n",
        "\n",
        "حالا در این درس بیا با هم چند تا تابع بسازیم تا مجبور نباشیم بعضی کدها رو مدام تکرار کنیم.\n"
      ]
    },
    {
      "cell_type": "markdown",
      "source": [
        "## پیشنیازها"
      ],
      "metadata": {
        "id": "9iCD52epFfya"
      }
    },
    {
      "cell_type": "code",
      "source": [
        "# کلون مخزن گیت هاب  و تغییر مسیر کاری به پوشه این درس\n",
        "import os\n",
        "\n",
        "if not os.path.exists('Python-with-AI'):\n",
        "    !git clone https://github.com/asefycom/Python-with-AI.git\n",
        "\n",
        "os.chdir('Python-with-AI/3rd-week/L06')\n",
        "print(\"Current Working Directory:\", os.getcwd())"
      ],
      "metadata": {
        "id": "01LWOqFiH-c9",
        "outputId": "57710f43-4d41-4bc9-dfd5-111a9b04c6fb",
        "colab": {
          "base_uri": "https://localhost:8080/"
        }
      },
      "execution_count": null,
      "outputs": [
        {
          "output_type": "stream",
          "name": "stdout",
          "text": [
            "Cloning into 'Python-with-AI'...\n",
            "remote: Enumerating objects: 256, done.\u001b[K\n",
            "remote: Counting objects: 100% (102/102), done.\u001b[K\n",
            "remote: Compressing objects: 100% (98/98), done.\u001b[K\n",
            "remote: Total 256 (delta 55), reused 4 (delta 4), pack-reused 154 (from 1)\u001b[K\n",
            "Receiving objects: 100% (256/256), 150.62 KiB | 1.88 MiB/s, done.\n",
            "Resolving deltas: 100% (119/119), done.\n",
            "Current Working Directory: /content/Python-with-AI/3rd-week/L06\n"
          ]
        }
      ]
    },
    {
      "cell_type": "code",
      "execution_count": null,
      "metadata": {
        "id": "xXBUJRD_pf1f"
      },
      "outputs": [],
      "source": [
        "# استفاده از کدهای آماده در ماژول دیسپلی\n",
        "from IPython.display import Markdown, display"
      ]
    },
    {
      "cell_type": "code",
      "source": [
        "# نصب بسته توگدر\n",
        "!pip install together"
      ],
      "metadata": {
        "id": "I4z0Ln9GFvQ9",
        "outputId": "0ddd39c7-a3c7-4622-b472-a7f2b39b440e",
        "colab": {
          "base_uri": "https://localhost:8080/"
        }
      },
      "execution_count": null,
      "outputs": [
        {
          "output_type": "stream",
          "name": "stdout",
          "text": [
            "Collecting together\n",
            "  Downloading together-1.5.21-py3-none-any.whl.metadata (15 kB)\n",
            "Requirement already satisfied: aiohttp<4.0.0,>=3.9.3 in /usr/local/lib/python3.11/dist-packages (from together) (3.11.15)\n",
            "Requirement already satisfied: click<9.0.0,>=8.1.7 in /usr/local/lib/python3.11/dist-packages (from together) (8.2.1)\n",
            "Collecting eval-type-backport<0.3.0,>=0.1.3 (from together)\n",
            "  Downloading eval_type_backport-0.2.2-py3-none-any.whl.metadata (2.2 kB)\n",
            "Requirement already satisfied: filelock<4.0.0,>=3.13.1 in /usr/local/lib/python3.11/dist-packages (from together) (3.18.0)\n",
            "Requirement already satisfied: numpy>=1.23.5 in /usr/local/lib/python3.11/dist-packages (from together) (2.0.2)\n",
            "Requirement already satisfied: pillow<12.0.0,>=11.1.0 in /usr/local/lib/python3.11/dist-packages (from together) (11.3.0)\n",
            "Requirement already satisfied: pydantic<3.0.0,>=2.6.3 in /usr/local/lib/python3.11/dist-packages (from together) (2.11.7)\n",
            "Requirement already satisfied: requests<3.0.0,>=2.31.0 in /usr/local/lib/python3.11/dist-packages (from together) (2.32.3)\n",
            "Requirement already satisfied: rich<15.0.0,>=13.8.1 in /usr/local/lib/python3.11/dist-packages (from together) (13.9.4)\n",
            "Requirement already satisfied: tabulate<0.10.0,>=0.9.0 in /usr/local/lib/python3.11/dist-packages (from together) (0.9.0)\n",
            "Requirement already satisfied: tqdm<5.0.0,>=4.66.2 in /usr/local/lib/python3.11/dist-packages (from together) (4.67.1)\n",
            "Collecting typer<0.16,>=0.9 (from together)\n",
            "  Downloading typer-0.15.4-py3-none-any.whl.metadata (15 kB)\n",
            "Requirement already satisfied: aiohappyeyeballs>=2.3.0 in /usr/local/lib/python3.11/dist-packages (from aiohttp<4.0.0,>=3.9.3->together) (2.6.1)\n",
            "Requirement already satisfied: aiosignal>=1.1.2 in /usr/local/lib/python3.11/dist-packages (from aiohttp<4.0.0,>=3.9.3->together) (1.4.0)\n",
            "Requirement already satisfied: attrs>=17.3.0 in /usr/local/lib/python3.11/dist-packages (from aiohttp<4.0.0,>=3.9.3->together) (25.3.0)\n",
            "Requirement already satisfied: frozenlist>=1.1.1 in /usr/local/lib/python3.11/dist-packages (from aiohttp<4.0.0,>=3.9.3->together) (1.7.0)\n",
            "Requirement already satisfied: multidict<7.0,>=4.5 in /usr/local/lib/python3.11/dist-packages (from aiohttp<4.0.0,>=3.9.3->together) (6.6.3)\n",
            "Requirement already satisfied: propcache>=0.2.0 in /usr/local/lib/python3.11/dist-packages (from aiohttp<4.0.0,>=3.9.3->together) (0.3.2)\n",
            "Requirement already satisfied: yarl<2.0,>=1.17.0 in /usr/local/lib/python3.11/dist-packages (from aiohttp<4.0.0,>=3.9.3->together) (1.20.1)\n",
            "Requirement already satisfied: annotated-types>=0.6.0 in /usr/local/lib/python3.11/dist-packages (from pydantic<3.0.0,>=2.6.3->together) (0.7.0)\n",
            "Requirement already satisfied: pydantic-core==2.33.2 in /usr/local/lib/python3.11/dist-packages (from pydantic<3.0.0,>=2.6.3->together) (2.33.2)\n",
            "Requirement already satisfied: typing-extensions>=4.12.2 in /usr/local/lib/python3.11/dist-packages (from pydantic<3.0.0,>=2.6.3->together) (4.14.1)\n",
            "Requirement already satisfied: typing-inspection>=0.4.0 in /usr/local/lib/python3.11/dist-packages (from pydantic<3.0.0,>=2.6.3->together) (0.4.1)\n",
            "Requirement already satisfied: charset-normalizer<4,>=2 in /usr/local/lib/python3.11/dist-packages (from requests<3.0.0,>=2.31.0->together) (3.4.2)\n",
            "Requirement already satisfied: idna<4,>=2.5 in /usr/local/lib/python3.11/dist-packages (from requests<3.0.0,>=2.31.0->together) (3.10)\n",
            "Requirement already satisfied: urllib3<3,>=1.21.1 in /usr/local/lib/python3.11/dist-packages (from requests<3.0.0,>=2.31.0->together) (2.5.0)\n",
            "Requirement already satisfied: certifi>=2017.4.17 in /usr/local/lib/python3.11/dist-packages (from requests<3.0.0,>=2.31.0->together) (2025.7.14)\n",
            "Requirement already satisfied: markdown-it-py>=2.2.0 in /usr/local/lib/python3.11/dist-packages (from rich<15.0.0,>=13.8.1->together) (3.0.0)\n",
            "Requirement already satisfied: pygments<3.0.0,>=2.13.0 in /usr/local/lib/python3.11/dist-packages (from rich<15.0.0,>=13.8.1->together) (2.19.2)\n",
            "Collecting click<9.0.0,>=8.1.7 (from together)\n",
            "  Downloading click-8.1.8-py3-none-any.whl.metadata (2.3 kB)\n",
            "Requirement already satisfied: shellingham>=1.3.0 in /usr/local/lib/python3.11/dist-packages (from typer<0.16,>=0.9->together) (1.5.4)\n",
            "Requirement already satisfied: mdurl~=0.1 in /usr/local/lib/python3.11/dist-packages (from markdown-it-py>=2.2.0->rich<15.0.0,>=13.8.1->together) (0.1.2)\n",
            "Downloading together-1.5.21-py3-none-any.whl (96 kB)\n",
            "\u001b[2K   \u001b[90m━━━━━━━━━━━━━━━━━━━━━━━━━━━━━━━━━━━━━━━━\u001b[0m \u001b[32m96.1/96.1 kB\u001b[0m \u001b[31m2.8 MB/s\u001b[0m eta \u001b[36m0:00:00\u001b[0m\n",
            "\u001b[?25hDownloading eval_type_backport-0.2.2-py3-none-any.whl (5.8 kB)\n",
            "Downloading typer-0.15.4-py3-none-any.whl (45 kB)\n",
            "\u001b[2K   \u001b[90m━━━━━━━━━━━━━━━━━━━━━━━━━━━━━━━━━━━━━━━━\u001b[0m \u001b[32m45.3/45.3 kB\u001b[0m \u001b[31m2.6 MB/s\u001b[0m eta \u001b[36m0:00:00\u001b[0m\n",
            "\u001b[?25hDownloading click-8.1.8-py3-none-any.whl (98 kB)\n",
            "\u001b[2K   \u001b[90m━━━━━━━━━━━━━━━━━━━━━━━━━━━━━━━━━━━━━━━━\u001b[0m \u001b[32m98.2/98.2 kB\u001b[0m \u001b[31m6.5 MB/s\u001b[0m eta \u001b[36m0:00:00\u001b[0m\n",
            "\u001b[?25hInstalling collected packages: eval-type-backport, click, typer, together\n",
            "  Attempting uninstall: click\n",
            "    Found existing installation: click 8.2.1\n",
            "    Uninstalling click-8.2.1:\n",
            "      Successfully uninstalled click-8.2.1\n",
            "  Attempting uninstall: typer\n",
            "    Found existing installation: typer 0.16.0\n",
            "    Uninstalling typer-0.16.0:\n",
            "      Successfully uninstalled typer-0.16.0\n",
            "Successfully installed click-8.1.8 eval-type-backport-0.2.2 together-1.5.21 typer-0.15.4\n"
          ]
        }
      ]
    },
    {
      "cell_type": "code",
      "source": [
        "# فراخوانی توگدر با کلیدی که ازش گرفتیم\n",
        "# که به صورت امن تو محیط اجرای این دفترچه کولب کار گذاشتیم\n",
        "from google.colab import userdata\n",
        "from together import Together\n",
        "\n",
        "client = Together(api_key=userdata.get('TOGETHER_API_KEY'))\n",
        "\n",
        "# تابعی برای ارسال پرامپت به مدل زبانی به واسطه توگدر و بعد چاپ جواب\n",
        "def print_llm_response(prompt):\n",
        "    response = client.chat.completions.create(\n",
        "        model=\"google/gemma-3n-E4B-it\",\n",
        "        # model=\"meta-llama/Llama-3.3-70B-Instruct-Turbo-Free\",\n",
        "        messages=[\n",
        "        {\n",
        "            \"role\": \"user\",\n",
        "            \"content\": prompt\n",
        "        }\n",
        "        ]\n",
        "    )\n",
        "    return response.choices[0].message.content"
      ],
      "metadata": {
        "id": "qH4VA46DGI3H"
      },
      "execution_count": null,
      "outputs": []
    },
    {
      "cell_type": "markdown",
      "metadata": {
        "id": "LuJN_E1Gpf1h"
      },
      "source": [
        "## نگاهی دوباره به تابع‌های آشنا\n",
        "\n",
        "چند تابع بود که تا به اینجا باهاشون آشنا شدیم و استفاده کردیم.\n",
        "\n",
        "مثلا تابع پرینت از تابع‌های پیش‌ساخته خود پایتون بود که برای چاپ اطلاعات روی صفحه نمایش استفاده می‌کنیم.\n",
        "\n",
        "`print`"
      ]
    },
    {
      "cell_type": "code",
      "execution_count": null,
      "metadata": {
        "id": "tp1z4xDBpf1h",
        "outputId": "b401d206-42c5-469c-9516-c64a61f4eeff",
        "colab": {
          "base_uri": "https://localhost:8080/"
        }
      },
      "outputs": [
        {
          "output_type": "stream",
          "name": "stdout",
          "text": [
            "سلام دنیا\n"
          ]
        }
      ],
      "source": [
        "print(\"سلام دنیا\")"
      ]
    },
    {
      "cell_type": "markdown",
      "metadata": {
        "id": "r-VH3byVpf1i"
      },
      "source": [
        "یا تابع «لِن» که تعداد کاراکترها در یک استرینگ یا تعاد اعضا در یک لیست رو برمی‌گردونه:\n",
        "\n",
        " `len`"
      ]
    },
    {
      "cell_type": "code",
      "execution_count": null,
      "metadata": {
        "id": "L1TZMh-Fpf1j",
        "outputId": "9c7187ef-5c3d-4cae-9cc0-ca1e6fe2c028",
        "colab": {
          "base_uri": "https://localhost:8080/"
        }
      },
      "outputs": [
        {
          "output_type": "execute_result",
          "data": {
            "text/plain": [
              "3"
            ]
          },
          "metadata": {},
          "execution_count": 6
        }
      ],
      "source": [
        "# مثلا یه لیست از نام دوستان\n",
        "friends_list = [\"Reza\", \"Ali\", \"Pedram\"]\n",
        "\n",
        "# تعداد دوستان در این لیست\n",
        "len(friends_list)"
      ]
    },
    {
      "cell_type": "markdown",
      "metadata": {
        "id": "2-QOCqrVpf1k"
      },
      "source": [
        "و یک تابع کمکی ویژه که خودمون ساختیم تا پرامپت ما رو به مدل زبانی مشخصی بفرستیم و جوابش رو دریافت کنیم:\n",
        "\n",
        "`print_llm_response`\n"
      ]
    },
    {
      "cell_type": "code",
      "execution_count": null,
      "metadata": {
        "id": "wFW8mJR8pf1l",
        "outputId": "d2e06b7b-700e-4083-fbfb-95ef8ddce685",
        "colab": {
          "base_uri": "https://localhost:8080/",
          "height": 36
        }
      },
      "outputs": [
        {
          "output_type": "execute_result",
          "data": {
            "text/plain": [
              "'The capital of France is **Paris**. \\n'"
            ],
            "application/vnd.google.colaboratory.intrinsic+json": {
              "type": "string"
            }
          },
          "metadata": {},
          "execution_count": 7
        }
      ],
      "source": [
        "# استفاده از تابع «پرینت ال‌ال‌ام ریسپانس» برای نمونه\n",
        "print_llm_response(\"What is the capital of France\")"
      ]
    },
    {
      "cell_type": "markdown",
      "metadata": {
        "id": "YYZuaOIlpf1l"
      },
      "source": [
        "## و حالا بیا تابع بسازیم"
      ]
    },
    {
      "cell_type": "markdown",
      "metadata": {
        "id": "DQBm_sh1pf1m"
      },
      "source": [
        "تابع که تعریف کنی نیاز نیست برخی کدها رو بارها تکرار کنی:\n",
        "\n",
        "مثلا برای خوندن یادداشت‌های غذایی شهرهای گوناگون باید بارها این کدها رو تکرار کنی:"
      ]
    },
    {
      "cell_type": "code",
      "execution_count": null,
      "metadata": {
        "id": "sRNbfuTVpf1m",
        "outputId": "e5c40087-2b28-4a10-8894-8c37ce8d3b1f",
        "colab": {
          "base_uri": "https://localhost:8080/"
        }
      },
      "outputs": [
        {
          "output_type": "stream",
          "name": "stdout",
          "text": [
            "My first destination was The Test Kitchen, a restaurant that has earned its place among the world's best. Situated in the trendy Woodstock area, this dining spot is celebrated for its innovative dishes. I was particularly taken by their signature dish, the \"Pickled Fish Tacos.\" The tangy, flavorful fish wrapped in a soft taco, paired with a zesty salsa, was a delightful start to my culinary adventure. The industrial-chic ambiance added a modern edge to the dining experience.\n",
            "\n",
            "Next, I made my way to La Colombe, perched on the slopes of Constantia. Known for its refined and artistic approach to cuisine, La Colombe's \"Tuna La Colombe\" is a must-try. This dish features perfectly seared tuna, complemented by a delicate ponzu dressing and bursts of citrus. The presentation was as exquisite as the flavors, making it a memorable highlight of the day.\n",
            "\n",
            "At the bustling V&A Waterfront, I visited Harbour House for some of the freshest seafood in town. The \"Grilled Kingklip\" was a revelation. The succulent, flaky fish, grilled to perfection and served with a side of roasted vegetables, highlighted the ocean's bounty. The stunning views of the harbor added to the meal's appeal.\n",
            "\n",
            "Finally, my journey concluded at The Pot Luck Club, another gem in Woodstock. This trendy spot is known for its small plates, perfect for sharing. The standout dish was the \"Beef Tataki.\" Thinly sliced, seared beef with a tangy soy dressing and a hint of wasabi provided a burst of umami and heat. The eclectic, artistic vibe of the restaurant made for a fitting end to my culinary tour.\n",
            "\n"
          ]
        }
      ],
      "source": [
        "# خوندن فایل یادداشت غذای شهر کیپ‌ تاون\n",
        "f = open(\"cape_town.txt\", \"r\")\n",
        "journal_cape_town = f.read()\n",
        "f.close()\n",
        "print(journal_cape_town)"
      ]
    },
    {
      "cell_type": "code",
      "execution_count": null,
      "metadata": {
        "id": "z5W6ON2upf1m",
        "outputId": "4bd95e07-12e7-4810-8013-980b13b74582",
        "colab": {
          "base_uri": "https://localhost:8080/"
        }
      },
      "outputs": [
        {
          "output_type": "stream",
          "name": "stdout",
          "text": [
            "My first stop was the legendary Le Comptoir du Relais in the heart of Saint-Germain-des-Prés. Known for its bistro classics, I opted for the \"Coq au Vin.\" This traditional dish, featuring chicken braised in red wine with mushrooms and onions, was the epitome of comfort food. The rich, flavorful sauce and tender chicken were perfection on a plate. The cozy, bustling atmosphere of the bistro added to the experience, making it feel authentically Parisian.\n",
            "\n",
            "Next, I ventured to Le Jules Verne, located in the Eiffel Tower. Dining here is as much about the view as it is about the food. I was treated to \"Filet de Boeuf,\" a beautifully cooked beef fillet served with a delicate truffle sauce. The meat was succulent and flavorful, and the elegant presentation was matched only by the breathtaking panorama of Paris below. It was a dining experience that combined culinary excellence with visual splendor.\n",
            "\n",
            "Seeking something sweet, I made my way to Pierre Hermé, a patisserie revered for its exquisite pastries. I indulged in a \"Ispahan,\" a delicate macaron filled with rose, lychee, and raspberry. Each bite was a harmonious blend of sweetness and floral notes, showcasing the artistry of French patisserie. The elegant, minimalist setting of the boutique allowed the pastries to shine as the true stars.\n",
            "\n",
            "To cap off my culinary journey, I visited L'Ambroisie in Place des Vosges. This three-Michelin-starred restaurant is the pinnacle of fine dining. I savored the \"Turbot with Artichokes and Truffle,\" a dish that was as luxurious as it sounds. The fish was perfectly cooked, and the combination of flavors was both sophisticated and sublime. Dining at L'Ambroisie was an unforgettable experience, with impeccable service and an ambiance of timeless elegance.\n",
            "\n"
          ]
        }
      ],
      "source": [
        "# خوندن فایل یادداشت غذای شهر پاریس\n",
        "f = open(\"paris.txt\", \"r\")\n",
        "journal_paris = f.read()\n",
        "f.close()\n",
        "print(journal_paris)"
      ]
    },
    {
      "cell_type": "markdown",
      "metadata": {
        "id": "2aRxHDaVpf1n"
      },
      "source": [
        "به جای این کار می‌تونی تابعی تعریف کنی که مسیر یک فایل رو دریافت و محتواش رو چاپ کنه:"
      ]
    },
    {
      "cell_type": "code",
      "execution_count": null,
      "metadata": {
        "id": "L8RSL5I2pf1n"
      },
      "outputs": [],
      "source": [
        "def print_journal(file):\n",
        "    f = open(file, \"r\")\n",
        "    journal = f.read()\n",
        "    f.close()\n",
        "    print(journal)"
      ]
    },
    {
      "cell_type": "markdown",
      "metadata": {
        "id": "Y0tDIP9Vpf1n"
      },
      "source": [
        "حالا که این تابع رو ساختی، می‌تونی برای خوندن فایل‌های مختلف ازش استفاده کنی:"
      ]
    },
    {
      "cell_type": "code",
      "execution_count": null,
      "metadata": {
        "id": "CuTcZq-3pf1n",
        "outputId": "37b089d7-8102-4c59-a615-b2ba1c203b35",
        "colab": {
          "base_uri": "https://localhost:8080/"
        }
      },
      "outputs": [
        {
          "output_type": "stream",
          "name": "stdout",
          "text": [
            "My culinary adventure began at Saint Peter, a renowned seafood restaurant in Paddington. This place is a temple to Australian seafood, and the \"Murray Cod\" was a revelation. The fish, sourced from the Murray River, was perfectly cooked, with a crispy skin and tender, flaky flesh. It was served with a simple yet flavorful accompaniment of seasonal vegetables, allowing the quality of the fish to shine. The restaurant's dedication to sustainability and nose-to-tail seafood cooking added an educational aspect to the delicious meal.\n",
            "\n",
            "Next, I visited Billy Kwong in Potts Point, where celebrated chef Kylie Kwong puts a unique spin on modern Australian cuisine using native ingredients. The standout dish here was the \"Crispy Skin Duck with Davidson’s Plum Sauce.\" The duck was cooked to perfection, with a rich, flavorful meat and delightfully crispy skin, complemented by the tart and slightly sweet Davidson’s plum sauce. This dish was a perfect example of how traditional recipes can be elevated with local, indigenous ingredients, creating something both familiar and new.\n",
            "\n",
            "In search of a true Australian pub experience, I headed to The Lord Nelson Brewery Hotel in The Rocks. This historic pub serves up hearty, classic Australian fare, and the \"Roast Lamb\" was exactly what I was craving. The lamb, roasted to tender perfection, was served with a medley of root vegetables and a rich gravy, making for a comforting and satisfying meal. Paired with one of their house-brewed ales, it was a quintessential Aussie pub experience that I would highly recommend.\n",
            "\n",
            "I couldn't miss out on trying some of the famous Australian barbecue, so I headed to Vic's Meat Market at the Sydney Fish Market. The \"BBQ Beef Brisket\" was a highlight, slow-cooked to achieve a melt-in-the-mouth texture, and served with a tangy barbecue sauce. The smoky, rich flavor of the brisket was enhanced by the vibrant, outdoor setting of the market, where the aroma of grilling meat filled the air.\n",
            "\n",
            "To round off my exploration of local cuisine, I visited Bennelong, located within the iconic Sydney Opera House. This fine dining restaurant celebrates Australian produce in every dish. The \"Sydney Rock Oysters\" were an exquisite start to the meal, served with a delicate vinaigrette that highlighted their briny freshness. The oysters, sourced from local waters, were plump and succulent, offering a pure taste of the sea.\n",
            "\n",
            "\n"
          ]
        }
      ],
      "source": [
        "# خوندن یادداشت سیدنی\n",
        "print_journal(\"sydney.txt\")"
      ]
    },
    {
      "cell_type": "markdown",
      "metadata": {
        "id": "gkgVFSaapf1o"
      },
      "source": [
        "حتی به جای چاپ محتوای یک فایل می‌تونی اون رو به صورت خروجی تابع برگردونی.\n",
        "از کلیدواژه «ریترن» استفاده کن:\n",
        "\n",
        "**return**"
      ]
    },
    {
      "cell_type": "code",
      "execution_count": null,
      "metadata": {
        "id": "LWMm5-kLpf1o"
      },
      "outputs": [],
      "source": [
        "def read_journal(file):\n",
        "    f = open(file, \"r\")\n",
        "    journal = f.read()\n",
        "    f.close()\n",
        "    # print(journal)\n",
        "    return journal"
      ]
    },
    {
      "cell_type": "markdown",
      "metadata": {
        "id": "TIRqLLwMpf1o"
      },
      "source": [
        "حالا از این تابع برای دریافت محتوای یادداشت مثلا توکیو استفاده می‌کنیم.\n",
        "\n",
        "خروجی این تابع رو میشه داخل یک متغیر ذخیره ذخیره کرد و کارهای مختلف باهاش انجام داد."
      ]
    },
    {
      "cell_type": "code",
      "execution_count": null,
      "metadata": {
        "id": "PJ8zWoTvpf1o"
      },
      "outputs": [],
      "source": [
        "journal_tokyo = read_journal(\"tokyo.txt\")"
      ]
    },
    {
      "cell_type": "markdown",
      "metadata": {
        "id": "aDw6kvUppf1p"
      },
      "source": [
        "مثلا بیا این متغیر رو چاپ کنیم:"
      ]
    },
    {
      "cell_type": "code",
      "execution_count": null,
      "metadata": {
        "id": "QAZzmkYvpf1p",
        "outputId": "b480ec83-e99b-42cb-efeb-c67d31238668",
        "colab": {
          "base_uri": "https://localhost:8080/"
        }
      },
      "outputs": [
        {
          "output_type": "stream",
          "name": "stdout",
          "text": [
            "Tokyo's culinary landscape is nothing short of extraordinary. Each spot offers a unique taste of the city's diverse food culture. Here's a quick guide to some must-try places and dishes.\n",
            "\n",
            "    Sukiyabashi Jiro\n",
            "        Location: Ginza\n",
            "        Dish: Omakase sushi\n",
            "        Highlight: Impeccably crafted sushi made by the legendary Jiro Ono. Each piece is a masterclass in balance and flavor.\n",
            "\n",
            "    Ichiran Ramen\n",
            "        Location: Shibuya\n",
            "        Dish: Tonkotsu ramen\n",
            "        Highlight: A personal ramen booth for focused, uninterrupted enjoyment. Rich, creamy broth with perfectly cooked noodles.\n",
            "\n",
            "    Tsukiji Outer Market\n",
            "        Location: Tsukiji\n",
            "        Dish: Fresh sashimi and street food\n",
            "        Highlight: Vibrant market atmosphere. Indulge in ultra-fresh sashimi, grilled seafood, and other Japanese street food delights.\n",
            "\n",
            "    Narisawa\n",
            "        Location: Minato\n",
            "        Dish: Innovative tasting menu\n",
            "        Highlight: A fusion of French and Japanese techniques. Creative dishes with an emphasis on sustainability and local ingredients.\n",
            "\n",
            "    Ginza Kojyu\n",
            "        Location: Ginza\n",
            "        Dish: Kaiseki (traditional multi-course meal)\n",
            "        Highlight: Exquisite presentation and meticulous preparation. A journey through seasonal Japanese flavors.\n",
            "\n",
            "    Akasaka Kikunoi\n",
            "        Location: Akasaka\n",
            "        Dish: Kaiseki\n",
            "        Highlight: Elegant and serene setting. Seasonal ingredients transformed into artful, delicious courses.\n",
            "\n",
            "\n"
          ]
        }
      ],
      "source": [
        "print(journal_tokyo)"
      ]
    },
    {
      "cell_type": "markdown",
      "metadata": {
        "id": "AHNY6MYrpf1p"
      },
      "source": [
        "یا مثلا بیا طول این یادداشت (تعداد کاراکترهای این استرینگ طولانی) رو محاسبه و چاپ کنیم.\n",
        "\n",
        "باید بدیمش به تابع «لِن» که طولش رو برگردونه و بعد این عدد رو با تابع پرینت چاپ کنیم:"
      ]
    },
    {
      "cell_type": "code",
      "execution_count": null,
      "metadata": {
        "id": "1kLpx7k1pf1p",
        "outputId": "48d8a16d-d94d-4a84-d0f5-f9a5affce6e0",
        "colab": {
          "base_uri": "https://localhost:8080/"
        }
      },
      "outputs": [
        {
          "output_type": "stream",
          "name": "stdout",
          "text": [
            "1430\n"
          ]
        }
      ],
      "source": [
        "print(len(journal_tokyo))"
      ]
    },
    {
      "cell_type": "markdown",
      "metadata": {
        "id": "Qjab747Spf1p"
      },
      "source": [
        "## پارامترهای یک تابع"
      ]
    },
    {
      "cell_type": "markdown",
      "metadata": {
        "id": "qeyum6bPpf1p"
      },
      "source": [
        "پیش‌تر تو این دوره یک بار محاسبه‌ای داشتیم برای تبدیل درجه فارنهایت به سلسیوس! یادت هست؟\n",
        "\n",
        "بحث عملگرها بود نه؟\n"
      ]
    },
    {
      "cell_type": "code",
      "execution_count": null,
      "metadata": {
        "id": "uXDF4qSKpf1p",
        "outputId": "b160b7cd-75b3-4a27-9a11-e4a1da09c1a5",
        "colab": {
          "base_uri": "https://localhost:8080/"
        }
      },
      "outputs": [
        {
          "output_type": "stream",
          "name": "stdout",
          "text": [
            "72°F is equivalent to 22.22°C\n"
          ]
        }
      ],
      "source": [
        "# عدد دما بر حسب فارنهایت\n",
        "fahrenheit = 72\n",
        "# رابطه ریاضی بین فارنهایت و سلسیوس\n",
        "celsius = (fahrenheit - 32) * 5 / 9\n",
        "\n",
        "# چاپ نتیجه به صورت استرینگ فرمت شده یا اف-استرینگ\n",
        "print(f\"{fahrenheit}°F is equivalent to {celsius:.2f}°C\")"
      ]
    },
    {
      "cell_type": "markdown",
      "metadata": {
        "id": "Um_GrjiLpf1q"
      },
      "source": [
        "حالا برای محاسبه یک دمای دیگه دوباره باید این کد رو بنویسی نه؟"
      ]
    },
    {
      "cell_type": "code",
      "execution_count": null,
      "metadata": {
        "id": "Yf92e6IWpf1q",
        "outputId": "0885bf09-8a60-40ee-ef5d-71278f225a6c",
        "colab": {
          "base_uri": "https://localhost:8080/"
        }
      },
      "outputs": [
        {
          "output_type": "stream",
          "name": "stdout",
          "text": [
            "68°F is equivalent to 20.00°C\n"
          ]
        }
      ],
      "source": [
        "# عدد تازه دما بر حسب فارنهایت\n",
        "fahrenheit = 68\n",
        "# رابطه ریاضی بین فارنهایت و سلسیوس\n",
        "celsius = (fahrenheit - 32) * 5 / 9\n",
        "\n",
        "# چاپ نتیجه\n",
        "print(f\"{fahrenheit}°F is equivalent to {celsius:.2f}°C\")"
      ]
    },
    {
      "cell_type": "markdown",
      "metadata": {
        "id": "VAbpGRjtpf1q"
      },
      "source": [
        "هر بار برای هر دما که نمیشه این رو از نو نوشت. تو برنامه‌نویسی نباید خودمون رو تکرار کنیم درسته؟"
      ]
    },
    {
      "cell_type": "code",
      "execution_count": null,
      "metadata": {
        "id": "jAFjVOvYpf1q",
        "outputId": "c37539b7-2eef-444f-f54b-3832343dc2d9",
        "colab": {
          "base_uri": "https://localhost:8080/"
        }
      },
      "outputs": [
        {
          "output_type": "stream",
          "name": "stdout",
          "text": [
            "76°F is equivalent to 24.44°C\n"
          ]
        }
      ],
      "source": [
        "# عدد تازه دما بر حسب فارنهایت\n",
        "fahrenheit = 76\n",
        "# رابطه ریاضی بین فارنهایت و سلسیوس\n",
        "celsius = (fahrenheit - 32) * 5 / 9\n",
        "\n",
        "# چاپ نتیجه\n",
        "print(f\"{fahrenheit}°F is equivalent to {celsius:.2f}°C\")"
      ]
    },
    {
      "cell_type": "markdown",
      "metadata": {
        "id": "-s2bNI11pf1r"
      },
      "source": [
        "برای پرهیز از تکرار بیا یک بار برای همیشه یک تابع تعریف کنیم که فارنهایت بگیره و سلسیوس رو چاپ کنه:"
      ]
    },
    {
      "cell_type": "code",
      "execution_count": null,
      "metadata": {
        "id": "JKppOd_kpf1r"
      },
      "outputs": [],
      "source": [
        "def fahrenheit_to_celsius(fahrenheit):\n",
        "    # رابطه بین فارنهایت و سلسیوس\n",
        "    celsius = (fahrenheit - 32) * 5 / 9\n",
        "    # چاپ نتیجه\n",
        "    print(f\"{fahrenheit}°F is equivalent to {celsius:.2f}°C\")"
      ]
    },
    {
      "cell_type": "markdown",
      "metadata": {
        "id": "G4tIsTlZpf1r"
      },
      "source": [
        "دقت داری که این تابع مقدار متغیر فارنهایت رو به عنوان ورودی می‌پذیره؟\n",
        "\n",
        "چنین متغیری که ورودی تابع رو تعیین می‌کنه به اصطلاح «پارامتر» گفته میشه."
      ]
    },
    {
      "cell_type": "markdown",
      "metadata": {
        "id": "kTVuQpVGpf1s"
      },
      "source": [
        "حالا بیا از این تابع استفاده کنیم و مقدار فارنهایت رو به صورت پارامتر ورودی بهش بدیم."
      ]
    },
    {
      "cell_type": "code",
      "execution_count": null,
      "metadata": {
        "id": "U9f5Vqazpf1s",
        "outputId": "4564acc2-1e02-4614-f384-a1c086372487",
        "colab": {
          "base_uri": "https://localhost:8080/"
        }
      },
      "outputs": [
        {
          "output_type": "stream",
          "name": "stdout",
          "text": [
            "71°F is equivalent to 21.67°C\n"
          ]
        }
      ],
      "source": [
        "fahrenheit_to_celsius(71)"
      ]
    },
    {
      "cell_type": "code",
      "execution_count": null,
      "metadata": {
        "id": "bV5huWWTpf1s",
        "outputId": "c7693dc8-e9a9-4f3a-cfc0-1988892b7132",
        "colab": {
          "base_uri": "https://localhost:8080/"
        }
      },
      "outputs": [
        {
          "output_type": "stream",
          "name": "stdout",
          "text": [
            "70°F is equivalent to 21.11°C\n"
          ]
        }
      ],
      "source": [
        "fahrenheit_to_celsius(70)"
      ]
    },
    {
      "cell_type": "code",
      "execution_count": null,
      "metadata": {
        "id": "tnVhQypzpf1s",
        "outputId": "66f98528-154f-470a-cb9b-9cc90efe0c8f",
        "colab": {
          "base_uri": "https://localhost:8080/"
        }
      },
      "outputs": [
        {
          "output_type": "stream",
          "name": "stdout",
          "text": [
            "212°F is equivalent to 100.00°C\n"
          ]
        }
      ],
      "source": [
        "fahrenheit_to_celsius(212)"
      ]
    },
    {
      "cell_type": "markdown",
      "metadata": {
        "id": "kJQ44YvFpf1x"
      },
      "source": [
        "## خروجی تابع"
      ]
    },
    {
      "cell_type": "markdown",
      "metadata": {
        "id": "QdC3YJ-bpf1y"
      },
      "source": [
        "به جای چاپ نتیجه تبدیل فارنهایت به سلسیوس بیا عدد حاصل رو به عنوان خروجی از تابع برگردونیم.\n",
        "\n",
        "این کار با کلیدواژه «ریترن» انجام میشه که در انگلیسی یعنی بازگشت!\n",
        "\n",
        "با این توضیح بیا تابع تبدیل خودمون رو اصلاح کنیم تا «بازگشت» داشته باشه:"
      ]
    },
    {
      "cell_type": "code",
      "execution_count": null,
      "metadata": {
        "id": "QXVzty50pf1y"
      },
      "outputs": [],
      "source": [
        "def fahrenheit_to_celsius(fahrenheit):\n",
        "    celsius = (fahrenheit - 32) * 5 / 9\n",
        "    # print(f\"{fahrenheit}°F is equivalent to {celsius:.2f}°C\")\n",
        "\n",
        "    # برگردوندن خروجی به جای چاپ یک عبارت\n",
        "    return celsius"
      ]
    },
    {
      "cell_type": "markdown",
      "metadata": {
        "id": "wE5etjR-pf1y"
      },
      "source": [
        "حالا وقتی این تابع رو اجرا می‌کنی مقدار سلسیوس رو در جواب دریافت می‌کنی که می‌تونی باهاش کارهای گوناگونی بکنی."
      ]
    },
    {
      "cell_type": "code",
      "execution_count": null,
      "metadata": {
        "id": "lp6ROt_mpf1z"
      },
      "outputs": [],
      "source": [
        "# مقدار دما بر حسب فارنهایت ۴۵ درجه هست\n",
        "fahrenheit = 45\n",
        "celsius = fahrenheit_to_celsius(fahrenheit)"
      ]
    },
    {
      "cell_type": "markdown",
      "metadata": {
        "id": "Qs7sw3Pupf1z"
      },
      "source": [
        "می‌تونی چاپش کنی:"
      ]
    },
    {
      "cell_type": "code",
      "execution_count": null,
      "metadata": {
        "id": "ynlfGr_Zpf1z",
        "outputId": "eb9b2531-95c6-4494-a372-9baac826d4a2",
        "colab": {
          "base_uri": "https://localhost:8080/"
        }
      },
      "outputs": [
        {
          "output_type": "stream",
          "name": "stdout",
          "text": [
            "7.222222222222222\n"
          ]
        }
      ],
      "source": [
        "print(celsius)"
      ]
    },
    {
      "cell_type": "markdown",
      "metadata": {
        "id": "BHYv-LQopf1z"
      },
      "source": [
        "یا می‌تونی نوعش رو ببینی یا محاسبه‌های دیگه‌ای با این داده انجام بدی:"
      ]
    },
    {
      "cell_type": "code",
      "execution_count": null,
      "metadata": {
        "id": "3SWhhMZlpf1z",
        "outputId": "00954950-e09a-46e7-cacc-6bada4587d6d",
        "colab": {
          "base_uri": "https://localhost:8080/"
        }
      },
      "outputs": [
        {
          "output_type": "execute_result",
          "data": {
            "text/plain": [
              "float"
            ]
          },
          "metadata": {},
          "execution_count": 26
        }
      ],
      "source": [
        "type(celsius)"
      ]
    },
    {
      "cell_type": "markdown",
      "metadata": {
        "id": "iHPOiRBSpf10"
      },
      "source": [
        "## تمرین فراتر\n",
        "\n",
        "بیا بیشتر تمرین کن تا موضوع بیشتر جا بیفته.\n",
        "فرهنگ ما میگه: کباب پخته نگردد مگر به گردیدن\n",
        "\n",
        "### تمرین ۱\n",
        "\n",
        "کد پایین رو کامل کن طوری که تابعی برای تبدیل سلسیوس به فارنهایت داشته باشی.\n",
        "\n",
        "این تابع باید مقدار سلسیوس رو دریافت و مقدار فارنهایت رو چاپ کنه!\n",
        "\n",
        "**نکته:** از کدهای بالا که برای تبدیل عکس نوشته بودیم الهام بگیر!\n"
      ]
    },
    {
      "cell_type": "code",
      "execution_count": null,
      "metadata": {
        "id": "vfOUDoUgpf10"
      },
      "outputs": [],
      "source": [
        "\n",
        "def celsius_to_fahrenheit():\n",
        "    # کدهات رو اینجا بنویس\n",
        "\n",
        "celsius_to_fahrenheit(0)   # Should print 32\n",
        "celsius_to_fahrenheit(100) # Should print 212\n",
        "celsius_to_fahrenheit(13)  # Should print 55.4"
      ]
    },
    {
      "cell_type": "markdown",
      "metadata": {
        "id": "AbmBzgrLpf10"
      },
      "source": [
        "### تمرین ۲\n",
        "\n",
        "تابعی بنویس که طول بر حسب متر رو دریافت کنه و طول بر حسب فوت رو به صورت خروجی برگردونه یعنی ریترن داشته باشه!\n",
        "\n",
        "تکه کد تبدیل رو می‌تونی با مشورت چت بات بسازی. بعد بیارش داخل بدنه تابع\n"
      ]
    },
    {
      "cell_type": "code",
      "execution_count": null,
      "metadata": {
        "id": "wrKb-sZipf10"
      },
      "outputs": [],
      "source": [
        "\n",
        "def meters_to_feet:\n",
        "    # WRITE YOUR CODE HERE\n",
        "\n",
        "print(meters_to_feet(10)) # Should print 32.8084\n",
        "print(meters_to_feet(0.7)) # Should print 2.29659"
      ]
    },
    {
      "cell_type": "markdown",
      "metadata": {
        "id": "U-4F6b8dpf11"
      },
      "source": [
        "### تمرین چالشی\n",
        "\n",
        "تابعی بنویس که نام یک فایل رو به عنوان پارامتر ورودی دریافت و محتوای اون رو به کمک هوش مصنوعی در سه جمله بولت‌دار چکیده و مجموع پاسخ مدل رو به صورت یک استرینگ برگردونه یعنی ریترن داشته باشه. از چت بات برای کدنویسی کمک بگیر:"
      ]
    },
    {
      "cell_type": "code",
      "execution_count": null,
      "metadata": {
        "id": "9IQMbK5-pf11"
      },
      "outputs": [],
      "source": [
        "# از تابع پرینت ال ال ام ریسپانس برای صحبت با هوش مصنوعی بهره بگیر\n",
        "\n",
        "def create_bullet_points(file):\n",
        "    # اینجا باید فایل ورودی رو بخونی و محتواش رو داخل یک متغیر بریزی\n",
        "    f = open(file, \"r\")\n",
        "    file_contents = # کدت رو اینجا بنویس\n",
        "\n",
        "    # پرامپت لازم رو اینجا بنویس تا محتوای فایل خونده و چکیده بشه\n",
        "    prompt = f\"\"\"YOUR PROMPT HERE\n",
        "    \"\"\"\n",
        "    bullets = print_llm_response() # پرامپت خودت رو اینجا پاس بده\n",
        "\n",
        "    # پاسخ مدل رو به صورت یک استرینگ برگردون\n",
        "    return bullets\n",
        "\n",
        "# حالا تابع خودت رو برای فایل استامبول آزمایش کن\n",
        "output_bullets = create_bullet_points(\"istanbul.txt\")\n",
        "\n",
        "# خروجی دریافتی از تابع خودت رو به تابع پرینت پایتون بده\n",
        "print(output_bullets)"
      ]
    }
  ],
  "metadata": {
    "kernelspec": {
      "display_name": "Python 3 (ipykernel)",
      "language": "python",
      "name": "python3"
    },
    "language_info": {
      "codemirror_mode": {
        "name": "ipython",
        "version": 3
      },
      "file_extension": ".py",
      "mimetype": "text/x-python",
      "name": "python",
      "nbconvert_exporter": "python",
      "pygments_lexer": "ipython3",
      "version": "3.9.13"
    },
    "colab": {
      "provenance": [],
      "collapsed_sections": [
        "9iCD52epFfya"
      ],
      "include_colab_link": true
    }
  },
  "nbformat": 4,
  "nbformat_minor": 0
}