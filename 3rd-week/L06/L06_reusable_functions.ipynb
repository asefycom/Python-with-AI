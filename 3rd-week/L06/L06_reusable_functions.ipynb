{
  "cells": [
    {
      "cell_type": "markdown",
      "metadata": {
        "id": "view-in-github",
        "colab_type": "text"
      },
      "source": [
        "<a href=\"https://colab.research.google.com/github/asefycom/Python-with-AI/blob/main/3rd-week/L06/L06_reusable_functions.ipynb\" target=\"_parent\"><img src=\"https://colab.research.google.com/assets/colab-badge.svg\" alt=\"Open In Colab\"/></a>"
      ]
    },
    {
      "cell_type": "markdown",
      "metadata": {
        "id": "55i2UME-pf1Y"
      },
      "source": [
        "# هفته سوم - درس ۶: تبدیل کدها به تابع برای استفاده‌های بعدی"
      ]
    },
    {
      "cell_type": "markdown",
      "metadata": {
        "id": "pOJXmN-4pf1e"
      },
      "source": [
        "در این هفته تا اینجا از چند تابع استفاده کردیم.\n",
        "\n",
        " **function**.\n",
        "\n",
        "حالا در این درس بیا با هم چند تا تابع بسازیم تا مجبور نباشیم بعضی کدها رو مدام تکرار کنیم. داخل یک تابع باشن و فقط نام اون تابع رو صدا بزنیم."
      ]
    },
    {
      "cell_type": "markdown",
      "source": [
        "## پیشنیازها"
      ],
      "metadata": {
        "id": "9iCD52epFfya"
      }
    },
    {
      "cell_type": "code",
      "execution_count": null,
      "metadata": {
        "id": "xXBUJRD_pf1f"
      },
      "outputs": [],
      "source": [
        "# استفاده از کدهای آماده در ماژول دیسپلی\n",
        "from IPython.display import Markdown, display"
      ]
    },
    {
      "cell_type": "code",
      "source": [
        "# نصب بسته توگدر\n",
        "!pip install together"
      ],
      "metadata": {
        "id": "I4z0Ln9GFvQ9"
      },
      "execution_count": null,
      "outputs": []
    },
    {
      "cell_type": "code",
      "source": [
        "# فراخوانی توگدر با کلیدی که ازش گرفتیم\n",
        "# که به صورت امن تو محیط اجرای این دفترچه کولب کار گذاشتیم\n",
        "from google.colab import userdata\n",
        "from together import Together\n",
        "\n",
        "client = Together(api_key=userdata.get('TOGETHER_API_KEY'))\n",
        "\n",
        "# تابعی برای ارسال پرامپت به مدل زبانی به واسطه توگدر و بعد چاپ جواب\n",
        "def print_llm_response(prompt):\n",
        "    response = client.chat.completions.create(\n",
        "        model=\"google/gemma-3n-E4B-it\",\n",
        "        # model=\"meta-llama/Llama-3.3-70B-Instruct-Turbo-Free\",\n",
        "        messages=[\n",
        "        {\n",
        "            \"role\": \"user\",\n",
        "            \"content\": prompt\n",
        "        }\n",
        "        ]\n",
        "    )\n",
        "    return response.choices[0].message.content"
      ],
      "metadata": {
        "id": "qH4VA46DGI3H"
      },
      "execution_count": null,
      "outputs": []
    },
    {
      "cell_type": "markdown",
      "metadata": {
        "id": "LuJN_E1Gpf1h"
      },
      "source": [
        "## نگاهی دوباره به تابع‌های پیشین\n",
        "\n",
        "چند تابع بود که تا به اینجا باهاشون آشنا شدیم و استفاده کردیم.\n",
        "\n",
        "مثلا تابع پرینت از تابع‌های پیش‌ساخته خود پایتون بود که برای چاپ اطلاعات روی صفحه نمایش استفاده می‌کنیم.\n",
        "\n",
        "`print`"
      ]
    },
    {
      "cell_type": "code",
      "execution_count": null,
      "metadata": {
        "id": "tp1z4xDBpf1h"
      },
      "outputs": [],
      "source": [
        "print(\"سلام دنیا\")"
      ]
    },
    {
      "cell_type": "markdown",
      "metadata": {
        "id": "r-VH3byVpf1i"
      },
      "source": [
        "یا تابع «لِن» که تعداد کاراکترها در یک استرینگ یا تعاد اعضا در یک لیست رو برمی‌گردونه:\n",
        "\n",
        " `len`"
      ]
    },
    {
      "cell_type": "code",
      "execution_count": null,
      "metadata": {
        "id": "L1TZMh-Fpf1j"
      },
      "outputs": [],
      "source": [
        "# مثلا یه لیست از نام دوستان\n",
        "friends_list = [\"Reza\", \"Ali\", \"Pedram\"]\n",
        "\n",
        "# تعداد دوستان در این لیست\n",
        "len(friends_list)"
      ]
    },
    {
      "cell_type": "markdown",
      "metadata": {
        "id": "2-QOCqrVpf1k"
      },
      "source": [
        "و یک تابع کمکی ویژه که خودمون ساختیم تا پرامپت ما رو به مدل زبانی مشخصی برسونه و جوابش رو به ما برگردونه:\n",
        "\n",
        "`print_llm_response`\n"
      ]
    },
    {
      "cell_type": "code",
      "execution_count": null,
      "metadata": {
        "id": "wFW8mJR8pf1l"
      },
      "outputs": [],
      "source": [
        "# استفاده از تابع «پرینت ال‌ال‌ام ریسپانس» برای نمونه\n",
        "print_llm_response(\"What is the capital of France\")"
      ]
    },
    {
      "cell_type": "markdown",
      "metadata": {
        "id": "YYZuaOIlpf1l"
      },
      "source": [
        "## و حالا بیا تابع بسازیم"
      ]
    },
    {
      "cell_type": "markdown",
      "metadata": {
        "id": "DQBm_sh1pf1m"
      },
      "source": [
        "تابع که تعریف کنی نیاز نیست برخی کدها رو بارها تکرار کنی:\n",
        "\n",
        "مثلا برای خوندن یادداشت‌های غذایی شهرهای گوناگون باید بارها این کدها رو تکرار کنی:"
      ]
    },
    {
      "cell_type": "code",
      "execution_count": null,
      "metadata": {
        "id": "sRNbfuTVpf1m"
      },
      "outputs": [],
      "source": [
        "# خوندن فایل یادداشت غذای شهر کیپ‌ تاون\n",
        "f = open(\"cape_town.txt\", \"r\")\n",
        "journal_cape_town = f.read()\n",
        "f.close()\n",
        "print(journal_cape_town)"
      ]
    },
    {
      "cell_type": "code",
      "execution_count": null,
      "metadata": {
        "id": "z5W6ON2upf1m"
      },
      "outputs": [],
      "source": [
        "# خوندن فایل یادداشت غذای شهر پاریس\n",
        "f = open(\"paris.txt\", \"r\")\n",
        "journal_paris = f.read()\n",
        "f.close()\n",
        "print(journal_paris)"
      ]
    },
    {
      "cell_type": "markdown",
      "metadata": {
        "id": "2aRxHDaVpf1n"
      },
      "source": [
        "به جای این کار می‌تونی تابعی تعریف کنی که کارش گرفتن یک فایل و چاپ محتواش باشه:"
      ]
    },
    {
      "cell_type": "code",
      "execution_count": null,
      "metadata": {
        "id": "L8RSL5I2pf1n"
      },
      "outputs": [],
      "source": [
        "def print_journal(file):\n",
        "    f = open(file, \"r\")\n",
        "    journal = f.read()\n",
        "    f.close()\n",
        "    print(journal)"
      ]
    },
    {
      "cell_type": "markdown",
      "metadata": {
        "id": "Y0tDIP9Vpf1n"
      },
      "source": [
        "حالا که این تابع رو ساختی، می‌تونی برای خوندن فایل‌های مختلف ازش استفاده کنی:"
      ]
    },
    {
      "cell_type": "code",
      "execution_count": null,
      "metadata": {
        "id": "CuTcZq-3pf1n"
      },
      "outputs": [],
      "source": [
        "# خوندن یادداشت سیدنی\n",
        "print_journal(\"sydney.txt\")"
      ]
    },
    {
      "cell_type": "markdown",
      "metadata": {
        "id": "gkgVFSaapf1o"
      },
      "source": [
        "حتی به جای چاپ محتوای یک فایل می‌تونی اون رو به صورت خروجی تابع برگردونی.\n",
        "از کلیدواژه «ریترن» استفاده کن:\n",
        "\n",
        "**return**"
      ]
    },
    {
      "cell_type": "code",
      "execution_count": null,
      "metadata": {
        "id": "LWMm5-kLpf1o"
      },
      "outputs": [],
      "source": [
        "def read_journal(file):\n",
        "    f = open(file, \"r\")\n",
        "    journal = f.read()\n",
        "    f.close()\n",
        "    # print(journal)\n",
        "    return journal"
      ]
    },
    {
      "cell_type": "markdown",
      "metadata": {
        "id": "TIRqLLwMpf1o"
      },
      "source": [
        "حالا از این تابع برای دریافت محتوای یادداشت مثلا توکیو استفاده می‌کنیم.\n",
        "\n",
        "خروجی این تابع رو میشه داخل یک متغیر ریخت و کارهای مختلف باهاش انجام داد."
      ]
    },
    {
      "cell_type": "code",
      "execution_count": null,
      "metadata": {
        "id": "PJ8zWoTvpf1o"
      },
      "outputs": [],
      "source": [
        "journal_tokyo = read_journal(\"tokyo.txt\")"
      ]
    },
    {
      "cell_type": "markdown",
      "metadata": {
        "id": "aDw6kvUppf1p"
      },
      "source": [
        "مثلا بیا این متغیر رو چاپ کنیم:"
      ]
    },
    {
      "cell_type": "code",
      "execution_count": null,
      "metadata": {
        "id": "QAZzmkYvpf1p"
      },
      "outputs": [],
      "source": [
        "print(journal_tokyo)"
      ]
    },
    {
      "cell_type": "markdown",
      "metadata": {
        "id": "AHNY6MYrpf1p"
      },
      "source": [
        "یا مثلا بیا طول این یادداشت (تعداد کاراکترهای این استرینگ طولانی) رو محاسبه و چاپ کنیم.\n",
        "\n",
        "باید بدیمش به تابع «لِن» که طولش رو برگردونه و بعد این عدد رو با تابع پرینت چاپ کنیم:"
      ]
    },
    {
      "cell_type": "code",
      "execution_count": null,
      "metadata": {
        "id": "1kLpx7k1pf1p"
      },
      "outputs": [],
      "source": [
        "print(len(journal_tokyo))"
      ]
    },
    {
      "cell_type": "markdown",
      "metadata": {
        "id": "Qjab747Spf1p"
      },
      "source": [
        "## پارامترهای یک تابع"
      ]
    },
    {
      "cell_type": "markdown",
      "metadata": {
        "id": "qeyum6bPpf1p"
      },
      "source": [
        "پیش‌ترها تو این دوره یک بار محاسبه‌ای داشتیم برای تبدیل درجه فارنهایت به سلسیوس! یادت هست؟\n",
        "\n",
        "بحث عملگرها بود نه؟\n"
      ]
    },
    {
      "cell_type": "code",
      "execution_count": null,
      "metadata": {
        "id": "uXDF4qSKpf1p"
      },
      "outputs": [],
      "source": [
        "# عدد دما بر حسب فارنهایت\n",
        "fahrenheit = 72\n",
        "# رابطه ریاضی بین فارنهایت و سلسیوس\n",
        "celsius = (fahrenheit - 32) * 5 / 9\n",
        "\n",
        "# چاپ نتیجه به صورت استرینگ فرمت شده یا اف-استرینگ\n",
        "print(f\"{fahrenheit}°F is equivalent to {celsius:.2f}°C\")"
      ]
    },
    {
      "cell_type": "markdown",
      "metadata": {
        "id": "Um_GrjiLpf1q"
      },
      "source": [
        "حالا برای محاسبه یک دمای دیگه دوباره باید این کد رو بنویسی نه؟"
      ]
    },
    {
      "cell_type": "code",
      "execution_count": null,
      "metadata": {
        "id": "Yf92e6IWpf1q"
      },
      "outputs": [],
      "source": [
        "# عدد تازه دما بر حسب فارنهایت\n",
        "fahrenheit = 68\n",
        "# رابطه ریاضی بین فارنهایت و سلسیوس\n",
        "celsius = (fahrenheit - 32) * 5 / 9\n",
        "\n",
        "# چاپ نتیجه\n",
        "print(f\"{fahrenheit}°F is equivalent to {celsius:.2f}°C\")"
      ]
    },
    {
      "cell_type": "markdown",
      "metadata": {
        "id": "VAbpGRjtpf1q"
      },
      "source": [
        "هر بار برای هر دما که نمیشه این رو از نو نوشت. تو برنامه‌نویسی نباید خودمون رو تکرار کنیم درسته؟"
      ]
    },
    {
      "cell_type": "code",
      "execution_count": null,
      "metadata": {
        "id": "jAFjVOvYpf1q"
      },
      "outputs": [],
      "source": [
        "# عدد تازه دما بر حسب فارنهایت\n",
        "fahrenheit = 76\n",
        "# رابطه ریاضی بین فارنهایت و سلسیوس\n",
        "celsius = (fahrenheit - 32) * 5 / 9\n",
        "\n",
        "# چاپ نتیجه\n",
        "print(f\"{fahrenheit}°F is equivalent to {celsius:.2f}°C\")"
      ]
    },
    {
      "cell_type": "markdown",
      "metadata": {
        "id": "-s2bNI11pf1r"
      },
      "source": [
        "برای پرهیز از تکرار بیا یک بار برای همیشه یک تابع تعریف کنیم که فارنهایت بگیره و سلسیوس رو چاپ کنه:"
      ]
    },
    {
      "cell_type": "code",
      "execution_count": null,
      "metadata": {
        "id": "JKppOd_kpf1r"
      },
      "outputs": [],
      "source": [
        "def fahrenheit_to_celsius(fahrenheit):\n",
        "    # رابطه بین فارنهایت و سلسیوس\n",
        "    celsius = (fahrenheit - 32) * 5 / 9\n",
        "    # چاپ نتیجه\n",
        "    print(f\"{fahrenheit}°F is equivalent to {celsius:.2f}°C\")"
      ]
    },
    {
      "cell_type": "markdown",
      "metadata": {
        "id": "G4tIsTlZpf1r"
      },
      "source": [
        "Now, instead of changing the value of the ```fahrenheit``` variable directly each time, you'll pass the desired value to the function as a ***parameter***. A parameter is a variable that is used in functions to pass in information to the function - in this case the temperature in Fahrenheit that you want to covert to Celsius.\n",
        "\n",
        "دقت داری که این تابع مقدار متغیر فارنهایت رو به عنوان ورودی می‌پذیره؟\n",
        "چنین متغیری که ورودی تابع رو تعیین می‌کنه به اصطلاح «پارامتر» گفته میشه."
      ]
    },
    {
      "cell_type": "markdown",
      "metadata": {
        "id": "kTVuQpVGpf1s"
      },
      "source": [
        "حالا بیا از این تابع استفاده کنیم و مقدار فارنهایت رو به صورت ورودی بهش بدیم."
      ]
    },
    {
      "cell_type": "code",
      "execution_count": null,
      "metadata": {
        "id": "U9f5Vqazpf1s"
      },
      "outputs": [],
      "source": [
        "fahrenheit_to_celsius(71)"
      ]
    },
    {
      "cell_type": "code",
      "execution_count": null,
      "metadata": {
        "id": "bV5huWWTpf1s"
      },
      "outputs": [],
      "source": [
        "fahrenheit_to_celsius(70)"
      ]
    },
    {
      "cell_type": "code",
      "execution_count": null,
      "metadata": {
        "id": "tnVhQypzpf1s"
      },
      "outputs": [],
      "source": [
        "fahrenheit_to_celsius(212)"
      ]
    },
    {
      "cell_type": "markdown",
      "metadata": {
        "id": "kJQ44YvFpf1x"
      },
      "source": [
        "## خروجی تابع"
      ]
    },
    {
      "cell_type": "markdown",
      "metadata": {
        "id": "QdC3YJ-bpf1y"
      },
      "source": [
        "به جای چاپ نتیجه تبدیل فارنهایت به سلسیوس بیا عدد حاصل رو به عنوان خروجی از تابع برگردونیم.\n",
        "این کار با کلیدواژه «ریترن» انجام میشه که در انگلیسی یعنی برگردوندن! تو بازارهای مالی یعنی سودی که یک سرمایه‌گذاری یا معامله برمی‌گردونه.\n",
        "\n",
        "با این توضیح بیا تابع تبدیل خودمون رو اصلاح کنیم:"
      ]
    },
    {
      "cell_type": "code",
      "execution_count": null,
      "metadata": {
        "id": "QXVzty50pf1y"
      },
      "outputs": [],
      "source": [
        "def fahrenheit_to_celsius(fahrenheit):\n",
        "    celsius = (fahrenheit - 32) * 5 / 9\n",
        "    # print(f\"{fahrenheit}°F is equivalent to {celsius:.2f}°C\")\n",
        "\n",
        "    # برگروندن خروجی به جای چاپ یک عبارت\n",
        "    return celsius"
      ]
    },
    {
      "cell_type": "markdown",
      "metadata": {
        "id": "wE5etjR-pf1y"
      },
      "source": [
        "حالا وقتی این تابع رو اجرا می‌کنی مقدار سلسیوس رو در جواب دریافت می‌کنی که می‌تونی باهاش کارهای گوناگونی بکنی."
      ]
    },
    {
      "cell_type": "code",
      "execution_count": null,
      "metadata": {
        "id": "lp6ROt_mpf1z"
      },
      "outputs": [],
      "source": [
        "# مقدار دما بر حسب فارنهایت ۴۵ درجه هست\n",
        "fahrenheit = 45\n",
        "celsius = fahrenheit_to_celsius(fahrenheit)"
      ]
    },
    {
      "cell_type": "markdown",
      "metadata": {
        "id": "Qs7sw3Pupf1z"
      },
      "source": [
        "می‌تونی چاپش کنی:"
      ]
    },
    {
      "cell_type": "code",
      "execution_count": null,
      "metadata": {
        "id": "ynlfGr_Zpf1z"
      },
      "outputs": [],
      "source": [
        "print(celsius)"
      ]
    },
    {
      "cell_type": "markdown",
      "metadata": {
        "id": "BHYv-LQopf1z"
      },
      "source": [
        "یا می‌تونی نوعش رو ببینی:"
      ]
    },
    {
      "cell_type": "code",
      "execution_count": null,
      "metadata": {
        "id": "3SWhhMZlpf1z"
      },
      "outputs": [],
      "source": [
        "type(celsius)"
      ]
    },
    {
      "cell_type": "markdown",
      "metadata": {
        "id": "iHPOiRBSpf10"
      },
      "source": [
        "## تمرین فراتر\n",
        "\n",
        "بیا بیشتر تمرین کن تا موضوع بیشتر جا بیفته.\n",
        "فرهنگ ما میگه: کباب پخته نگردد مگر به گردیدن\n",
        "\n",
        "### تمرین ۱\n",
        "\n",
        "کد پایین رو کامل کن طوری که تابعی برای تبدیل سلسیوس به فارنهایت داشته باشی.\n",
        "\n",
        "این تابع باید مقدار سلسیوس رو دریافت و مقدار فارنهایت رو چاپ کنه!\n",
        "\n",
        "**نکته:** از کدهای بالا که برای تبدیل عکس نوشته بودیم الهام بگیر!\n"
      ]
    },
    {
      "cell_type": "code",
      "execution_count": null,
      "metadata": {
        "id": "vfOUDoUgpf10"
      },
      "outputs": [],
      "source": [
        "\n",
        "def celsius_to_fahrenheit():\n",
        "    # کدهات رو اینجا بنویس\n",
        "\n",
        "celsius_to_fahrenheit(0)   # Should print 32\n",
        "celsius_to_fahrenheit(100) # Should print 212\n",
        "celsius_to_fahrenheit(13)  # Should print 55.4"
      ]
    },
    {
      "cell_type": "markdown",
      "metadata": {
        "id": "AbmBzgrLpf10"
      },
      "source": [
        "### تمرین ۲\n",
        "\n",
        "تابعی بنویس که طول بر حسب متر رو دریافت و طول بر حسب فوت رو به صورت خروجی برگردونه یعنی ریترن داشته باشه!\n",
        "\n",
        "تکه کد تبدیل رو می‌تونی با مشورت چت بات بسازی. بعد بیارش داخل بدنه تابع\n"
      ]
    },
    {
      "cell_type": "code",
      "execution_count": null,
      "metadata": {
        "id": "wrKb-sZipf10"
      },
      "outputs": [],
      "source": [
        "\n",
        "def meters_to_feet:\n",
        "    # WRITE YOUR CODE HERE\n",
        "\n",
        "print(meters_to_feet(10)) # Should print 32.8084\n",
        "print(meters_to_feet(0.7)) # Should print 2.29659"
      ]
    },
    {
      "cell_type": "markdown",
      "metadata": {
        "id": "U-4F6b8dpf11"
      },
      "source": [
        "### تمرین چالشی\n",
        "\n",
        "تابعی بنویس که نام یک فایل رو به عنوان پارامتر ورودی دریافت و محتوای اون رو به کمک هوش مصنوعی در سه جمله بولت‌دار چکیده و مجموع پاسخ مدل رو به صورت یک استرینگ برگردونه یعنی ریترن داشته باشه. از چت بات برای کدنویسی کمک بگیر:"
      ]
    },
    {
      "cell_type": "code",
      "execution_count": null,
      "metadata": {
        "id": "9IQMbK5-pf11"
      },
      "outputs": [],
      "source": [
        "# از تابع پرینت ال ال ام ریسپانس برای صحبت با هوش مصنوعی بهره بگیر\n",
        "\n",
        "def create_bullet_points(file):\n",
        "    # اینجا باید فایل ورودی رو بخونی و محتواش رو داخل یک متغیر بریزی\n",
        "    f = open(file, \"r\")\n",
        "    file_contents = # کدت رو اینجا بنویس\n",
        "\n",
        "    # پرامپت لازم رو اینجا بنویس تا محتوای فایل خونده و چکیده بشه\n",
        "    prompt = f\"\"\"YOUR PROMPT HERE\n",
        "    \"\"\"\n",
        "    bullets = print_llm_response() # پرامپت خودت رو اینجا پاس بده\n",
        "\n",
        "    # پاسخ مدل رو به صورت یک استرینگ برگردون\n",
        "    return bullets\n",
        "\n",
        "# حالا تابع خودت رو برای فایل استامبول آزمایش کن\n",
        "output_bullets = create_bullet_points(\"istanbul.txt\")\n",
        "\n",
        "# خروجی دریافتی از تابع خودت رو به تابع پرینت پایتون بده\n",
        "print(output_bullets)"
      ]
    }
  ],
  "metadata": {
    "kernelspec": {
      "display_name": "Python 3 (ipykernel)",
      "language": "python",
      "name": "python3"
    },
    "language_info": {
      "codemirror_mode": {
        "name": "ipython",
        "version": 3
      },
      "file_extension": ".py",
      "mimetype": "text/x-python",
      "name": "python",
      "nbconvert_exporter": "python",
      "pygments_lexer": "ipython3",
      "version": "3.9.13"
    },
    "colab": {
      "provenance": [],
      "collapsed_sections": [
        "9iCD52epFfya"
      ],
      "include_colab_link": true
    }
  },
  "nbformat": 4,
  "nbformat_minor": 0
}