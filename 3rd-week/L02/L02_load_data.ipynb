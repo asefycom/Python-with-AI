{
  "cells": [
    {
      "cell_type": "markdown",
      "metadata": {
        "id": "view-in-github",
        "colab_type": "text"
      },
      "source": [
        "<a href=\"https://colab.research.google.com/github/asefycom/Python-with-AI/blob/main/3rd-week/L02/L02_load_data.ipynb\" target=\"_parent\"><img src=\"https://colab.research.google.com/assets/colab-badge.svg\" alt=\"Open In Colab\"/></a>"
      ]
    },
    {
      "cell_type": "markdown",
      "metadata": {
        "id": "FbWoGOis4KoG"
      },
      "source": [
        "# هفته سوم - درس ۲: داده‌های خودت رو فراخوانی و استفاده کن"
      ]
    },
    {
      "cell_type": "markdown",
      "metadata": {
        "id": "Mg1miZee-E79"
      },
      "source": [
        "رسیدیم به این درس! به به! نوبت این رسید که یکی از فایل‌های متنی خودت رو فراخوانی کنی.\n",
        "\n",
        "اگه فایل متنی نداری می‌تونی یکی بسازی! با نرم افزارهایی مثل ورد یا گوگل داکس یا حتی نوتپد ساده ویندوز یک فایل متنی ایجاد و با فرمت\n",
        "\n",
        "`.txt`\n",
        "\n",
        "ذخیره کن."
      ]
    },
    {
      "cell_type": "markdown",
      "metadata": {
        "id": "6EaYn9tG-E7-"
      },
      "source": [
        "## خواندن فایل‌ها از یک پوشه\n",
        "\n",
        "برای دسترسی به فایل‌هات باید مسیر پوشه‌اون‌ها رو به پایتون بگی.\n",
        "\n",
        "پایتون به صورت پیش‌فرض همون پوشه‌ای رو جستجو می‌کنه که دفترچه کد داخلش هست.\n",
        "\n",
        "این پوشه رو با نقطه نشون میدن."
      ]
    },
    {
      "cell_type": "code",
      "source": [
        "# این تابع رو برنامه‌نویس حرفه‌ای نوشته\n",
        "# برای چاپ نام فایل‌هایی تو همین پوشه که دفترچه هست\n",
        "# بهش نگاه کن. چند درصد می‌فهمیش؟\n",
        "# حالا این سلول رو اجرا کن تا خروجی رو ببینی\n",
        "\n",
        "def list_files_in_directory(directory='.'):\n",
        "    \"\"\"\n",
        "    Lists all non-hidden files in the specified directory.\n",
        "\n",
        "    Args:\n",
        "        directory (str): The directory to list files from. Defaults to the current working directory.\n",
        "    \"\"\"\n",
        "    try:\n",
        "        files = [f for f in os.listdir(directory) if (not f.startswith('.') and not f.startswith('_'))]\n",
        "        for file in files:\n",
        "            print(file)\n",
        "    except Exception as e:\n",
        "        print(f\"An error occurred: {e}\")\n"
      ],
      "metadata": {
        "id": "LIDQvpIWDu5Z"
      },
      "execution_count": null,
      "outputs": []
    },
    {
      "cell_type": "markdown",
      "metadata": {
        "id": "oG2pdZAt-E7_"
      },
      "source": [
        "<p style=\"background-color:#F5C780; padding:15px\"> 🤖 <b>از چت‌بات استفاده کن - پرامپت رو انگلیسی بده</b>:\n",
        "    <br><br>\n",
        "    What is the folder called where Python looks first for files, and which folder is that by default?\n",
        "</p>"
      ]
    },
    {
      "cell_type": "code",
      "execution_count": null,
      "metadata": {
        "id": "jq9Iru7U-E8D"
      },
      "outputs": [],
      "source": [
        "# حالا بیا از بین فایل‌های این دایرکتوری\n",
        "# فایل ایمیل رو چاپ کنیم\n",
        "\n",
        "f = open(\"email.txt\", \"r\")\n",
        "email = f.read()\n",
        "f.close()\n",
        "\n",
        "print(email)"
      ]
    },
    {
      "cell_type": "code",
      "execution_count": null,
      "metadata": {
        "id": "CRW40ph9-E8D"
      },
      "outputs": [],
      "source": [
        "# حالا فایل دستور غذا رو باز کن\n",
        "f = open(\"recipe.txt\", \"r\")\n",
        "recipe = f.read()\n",
        "f.close()\n",
        "\n",
        "print(recipe)"
      ]
    },
    {
      "cell_type": "markdown",
      "metadata": {
        "id": "9KRkPQlu-E8E"
      },
      "source": [
        "## فایل متنی خودت رو بارگذاری کن"
      ]
    },
    {
      "cell_type": "markdown",
      "metadata": {
        "id": "9xCaugou-E8E"
      },
      "source": [
        "اگه مخزن گیت هاب ساختی می‌تونی فایل خودت رو داخل پوشه این درس تو گیت‌هابت آپلود کنی.\n",
        "\n",
        "دقت کن که فایلت باید تکست باشه.\n",
        "\n",
        "اگر نه تو همین محیط کولب هم می‌تونی فایل خودت رو بارگذاری کنی.\n",
        "\n",
        "فقط یادت باشه که تا وقتی به این کامپیوتر کولب متصل هستی فایلت باقی هست و بعد از قطع اتصال فایلت از دست می‌ره.\n",
        "\n"
      ]
    },
    {
      "cell_type": "markdown",
      "metadata": {
        "id": "EfeNIIeA-E8E"
      },
      "source": [
        "* حالا اگه فایلت رو بارگذاری کردی دوباره تابع لیست-فایلز-این-دایرکتوری رو فراخوانی کن ببینیم فایلت رو این بار تو فهرست میاره یا نه."
      ]
    },
    {
      "cell_type": "code",
      "execution_count": null,
      "metadata": {
        "id": "Xk_MxiA4-E8F"
      },
      "outputs": [],
      "source": [
        "# فهرست فایل‌های داخل همین دایرکتوری کاری رو چاپ کن\n",
        "list_files_in_directory()"
      ]
    },
    {
      "cell_type": "markdown",
      "metadata": {
        "id": "mPHVnrfS-E8F"
      },
      "source": [
        "* حالا فایل خودت رو باز و محتواش رو چاپ کن"
      ]
    },
    {
      "cell_type": "code",
      "execution_count": null,
      "metadata": {
        "id": "ES1mJbfV-E8F"
      },
      "outputs": [],
      "source": [
        "# به نام فایل تو این کد دقت کن.\n",
        "# نام فایل خودت رو جایگزین کن. دابل کوتیشکن ها رو حذف نکنی\n",
        "f = open(\"your_file.txt\", \"r\")\n",
        "your_file_content = f.read()\n",
        "f.close()"
      ]
    },
    {
      "cell_type": "code",
      "execution_count": null,
      "metadata": {
        "id": "Qjou4aGu-E8F"
      },
      "outputs": [],
      "source": [
        "print(your_file_content)"
      ]
    },
    {
      "cell_type": "markdown",
      "metadata": {
        "id": "6Y0y1zm_-E8F"
      },
      "source": [
        "## محتوای فایلت رو با هوش مصنوعی چکیده کن"
      ]
    },
    {
      "cell_type": "code",
      "execution_count": null,
      "metadata": {
        "id": "6NLLDsdt-E8G"
      },
      "outputs": [],
      "source": [
        "prompt = f\"\"\"محتوای متنی پایین رو در دو خط چکیده کن\n",
        "\n",
        "متن:\n",
        "{your_file_content}\"\"\""
      ]
    },
    {
      "cell_type": "markdown",
      "metadata": {
        "id": "ifj3ixFT-E8G"
      },
      "source": [
        "* پرامپت رو چاپ کن تا مطمئن بشی که محتوای فایلت به درستی خونده شده:"
      ]
    },
    {
      "cell_type": "code",
      "execution_count": null,
      "metadata": {
        "id": "ieZOIkx3-E8G"
      },
      "outputs": [],
      "source": [
        "print(prompt)"
      ]
    },
    {
      "cell_type": "markdown",
      "metadata": {
        "id": "swcQkfmU-E8G"
      },
      "source": [
        "* حالا پرامپت رو به مدل زبانی بزرگ بفرست"
      ]
    },
    {
      "cell_type": "code",
      "execution_count": null,
      "metadata": {
        "id": "XDX9x1n3-E8G"
      },
      "outputs": [],
      "source": [
        "res = print_llm_response(prompt)\n",
        "print(res)"
      ]
    },
    {
      "cell_type": "markdown",
      "metadata": {
        "id": "j6HrX1w7-E8H"
      },
      "source": [
        "## تمرین بیشتر\n",
        "\n",
        "با یافته‌های این درس حالا کمی تمرین می‌چسبه.\n",
        "\n",
        "### تمرین ۱\n",
        "\n",
        "پرامپت پایین رو طوری ویرایش کن که پرسش‌هایی از فایل متنی خودت برای مدل زبانی فرستاده بشه"
      ]
    },
    {
      "cell_type": "code",
      "execution_count": null,
      "metadata": {
        "id": "mhKO4PxB-E8H"
      },
      "outputs": [],
      "source": [
        "prompt = f\"\"\"خواسته های خودت رو اینجا بنویس\n",
        "\n",
        "Text:\n",
        "{your_file_content}\"\"\"\n",
        "\n",
        "res2 = print_llm_response(prompt)\n",
        "print(res2)"
      ]
    },
    {
      "cell_type": "markdown",
      "metadata": {
        "id": "0Zo3aUIE-E8H"
      },
      "source": [
        "### تمرین ۲\n",
        "\n",
        "پرامپت پایین رو طوری ویرایش کن که از محتوای فایل دستور غذا استفاده کنه که بالاتر فراخوانی کردی.\n",
        "\n",
        "**نکته:** برگرد بالا و نام متغیرهایی که محتوای این فایل رو در اون‌ها ذخیره کردی پیدا کن."
      ]
    },
    {
      "cell_type": "code",
      "execution_count": null,
      "metadata": {
        "id": "w8UEg41c-E8H"
      },
      "outputs": [],
      "source": [
        "prompt = f\"\"\"همه تکنیک‌های آشپزی که در فایل پایین بیان شده\n",
        "پیدا و به فارسی روان ترجمه کن:\n",
        "\n",
        "Recipe:\n",
        "{your_file_content}\"\"\"\n",
        "\n",
        "print_llm_response(prompt)"
      ]
    },
    {
      "cell_type": "markdown",
      "source": [
        "### تمرین ۳\n",
        "\n",
        "بالاتر برای دسترسی به فایل خودت گفتم یا بگذارش تو گیت هاب یا همین جا تو کولب آپلود کن. ولی خب اینجا باشه هر بار که اتصال قطع و وصل بشه باید دوباره دستی آپلودش کنی.\n",
        "\n",
        "یه راه دیگه این هست که فایل رو بگذاری تو درایو گوگل و اینجا تو کولب فراخوانی کنی.\n",
        "\n",
        "از چت بات بخواه:\n",
        "\n",
        "کدی به من بده که بتونم فایلی از گوگل درایو رو داخل دفترچه کولب فراخوانی کنم.\n",
        "\n",
        "\n",
        "بعد که کد رو گرفتی فایلت رو داخل گوگل درایو بگذار و کدت رو هم تو جای مناسب تو دفترچه بگذار و امتحانش کن."
      ],
      "metadata": {
        "id": "YueBPKq2JPmB"
      }
    }
  ],
  "metadata": {
    "colab": {
      "provenance": [],
      "include_colab_link": true
    },
    "kernelspec": {
      "display_name": "Python 3 (ipykernel)",
      "language": "python",
      "name": "python3"
    },
    "language_info": {
      "codemirror_mode": {
        "name": "ipython",
        "version": 3
      },
      "file_extension": ".py",
      "mimetype": "text/x-python",
      "name": "python",
      "nbconvert_exporter": "python",
      "pygments_lexer": "ipython3",
      "version": "3.9.6"
    }
  },
  "nbformat": 4,
  "nbformat_minor": 0
}