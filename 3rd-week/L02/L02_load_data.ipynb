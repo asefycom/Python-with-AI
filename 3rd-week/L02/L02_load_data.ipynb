{
  "cells": [
    {
      "cell_type": "markdown",
      "metadata": {
        "id": "view-in-github",
        "colab_type": "text"
      },
      "source": [
        "<a href=\"https://colab.research.google.com/github/asefycom/Python-with-AI/blob/main/3rd-week/L02/L02_load_data.ipynb\" target=\"_parent\"><img src=\"https://colab.research.google.com/assets/colab-badge.svg\" alt=\"Open In Colab\"/></a>"
      ]
    },
    {
      "cell_type": "markdown",
      "metadata": {
        "id": "FbWoGOis4KoG"
      },
      "source": [
        "# هفته سوم - درس ۲: داده‌های خودت رو فراخوانی و استفاده کن"
      ]
    },
    {
      "cell_type": "markdown",
      "metadata": {
        "id": "Mg1miZee-E79"
      },
      "source": [
        "رسیدیم به این درس! به به! نوبت این رسید که یکی از فایل‌های متنی خودت رو فراخوانی کنی.\n",
        "\n",
        "اگه فایل متنی نداری می‌تونی یکی بسازی! با نرم افزارهایی مثل ورد یا گوگل داکس یا حتی نوتپد ساده ویندوز یک فایل متنی ایجاد و با فرمت\n",
        "\n",
        "`.txt`\n",
        "\n",
        "ذخیره کن."
      ]
    },
    {
      "cell_type": "markdown",
      "source": [
        "## پیشنیاز"
      ],
      "metadata": {
        "id": "A1Ms3yMstkMF"
      }
    },
    {
      "cell_type": "code",
      "source": [
        "# کلون مخزن گیت هاب و رفتن به پوشه این درس\n",
        "\n",
        "import os\n",
        "\n",
        "if not os.path.exists('Python-with-AI'):\n",
        "    !git clone https://github.com/asefycom/Python-with-AI.git\n",
        "\n",
        "os.chdir('Python-with-AI/3rd-week/L02')\n",
        "print(\"Current Working Directory:\", os.getcwd())"
      ],
      "metadata": {
        "id": "Zx48jgEitwS2",
        "outputId": "8e0fae48-48e6-4d29-f099-0d3f60d9cab7",
        "colab": {
          "base_uri": "https://localhost:8080/"
        }
      },
      "execution_count": 1,
      "outputs": [
        {
          "output_type": "stream",
          "name": "stdout",
          "text": [
            "Cloning into 'Python-with-AI'...\n",
            "remote: Enumerating objects: 210, done.\u001b[K\n",
            "remote: Counting objects: 100% (56/56), done.\u001b[K\n",
            "remote: Compressing objects: 100% (52/52), done.\u001b[K\n",
            "Receiving objects: 100% (210/210), 113.41 KiB | 1.42 MiB/s, done.\n",
            "remote: Total 210 (delta 29), reused 4 (delta 4), pack-reused 154 (from 1)\u001b[K\n",
            "Resolving deltas: 100% (93/93), done.\n",
            "Current Working Directory: /content/Python-with-AI/3rd-week/L02\n"
          ]
        }
      ]
    },
    {
      "cell_type": "code",
      "source": [
        "# و اینم پکیج توگدر که برنامه‌نویس‌های مجموعه توگدر برای کار با هوش مصنوعی‌ها رست کردن\n",
        "!pip install together"
      ],
      "metadata": {
        "id": "JilBQYIdytox",
        "outputId": "0baf04db-0b9f-43ec-acdf-8f7d76df5dfb",
        "colab": {
          "base_uri": "https://localhost:8080/"
        }
      },
      "execution_count": 11,
      "outputs": [
        {
          "output_type": "stream",
          "name": "stdout",
          "text": [
            "Collecting together\n",
            "  Downloading together-1.5.21-py3-none-any.whl.metadata (15 kB)\n",
            "Requirement already satisfied: aiohttp<4.0.0,>=3.9.3 in /usr/local/lib/python3.11/dist-packages (from together) (3.11.15)\n",
            "Requirement already satisfied: click<9.0.0,>=8.1.7 in /usr/local/lib/python3.11/dist-packages (from together) (8.2.1)\n",
            "Collecting eval-type-backport<0.3.0,>=0.1.3 (from together)\n",
            "  Downloading eval_type_backport-0.2.2-py3-none-any.whl.metadata (2.2 kB)\n",
            "Requirement already satisfied: filelock<4.0.0,>=3.13.1 in /usr/local/lib/python3.11/dist-packages (from together) (3.18.0)\n",
            "Requirement already satisfied: numpy>=1.23.5 in /usr/local/lib/python3.11/dist-packages (from together) (2.0.2)\n",
            "Requirement already satisfied: pillow<12.0.0,>=11.1.0 in /usr/local/lib/python3.11/dist-packages (from together) (11.3.0)\n",
            "Requirement already satisfied: pydantic<3.0.0,>=2.6.3 in /usr/local/lib/python3.11/dist-packages (from together) (2.11.7)\n",
            "Requirement already satisfied: requests<3.0.0,>=2.31.0 in /usr/local/lib/python3.11/dist-packages (from together) (2.32.3)\n",
            "Requirement already satisfied: rich<15.0.0,>=13.8.1 in /usr/local/lib/python3.11/dist-packages (from together) (13.9.4)\n",
            "Requirement already satisfied: tabulate<0.10.0,>=0.9.0 in /usr/local/lib/python3.11/dist-packages (from together) (0.9.0)\n",
            "Requirement already satisfied: tqdm<5.0.0,>=4.66.2 in /usr/local/lib/python3.11/dist-packages (from together) (4.67.1)\n",
            "Collecting typer<0.16,>=0.9 (from together)\n",
            "  Downloading typer-0.15.4-py3-none-any.whl.metadata (15 kB)\n",
            "Requirement already satisfied: aiohappyeyeballs>=2.3.0 in /usr/local/lib/python3.11/dist-packages (from aiohttp<4.0.0,>=3.9.3->together) (2.6.1)\n",
            "Requirement already satisfied: aiosignal>=1.1.2 in /usr/local/lib/python3.11/dist-packages (from aiohttp<4.0.0,>=3.9.3->together) (1.4.0)\n",
            "Requirement already satisfied: attrs>=17.3.0 in /usr/local/lib/python3.11/dist-packages (from aiohttp<4.0.0,>=3.9.3->together) (25.3.0)\n",
            "Requirement already satisfied: frozenlist>=1.1.1 in /usr/local/lib/python3.11/dist-packages (from aiohttp<4.0.0,>=3.9.3->together) (1.7.0)\n",
            "Requirement already satisfied: multidict<7.0,>=4.5 in /usr/local/lib/python3.11/dist-packages (from aiohttp<4.0.0,>=3.9.3->together) (6.6.3)\n",
            "Requirement already satisfied: propcache>=0.2.0 in /usr/local/lib/python3.11/dist-packages (from aiohttp<4.0.0,>=3.9.3->together) (0.3.2)\n",
            "Requirement already satisfied: yarl<2.0,>=1.17.0 in /usr/local/lib/python3.11/dist-packages (from aiohttp<4.0.0,>=3.9.3->together) (1.20.1)\n",
            "Requirement already satisfied: annotated-types>=0.6.0 in /usr/local/lib/python3.11/dist-packages (from pydantic<3.0.0,>=2.6.3->together) (0.7.0)\n",
            "Requirement already satisfied: pydantic-core==2.33.2 in /usr/local/lib/python3.11/dist-packages (from pydantic<3.0.0,>=2.6.3->together) (2.33.2)\n",
            "Requirement already satisfied: typing-extensions>=4.12.2 in /usr/local/lib/python3.11/dist-packages (from pydantic<3.0.0,>=2.6.3->together) (4.14.1)\n",
            "Requirement already satisfied: typing-inspection>=0.4.0 in /usr/local/lib/python3.11/dist-packages (from pydantic<3.0.0,>=2.6.3->together) (0.4.1)\n",
            "Requirement already satisfied: charset-normalizer<4,>=2 in /usr/local/lib/python3.11/dist-packages (from requests<3.0.0,>=2.31.0->together) (3.4.2)\n",
            "Requirement already satisfied: idna<4,>=2.5 in /usr/local/lib/python3.11/dist-packages (from requests<3.0.0,>=2.31.0->together) (3.10)\n",
            "Requirement already satisfied: urllib3<3,>=1.21.1 in /usr/local/lib/python3.11/dist-packages (from requests<3.0.0,>=2.31.0->together) (2.5.0)\n",
            "Requirement already satisfied: certifi>=2017.4.17 in /usr/local/lib/python3.11/dist-packages (from requests<3.0.0,>=2.31.0->together) (2025.7.14)\n",
            "Requirement already satisfied: markdown-it-py>=2.2.0 in /usr/local/lib/python3.11/dist-packages (from rich<15.0.0,>=13.8.1->together) (3.0.0)\n",
            "Requirement already satisfied: pygments<3.0.0,>=2.13.0 in /usr/local/lib/python3.11/dist-packages (from rich<15.0.0,>=13.8.1->together) (2.19.2)\n",
            "Collecting click<9.0.0,>=8.1.7 (from together)\n",
            "  Downloading click-8.1.8-py3-none-any.whl.metadata (2.3 kB)\n",
            "Requirement already satisfied: shellingham>=1.3.0 in /usr/local/lib/python3.11/dist-packages (from typer<0.16,>=0.9->together) (1.5.4)\n",
            "Requirement already satisfied: mdurl~=0.1 in /usr/local/lib/python3.11/dist-packages (from markdown-it-py>=2.2.0->rich<15.0.0,>=13.8.1->together) (0.1.2)\n",
            "Downloading together-1.5.21-py3-none-any.whl (96 kB)\n",
            "\u001b[2K   \u001b[90m━━━━━━━━━━━━━━━━━━━━━━━━━━━━━━━━━━━━━━━━\u001b[0m \u001b[32m96.1/96.1 kB\u001b[0m \u001b[31m747.8 kB/s\u001b[0m eta \u001b[36m0:00:00\u001b[0m\n",
            "\u001b[?25hDownloading eval_type_backport-0.2.2-py3-none-any.whl (5.8 kB)\n",
            "Downloading typer-0.15.4-py3-none-any.whl (45 kB)\n",
            "\u001b[2K   \u001b[90m━━━━━━━━━━━━━━━━━━━━━━━━━━━━━━━━━━━━━━━━\u001b[0m \u001b[32m45.3/45.3 kB\u001b[0m \u001b[31m1.8 MB/s\u001b[0m eta \u001b[36m0:00:00\u001b[0m\n",
            "\u001b[?25hDownloading click-8.1.8-py3-none-any.whl (98 kB)\n",
            "\u001b[2K   \u001b[90m━━━━━━━━━━━━━━━━━━━━━━━━━━━━━━━━━━━━━━━━\u001b[0m \u001b[32m98.2/98.2 kB\u001b[0m \u001b[31m2.5 MB/s\u001b[0m eta \u001b[36m0:00:00\u001b[0m\n",
            "\u001b[?25hInstalling collected packages: eval-type-backport, click, typer, together\n",
            "  Attempting uninstall: click\n",
            "    Found existing installation: click 8.2.1\n",
            "    Uninstalling click-8.2.1:\n",
            "      Successfully uninstalled click-8.2.1\n",
            "  Attempting uninstall: typer\n",
            "    Found existing installation: typer 0.16.0\n",
            "    Uninstalling typer-0.16.0:\n",
            "      Successfully uninstalled typer-0.16.0\n",
            "Successfully installed click-8.1.8 eval-type-backport-0.2.2 together-1.5.21 typer-0.15.4\n"
          ]
        }
      ]
    },
    {
      "cell_type": "code",
      "source": [
        "# و با استفاده از تابع‌های بسته توگدر و تابع‌های بسته کولب\n",
        "# تابع خودمون برای ارسال پرامپت و دریافت پاسخ هوش مصنوعی رو نوشتیم\n",
        "# یادمون هست که در مورد ثبت نام در توگدر، دریافت کلید و\n",
        "# ذخیره کردن کلید ای‌پی‌آی تو محیط کولب تو درس ۹ هفته اول توضیح داده شده\n",
        "from google.colab import userdata\n",
        "from together import Together\n",
        "\n",
        "client = Together(api_key=userdata.get('TOGETHER_API_KEY'))\n",
        "\n",
        "def print_llm_response(prompt):\n",
        "    response = client.chat.completions.create(\n",
        "        model=\"google/gemma-3n-E4B-it\",\n",
        "        # model=\"meta-llama/Llama-3.3-70B-Instruct-Turbo-Free\",\n",
        "        messages=[\n",
        "        {\n",
        "            \"role\": \"user\",\n",
        "            \"content\": prompt\n",
        "        }\n",
        "        ]\n",
        "    )\n",
        "    return response.choices[0].message.content"
      ],
      "metadata": {
        "id": "WgWgmSSkyzN0"
      },
      "execution_count": 12,
      "outputs": []
    },
    {
      "cell_type": "markdown",
      "metadata": {
        "id": "6EaYn9tG-E7-"
      },
      "source": [
        "## خوندن فایل‌ها از یک پوشه\n",
        "\n",
        "برای دسترسی به فایل‌هات باید مسیر پوشه‌اون‌ها رو به پایتون بگی.\n",
        "\n",
        "پایتون به صورت پیش‌فرض همون پوشه‌ای رو جستجو می‌کنه که دفترچه کد داخلش هست.\n",
        "\n",
        "این پوشه رو با نقطه نشون میدن."
      ]
    },
    {
      "cell_type": "code",
      "source": [
        "# این تابع رو برنامه‌نویس حرفه‌ای نوشته\n",
        "# برای چاپ نام فایل‌هایی تو همین پوشه که دفترچه هست\n",
        "# بهش نگاه کن. چند درصد می‌فهمیش؟\n",
        "# حالا این سلول رو اجرا کن تا خروجی رو ببینی\n",
        "\n",
        "def list_files_in_directory(directory='.'):\n",
        "    \"\"\"\n",
        "    Lists all non-hidden files in the specified directory.\n",
        "\n",
        "    Args:\n",
        "        directory (str): The directory to list files from. Defaults to the current working directory.\n",
        "    \"\"\"\n",
        "    try:\n",
        "        files = [f for f in os.listdir(directory) if (not f.startswith('.') and not f.startswith('_'))]\n",
        "        for file in files:\n",
        "            print(file)\n",
        "    except Exception as e:\n",
        "        print(f\"An error occurred: {e}\")\n",
        "\n",
        "list_files_in_directory()"
      ],
      "metadata": {
        "id": "LIDQvpIWDu5Z",
        "outputId": "7cbb4a05-2a80-4f88-f06e-f810a6e84744",
        "colab": {
          "base_uri": "https://localhost:8080/"
        }
      },
      "execution_count": 3,
      "outputs": [
        {
          "output_type": "stream",
          "name": "stdout",
          "text": [
            "email.txt\n",
            "recipe.txt\n",
            "L02_load_data.ipynb\n"
          ]
        }
      ]
    },
    {
      "cell_type": "markdown",
      "metadata": {
        "id": "oG2pdZAt-E7_"
      },
      "source": [
        "<p style=\"background-color:#F5C780; padding:15px\"> 🤖 <b>از چت‌بات استفاده کن - پرامپت رو انگلیسی بده</b>:\n",
        "    <br><br>\n",
        "    What is the folder called where Python looks first for files, and which folder is that by default?\n",
        "</p>"
      ]
    },
    {
      "cell_type": "code",
      "execution_count": 4,
      "metadata": {
        "id": "jq9Iru7U-E8D",
        "outputId": "13feef5a-4ec7-4275-ef57-576a5bb1c6c4",
        "colab": {
          "base_uri": "https://localhost:8080/"
        }
      },
      "outputs": [
        {
          "output_type": "stream",
          "name": "stdout",
          "text": [
            "Subject: My Incredible Journey Around the World!\n",
            "\n",
            "Hi Andrew,\n",
            "\n",
            "I hope you are doing greatl! I just returned from an incredible trip around the world. I started in New York, enjoying a Broadway show and the skyline. In Rio de Janeiro, I soaked up the sun on Copacabana Beach and hiked to Christ the Redeemer. Cape Town amazed me with its natural beauty and safari adventures. Paris was magical with its charming streets and delicious food. Istanbul's Hagia Sophia and Bosphorus cruise were unforgettable. Tokyo dazzled with its neon lights and delicious sushi. Finally, Sydney's Opera House and Bondi Beach were the perfect end to my journey. Can't wait to share more stories and photos when we catch up!\n",
            "\n",
            "Best,\n",
            "\n",
            "Daniel\n",
            "\n"
          ]
        }
      ],
      "source": [
        "# حالا بیا از بین فایل‌های این دایرکتوری\n",
        "# فایل ایمیل رو چاپ کنیم\n",
        "\n",
        "f = open(\"email.txt\", \"r\")\n",
        "email = f.read()\n",
        "f.close()\n",
        "\n",
        "print(email)"
      ]
    },
    {
      "cell_type": "code",
      "execution_count": 5,
      "metadata": {
        "id": "CRW40ph9-E8D",
        "outputId": "60f345c0-5d18-4936-bb5c-cee144ea44f4",
        "colab": {
          "base_uri": "https://localhost:8080/"
        }
      },
      "outputs": [
        {
          "output_type": "stream",
          "name": "stdout",
          "text": [
            "Kimchi Recipe\n",
            "\n",
            "To make kimchi, start by chopping one Napa cabbage into bite-sized pieces and salting it with 1/4 cup of sea salt. Let it sit for 1-2 hours. Rinse the cabbage under cold water three times and drain well. In a bowl, mix 1 tablespoon of sugar, 1 tablespoon of grated ginger, 4 minced garlic cloves, 1/4 cup of gochugaru (Korean red pepper flakes), and 3 tablespoons of fish sauce (or soy sauce). Add 3 chopped green onions, 1 julienned carrot, and 1 julienned daikon radish to the cabbage, then combine with the spice paste. Pack the mixture tightly into a jar, pressing down to remove air bubbles, and leave some space at the top. Let it sit at room temperature for 1-5 days, pressing down daily to keep the vegetables submerged. Once fermented to your liking, store the kimchi in the refrigerator. Enjoy!\n",
            "\n"
          ]
        }
      ],
      "source": [
        "# حالا فایل دستور غذا رو باز کن\n",
        "f = open(\"recipe.txt\", \"r\")\n",
        "recipe = f.read()\n",
        "f.close()\n",
        "\n",
        "print(recipe)"
      ]
    },
    {
      "cell_type": "markdown",
      "metadata": {
        "id": "9KRkPQlu-E8E"
      },
      "source": [
        "## فایل متنی خودت رو بارگذاری کن"
      ]
    },
    {
      "cell_type": "markdown",
      "metadata": {
        "id": "9xCaugou-E8E"
      },
      "source": [
        "اگه مخزن گیت هاب ساختی می‌تونی فایل خودت رو داخل پوشه این درس تو گیت‌هابت آپلود کنی.\n",
        "\n",
        "دقت کن که فایلت باید تکست باشه.\n",
        "\n",
        "اگر نه تو همین محیط کولب هم می‌تونی فایل خودت رو بارگذاری کنی.\n",
        "\n",
        "فقط یادت باشه که تا وقتی به این کامپیوتر کولب متصل هستی فایلت باقی هست و بعد از قطع اتصال فایلت از دست می‌ره.\n",
        "\n"
      ]
    },
    {
      "cell_type": "markdown",
      "metadata": {
        "id": "EfeNIIeA-E8E"
      },
      "source": [
        "* حالا اگه فایلت رو بارگذاری کردی دوباره تابع لیست-فایلز-این-دایرکتوری رو فراخوانی کن ببینیم فایلت رو این بار تو فهرست میاره یا نه."
      ]
    },
    {
      "cell_type": "code",
      "execution_count": null,
      "metadata": {
        "id": "Xk_MxiA4-E8F"
      },
      "outputs": [],
      "source": [
        "# فهرست فایل‌های داخل همین دایرکتوری کاری رو چاپ کن\n",
        "list_files_in_directory()"
      ]
    },
    {
      "cell_type": "markdown",
      "source": [
        "حالا فایل خودت رو تو پوشه این درس آپلود کن"
      ],
      "metadata": {
        "id": "m-KG62JYvX2O"
      }
    },
    {
      "cell_type": "markdown",
      "metadata": {
        "id": "mPHVnrfS-E8F"
      },
      "source": [
        "* و بعد فایل خودت رو باز و محتواش رو چاپ کن"
      ]
    },
    {
      "cell_type": "code",
      "execution_count": 8,
      "metadata": {
        "id": "ES1mJbfV-E8F"
      },
      "outputs": [],
      "source": [
        "# به نام فایل در این کد دقت کن.\n",
        "# نام فایل خودت رو جایگزین کن. دابل کوتیشکن ها رو حذف نکنی\n",
        "f = open(\"test.txt\", \"r\")\n",
        "your_file_content = f.read()\n",
        "f.close()"
      ]
    },
    {
      "cell_type": "code",
      "execution_count": 9,
      "metadata": {
        "id": "Qjou4aGu-E8F",
        "outputId": "90c0d7b4-3471-4a42-919c-ca59799ff3f0",
        "colab": {
          "base_uri": "https://localhost:8080/"
        }
      },
      "outputs": [
        {
          "output_type": "stream",
          "name": "stdout",
          "text": [
            "Based on extensive analysis of current AI adoption trends, market projections, and industry-specific implementations, **five industries poised for near-complete AI operational dominance by 2026** are:\n",
            "\n",
            "### ⚙️ 1. **Customer Service & Call Centers**  \n",
            "- **AI Takeover**: AI will handle **>70–80% of customer interactions** via advanced chatbots (e.g., ChatGPT, Google Gemini), voice agents, and automated ticketing systems .  \n",
            "- **Drivers**: Cost efficiency, 24/7 availability, and real-time language translation capabilities. Human agents will shift to handling only highly complex or emotional cases .  \n",
            "- **Impact**: Companies like Zendesk and Intercom already automate 60%+ of support tickets, with full-scale adoption expected by 2026 .  \n",
            "\n",
            "### 📦 2. **Logistics & Supply Chain Management**  \n",
            "- **AI Takeover**: Autonomous warehouse robotics, AI-driven inventory forecasting, and self-driving delivery vehicles (e.g., Tesla Semi, Waymo Via) will dominate .  \n",
            "- **Drivers**: Demand for 30% lower delivery costs, optimized routing, and real-time anomaly detection. Companies like Amazon and FedEx use AI to cut delivery times by 20–30% .  \n",
            "- **Impact**: \"Smart factories\" will operate with minimal human intervention, automating >80% of packing, shipping, and inventory management .  \n",
            "\n",
            "### ✍️ 3. **Content Creation & Digital Marketing**  \n",
            "- **AI Takeover**: Generative AI (e.g., ChatGPT, Midjourney, Sora) will produce **>50% of social media posts, blogs, videos, and ad campaigns** .  \n",
            "- **Drivers**: 90% faster content generation, personalized marketing, and tools like Canva AI democratizing design .  \n",
            "- **Impact**: Human creators will focus on strategy and high-concept ideation, while AI handles routine output. News outlets like CNET already publish AI-generated articles .  \n",
            "\n",
            "### 💳 4. **Finance & Banking**  \n",
            "- **AI Takeover**: Robo-advisors (Betterment, Wealthfront), AI loan approvals, and fraud detection systems will manage **>75% of transactional and analytical tasks** .  \n",
            "- **Drivers**: AI reduces fraud by 50%, cuts loan approval cycles from days to minutes, and enables bias-free credit scoring .  \n",
            "- **Impact**: Banks like JPMorgan use AI for real-time compliance checks, forecasting $340B+ in annual industry value from AI efficiency .  \n",
            "\n",
            "### 🏥 5. **Healthcare Diagnostics & Administration**  \n",
            "- **AI Takeover**: AI will perform **>80% of diagnostic imaging analysis**, predict patient outcomes, and manage precision medicine protocols .  \n",
            "- **Drivers**: Superior accuracy in detecting diseases (e.g., Google DeepMind's 90%+ accuracy in eye disease diagnosis) and rising FDA approvals of AI devices (650+ as of 2025) .  \n",
            "- **Impact**: Tools like IBM Watson assist oncologists in treatment planning, while wearable AI monitors vital signs. Human providers shift to patient care and complex decision-making .  \n",
            "\n",
            "---\n",
            "\n",
            "### 🔑 **Key Trends Accelerating Dominance**  \n",
            "1. **Generative AI Boom**: Market to hit **$100B by 2026** (24% of total AI industry value), enabling hyper-automation in content and design .  \n",
            "2. **Agentic AI**: Autonomous systems will manage supply chains, customer service, and finance with minimal human oversight .  \n",
            "3. **Synthetic Data**: 75% of businesses will use AI-generated data to bypass privacy laws and train models .  \n",
            "4. **Labor Shifts**: 28% of healthcare tasks and 30% of coding will be automated, forcing reskilling toward oversight and creativity .  \n",
            "\n",
            "> **💡 Adaptation Imperative**: AI isn't eliminating industries—it's redefining human roles. Workers must **upskill in AI collaboration, ethics, and strategic oversight** to thrive . Companies lagging in AI integration face 20–30% operational cost disadvantages by 2026 .\n",
            "\n",
            "*Table: AI Adoption Levels by Industry (2026 Projections)*  \n",
            "| **Industry**              | **Automation Level** | **Key Technologies**         | **Workforce Impact**          |  \n",
            "|---------------------------|----------------------|------------------------------|-------------------------------|  \n",
            "| Customer Service          | 80%                 | NLP, Voice Agents            | Shift to complex cases        |  \n",
            "| Logistics                 | 85%                 | Robotics, Route Optimization | Reduced manual labor          |  \n",
            "| Content Creation          | 70%                 | Generative AI, LLMs          | Focus on strategy/editing     |  \n",
            "| Finance                   | 75%                 | Robo-advisors, Fraud AI      | Enhanced analytical roles     |  \n",
            "| Healthcare Diagnostics    | 80%                 | Imaging AI, Predictive models | Patient-centric care focus   |  \n",
            "\n",
            "For deeper insights, explore industry-specific analyses in the [search results](#sources).\n"
          ]
        }
      ],
      "source": [
        "print(your_file_content)"
      ]
    },
    {
      "cell_type": "markdown",
      "metadata": {
        "id": "6Y0y1zm_-E8F"
      },
      "source": [
        "## محتوای فایلت رو با هوش مصنوعی چکیده کن"
      ]
    },
    {
      "cell_type": "code",
      "execution_count": 18,
      "metadata": {
        "id": "6NLLDsdt-E8G"
      },
      "outputs": [],
      "source": [
        "prompt = f\"\"\"نکته‌های کلیدی متن پایین رو در ۵۰ کلمه چکیده کن\n",
        "بعد این چکیده رو درج و ترجمه فارسی اون هم زیرش بنویس.\n",
        "در ترجمه فارسی از کلمه های انگلیسی استفاده نکن تا متن به هم نریزه.\n",
        "\n",
        "متن:\n",
        "{your_file_content}\"\"\""
      ]
    },
    {
      "cell_type": "markdown",
      "metadata": {
        "id": "ifj3ixFT-E8G"
      },
      "source": [
        "* پرامپت رو چاپ کن تا مطمئن بشی که محتوای فایلت به درستی خونده شده:"
      ]
    },
    {
      "cell_type": "code",
      "execution_count": 19,
      "metadata": {
        "id": "ieZOIkx3-E8G",
        "outputId": "15c6e609-18cd-4afa-fafc-c0837da884db",
        "colab": {
          "base_uri": "https://localhost:8080/"
        }
      },
      "outputs": [
        {
          "output_type": "stream",
          "name": "stdout",
          "text": [
            "نکته‌های کلیدی متن پایین رو در ۵۰ کلمه چکیده کن\n",
            "بعد این چکیده رو درج و ترجمه فارسی اون هم زیرش بنویس. \n",
            "در ترجمه فارسی از کلمه های انگلیسی استفاده نکن تا متن به هم نریزه.\n",
            "\n",
            "متن:\n",
            "Based on extensive analysis of current AI adoption trends, market projections, and industry-specific implementations, **five industries poised for near-complete AI operational dominance by 2026** are:\n",
            "\n",
            "### ⚙️ 1. **Customer Service & Call Centers**  \n",
            "- **AI Takeover**: AI will handle **>70–80% of customer interactions** via advanced chatbots (e.g., ChatGPT, Google Gemini), voice agents, and automated ticketing systems .  \n",
            "- **Drivers**: Cost efficiency, 24/7 availability, and real-time language translation capabilities. Human agents will shift to handling only highly complex or emotional cases .  \n",
            "- **Impact**: Companies like Zendesk and Intercom already automate 60%+ of support tickets, with full-scale adoption expected by 2026 .  \n",
            "\n",
            "### 📦 2. **Logistics & Supply Chain Management**  \n",
            "- **AI Takeover**: Autonomous warehouse robotics, AI-driven inventory forecasting, and self-driving delivery vehicles (e.g., Tesla Semi, Waymo Via) will dominate .  \n",
            "- **Drivers**: Demand for 30% lower delivery costs, optimized routing, and real-time anomaly detection. Companies like Amazon and FedEx use AI to cut delivery times by 20–30% .  \n",
            "- **Impact**: \"Smart factories\" will operate with minimal human intervention, automating >80% of packing, shipping, and inventory management .  \n",
            "\n",
            "### ✍️ 3. **Content Creation & Digital Marketing**  \n",
            "- **AI Takeover**: Generative AI (e.g., ChatGPT, Midjourney, Sora) will produce **>50% of social media posts, blogs, videos, and ad campaigns** .  \n",
            "- **Drivers**: 90% faster content generation, personalized marketing, and tools like Canva AI democratizing design .  \n",
            "- **Impact**: Human creators will focus on strategy and high-concept ideation, while AI handles routine output. News outlets like CNET already publish AI-generated articles .  \n",
            "\n",
            "### 💳 4. **Finance & Banking**  \n",
            "- **AI Takeover**: Robo-advisors (Betterment, Wealthfront), AI loan approvals, and fraud detection systems will manage **>75% of transactional and analytical tasks** .  \n",
            "- **Drivers**: AI reduces fraud by 50%, cuts loan approval cycles from days to minutes, and enables bias-free credit scoring .  \n",
            "- **Impact**: Banks like JPMorgan use AI for real-time compliance checks, forecasting $340B+ in annual industry value from AI efficiency .  \n",
            "\n",
            "### 🏥 5. **Healthcare Diagnostics & Administration**  \n",
            "- **AI Takeover**: AI will perform **>80% of diagnostic imaging analysis**, predict patient outcomes, and manage precision medicine protocols .  \n",
            "- **Drivers**: Superior accuracy in detecting diseases (e.g., Google DeepMind's 90%+ accuracy in eye disease diagnosis) and rising FDA approvals of AI devices (650+ as of 2025) .  \n",
            "- **Impact**: Tools like IBM Watson assist oncologists in treatment planning, while wearable AI monitors vital signs. Human providers shift to patient care and complex decision-making .  \n",
            "\n",
            "---\n",
            "\n",
            "### 🔑 **Key Trends Accelerating Dominance**  \n",
            "1. **Generative AI Boom**: Market to hit **$100B by 2026** (24% of total AI industry value), enabling hyper-automation in content and design .  \n",
            "2. **Agentic AI**: Autonomous systems will manage supply chains, customer service, and finance with minimal human oversight .  \n",
            "3. **Synthetic Data**: 75% of businesses will use AI-generated data to bypass privacy laws and train models .  \n",
            "4. **Labor Shifts**: 28% of healthcare tasks and 30% of coding will be automated, forcing reskilling toward oversight and creativity .  \n",
            "\n",
            "> **💡 Adaptation Imperative**: AI isn't eliminating industries—it's redefining human roles. Workers must **upskill in AI collaboration, ethics, and strategic oversight** to thrive . Companies lagging in AI integration face 20–30% operational cost disadvantages by 2026 .\n",
            "\n",
            "*Table: AI Adoption Levels by Industry (2026 Projections)*  \n",
            "| **Industry**              | **Automation Level** | **Key Technologies**         | **Workforce Impact**          |  \n",
            "|---------------------------|----------------------|------------------------------|-------------------------------|  \n",
            "| Customer Service          | 80%                 | NLP, Voice Agents            | Shift to complex cases        |  \n",
            "| Logistics                 | 85%                 | Robotics, Route Optimization | Reduced manual labor          |  \n",
            "| Content Creation          | 70%                 | Generative AI, LLMs          | Focus on strategy/editing     |  \n",
            "| Finance                   | 75%                 | Robo-advisors, Fraud AI      | Enhanced analytical roles     |  \n",
            "| Healthcare Diagnostics    | 80%                 | Imaging AI, Predictive models | Patient-centric care focus   |  \n",
            "\n",
            "For deeper insights, explore industry-specific analyses in the [search results](#sources).\n"
          ]
        }
      ],
      "source": [
        "print(prompt)"
      ]
    },
    {
      "cell_type": "markdown",
      "metadata": {
        "id": "swcQkfmU-E8G"
      },
      "source": [
        "* حالا پرامپت رو به مدل زبانی بزرگ بفرست"
      ]
    },
    {
      "cell_type": "code",
      "execution_count": 20,
      "metadata": {
        "id": "XDX9x1n3-E8G",
        "outputId": "32294f8b-7af9-4254-bda4-4a4029c7df2f",
        "colab": {
          "base_uri": "https://localhost:8080/"
        }
      },
      "outputs": [
        {
          "output_type": "stream",
          "name": "stdout",
          "text": [
            "**خلاصه:**\n",
            "\n",
            "AI will dominate five sectors by 2026: Customer Service, Logistics, Content Creation, Finance, and Healthcare.  AI will handle over 70% customer interactions, automate warehouse operations, generate over 50% of content, manage over 75% financial tasks, and analyze over 80% diagnostic images. Key trends include generative AI boom, agentic AI, synthetic data, and labor shifts requiring workforce upskilling. Companies lagging behind face significant cost disadvantages.\n",
            "\n",
            "---\n",
            "\n",
            "**ترجمه فارسی:**\n",
            "\n",
            "**خلاصه:**\n",
            "\n",
            "هوش مصنوعی تا سال 2026 بر پنج بخش - خدمات مشتریان، لجستیک، تولید محتوا، امور مالی و بهداشت و درمان - تسلط خواهد یافت. هوش مصنوعی بیش از 70 درصد تعاملات مشتری را مدیریت می‌کند، عملیات انبار را خودکار می‌کند، بیش از 50 درصد محتوا را تولید می‌کند، بیش از 75 درصد وظایف مالی را مدیریت می‌کند و بیش از 80 درصد تصاویر تشخیصی را تجزیه و تحلیل می‌کند. روندهای کلیدی شامل رشد انفجاری هوش مصنوعی مولد، هوش مصنوعی عامل، داده‌های مصنوعی و تغییرات نیروی کار است که نیازمند ارتقای مهارت نیروی کار است. شرکت‌هایی که عقب مانده‌اند با هزینه‌های قابل توجهی روبرو خواهند شد.\n",
            "\n"
          ]
        }
      ],
      "source": [
        "res = print_llm_response(prompt)\n",
        "print(res)"
      ]
    },
    {
      "cell_type": "markdown",
      "metadata": {
        "id": "j6HrX1w7-E8H"
      },
      "source": [
        "## تمرین بیشتر\n",
        "\n",
        "با یافته‌های این درس حالا کمی تمرین می‌چسبه.\n",
        "\n",
        "### تمرین ۱\n",
        "\n",
        "پرامپت پایین رو طوری ویرایش کن که پرسش‌هایی از فایل متنی خودت برای مدل زبانی فرستاده بشه"
      ]
    },
    {
      "cell_type": "code",
      "execution_count": null,
      "metadata": {
        "id": "mhKO4PxB-E8H"
      },
      "outputs": [],
      "source": [
        "prompt = f\"\"\"خواسته های خودت رو اینجا بنویس\n",
        "\n",
        "Text:\n",
        "{your_file_content}\"\"\"\n",
        "\n",
        "res2 = print_llm_response(prompt)\n",
        "print(res2)"
      ]
    },
    {
      "cell_type": "markdown",
      "metadata": {
        "id": "0Zo3aUIE-E8H"
      },
      "source": [
        "### تمرین ۲\n",
        "\n",
        "پرامپت پایین رو طوری ویرایش کن که از محتوای فایل دستور غذا استفاده کنه که بالاتر فراخوانی کردی.\n",
        "\n",
        "**نکته:** برگرد بالا و نام متغیرهایی که محتوای این فایل رو در اون‌ها ذخیره کردی پیدا کن."
      ]
    },
    {
      "cell_type": "code",
      "execution_count": null,
      "metadata": {
        "id": "w8UEg41c-E8H"
      },
      "outputs": [],
      "source": [
        "prompt = f\"\"\"همه تکنیک‌های آشپزی که در فایل پایین بیان شده\n",
        "پیدا و به فارسی روان ترجمه کن:\n",
        "\n",
        "Recipe:\n",
        "{your_file_content}\"\"\"\n",
        "\n",
        "print_llm_response(prompt)"
      ]
    },
    {
      "cell_type": "markdown",
      "source": [
        "### تمرین ۳\n",
        "\n",
        "بالاتر برای دسترسی به فایل خودت گفتم یا بگذارش تو گیت هاب یا همین جا تو کولب آپلود کن. ولی خب اینجا باشه هر بار که اتصال قطع و وصل بشه باید دوباره دستی آپلودش کنی.\n",
        "\n",
        "یه راه دیگه این هست که فایل رو بگذاری تو درایو گوگل و اینجا تو کولب فراخوانی کنی.\n",
        "\n",
        "از چت بات بخواه:\n",
        "\n",
        "کدی به من بده که بتونم فایلی از گوگل درایو رو داخل دفترچه کولب فراخوانی کنم.\n",
        "\n",
        "\n",
        "بعد که کد رو گرفتی فایلت رو داخل گوگل درایو بگذار و کدت رو هم تو جای مناسب تو دفترچه بگذار و امتحانش کن."
      ],
      "metadata": {
        "id": "YueBPKq2JPmB"
      }
    }
  ],
  "metadata": {
    "colab": {
      "provenance": [],
      "include_colab_link": true
    },
    "kernelspec": {
      "display_name": "Python 3 (ipykernel)",
      "language": "python",
      "name": "python3"
    },
    "language_info": {
      "codemirror_mode": {
        "name": "ipython",
        "version": 3
      },
      "file_extension": ".py",
      "mimetype": "text/x-python",
      "name": "python",
      "nbconvert_exporter": "python",
      "pygments_lexer": "ipython3",
      "version": "3.9.6"
    }
  },
  "nbformat": 4,
  "nbformat_minor": 0
}