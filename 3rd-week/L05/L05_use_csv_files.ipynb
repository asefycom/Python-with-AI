{
  "cells": [
    {
      "cell_type": "markdown",
      "metadata": {
        "id": "view-in-github",
        "colab_type": "text"
      },
      "source": [
        "<a href=\"https://colab.research.google.com/github/asefycom/Python-with-AI/blob/main/3rd-week/L05/L05_use_csv_files.ipynb\" target=\"_parent\"><img src=\"https://colab.research.google.com/assets/colab-badge.svg\" alt=\"Open In Colab\"/></a>"
      ]
    },
    {
      "cell_type": "markdown",
      "metadata": {
        "id": "YBQUcNj4kx5o"
      },
      "source": [
        "# هفته سوم - درس ۵: کار با سی‌.اس.وی\n",
        "\n",
        "بیا یاد بگیریم که با داده‌های جدول‌مانند فایل‌های سی‌اس‌وی کار کنیم.\n",
        "\n",
        "تو برنامه‌نویسی به این سبک فایل‌ها فایل‌های ساختاردار گفته میشه.\n",
        "\n",
        " **structured data**."
      ]
    },
    {
      "cell_type": "markdown",
      "source": [
        "## پیشنیازها"
      ],
      "metadata": {
        "id": "XRIKWX62N926"
      }
    },
    {
      "cell_type": "code",
      "source": [
        "# کلون مخزن گیت هاب  و تغییر مسیر کاری به پوشه این درس\n",
        "import os\n",
        "\n",
        "if not os.path.exists('Python-with-AI'):\n",
        "    !git clone https://github.com/asefycom/Python-with-AI.git\n",
        "\n",
        "os.chdir('Python-with-AI/3rd-week/L05')\n",
        "print(\"Current Working Directory:\", os.getcwd())"
      ],
      "metadata": {
        "id": "3zw5bvvtDH80",
        "outputId": "69b7331a-0a33-42f2-eb42-955f2a87c0f2",
        "colab": {
          "base_uri": "https://localhost:8080/"
        }
      },
      "execution_count": null,
      "outputs": [
        {
          "output_type": "stream",
          "name": "stdout",
          "text": [
            "Cloning into 'Python-with-AI'...\n",
            "remote: Enumerating objects: 247, done.\u001b[K\n",
            "remote: Counting objects: 100% (93/93), done.\u001b[K\n",
            "remote: Compressing objects: 100% (89/89), done.\u001b[K\n",
            "remote: Total 247 (delta 47), reused 4 (delta 4), pack-reused 154 (from 1)\u001b[K\n",
            "Receiving objects: 100% (247/247), 144.50 KiB | 3.91 MiB/s, done.\n",
            "Resolving deltas: 100% (111/111), done.\n",
            "Current Working Directory: /content/Python-with-AI/3rd-week/L05\n"
          ]
        }
      ]
    },
    {
      "cell_type": "code",
      "execution_count": null,
      "metadata": {
        "id": "kwQGaZthkx5s"
      },
      "outputs": [],
      "source": [
        "#  ایمپورت‌ها: فراخوانی بسته‌های آماده یا بخشی از اون‌ها\n",
        "# هفته چهارم بیشتر با مفهوم بسته‌ها آشنا میشی\n",
        "from IPython.display import display, HTML, Markdown\n",
        "import csv\n",
        "import pandas as pd"
      ]
    },
    {
      "cell_type": "code",
      "source": [
        "# تابعی برای تبدیل داده‌ها به دیتافریم\n",
        "# و بعد نمایش دیتافریم به صورت جدول اچ.تی‌ام‌.ال\n",
        "\n",
        "def display_table(data):\n",
        "    df = pd.DataFrame(data)\n",
        "\n",
        "    # Display the DataFrame as an HTML table\n",
        "    display(HTML(df.to_html(index=False)))"
      ],
      "metadata": {
        "id": "MIUmIuGKMtul"
      },
      "execution_count": null,
      "outputs": []
    },
    {
      "cell_type": "code",
      "source": [
        "# نصب بسته توگدر ای‌آی\n",
        "!pip install together"
      ],
      "metadata": {
        "id": "VlFr3lxwOCIO",
        "outputId": "eea6e6a2-d9d5-4879-c69d-825b536afb12",
        "colab": {
          "base_uri": "https://localhost:8080/"
        }
      },
      "execution_count": null,
      "outputs": [
        {
          "output_type": "stream",
          "name": "stdout",
          "text": [
            "Collecting together\n",
            "  Downloading together-1.5.21-py3-none-any.whl.metadata (15 kB)\n",
            "Requirement already satisfied: aiohttp<4.0.0,>=3.9.3 in /usr/local/lib/python3.11/dist-packages (from together) (3.11.15)\n",
            "Requirement already satisfied: click<9.0.0,>=8.1.7 in /usr/local/lib/python3.11/dist-packages (from together) (8.2.1)\n",
            "Collecting eval-type-backport<0.3.0,>=0.1.3 (from together)\n",
            "  Downloading eval_type_backport-0.2.2-py3-none-any.whl.metadata (2.2 kB)\n",
            "Requirement already satisfied: filelock<4.0.0,>=3.13.1 in /usr/local/lib/python3.11/dist-packages (from together) (3.18.0)\n",
            "Requirement already satisfied: numpy>=1.23.5 in /usr/local/lib/python3.11/dist-packages (from together) (2.0.2)\n",
            "Requirement already satisfied: pillow<12.0.0,>=11.1.0 in /usr/local/lib/python3.11/dist-packages (from together) (11.3.0)\n",
            "Requirement already satisfied: pydantic<3.0.0,>=2.6.3 in /usr/local/lib/python3.11/dist-packages (from together) (2.11.7)\n",
            "Requirement already satisfied: requests<3.0.0,>=2.31.0 in /usr/local/lib/python3.11/dist-packages (from together) (2.32.3)\n",
            "Requirement already satisfied: rich<15.0.0,>=13.8.1 in /usr/local/lib/python3.11/dist-packages (from together) (13.9.4)\n",
            "Requirement already satisfied: tabulate<0.10.0,>=0.9.0 in /usr/local/lib/python3.11/dist-packages (from together) (0.9.0)\n",
            "Requirement already satisfied: tqdm<5.0.0,>=4.66.2 in /usr/local/lib/python3.11/dist-packages (from together) (4.67.1)\n",
            "Collecting typer<0.16,>=0.9 (from together)\n",
            "  Downloading typer-0.15.4-py3-none-any.whl.metadata (15 kB)\n",
            "Requirement already satisfied: aiohappyeyeballs>=2.3.0 in /usr/local/lib/python3.11/dist-packages (from aiohttp<4.0.0,>=3.9.3->together) (2.6.1)\n",
            "Requirement already satisfied: aiosignal>=1.1.2 in /usr/local/lib/python3.11/dist-packages (from aiohttp<4.0.0,>=3.9.3->together) (1.4.0)\n",
            "Requirement already satisfied: attrs>=17.3.0 in /usr/local/lib/python3.11/dist-packages (from aiohttp<4.0.0,>=3.9.3->together) (25.3.0)\n",
            "Requirement already satisfied: frozenlist>=1.1.1 in /usr/local/lib/python3.11/dist-packages (from aiohttp<4.0.0,>=3.9.3->together) (1.7.0)\n",
            "Requirement already satisfied: multidict<7.0,>=4.5 in /usr/local/lib/python3.11/dist-packages (from aiohttp<4.0.0,>=3.9.3->together) (6.6.3)\n",
            "Requirement already satisfied: propcache>=0.2.0 in /usr/local/lib/python3.11/dist-packages (from aiohttp<4.0.0,>=3.9.3->together) (0.3.2)\n",
            "Requirement already satisfied: yarl<2.0,>=1.17.0 in /usr/local/lib/python3.11/dist-packages (from aiohttp<4.0.0,>=3.9.3->together) (1.20.1)\n",
            "Requirement already satisfied: annotated-types>=0.6.0 in /usr/local/lib/python3.11/dist-packages (from pydantic<3.0.0,>=2.6.3->together) (0.7.0)\n",
            "Requirement already satisfied: pydantic-core==2.33.2 in /usr/local/lib/python3.11/dist-packages (from pydantic<3.0.0,>=2.6.3->together) (2.33.2)\n",
            "Requirement already satisfied: typing-extensions>=4.12.2 in /usr/local/lib/python3.11/dist-packages (from pydantic<3.0.0,>=2.6.3->together) (4.14.1)\n",
            "Requirement already satisfied: typing-inspection>=0.4.0 in /usr/local/lib/python3.11/dist-packages (from pydantic<3.0.0,>=2.6.3->together) (0.4.1)\n",
            "Requirement already satisfied: charset-normalizer<4,>=2 in /usr/local/lib/python3.11/dist-packages (from requests<3.0.0,>=2.31.0->together) (3.4.2)\n",
            "Requirement already satisfied: idna<4,>=2.5 in /usr/local/lib/python3.11/dist-packages (from requests<3.0.0,>=2.31.0->together) (3.10)\n",
            "Requirement already satisfied: urllib3<3,>=1.21.1 in /usr/local/lib/python3.11/dist-packages (from requests<3.0.0,>=2.31.0->together) (2.5.0)\n",
            "Requirement already satisfied: certifi>=2017.4.17 in /usr/local/lib/python3.11/dist-packages (from requests<3.0.0,>=2.31.0->together) (2025.7.14)\n",
            "Requirement already satisfied: markdown-it-py>=2.2.0 in /usr/local/lib/python3.11/dist-packages (from rich<15.0.0,>=13.8.1->together) (3.0.0)\n",
            "Requirement already satisfied: pygments<3.0.0,>=2.13.0 in /usr/local/lib/python3.11/dist-packages (from rich<15.0.0,>=13.8.1->together) (2.19.2)\n",
            "Collecting click<9.0.0,>=8.1.7 (from together)\n",
            "  Downloading click-8.1.8-py3-none-any.whl.metadata (2.3 kB)\n",
            "Requirement already satisfied: shellingham>=1.3.0 in /usr/local/lib/python3.11/dist-packages (from typer<0.16,>=0.9->together) (1.5.4)\n",
            "Requirement already satisfied: mdurl~=0.1 in /usr/local/lib/python3.11/dist-packages (from markdown-it-py>=2.2.0->rich<15.0.0,>=13.8.1->together) (0.1.2)\n",
            "Downloading together-1.5.21-py3-none-any.whl (96 kB)\n",
            "\u001b[2K   \u001b[90m━━━━━━━━━━━━━━━━━━━━━━━━━━━━━━━━━━━━━━━━\u001b[0m \u001b[32m96.1/96.1 kB\u001b[0m \u001b[31m6.5 MB/s\u001b[0m eta \u001b[36m0:00:00\u001b[0m\n",
            "\u001b[?25hDownloading eval_type_backport-0.2.2-py3-none-any.whl (5.8 kB)\n",
            "Downloading typer-0.15.4-py3-none-any.whl (45 kB)\n",
            "\u001b[2K   \u001b[90m━━━━━━━━━━━━━━━━━━━━━━━━━━━━━━━━━━━━━━━━\u001b[0m \u001b[32m45.3/45.3 kB\u001b[0m \u001b[31m3.0 MB/s\u001b[0m eta \u001b[36m0:00:00\u001b[0m\n",
            "\u001b[?25hDownloading click-8.1.8-py3-none-any.whl (98 kB)\n",
            "\u001b[2K   \u001b[90m━━━━━━━━━━━━━━━━━━━━━━━━━━━━━━━━━━━━━━━━\u001b[0m \u001b[32m98.2/98.2 kB\u001b[0m \u001b[31m7.6 MB/s\u001b[0m eta \u001b[36m0:00:00\u001b[0m\n",
            "\u001b[?25hInstalling collected packages: eval-type-backport, click, typer, together\n",
            "  Attempting uninstall: click\n",
            "    Found existing installation: click 8.2.1\n",
            "    Uninstalling click-8.2.1:\n",
            "      Successfully uninstalled click-8.2.1\n",
            "  Attempting uninstall: typer\n",
            "    Found existing installation: typer 0.16.0\n",
            "    Uninstalling typer-0.16.0:\n",
            "      Successfully uninstalled typer-0.16.0\n",
            "Successfully installed click-8.1.8 eval-type-backport-0.2.2 together-1.5.21 typer-0.15.4\n"
          ]
        }
      ]
    },
    {
      "cell_type": "code",
      "source": [
        "# فراخوانی توگدر با کلیدی که ازش گرفتیم\n",
        "# که به صورت امن تو محیط اجرای این دفترچه کولب کار گذاشتیم\n",
        "from google.colab import userdata\n",
        "from together import Together\n",
        "\n",
        "client = Together(api_key=userdata.get('TOGETHER_API_KEY'))\n",
        "\n",
        "# تابعی برای ارسال پرامپت به مدل زبانی به واسطه توگدر و بعد چاپ جواب\n",
        "def print_llm_response(prompt):\n",
        "    response = client.chat.completions.create(\n",
        "        model=\"google/gemma-3n-E4B-it\",\n",
        "        # model=\"meta-llama/Llama-3.3-70B-Instruct-Turbo-Free\",\n",
        "        messages=[\n",
        "        {\n",
        "            \"role\": \"user\",\n",
        "            \"content\": prompt\n",
        "        }\n",
        "        ]\n",
        "    )\n",
        "    return response.choices[0].message.content"
      ],
      "metadata": {
        "id": "ma-WmdcLOT0A"
      },
      "execution_count": null,
      "outputs": []
    },
    {
      "cell_type": "markdown",
      "metadata": {
        "id": "sOloT5Tskx5v"
      },
      "source": [
        "## فراخوانی داده‌ها از فایل سی.اس.وی"
      ]
    },
    {
      "cell_type": "markdown",
      "metadata": {
        "id": "4LZ3-iL_kx5v"
      },
      "source": [
        "از این فایل استفاده می‌کنیم که به این درس پیوست شده\n",
        "\n",
        " ```itinerary.csv```\n",
        "\n",
        " این فایل حاوی داده های مختصری از زمان ورودی و خروج به یک شهر در یک کشور مشخص هست.\n",
        "\n",
        "برای باز کردن این فایل از تابع اوپن استفاده می‌کنیم که شما پیش‌تر هم تجربه کردین."
      ]
    },
    {
      "cell_type": "code",
      "execution_count": null,
      "metadata": {
        "id": "4i0TNY7Rkx5w"
      },
      "outputs": [],
      "source": [
        "f = open(\"itinerary.csv\", 'r')"
      ]
    },
    {
      "cell_type": "markdown",
      "metadata": {
        "id": "TtxJKRfnkx5w"
      },
      "source": [
        "اما شیوه خوندن محتوای این فایل فرق داره.\n",
        "ساختار منظم فایل رو می‌تونیم اینجا با حلقه تکرار بشکافیم."
      ]
    },
    {
      "cell_type": "code",
      "execution_count": null,
      "metadata": {
        "id": "pAM_xLthkx5x",
        "outputId": "46cf99f5-a529-4e7d-ef2c-1fe82e5f7238",
        "colab": {
          "base_uri": "https://localhost:8080/"
        }
      },
      "outputs": [
        {
          "output_type": "stream",
          "name": "stdout",
          "text": [
            "{'Arrival': 'July-01', 'Departure': 'July-08', 'City': 'New York', 'Country': 'USA'}\n",
            "{'Arrival': 'July-09', 'Departure': 'July-16', 'City': 'Rio de Janeiro', 'Country': 'Brazil'}\n",
            "{'Arrival': 'July-17', 'Departure': 'July-24', 'City': 'Cape Town', 'Country': 'South Africa'}\n",
            "{'Arrival': 'July-25', 'Departure': 'August-01', 'City': 'Istanbul', 'Country': 'Turkey'}\n",
            "{'Arrival': 'August-02', 'Departure': 'August-09', 'City': 'Paris', 'Country': 'France'}\n",
            "{'Arrival': 'August-10', 'Departure': 'August-17', 'City': 'Tokyo', 'Country': 'Japan'}\n",
            "{'Arrival': 'August-18', 'Departure': 'August-25', 'City': 'Sydney', 'Country': 'Australia'}\n"
          ]
        }
      ],
      "source": [
        "csv_reader = csv.DictReader(f)\n",
        "itinerary = []\n",
        "for row in csv_reader:\n",
        "    print(row)\n",
        "    itinerary.append(row)"
      ]
    },
    {
      "cell_type": "markdown",
      "metadata": {
        "id": "DEfb2v0Lkx5x"
      },
      "source": [
        "و در پایان هم فایل رو می‌بندیم."
      ]
    },
    {
      "cell_type": "code",
      "execution_count": null,
      "metadata": {
        "id": "7QKG7ncJkx5y"
      },
      "outputs": [],
      "source": [
        "f.close()"
      ]
    },
    {
      "cell_type": "markdown",
      "metadata": {
        "id": "zmyeEFUskx5y"
      },
      "source": [
        "می‌تونیم برنامه سفر نوشته شده داخل این فایل رو چاپ هم بکنیم.\n",
        "\n",
        "نوع داده هاش رو هم می‌تونیم بررسی کنیم. چجوری؟"
      ]
    },
    {
      "cell_type": "code",
      "execution_count": null,
      "metadata": {
        "id": "iqZXzfDukx5y",
        "outputId": "d77457c1-af6f-4514-c76b-ff46c0cb969f",
        "colab": {
          "base_uri": "https://localhost:8080/"
        }
      },
      "outputs": [
        {
          "output_type": "stream",
          "name": "stdout",
          "text": [
            "[{'Arrival': 'July-01', 'Departure': 'July-08', 'City': 'New York', 'Country': 'USA'}, {'Arrival': 'July-09', 'Departure': 'July-16', 'City': 'Rio de Janeiro', 'Country': 'Brazil'}, {'Arrival': 'July-17', 'Departure': 'July-24', 'City': 'Cape Town', 'Country': 'South Africa'}, {'Arrival': 'July-25', 'Departure': 'August-01', 'City': 'Istanbul', 'Country': 'Turkey'}, {'Arrival': 'August-02', 'Departure': 'August-09', 'City': 'Paris', 'Country': 'France'}, {'Arrival': 'August-10', 'Departure': 'August-17', 'City': 'Tokyo', 'Country': 'Japan'}, {'Arrival': 'August-18', 'Departure': 'August-25', 'City': 'Sydney', 'Country': 'Australia'}]\n"
          ]
        }
      ],
      "source": [
        "print(itinerary)"
      ]
    },
    {
      "cell_type": "code",
      "execution_count": null,
      "metadata": {
        "id": "5d371D14kx5z",
        "outputId": "bb354ff6-6604-4d39-f0d5-49145d02409b",
        "colab": {
          "base_uri": "https://localhost:8080/"
        }
      },
      "outputs": [
        {
          "output_type": "execute_result",
          "data": {
            "text/plain": [
              "list"
            ]
          },
          "metadata": {},
          "execution_count": 10
        }
      ],
      "source": [
        "type(itinerary)"
      ]
    },
    {
      "cell_type": "markdown",
      "metadata": {
        "id": "kjtG8M-Nkx5z"
      },
      "source": [
        "حالا نگاهی به اولین عضو (اولین سطر) بندازیم.\n",
        "یادمون هست که اولین عضو، ایندکس صفر داره."
      ]
    },
    {
      "cell_type": "code",
      "execution_count": null,
      "metadata": {
        "id": "qlyFxp6hkx5z",
        "outputId": "6f612f50-449a-4616-b163-e158b4f3c59b",
        "colab": {
          "base_uri": "https://localhost:8080/"
        }
      },
      "outputs": [
        {
          "output_type": "stream",
          "name": "stdout",
          "text": [
            "{'Arrival': 'July-01', 'Departure': 'July-08', 'City': 'New York', 'Country': 'USA'}\n"
          ]
        }
      ],
      "source": [
        "# Print item 0\n",
        "print(itinerary[0])"
      ]
    },
    {
      "cell_type": "markdown",
      "metadata": {
        "id": "cRIX7QLLkx50"
      },
      "source": [
        "هر عضو یک دیکشنری شده.\n",
        "به حلقه برگرد. کجا به نظرت این اتفاق افتاده؟\n",
        "\n",
        "بگذریم. پس به اطلاعات هر عضو می‌تونیم با دادن کلیدها دسترسی پیدا کنیم.\n",
        "\n",
        "مثلا برای دیدن نام کشور در عضو اول این کلید رو داریم:\n",
        "\n",
        "`Country`:"
      ]
    },
    {
      "cell_type": "code",
      "execution_count": null,
      "metadata": {
        "id": "LsgIiHWikx50",
        "outputId": "ee18f46c-8411-4ca5-c459-64c15698e62f",
        "colab": {
          "base_uri": "https://localhost:8080/"
        }
      },
      "outputs": [
        {
          "output_type": "stream",
          "name": "stdout",
          "text": [
            "USA\n"
          ]
        }
      ],
      "source": [
        "print(itinerary[0][\"Country\"])"
      ]
    },
    {
      "cell_type": "markdown",
      "metadata": {
        "id": "Tpk6bX3_kx50"
      },
      "source": [
        "## کاوش کن\n",
        "سطرها یا بگیم عضوهای دیگه این برنامه سفر رو بررسی کن. همین طور جزییات هر سطر رو ببین.\n",
        "\n",
        "از جایگذاری ایندکس در این کد استفاده کن:"
      ]
    },
    {
      "cell_type": "code",
      "execution_count": null,
      "metadata": {
        "id": "erccoq3rkx50"
      },
      "outputs": [],
      "source": [
        "print(itinerary[0])\n",
        "print(itinerary[0][\"Country\"])"
      ]
    },
    {
      "cell_type": "markdown",
      "metadata": {
        "id": "SE-qtlsMkx50"
      },
      "source": [
        "<p style=\"background-color:#F5C780; padding:15px\"> 🤖 <b>از چت‌بات استفاده کن</b>:\n",
        "    <br><br>\n",
        "    این کد رو خط به خط به زبان ساده شرح بده:\n",
        "    <br><br>f = open(\"itinerary.csv\", 'r')\n",
        "    <br>csv_reader = csv.DictReader(f)\n",
        "    <br>itinerary = []\n",
        "    <br>for row in csv_reader:\n",
        "    <br>itinerary.append(row)\n",
        "    <br><br>f.close()\n",
        "</p>"
      ]
    },
    {
      "cell_type": "markdown",
      "metadata": {
        "id": "etXVpjfVkx51"
      },
      "source": [
        "## داده‌های ساختارمند"
      ]
    },
    {
      "cell_type": "markdown",
      "metadata": {
        "id": "ku4VWg9Fkx51"
      },
      "source": [
        "بیا داده‌های این فایل رو صورت جدول نمایش بدیم تا خوناتر بشن.\n",
        "\n",
        "* از تابعی استفاده می‌کنیم که تو بخش پیشنیازها ساختیم."
      ]
    },
    {
      "cell_type": "code",
      "execution_count": null,
      "metadata": {
        "id": "CFRg1-Q7kx51",
        "outputId": "e5dbee6b-c470-4816-c2ad-fb3cc01f4e9b",
        "colab": {
          "base_uri": "https://localhost:8080/",
          "height": 269
        }
      },
      "outputs": [
        {
          "output_type": "display_data",
          "data": {
            "text/plain": [
              "<IPython.core.display.HTML object>"
            ],
            "text/html": [
              "<table border=\"1\" class=\"dataframe\">\n",
              "  <thead>\n",
              "    <tr style=\"text-align: right;\">\n",
              "      <th>Arrival</th>\n",
              "      <th>Departure</th>\n",
              "      <th>City</th>\n",
              "      <th>Country</th>\n",
              "    </tr>\n",
              "  </thead>\n",
              "  <tbody>\n",
              "    <tr>\n",
              "      <td>July-01</td>\n",
              "      <td>July-08</td>\n",
              "      <td>New York</td>\n",
              "      <td>USA</td>\n",
              "    </tr>\n",
              "    <tr>\n",
              "      <td>July-09</td>\n",
              "      <td>July-16</td>\n",
              "      <td>Rio de Janeiro</td>\n",
              "      <td>Brazil</td>\n",
              "    </tr>\n",
              "    <tr>\n",
              "      <td>July-17</td>\n",
              "      <td>July-24</td>\n",
              "      <td>Cape Town</td>\n",
              "      <td>South Africa</td>\n",
              "    </tr>\n",
              "    <tr>\n",
              "      <td>July-25</td>\n",
              "      <td>August-01</td>\n",
              "      <td>Istanbul</td>\n",
              "      <td>Turkey</td>\n",
              "    </tr>\n",
              "    <tr>\n",
              "      <td>August-02</td>\n",
              "      <td>August-09</td>\n",
              "      <td>Paris</td>\n",
              "      <td>France</td>\n",
              "    </tr>\n",
              "    <tr>\n",
              "      <td>August-10</td>\n",
              "      <td>August-17</td>\n",
              "      <td>Tokyo</td>\n",
              "      <td>Japan</td>\n",
              "    </tr>\n",
              "    <tr>\n",
              "      <td>August-18</td>\n",
              "      <td>August-25</td>\n",
              "      <td>Sydney</td>\n",
              "      <td>Australia</td>\n",
              "    </tr>\n",
              "  </tbody>\n",
              "</table>"
            ]
          },
          "metadata": {}
        }
      ],
      "source": [
        "display_table(itinerary)"
      ]
    },
    {
      "cell_type": "markdown",
      "metadata": {
        "id": "awVCElYUkx51"
      },
      "source": [
        "حالا بیا کدی بنویسیم که روی جدول فیلترهایی (مثل فیلترهای اکسل) وارد کنه.\n",
        "\n",
        "مثلا عضوهایی رو فیلتر کن که در اون‌ها نام کشور برابر ژاپن هست.\n",
        "\n",
        "اطلاعات فیلتر شده رو به این لیست اضافه می کنیم:\n",
        "\n",
        " `filtered_data`:"
      ]
    },
    {
      "cell_type": "code",
      "execution_count": null,
      "metadata": {
        "id": "klToDyqQkx52"
      },
      "outputs": [],
      "source": [
        "# ایجاد یک لیست خالی برای ذخیره داده‌های فیلترشده\n",
        "filtered_data = []\n",
        "\n",
        "# فیلتر بر اساس نام کشور\n",
        "for trip_stop in itinerary:\n",
        "    # برای مثال: سطرهای با مقصد «ژاپن» رو بده\n",
        "    if trip_stop[\"Country\"] == \"Japan\":\n",
        "        filtered_data.append(trip_stop)"
      ]
    },
    {
      "cell_type": "code",
      "execution_count": null,
      "metadata": {
        "id": "U1Z7Wsf3kx52",
        "outputId": "a7c2f5c5-5dcf-4b27-82a8-0a4407677410",
        "colab": {
          "base_uri": "https://localhost:8080/",
          "height": 81
        }
      },
      "outputs": [
        {
          "output_type": "display_data",
          "data": {
            "text/plain": [
              "<IPython.core.display.HTML object>"
            ],
            "text/html": [
              "<table border=\"1\" class=\"dataframe\">\n",
              "  <thead>\n",
              "    <tr style=\"text-align: right;\">\n",
              "      <th>Arrival</th>\n",
              "      <th>Departure</th>\n",
              "      <th>City</th>\n",
              "      <th>Country</th>\n",
              "    </tr>\n",
              "  </thead>\n",
              "  <tbody>\n",
              "    <tr>\n",
              "      <td>August-10</td>\n",
              "      <td>August-17</td>\n",
              "      <td>Tokyo</td>\n",
              "      <td>Japan</td>\n",
              "    </tr>\n",
              "  </tbody>\n",
              "</table>"
            ]
          },
          "metadata": {}
        }
      ],
      "source": [
        "display_table(filtered_data)"
      ]
    },
    {
      "cell_type": "markdown",
      "metadata": {
        "id": "cVC19-Fukx52"
      },
      "source": [
        "توجه کنید که در اینجا در عمل این لیست فقط یک عضو داره."
      ]
    },
    {
      "cell_type": "markdown",
      "metadata": {
        "id": "5sGfCRKakx52"
      },
      "source": [
        "## AI پیشنهاد فعالیت‌های طول سفر توسط"
      ]
    },
    {
      "cell_type": "markdown",
      "metadata": {
        "id": "iAkhEq_hkx52"
      },
      "source": [
        "یک مقصد سفر مثلا اولین مقصد رو از فایل استخراج کن.\n",
        "\n",
        "بعد، از مدل‌زبانی‌بزرگ بخواه که کارهایی برای انجام در طول مدت بازدیداز این مقصد پیشنهاد بده:"
      ]
    },
    {
      "cell_type": "code",
      "execution_count": null,
      "metadata": {
        "id": "6O0aHrMBkx52",
        "outputId": "65b33c77-d54b-4e25-876c-d358f78b7f2f",
        "colab": {
          "base_uri": "https://localhost:8080/"
        }
      },
      "outputs": [
        {
          "output_type": "stream",
          "name": "stdout",
          "text": [
            "{'Arrival': 'July-01', 'Departure': 'July-08', 'City': 'New York', 'Country': 'USA'}\n"
          ]
        }
      ],
      "source": [
        "# نخستین مقصد رو انتخاب کن\n",
        "trip_stop = itinerary[0]\n",
        "print(trip_stop)"
      ]
    },
    {
      "cell_type": "markdown",
      "metadata": {
        "id": "k_m34Wunkx53"
      },
      "source": [
        "متغیرهایی برای مشخصات مقصد اول بساز:"
      ]
    },
    {
      "cell_type": "code",
      "execution_count": null,
      "metadata": {
        "id": "gYFsTlp2kx53"
      },
      "outputs": [],
      "source": [
        "city = trip_stop[\"City\"]\n",
        "country = trip_stop[\"Country\"]\n",
        "arrival = trip_stop[\"Arrival\"]\n",
        "departure = trip_stop[\"Departure\"]"
      ]
    },
    {
      "cell_type": "markdown",
      "metadata": {
        "id": "otsW2VONkx53"
      },
      "source": [
        "پرامپتی بنویس برای دریافت پیشنهاد از مدل:"
      ]
    },
    {
      "cell_type": "code",
      "execution_count": null,
      "metadata": {
        "id": "5vwMQC9gkx53",
        "outputId": "fb78c88d-8837-45a9-88a8-519d6c2669e2",
        "colab": {
          "base_uri": "https://localhost:8080/"
        }
      },
      "outputs": [
        {
          "output_type": "stream",
          "name": "stdout",
          "text": [
            "I will visit New York, USA, from July-01 to July-08.\n",
            "Please create a detailed daily itinerary in fluent Persian:\n"
          ]
        }
      ],
      "source": [
        "prompt = f\"\"\"I will visit {city}, {country}, from {arrival} to {departure}.\n",
        "Please create a detailed daily itinerary in fluent Persian:\"\"\"\n",
        "\n",
        "print(prompt)"
      ]
    },
    {
      "cell_type": "markdown",
      "metadata": {
        "id": "dBsPBZaokx53"
      },
      "source": [
        "از کلاس مارکت دان برای نمایش مرتب پاسخ مدل استفاده کن:"
      ]
    },
    {
      "cell_type": "code",
      "execution_count": null,
      "metadata": {
        "id": "OocVUb3Pkx54",
        "outputId": "89a731a9-e58a-4bd1-bed4-43a1941ce64a",
        "colab": {
          "base_uri": "https://localhost:8080/",
          "height": 1000
        }
      },
      "outputs": [
        {
          "output_type": "display_data",
          "data": {
            "text/plain": [
              "<IPython.core.display.Markdown object>"
            ],
            "text/markdown": "## برنامه سفر به نیویورک (۱ تا ۸ ژوئیه)\n\nسلام! خوشحالم که به شما در برنامه‌ریزی سفرتان به نیویورک کمک می‌کنم. این برنامه پیشنهادی، ترکیبی از جاذبه‌های معروف و تجربه‌های محلی است و قابل تنظیم بر اساس علایق شماست.\n\n**نکات مهم قبل از سفر:**\n\n*   **حمل و نقل:** بهترین راه برای رفت و آمد در نیویورک، استفاده از مترو است. یک کارت مترو (MetroCard) تهیه کنید.\n*   **رزرو:** برای برخی از جاذبه‌ها و رستوران‌ها، به خصوص در فصل شلوغی مثل جولای، رزرو آنلاین ضروری است.\n*   **آب و هوا:** در جولای در نیویورک هوا گرم و مرطوب است. لباس‌های سبک و راحت بپوشید و حتماً آب کافی بنوشید.\n*   **پول:** دلار آمریکا (USD) واحد پول نیویورک است.\n*   **زبان:** زبان رسمی انگلیسی است، اما بسیاری از افراد در مناطق توریستی به زبان‌های دیگر نیز صحبت می‌کنند.\n\n---\n\n**روز اول: یکشنبه، ۱ ژوئیه - ورود و محله منهتن**\n\n*   **صبح:** ورود به فرودگاه (JFK، LGA یا EWR). با تاکسی، شاتل یا اتوبوس به هتل خود در منهتن بروید.\n*   **بعد از ظهر:** بعد از مستقر شدن در هتل، در محله‌ای مانند میدتاون قدم بزنید و با حال و هوای شهر آشنا شوید.\n*   **عصر:** بازدید از **میدان تایمز (Times Square)** و تماشای نورپردازی‌های شگفت‌انگیز.\n*   **شام:** صرف شام در یکی از رستوران‌های متنوع میدتاون. می‌توانید انواع غذاهای بین‌المللی را پیدا کنید.\n*   **شب:** تماشای یک نمایش برادوی (Broadway show). بلیط‌ها را از قبل رزرو کنید.\n\n---\n\n**روز دوم: دوشنبه، ۲ ژوئیه - نمادهای نیویورک**\n\n*   **صبح:** بازدید از **مجسمه آزادی (Statue of Liberty)** و **جزیره الیس (Ellis Island)**. از طریق کشتی به این جزایر بروید و از مناظر بی‌نظیر شهر لذت ببرید.\n*   **بعد از ظهر:** رفتن به **موزه یادبود و انتحابیه ایالات متحده (9/11 Memorial & Museum)**. این مکان یادبود، به یاد قربانیان حملات تروریستی در ۱۱ سپتامبر ساخته شده است.\n*   **عصر:** قدم زدن در **اینک کنید (Financial District)** و دیدن **کلیسای سنت پل (St. Paul's Chapel)**.\n*   **شام:** صرف شام در یکی از رستوران‌های اینک کنید یا منطقه مالی را برای یک تجربه متفاوت کاوش کنید.\n\n---\n\n**روز سوم: سه‌شنبه، ۳ ژوئیه - هنر و فرهنگ**\n\n*   **صبح:** بازدید از **موزه متروپولیتن هنر (Metropolitan Museum of Art)**. این موزه یکی از بزرگترین و مهمترین موزه‌های جهان است.\n*   **بعد از ظهر:** قدم زدن در **پارک متروپولیتن (Metropolitan Park)** و استراحت در فضای سبز.\n*   **عصر:** رفتن به **محله گرینویچ ویلیج (Greenwich Village)** و گشت و گذار در کوچه‌های باریک و دنج آن.\n*   **شام:** صرف شام در یکی از رستوران‌های گرینویچ ویلیج که به خاطر غذاهای متنوع و فضاهای دوستانه مشهور است.\n*   **شب:** گوش دادن به موسیقی زنده در یکی از کلاب‌های محلی گرینویچ ویلیج.\n\n---\n\n**روز چهارم: چهارشنبه، ۴ ژوئیه - هنر معاصر و خرید**\n\n*   **صبح:** بازدید از **موزه هنرهای مدرن (MoMA)**. این موزه مجموعه‌ای از آثار هنری مدرن و معاصر را در خود جای داده است.\n*   **بعد از ظهر:** خرید در **Fifth Avenue**. این خیابان به خاطر فروشگاه‌های لوکس و برندهای معروف مشهور است.\n*   **عصر:** بازدید از **Central Park**. می‌توانید در این پارک قدم بزنید، دوچرخه سواری کنید یا در کنار دریاچه استراحت کنید.\n*   **شام:** صرف شام در یکی از رستوران‌های اطراف Central Park.\n\n---\n\n**روز پنجم: پنج‌شنبه، ۵ ژوئیه - محله‌های رنگارنگ و مناظر پانوراما**\n\n*   **صبح:** بازدید از **محله چلسی (Chelsea)** و قدم زدن در **Chelsea Market**. این بازار، فروشگاه‌هایی برای غذا، صنایع دستی و محصولات محلی دارد.\n*   **بعد از ظهر:** رفتن به **High Line**. این پارک مرتفع، در امتداد یک خط راه‌آهن متروکه ساخته شده و مناظر بی‌نظیری از شهر را ارائه می‌دهد.\n*   **عصر:** صعود به **Top of the Rock Observation Deck** در Rockefeller Center و تماشای مناظر پانوراما از شهر.\n*   **شام:** صرف شام در یکی از رستوران‌های Rockefeller Center یا محله اطراف آن.\n\n---\n\n**روز ششم: جمعه، ۶ ژوئیه - محله‌های متنوع و فرهنگ**\n\n*   **صبح:** بازدید از **محله چینی‌ها (Chinatown)**. این محله، پر از مغازه‌ها، رستوران‌ها و معابد چینی است.\n*   **بعد از ظهر:** رفتن به **محله لیتل ایتالی (Little Italy)**. این محله، به خاطر رستوران‌های ایتالیایی و فستیوال‌های محلی مشهور است.\n*   **عصر:** تماشای یک نمایش در محله **ویلیامزبورگ (Williamsburg)** در بروکلین.\n*   **شام:** صرف شام در یکی از رستوران‌های محله ویلیامزبورگ.\n\n---\n\n**روز هفتم: شنبه، ۷ ژوئیه - یه روز در بروکلین و خداحافظی**\n\n*   **صبح:** عبور از **پل بروکلین (Brooklyn Bridge)** و قدم زدن در محله **DUMBO**. از مناظر شهر و منظره مجسمه آزادی لذت ببرید.\n*   **بعد از ظهر:** بازدید از **موزه بروکلین (Brooklyn Museum)** یا **Prospect Park**.\n*   **عصر:** صرف شام خداحافظی در یکی از رستوران‌های بروکلین و لذت بردن از آخرین شب در نیویورک.\n*   **شب:** آماده شدن برای بازگشت به خانه.\n\n---\n\n**روز هشتم: یکشنبه، ۸ ژوئیه - خروج**\n\n*   صبح: بسته به زمان پرواز، می‌توانید از فرصت باقی‌مانده برای خرید سوغاتی یا بازدید از یک مکان مورد علاقه استفاده کنید.\n*   بعد از ظهر: رفتن به فرودگاه برای پرواز به خانه.\n\n---\n\nاین فقط یک پیشنهاد است و شما می‌توانید آن را بر اساس علایق و بودجه خود تنظیم کنید. امیدوارم از سفرتان به نیویورک لذت ببرید! اگر سوال دیگری دارید، خوشحال می‌شوم پاسخ دهم.\n\n**نکته:** برای یافتن رستوران‌ها، جاذبه‌ها و رویدادهای محلی، می‌توانید از وبسایت‌ها و اپلیکیشن‌های گردشگری مانند TripAdvisor، Yelp و Time Out New York استفاده کنید.\n"
          },
          "metadata": {}
        }
      ],
      "source": [
        "# دریافت پاسخ مدل\n",
        "response = print_llm_response(prompt)\n",
        "\n",
        "# چاپ با فرمت مارک داون\n",
        "display(Markdown(response))"
      ]
    },
    {
      "cell_type": "markdown",
      "metadata": {
        "id": "NVzA6jGkkx54"
      },
      "source": [
        "## تمرین بیشتر\n",
        "\n",
        "بیا یه برنامه سفر برای مقصد بعدی بسازیم.\n",
        "\n",
        "### تمرین ۱\n",
        "\n",
        "با شرط گذاری درست، داده‌های مربوط به برزیل رو بگیر."
      ]
    },
    {
      "cell_type": "code",
      "execution_count": null,
      "metadata": {
        "id": "DoBLt421kx54"
      },
      "outputs": [],
      "source": [
        "# پارادایم ساخت لیستی خالی که بعدتر قرار هست پر بشه\n",
        "filtered_data = []\n",
        "\n",
        "# فیلتر کردن داده‌ها با نام کشور هدف\n",
        "for trip_stop in itinerary:\n",
        "    # مثلا مقصدهایی که در برزیل هستند رو فیلتر کن\n",
        "    # کد پایین باید چطور کامل بشه؟\n",
        "    if trip_stop[\"Country\"] == \"\":\n",
        "        filtered_data.append(trip_stop)\n",
        "\n",
        "print(filtered_data)"
      ]
    },
    {
      "cell_type": "markdown",
      "metadata": {
        "id": "Mic0F9xnkx54"
      },
      "source": [
        "### تمرین ۲\n",
        "\n",
        "کد خط پایین رو اصلاح کن تا نخستین عضو از داده‌های فیلتر شده رو به جای کل داده ها بگیری:\n",
        "\n",
        "`filterd_data`\n",
        "\n",
        "دقت کن این متغیرها با این نام‌ها بالاتر ساخته شدن و الان با اجرای سلول پایین مقدارهای تازه درشون ریخته میشه."
      ]
    },
    {
      "cell_type": "code",
      "execution_count": null,
      "metadata": {
        "id": "luHEbg8_kx59"
      },
      "outputs": [],
      "source": [
        "trip_stop = itinerary[0]\n",
        "\n",
        "city = trip_stop[\"City\"]\n",
        "country = trip_stop[\"Country\"]\n",
        "arrival = trip_stop[\"Arrival\"]\n",
        "departure = trip_stop[\"Departure\"]\n",
        "\n",
        "print(f\" The city is: {city}\")\n",
        "print(f\" The country is: {country}\")\n",
        "print(\" The arrival date is: {arrival}\")\n",
        "print(\" The departure date is: {departure}\")"
      ]
    },
    {
      "cell_type": "markdown",
      "metadata": {
        "id": "U53DG-zvkx59"
      },
      "source": [
        "و حالا پرامپت رو بفرست تا یک برنامه پیشنهادی برای این مقصد داشته باشی:"
      ]
    },
    {
      "cell_type": "code",
      "execution_count": null,
      "metadata": {
        "id": "3VeUVP-hkx5-"
      },
      "outputs": [],
      "source": [
        "prompt = f\"\"\"I will visit {city}, {country}, from {arrival} to {departure}.\n",
        "Please create a detailed daily itinerary. Translate it to Persian.\"\"\"\n",
        "\n",
        "print(print_llm_response(prompt))"
      ]
    },
    {
      "cell_type": "markdown",
      "metadata": {
        "id": "iFjoGoIJkx5-"
      },
      "source": [
        "### تمرین چالشی\n",
        "\n",
        "کد پایین رو به گونه‌ای کامل کن که کشور هر مقصد در فایل سی‌اس‌وی این درس رو چاپ کنه."
      ]
    },
    {
      "cell_type": "code",
      "execution_count": null,
      "metadata": {
        "id": "9p8ot4JNkx5-"
      },
      "outputs": [],
      "source": [
        "f = open(\"itinerary.csv\", \"r\")\n",
        "csv_reader = csv.DictReader(f)\n",
        "itinerary = []\n",
        "for row in csv_reader:\n",
        "    print(row)\n",
        "    itinerary.append(row)\n",
        "f.close()\n",
        "\n",
        "# این دو خط باید کامل بشن:\n",
        "for trip_stop in :\n",
        "    print()"
      ]
    }
  ],
  "metadata": {
    "language_info": {
      "name": "python"
    },
    "colab": {
      "provenance": [],
      "include_colab_link": true
    },
    "kernelspec": {
      "name": "python3",
      "display_name": "Python 3"
    }
  },
  "nbformat": 4,
  "nbformat_minor": 0
}