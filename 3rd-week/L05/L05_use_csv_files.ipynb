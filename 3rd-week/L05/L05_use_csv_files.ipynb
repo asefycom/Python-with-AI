{
  "cells": [
    {
      "cell_type": "markdown",
      "metadata": {
        "id": "view-in-github",
        "colab_type": "text"
      },
      "source": [
        "<a href=\"https://colab.research.google.com/github/asefycom/Python-with-AI/blob/main/3rd-week/L05/L05_use_csv_files.ipynb\" target=\"_parent\"><img src=\"https://colab.research.google.com/assets/colab-badge.svg\" alt=\"Open In Colab\"/></a>"
      ]
    },
    {
      "cell_type": "markdown",
      "metadata": {
        "id": "YBQUcNj4kx5o"
      },
      "source": [
        "# هفته سوم - درس ۵: کار با سی‌.اس.وی\n",
        "\n",
        "بیا یاد بگیریم که با داده‌های جدول‌مانند فایل‌های سی‌اس‌وی کار کنیم.\n",
        "\n",
        "تو برنامه‌نویسی به این سبک فایل‌ها فایل‌های ساختاردار گفته میشه.\n",
        "\n",
        " **structured data**."
      ]
    },
    {
      "cell_type": "markdown",
      "source": [
        "## پیشنیازها\n",
        "\n",
        "مثل همیشه اول البته تابع‌های پیشنیاز رو راه بندازیم."
      ],
      "metadata": {
        "id": "XRIKWX62N926"
      }
    },
    {
      "cell_type": "code",
      "execution_count": null,
      "metadata": {
        "id": "kwQGaZthkx5s"
      },
      "outputs": [],
      "source": [
        "#  ایمپورت‌ها: فراخوانی بسته‌های آماده یا بخشی از اون‌ها\n",
        "# هفته چهارم بیشتر با مفهوم بسته‌ها آشنا میشی\n",
        "from IPython.display import display, HTML, Markdown\n",
        "import csv\n",
        "import pandas as pd"
      ]
    },
    {
      "cell_type": "code",
      "source": [
        "# تابعی برای تبدیل داده‌ها به دیتافریم\n",
        "# و بعد نمایش دیتافریم به صورت جدول اچ.تی‌ام‌.ال\n",
        "\n",
        "def display_table(data):\n",
        "    df = pd.DataFrame(data)\n",
        "\n",
        "    # Display the DataFrame as an HTML table\n",
        "    display(HTML(df.to_html(index=False)))"
      ],
      "metadata": {
        "id": "MIUmIuGKMtul"
      },
      "execution_count": null,
      "outputs": []
    },
    {
      "cell_type": "code",
      "source": [
        "\n",
        "# نصب بسته توگدر ای‌آی\n",
        "!pip install together"
      ],
      "metadata": {
        "id": "VlFr3lxwOCIO"
      },
      "execution_count": null,
      "outputs": []
    },
    {
      "cell_type": "code",
      "source": [
        "# فراخوانی توگدر با کلیدی که ازش گرفتیم\n",
        "# که به صورت امن تو محیط اجرای این دفترچه کولب کار گذاشتیم\n",
        "from google.colab import userdata\n",
        "from together import Together\n",
        "\n",
        "client = Together(api_key=userdata.get('TOGETHER_API_KEY'))\n",
        "\n",
        "# تابعی برای ارسال پرامپت به مدل زبانی به واسطه توگدر و بعد چاپ جواب\n",
        "def print_llm_response(prompt):\n",
        "    response = client.chat.completions.create(\n",
        "        model=\"google/gemma-3n-E4B-it\",\n",
        "        # model=\"meta-llama/Llama-3.3-70B-Instruct-Turbo-Free\",\n",
        "        messages=[\n",
        "        {\n",
        "            \"role\": \"user\",\n",
        "            \"content\": prompt\n",
        "        }\n",
        "        ]\n",
        "    )\n",
        "    return response.choices[0].message.content"
      ],
      "metadata": {
        "id": "ma-WmdcLOT0A"
      },
      "execution_count": null,
      "outputs": []
    },
    {
      "cell_type": "markdown",
      "metadata": {
        "id": "sOloT5Tskx5v"
      },
      "source": [
        "## فراخوانی داده‌ها از فایل سی.اس.وی"
      ]
    },
    {
      "cell_type": "markdown",
      "metadata": {
        "id": "4LZ3-iL_kx5v"
      },
      "source": [
        "از این فایل استفاده می‌کنیم که به این درس پیوست شده\n",
        "\n",
        " ```itinerary.csv```\n",
        "\n",
        " این فایل حاوی داده های مختصری از زمان ورودی و خروج به یک شهر در یک کشور مشخص هست.\n",
        "\n",
        "برای باز کردن این فایل از تابع اوپن استفاده می‌کنیم که شما پیش‌تر هم تجربه کردین."
      ]
    },
    {
      "cell_type": "code",
      "execution_count": null,
      "metadata": {
        "id": "4i0TNY7Rkx5w"
      },
      "outputs": [],
      "source": [
        "f = open(\"itinerary.csv\", 'r')"
      ]
    },
    {
      "cell_type": "markdown",
      "metadata": {
        "id": "TtxJKRfnkx5w"
      },
      "source": [
        "اما شیوه خوندن محتوای این فایل فرق داره.\n",
        "ساختار منظم فایل رو می‌تونیم اینجا با حلقه تکرار بشکافیم."
      ]
    },
    {
      "cell_type": "code",
      "execution_count": null,
      "metadata": {
        "id": "pAM_xLthkx5x"
      },
      "outputs": [],
      "source": [
        "csv_reader = csv.DictReader(f)\n",
        "itinerary = []\n",
        "for row in csv_reader:\n",
        "    print(row)\n",
        "    itinerary.append(row)"
      ]
    },
    {
      "cell_type": "markdown",
      "metadata": {
        "id": "DEfb2v0Lkx5x"
      },
      "source": [
        "و در پایان هم فایل رو می‌بندیم."
      ]
    },
    {
      "cell_type": "code",
      "execution_count": null,
      "metadata": {
        "id": "7QKG7ncJkx5y"
      },
      "outputs": [],
      "source": [
        "f.close()"
      ]
    },
    {
      "cell_type": "markdown",
      "metadata": {
        "id": "zmyeEFUskx5y"
      },
      "source": [
        "می‌تونیم برنامه سفر نوشته شده داخل این فایل رو چاپ هم بکنیم.\n",
        "\n",
        "نوع داده هاش رو هم می‌تونیم بررسی کنیم. چجوری؟"
      ]
    },
    {
      "cell_type": "code",
      "execution_count": null,
      "metadata": {
        "id": "iqZXzfDukx5y"
      },
      "outputs": [],
      "source": [
        "print(itinerary)"
      ]
    },
    {
      "cell_type": "code",
      "execution_count": null,
      "metadata": {
        "id": "5d371D14kx5z"
      },
      "outputs": [],
      "source": [
        "type(itinerary)"
      ]
    },
    {
      "cell_type": "markdown",
      "metadata": {
        "id": "kjtG8M-Nkx5z"
      },
      "source": [
        "حالا نگاهی به اولین عضو (اولین سطر) بندازیم.\n",
        "یادمون هست که اولین عضو، ایندکس صفر داره."
      ]
    },
    {
      "cell_type": "code",
      "execution_count": null,
      "metadata": {
        "id": "qlyFxp6hkx5z"
      },
      "outputs": [],
      "source": [
        "# Print item 0\n",
        "print(itinerary[0])"
      ]
    },
    {
      "cell_type": "markdown",
      "metadata": {
        "id": "cRIX7QLLkx50"
      },
      "source": [
        "هر عضو یک دیکشنری شده.\n",
        "به حلقه برگرد. کجا به نظرت این اتفاق افتاده؟\n",
        "بگذریم. پس به اطلاعات هر عضو می‌تونیم با دادن کلیدها دسترسی پیدا کنیم.\n",
        "مثلا برای دیدن نام کشور در عضو اول این کلید رو داریم:\n",
        "\n",
        "`Country`:"
      ]
    },
    {
      "cell_type": "code",
      "execution_count": null,
      "metadata": {
        "id": "LsgIiHWikx50"
      },
      "outputs": [],
      "source": [
        "print(itinerary[0][\"Country\"])"
      ]
    },
    {
      "cell_type": "markdown",
      "metadata": {
        "id": "Tpk6bX3_kx50"
      },
      "source": [
        "## کاوش کن\n",
        "سطرها یا بگیم عضوهای دیگه این برنامه سفر رو بررسی کن. همین طور جزییات هر سطح رو ببین.\n",
        "\n",
        "از جایگذاری در این کد استفاده کنی:"
      ]
    },
    {
      "cell_type": "code",
      "execution_count": null,
      "metadata": {
        "id": "erccoq3rkx50"
      },
      "outputs": [],
      "source": [
        "print(itinerary[0])\n",
        "print(itinerary[0][\"Country\"])"
      ]
    },
    {
      "cell_type": "markdown",
      "metadata": {
        "id": "SE-qtlsMkx50"
      },
      "source": [
        "<p style=\"background-color:#F5C780; padding:15px\"> 🤖 <b>از چت‌بات استفاده کن</b>:\n",
        "    <br><br>\n",
        "    این کد رو خط به خط به زبان ساده شرح بده:\n",
        "    <br><br>f = open(\"itinerary.csv\", 'r')\n",
        "    <br>csv_reader = csv.DictReader(f)\n",
        "    <br>itinerary = []\n",
        "    <br>for row in csv_reader:\n",
        "    <br>itinerary.append(row)\n",
        "    <br><br>f.close()\n",
        "</p>"
      ]
    },
    {
      "cell_type": "markdown",
      "metadata": {
        "id": "etXVpjfVkx51"
      },
      "source": [
        "## داده‌های ساختارمند"
      ]
    },
    {
      "cell_type": "markdown",
      "metadata": {
        "id": "ku4VWg9Fkx51"
      },
      "source": [
        "بیا داده‌های این جدول رو صورت جدول نمایش بدیم تا خوناتر بشه.\n",
        "\n",
        "* از تابعی استفاده می‌کنیم که تو بخش پیشنیازها ساختیم."
      ]
    },
    {
      "cell_type": "code",
      "execution_count": null,
      "metadata": {
        "id": "CFRg1-Q7kx51"
      },
      "outputs": [],
      "source": [
        "display_table(itinerary)"
      ]
    },
    {
      "cell_type": "markdown",
      "metadata": {
        "id": "awVCElYUkx51"
      },
      "source": [
        "حالا بیا کدی بنویسیم که روی جدول فیلترهایی (مثل فیلترهای اکسل) اعمال کنه.\n",
        "مثلا عضوهایی رو فیلتر کن که در اون‌ها نام کشور برابر ژاپن هست.\n",
        "در پایان اطلاعات فیلتر شده رو به این لیست اضافه می کنیم:\n",
        "\n",
        " `filtered_data`:"
      ]
    },
    {
      "cell_type": "code",
      "execution_count": null,
      "metadata": {
        "id": "klToDyqQkx52"
      },
      "outputs": [],
      "source": [
        "# ایجاد یک لیست خالی برای ذخیره داده‌های فیلترشده\n",
        "filtered_data = []\n",
        "\n",
        "# فیلتر بر اساس نام کشور\n",
        "for trip_stop in itinerary:\n",
        "    # برای مثال: سطرهای با مقصد «ژاپن» رو بده\n",
        "    if trip_stop[\"Country\"] == \"Japan\":\n",
        "        filtered_data.append(trip_stop)"
      ]
    },
    {
      "cell_type": "code",
      "execution_count": null,
      "metadata": {
        "id": "U1Z7Wsf3kx52"
      },
      "outputs": [],
      "source": [
        "display_table(filtered_data)"
      ]
    },
    {
      "cell_type": "markdown",
      "metadata": {
        "id": "cVC19-Fukx52"
      },
      "source": [
        "توجه کنید که در اینجا در عمل این لیست فقط یک عضو خواهد داشت."
      ]
    },
    {
      "cell_type": "markdown",
      "metadata": {
        "id": "5sGfCRKakx52"
      },
      "source": [
        "## AI پیشنهاد فعالیت‌های طول سفر توسط"
      ]
    },
    {
      "cell_type": "markdown",
      "metadata": {
        "id": "iAkhEq_hkx52"
      },
      "source": [
        "یک مقصد سفر مثلا اولین مقصد رو از فایل استخراج کن.\n",
        "بعد از مدل‌زبانی‌بزرگ بخواهد که کارهایی برای انجام در طول مدت بازدیدتون از این مقصد پیشنهاد بده:"
      ]
    },
    {
      "cell_type": "code",
      "execution_count": null,
      "metadata": {
        "id": "6O0aHrMBkx52"
      },
      "outputs": [],
      "source": [
        "# نخستین مقصد رو انتخاب کن\n",
        "trip_stop = itinerary[0]\n",
        "print(trip_stop)"
      ]
    },
    {
      "cell_type": "markdown",
      "metadata": {
        "id": "k_m34Wunkx53"
      },
      "source": [
        "متغیرهایی برای مشخصات مقصد اول بساز:"
      ]
    },
    {
      "cell_type": "code",
      "execution_count": null,
      "metadata": {
        "id": "gYFsTlp2kx53"
      },
      "outputs": [],
      "source": [
        "city = trip_stop[\"City\"]\n",
        "country = trip_stop[\"Country\"]\n",
        "arrival = trip_stop[\"Arrival\"]\n",
        "departure = trip_stop[\"Departure\"]"
      ]
    },
    {
      "cell_type": "markdown",
      "metadata": {
        "id": "otsW2VONkx53"
      },
      "source": [
        "پرامپتی بنویس برای دریافت پیشنهاد از مدل:"
      ]
    },
    {
      "cell_type": "code",
      "execution_count": null,
      "metadata": {
        "id": "5vwMQC9gkx53"
      },
      "outputs": [],
      "source": [
        "prompt = f\"\"\"I will visit {city}, {country}, from {arrival} to {departure}.\n",
        "Please create a detailed daily itinerary. Translate it to fluent Persian:\"\"\"\n",
        "\n",
        "print(prompt)"
      ]
    },
    {
      "cell_type": "markdown",
      "metadata": {
        "id": "dBsPBZaokx53"
      },
      "source": [
        "از کلاس مارکت دان برای نمایش مرتب پاسخ مدل استفاده کن:"
      ]
    },
    {
      "cell_type": "code",
      "execution_count": null,
      "metadata": {
        "id": "OocVUb3Pkx54"
      },
      "outputs": [],
      "source": [
        "# دریافت پاسخ مدل\n",
        "response = print_llm_response(prompt)\n",
        "\n",
        "# چاپ با فرمت مارک داون\n",
        "display(Markdown(response))"
      ]
    },
    {
      "cell_type": "markdown",
      "metadata": {
        "id": "NVzA6jGkkx54"
      },
      "source": [
        "## تمرین بیشتر\n",
        "\n",
        "بیا یه برنامه سفر برای مقصد بعدی بسازیم.\n",
        "\n",
        "### تمرین ۱\n",
        "\n",
        "با شرط گذاری درست، داده‌های مربوط به برزیل رو بگیر."
      ]
    },
    {
      "cell_type": "code",
      "execution_count": null,
      "metadata": {
        "id": "DoBLt421kx54"
      },
      "outputs": [],
      "source": [
        "# پارادایم ساخت لیستی خالی که بعدتر قرار هست پر بشه\n",
        "filtered_data = []\n",
        "\n",
        "# فیلتر کردن داده‌ها با نام کشور هدف\n",
        "for trip_stop in itinerary:\n",
        "    # مثلا مقصدهایی که در برزیل هستند رو فیلتر کن\n",
        "    # کد پایین باید چطور کامل بشه؟\n",
        "    if trip_stop[\"Country\"] == \"\":\n",
        "        filtered_data.append(trip_stop)\n",
        "\n",
        "print(filtered_data)"
      ]
    },
    {
      "cell_type": "markdown",
      "metadata": {
        "id": "Mic0F9xnkx54"
      },
      "source": [
        "### تمرین ۲\n",
        "\n",
        "کد خط پایین رو اصلاح کن تا نخستین عضو از داده‌های فیلتر شده رو به جای کل داده ها بگیری:\n",
        "`filterd_data`\n",
        "\n",
        "دقت کن این متغیرها با این نام‌ها بالاتر ساخته شدن و الان با اجرای سلول پایین مقدارهای تازه درشون ریخته میشه."
      ]
    },
    {
      "cell_type": "code",
      "execution_count": null,
      "metadata": {
        "id": "luHEbg8_kx59"
      },
      "outputs": [],
      "source": [
        "trip_stop = itinerary[0]\n",
        "\n",
        "city = trip_stop[\"City\"]\n",
        "country = trip_stop[\"Country\"]\n",
        "arrival = trip_stop[\"Arrival\"]\n",
        "departure = trip_stop[\"Departure\"]\n",
        "\n",
        "print(f\" The city is: {city}\")\n",
        "print(f\" The country is: {country}\")\n",
        "print(\" The arrival date is: {arrival}\")\n",
        "print(\" The departure date is: {departure}\")"
      ]
    },
    {
      "cell_type": "markdown",
      "metadata": {
        "id": "U53DG-zvkx59"
      },
      "source": [
        "و حالا پرامپت ر بفرست تا برنامه پیشنهادی برای این مقصد داشته باشی:"
      ]
    },
    {
      "cell_type": "code",
      "execution_count": null,
      "metadata": {
        "id": "3VeUVP-hkx5-"
      },
      "outputs": [],
      "source": [
        "prompt = f\"\"\"I will visit {city}, {country}, from {arrival} to {departure}.\n",
        "Please create a detailed daily itinerary. Translate it to Persian.\"\"\"\n",
        "\n",
        "print(print_llm_response(prompt))"
      ]
    },
    {
      "cell_type": "markdown",
      "metadata": {
        "id": "iFjoGoIJkx5-"
      },
      "source": [
        "### تمرین چالشی\n",
        "\n",
        "کد پایین رو به گونه‌ای کامل کن که کشور هر مقصد در فایل سی‌اس‌وی این درس رو چاپ کنه."
      ]
    },
    {
      "cell_type": "code",
      "execution_count": null,
      "metadata": {
        "id": "9p8ot4JNkx5-"
      },
      "outputs": [],
      "source": [
        "f = open(\"itinerary.csv\", \"r\")\n",
        "csv_reader = csv.DictReader(f)\n",
        "itinerary = []\n",
        "for row in csv_reader:\n",
        "    print(row)\n",
        "    itinerary.append(row)\n",
        "f.close()\n",
        "\n",
        "# این دو خطر باید کامل بشن:\n",
        "for trip_stop in :\n",
        "    print()"
      ]
    }
  ],
  "metadata": {
    "language_info": {
      "name": "python"
    },
    "colab": {
      "provenance": [],
      "include_colab_link": true
    }
  },
  "nbformat": 4,
  "nbformat_minor": 0
}