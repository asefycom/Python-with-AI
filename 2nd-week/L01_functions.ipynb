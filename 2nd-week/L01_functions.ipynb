{
  "cells": [
    {
      "cell_type": "markdown",
      "metadata": {
        "id": "view-in-github",
        "colab_type": "text"
      },
      "source": [
        "<a href=\"https://colab.research.google.com/github/asefycom/Python-with-AI/blob/main/2nd-week/L01_functions.ipynb\" target=\"_parent\"><img src=\"https://colab.research.google.com/assets/colab-badge.svg\" alt=\"Open In Colab\"/></a>"
      ]
    },
    {
      "cell_type": "markdown",
      "id": "de660b8e",
      "metadata": {
        "id": "de660b8e"
      },
      "source": [
        "# هفته دوم- درس ۱: تابع\n",
        "تابع در برنامه نویسی مثل یک ماشین با یک نام مشخص هست که تعدادی خط کد داخلش نوشته شده.\n",
        "\n",
        "هر بار قصد داریم اون خط کدها اجرا بشن فقط نام اون ماشین (تابع) رو صدا می‌زنیم.\n",
        "\n",
        "در پایتون [تعدادی تابع آماده](https://docs.python.org/3/library/functions.html) وجود داره که سازنده‌های پایتون برای استفاده شما درست کردن.\n",
        "\n",
        "گذشته از این تو خودت می‌تونید تابع هایی برای خودت بسازی."
      ]
    },
    {
      "cell_type": "markdown",
      "id": "a229ce91",
      "metadata": {
        "id": "a229ce91"
      },
      "source": [
        "هفته اول در جریان آموزش از تابع\n",
        "\n",
        "`print()`\n",
        "\n",
        "برای چاپ عبارت روی اسکرین واستفاده کردیم."
      ]
    },
    {
      "cell_type": "code",
      "execution_count": null,
      "id": "a753314f",
      "metadata": {
        "id": "a753314f"
      },
      "outputs": [],
      "source": [
        "print(\"¯\\_(ツ)_/¯\")"
      ]
    },
    {
      "cell_type": "markdown",
      "id": "52ece8c0",
      "metadata": {
        "id": "52ece8c0"
      },
      "source": [
        "همچنین با هم با تابع\n",
        "\n",
        "`type()`\n",
        "\n",
        "آشنا شدیم که نوع یک داده یا متغیری حاوی داده رو اعلام می‌کرد.\n",
        "برای نمونه:"
      ]
    },
    {
      "cell_type": "code",
      "execution_count": null,
      "id": "c81ad492",
      "metadata": {
        "id": "c81ad492"
      },
      "outputs": [],
      "source": [
        "type(17)"
      ]
    },
    {
      "cell_type": "markdown",
      "id": "df1e3c22",
      "metadata": {
        "id": "df1e3c22"
      },
      "source": [
        "حالا تو این درس بیا تا با مفهوم تابع و چند نمونه دیگه آشنات کنم."
      ]
    },
    {
      "cell_type": "markdown",
      "id": "17034de4",
      "metadata": {
        "id": "17034de4"
      },
      "source": [
        "## تابع‌هایی برای شمارش، گرد کردن و ..."
      ]
    },
    {
      "cell_type": "markdown",
      "id": "76aa246f",
      "metadata": {
        "id": "76aa246f"
      },
      "source": [
        "تابع‌های بسیاری به صورت آماده (از قبل کدنویسی شده) در پایتون وجود دارن که می ‌تونی به سادگی صداشون بزنی و استفاده کنی.\n",
        "\n",
        "برای نمونه تابع\n",
        "\n",
        "`len()`\n",
        "\n",
        "برای شمارش طول استرینگ (تعداد کاراکترهاش) هست.\n",
        "برای مثال:"
      ]
    },
    {
      "cell_type": "code",
      "execution_count": null,
      "id": "05f09a2e",
      "metadata": {
        "id": "05f09a2e"
      },
      "outputs": [],
      "source": [
        "len(\"Your Password\")"
      ]
    },
    {
      "cell_type": "markdown",
      "id": "b0987e9f",
      "metadata": {
        "id": "b0987e9f"
      },
      "source": [
        "یا مثلا تابع\n",
        "\n",
        " `round()`\n",
        "\n",
        " برای گرد کردن یک عدد اعشاری به نزدیک‌ترین عدد صحیح هست.\n",
        "\n",
        " مثال پایین رو ببین. دقت هم بکن که خروجی این تابع رو برای چاپ کردن به تابع پرینت دادم."
      ]
    },
    {
      "cell_type": "code",
      "execution_count": null,
      "id": "ce418e1a",
      "metadata": {
        "id": "ce418e1a"
      },
      "outputs": [],
      "source": [
        "print(round(42.17))"
      ]
    },
    {
      "cell_type": "markdown",
      "id": "94a9d309",
      "metadata": {
        "id": "94a9d309"
      },
      "source": [
        "ما می‌تونیم خروجی یک تابع رو داخل یک متغیر بریزیم.\n",
        "مثلا:"
      ]
    },
    {
      "cell_type": "code",
      "execution_count": null,
      "id": "c4690998",
      "metadata": {
        "id": "c4690998"
      },
      "outputs": [],
      "source": [
        "string_length = len(\"Hello HamRuyesh!\")\n",
        "print(string_length)"
      ]
    },
    {
      "cell_type": "markdown",
      "id": "783e327e",
      "metadata": {
        "id": "783e327e"
      },
      "source": [
        "تابع‌های بسیاری در پایتون وجود دارن. نیازی نیست همه رو بلد باشی.\n",
        "بسته به نیاز می‌تونی با چت‌بات مشورت کنی.\n",
        "\n",
        "<p style=\"background-color:#F5C780; padding:15px\"> 🤖 <b>نمونه استفاده از چت‌بات</b>: چطور طول یک استرینگ رو در پایتون پیدا کنم؟\n",
        "</p>"
      ]
    },
    {
      "cell_type": "markdown",
      "id": "90b0fdc4-e01f-425b-af70-755ee52334f2",
      "metadata": {
        "id": "90b0fdc4-e01f-425b-af70-755ee52334f2"
      },
      "source": [
        "## استفاده از تابع در پرامپت"
      ]
    },
    {
      "cell_type": "markdown",
      "id": "1b0dee8d-14f8-4078-bbc1-ed3e8aafce86",
      "metadata": {
        "id": "1b0dee8d-14f8-4078-bbc1-ed3e8aafce86"
      },
      "source": [
        "تابع‌ها رو هم مثل متغیر می‌تونی تو پرامپت استفاده کنی.\n",
        "\n",
        "آخرین درس هفته اول یادت هست؟ پرامپتی ساختیم که داخلش از متغیر نام شهر استفاده کردیم.\n",
        "\n",
        "حالا بیا از تابع‌ها داخل پرامپت استفاده کنیم.\n"
      ]
    },
    {
      "cell_type": "markdown",
      "source": [
        "### نصب و راه‌اندازی توگدر"
      ],
      "metadata": {
        "id": "i-aRI-Hq233y"
      },
      "id": "i-aRI-Hq233y"
    },
    {
      "cell_type": "code",
      "source": [
        "!pip install together"
      ],
      "metadata": {
        "id": "fwdy9_fy29jo"
      },
      "id": "fwdy9_fy29jo",
      "execution_count": null,
      "outputs": []
    },
    {
      "cell_type": "code",
      "source": [
        "from google.colab import userdata\n",
        "from together import Together\n",
        "\n",
        "client = Together(api_key=userdata.get('TOGETHER_API_KEY'))\n",
        "\n",
        "def print_llm_response(prompt):\n",
        "    response = client.chat.completions.create(\n",
        "        model=\"google/gemma-3n-E4B-it\",\n",
        "        # model=\"meta-llama/Llama-3.3-70B-Instruct-Turbo-Free\",\n",
        "        messages=[\n",
        "        {\n",
        "            \"role\": \"user\",\n",
        "            \"content\": prompt\n",
        "        }\n",
        "        ]\n",
        "    )\n",
        "    return response.choices[0].message.content"
      ],
      "metadata": {
        "id": "jsGJQflW3EEl"
      },
      "id": "jsGJQflW3EEl",
      "execution_count": null,
      "outputs": []
    },
    {
      "cell_type": "markdown",
      "source": [
        "### ارسال پرامپت و دریافت جواب"
      ],
      "metadata": {
        "id": "Ra6_zzQM3SXp"
      },
      "id": "Ra6_zzQM3SXp"
    },
    {
      "cell_type": "code",
      "execution_count": null,
      "id": "03b730a6",
      "metadata": {
        "colab": {
          "base_uri": "https://localhost:8080/"
        },
        "id": "03b730a6",
        "outputId": "66daa9c1-dfc4-4ddc-91d2-e4f109add414"
      },
      "outputs": [
        {
          "output_type": "stream",
          "name": "stdout",
          "text": [
            "ای آوش، بهارِ دلم، گلرخِ جان\n",
            "سه سالی شد که آمدی به جهان\n",
            "\n",
            "به خِنده‌ات جهان شود روشن و نوران\n",
            "به بازی‌ات، دَرِ شادی شود گشودان\n",
            "\n",
            "چو پروانه‌ای دَردِ خوشی به سر\n",
            "بपेما بَر، ای فرزندِ مهر و بتر\n",
            "\n",
            "بخوان و بشنو، زرّین‌نوایان\n",
            "به یادِ تو، سرایم جان و روان\n",
            "\n"
          ]
        }
      ],
      "source": [
        "name = \"آوش\"\n",
        "age = 2.58\n",
        "prompt = f\"\"\"یک شعر در مورد پسرم\n",
        "             {name}\n",
        "             به سبک شاعر ایرانی فردوسی بگو که\n",
        "             {round(age)}\n",
        "             سن داره.\"\"\"\n",
        "response = print_llm_response(prompt)\n",
        "print(response)"
      ]
    },
    {
      "cell_type": "markdown",
      "id": "25fc5429",
      "metadata": {
        "id": "25fc5429"
      },
      "source": [
        "## تمرین بیش‌تر\n",
        "\n",
        "بر بنیان یافته‌ این درس تمرین کن.\n",
        "\n",
        "<b>نیاز شد از چت‌بات استفاده کن.</b>"
      ]
    },
    {
      "cell_type": "code",
      "execution_count": null,
      "id": "5c38d622",
      "metadata": {
        "id": "5c38d622"
      },
      "outputs": [],
      "source": [
        "# عدد مورد علاقه خودت رو انتخاب و در ۱۰ ضرب و در متغیری ذخیره کن.\n",
        "# عدد حاصل رو چاپ کن. این رو برای دوستان یا نزدیکان خودت تکرار کن.\n",
        "\n",
        "lucky_number =\n",
        "print(f\"Your lucky number is {}!\")"
      ]
    },
    {
      "cell_type": "code",
      "execution_count": null,
      "id": "c3f62ddb",
      "metadata": {
        "id": "c3f62ddb"
      },
      "outputs": [],
      "source": [
        "# پرامپتی به مدل زبانی بده که تعداد بیت شعر رو به صورت متغیر بفرسته.\n",
        "# از متغیر «پرامپت» استفاده کن تا استرینگ نهایی رو\n",
        "# قبل از ارسال به هوش مصنوعی در خودش ذخیره کنه.\n",
        "\n",
        "number_of_lines =\n",
        "prompt =\n",
        "print_llm_response()"
      ]
    },
    {
      "cell_type": "code",
      "source": [
        "# تابعی (با کمک هوش مصنوعی) تعریف کن که\n",
        "# این تابعی که بر اساس بسته توگدر ساختیم\n",
        "# طوری اصلاح کنه که پاسخ های خلاقانه تری به ما بده."
      ],
      "metadata": {
        "id": "-BAfmEx4772v"
      },
      "id": "-BAfmEx4772v",
      "execution_count": null,
      "outputs": []
    },
    {
      "cell_type": "code",
      "source": [
        "# : بعد از تلاش خودت این پایین رو هم بخون\n",
        "\n",
        "\n",
        "# این پرامپت رو من دادم:\n",
        "\n",
        "\"\"\"\n",
        "\n",
        "چت‌جی‌پی‌تی این تکه کد رو من برای کار با توگدر ساختم\n",
        "\n",
        "from google.colab import userdata\n",
        "from together import Together\n",
        "\n",
        "client = Together(api_key=userdata.get('TOGETHER_API_KEY'))\n",
        "\n",
        "def print_llm_response(prompt):\n",
        "    response = client.chat.completions.create(\n",
        "        model=\"google/gemma-3n-E4B-it\",\n",
        "        # model=\"meta-llama/Llama-3.3-70B-Instruct-Turbo-Free\",\n",
        "        messages=[\n",
        "        {\n",
        "            \"role\": \"user\",\n",
        "            \"content\": prompt\n",
        "        }\n",
        "        ]\n",
        "    )\n",
        "    return response.choices[0].message.content\n",
        "\n",
        "\n",
        "طوری اصلاحش کن که پاسخ ها درجه خلاقیت بیشتری داشته باشن و این قابل کنترل هم باشه.\n",
        "\n",
        "\"\"\"\n",
        "\n",
        "#این جواب رو من از چت جی پی تی گرفتم:\n",
        "\n",
        "from google.colab import userdata\n",
        "from together import Together\n",
        "\n",
        "client = Together(api_key=userdata.get('TOGETHER_API_KEY'))\n",
        "\n",
        "def print_llm_response(prompt, temperature=0.7):\n",
        "    response = client.chat.completions.create(\n",
        "        model=\"google/gemma-3n-E4B-it\",\n",
        "        messages=[\n",
        "            {\n",
        "                \"role\": \"user\",\n",
        "                \"content\": prompt\n",
        "            }\n",
        "        ],\n",
        "        temperature=temperature\n",
        "    )\n",
        "    return response.choices[0].message.content\n"
      ],
      "metadata": {
        "id": "fBJrBqfu863x"
      },
      "id": "fBJrBqfu863x",
      "execution_count": null,
      "outputs": []
    }
  ],
  "metadata": {
    "kernelspec": {
      "display_name": "Python 3 (ipykernel)",
      "language": "python",
      "name": "python3"
    },
    "language_info": {
      "codemirror_mode": {
        "name": "ipython",
        "version": 3
      },
      "file_extension": ".py",
      "mimetype": "text/x-python",
      "name": "python",
      "nbconvert_exporter": "python",
      "pygments_lexer": "ipython3",
      "version": "3.9.19"
    },
    "colab": {
      "provenance": [],
      "include_colab_link": true
    }
  },
  "nbformat": 4,
  "nbformat_minor": 5
}