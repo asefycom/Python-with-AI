{
  "cells": [
    {
      "cell_type": "markdown",
      "metadata": {
        "id": "view-in-github",
        "colab_type": "text"
      },
      "source": [
        "<a href=\"https://colab.research.google.com/github/asefycom/Python-with-AI/blob/main/2nd-week/L07_if_else.ipynb\" target=\"_parent\"><img src=\"https://colab.research.google.com/assets/colab-badge.svg\" alt=\"Open In Colab\"/></a>"
      ]
    },
    {
      "cell_type": "markdown",
      "id": "c37dfb58-902b-44dd-a56b-11d6afee457a",
      "metadata": {
        "id": "c37dfb58-902b-44dd-a56b-11d6afee457a"
      },
      "source": [
        "# هفته دوم - درس ۷: شرط‌ و تصمیم"
      ]
    },
    {
      "cell_type": "markdown",
      "id": "acc85383-e456-40d7-8b09-79bd91da0eed",
      "metadata": {
        "id": "acc85383-e456-40d7-8b09-79bd91da0eed"
      },
      "source": [
        "از درس قبل به یاد میاری که بولین‌ها چطور و چرا ایجاد میشن؟\n",
        "\n",
        " تو این درس به کمک بولین‌ها برنامه‌هایی می‌نویسیم که بسته به شرایط کارهای متفاوتی انجام بدن."
      ]
    },
    {
      "cell_type": "markdown",
      "source": [
        "## راه‌اندازی توگدر برای کار با هوش مصنوعی\n"
      ],
      "metadata": {
        "id": "fYOOvozDLWWx"
      },
      "id": "fYOOvozDLWWx"
    },
    {
      "cell_type": "code",
      "execution_count": null,
      "id": "09291854-2c07-4c09-8378-d825734df7c6",
      "metadata": {
        "id": "09291854-2c07-4c09-8378-d825734df7c6"
      },
      "outputs": [],
      "source": [
        "!pip install together"
      ]
    },
    {
      "cell_type": "code",
      "source": [
        "from google.colab import userdata\n",
        "from together import Together\n",
        "\n",
        "client = Together(api_key=userdata.get('TOGETHER_API_KEY'))\n",
        "\n",
        "def print_llm_response(prompt):\n",
        "    response = client.chat.completions.create(\n",
        "        model=\"google/gemma-3n-E4B-it\",\n",
        "        # model=\"meta-llama/Llama-3.3-70B-Instruct-Turbo-Free\",\n",
        "        messages=[\n",
        "        {\n",
        "            \"role\": \"user\",\n",
        "            \"content\": prompt\n",
        "        }\n",
        "        ]\n",
        "    )\n",
        "    return response.choices[0].message.content"
      ],
      "metadata": {
        "id": "GEyLhH_uLaV1"
      },
      "id": "GEyLhH_uLaV1",
      "execution_count": null,
      "outputs": []
    },
    {
      "cell_type": "markdown",
      "id": "3b5f7010-989e-4fc2-87be-ac437ce70df7",
      "metadata": {
        "id": "3b5f7010-989e-4fc2-87be-ac437ce70df7"
      },
      "source": [
        "## پروژه اجرای کارها با زمان‌بندی"
      ]
    },
    {
      "cell_type": "markdown",
      "id": "9d8faf4e-714e-492d-a3ef-c45a5fd02460",
      "metadata": {
        "id": "9d8faf4e-714e-492d-a3ef-c45a5fd02460"
      },
      "source": [
        "فرض کن امروز لیستی از کارها برای انجام داری و هوش مصنوعی هم دستیار توست.\n",
        "\n",
        "هر کار تو این لیست خودش یک دیکشنری هست.\n",
        "\n",
        "هر کار یک توصیف داره و یک مهلت زمانی از لحظه‌ای که به هوش مصنوعی می‌سپری."
      ]
    },
    {
      "cell_type": "code",
      "execution_count": null,
      "id": "224d7983-2e71-40e9-af21-92b9433c34c5",
      "metadata": {
        "id": "224d7983-2e71-40e9-af21-92b9433c34c5"
      },
      "outputs": [],
      "source": [
        "task_list = [\n",
        "    {\n",
        "        \"description\": \"Compose a brief email to my boss explaining that I will be late for next week's meeting.\",\n",
        "        \"time_to_complete\": 3\n",
        "    },\n",
        "    {\n",
        "        \"description\": \"Create an outline for a presentation on the benefits of remote work.\",\n",
        "        \"time_to_complete\": 60\n",
        "    },\n",
        "    {\n",
        "        \"description\": \"Write a 300-word review of the movie 'The Arrival'.\",\n",
        "        \"time_to_complete\": 30\n",
        "    },\n",
        "    {\n",
        "        \"description\": \"Create a shopping list for tofu and olive stir fry.\",\n",
        "        \"time_to_complete\": 5\n",
        "    }\n",
        "]"
      ]
    },
    {
      "cell_type": "markdown",
      "id": "e4326c98-b881-43aa-8c9a-c3dce0aa8312",
      "metadata": {
        "id": "e4326c98-b881-43aa-8c9a-c3dce0aa8312"
      },
      "source": [
        "خب پس اگه ما اولین کار در لیست بالا رو صدا کنیم داریم:"
      ]
    },
    {
      "cell_type": "code",
      "execution_count": null,
      "id": "033a9da9-5d47-41e5-9366-eb396afdf87a",
      "metadata": {
        "id": "033a9da9-5d47-41e5-9366-eb396afdf87a"
      },
      "outputs": [],
      "source": [
        "task = task_list[0]\n",
        "print(task)"
      ]
    },
    {
      "cell_type": "markdown",
      "id": "f222c387-f959-4f24-98ac-8dabad18792c",
      "metadata": {
        "id": "f222c387-f959-4f24-98ac-8dabad18792c"
      },
      "source": [
        "حالا بیا ببینیم آیا اولین کار تو لیست کارها بعد از واگذاری به هوش مصنوعی حداکثر ۵ دقیقه زمان برای کامل شدن داره؟"
      ]
    },
    {
      "cell_type": "code",
      "execution_count": null,
      "id": "3e4d5838-e14a-4f10-8492-4b0f45491600",
      "metadata": {
        "id": "3e4d5838-e14a-4f10-8492-4b0f45491600"
      },
      "outputs": [],
      "source": [
        "task[\"time_to_complete\"] <= 5"
      ]
    },
    {
      "cell_type": "markdown",
      "id": "80a9bb09-1f08-48f0-94ae-ec81997fac3f",
      "metadata": {
        "id": "80a9bb09-1f08-48f0-94ae-ec81997fac3f"
      },
      "source": [
        "پاسخ سوال بالا یک بولین هست درسته؟\n",
        "\n",
        "از این بولین می‌تونی برای نوشتن شرط در پایتون استفاده کنی.\n",
        "\n",
        "مثلا تو تکه کد پایین ما می‌گیم اگه فلان کار برای انجام ۵ دقیقه یا کمتر مهلت داره، برای اجرا به مدل زبانی بفرستش:"
      ]
    },
    {
      "cell_type": "code",
      "execution_count": null,
      "id": "48f46f36-1ddc-4add-850a-db1146ea255a",
      "metadata": {
        "id": "48f46f36-1ddc-4add-850a-db1146ea255a"
      },
      "outputs": [],
      "source": [
        "if task[\"time_to_complete\"] <= 5:\n",
        "    task_to_do = task[\"description\"]\n",
        "    print_llm_response(task_to_do)"
      ]
    },
    {
      "cell_type": "markdown",
      "id": "94757062-3a0b-4988-bb33-147762c11d97",
      "metadata": {
        "id": "94757062-3a0b-4988-bb33-147762c11d97"
      },
      "source": [
        "حالا اگه همین کد رو برای دومین کار تو لیست بالا اجرا کنیم چی میشه؟"
      ]
    },
    {
      "cell_type": "code",
      "execution_count": null,
      "id": "f868908d-2a8b-498f-954d-11e058694913",
      "metadata": {
        "id": "f868908d-2a8b-498f-954d-11e058694913"
      },
      "outputs": [],
      "source": [
        "task = task_list[1]\n",
        "if task[\"time_to_complete\"] <= 5:\n",
        "    task_to_do = task[\"description\"]\n",
        "    print_llm_response(task_to_do)"
      ]
    },
    {
      "cell_type": "code",
      "execution_count": null,
      "id": "3e71c360-2aba-4fc8-9afe-6acedef33b57",
      "metadata": {
        "id": "3e71c360-2aba-4fc8-9afe-6acedef33b57"
      },
      "outputs": [],
      "source": [
        "task[\"time_to_complete\"] <= 5"
      ]
    },
    {
      "cell_type": "markdown",
      "id": "ce67bfcc-bf70-4678-bc5f-fc70713aeb2f",
      "metadata": {
        "id": "ce67bfcc-bf70-4678-bc5f-fc70713aeb2f"
      },
      "source": [
        "و برای سومین و چهارمین کار:"
      ]
    },
    {
      "cell_type": "code",
      "execution_count": null,
      "id": "6d2d541f-be6c-43ac-8ce9-8088d6ac82fb",
      "metadata": {
        "id": "6d2d541f-be6c-43ac-8ce9-8088d6ac82fb"
      },
      "outputs": [],
      "source": [
        "task = task_list[2]\n",
        "if task[\"time_to_complete\"] <= 5:\n",
        "    task_to_do = task[\"description\"]\n",
        "    print_llm_response(task_to_do)"
      ]
    },
    {
      "cell_type": "code",
      "execution_count": null,
      "id": "ee1a2257-e87a-4c01-91c0-649765cf3144",
      "metadata": {
        "id": "ee1a2257-e87a-4c01-91c0-649765cf3144"
      },
      "outputs": [],
      "source": [
        "task = task_list[3]\n",
        "if task[\"time_to_complete\"] <= 5:\n",
        "    task_to_do = task[\"description\"]\n",
        "    print_llm_response(task_to_do)"
      ]
    },
    {
      "cell_type": "markdown",
      "id": "629e34bd-f02b-4163-b826-4626215f55f3",
      "metadata": {
        "id": "629e34bd-f02b-4163-b826-4626215f55f3"
      },
      "source": [
        "## اجرای حلقه روی لیست کارها"
      ]
    },
    {
      "cell_type": "markdown",
      "id": "9bbb1658-819b-4f72-a90c-6d99643e6e20",
      "metadata": {
        "id": "9bbb1658-819b-4f72-a90c-6d99643e6e20"
      },
      "source": [
        "به جای نوشتن دونه به دونه چرا از حلقه فور استفاده نکنیم؟\n",
        "\n",
        "چند درس قبل باهاش آشنا شدیم درسته؟\n",
        "\n",
        "با تکه کد پایین به راحتی تک تک کارها در لیست رو بررسی می‌کنیم و اگر ۵ دقیقه یا کمتر مهلت داشت برای اجرا به هوش مصنوعی می‌فرستیم."
      ]
    },
    {
      "cell_type": "code",
      "execution_count": null,
      "id": "af2044cb-6cc4-4ad7-aa70-a447641c5f63",
      "metadata": {
        "id": "af2044cb-6cc4-4ad7-aa70-a447641c5f63"
      },
      "outputs": [],
      "source": [
        "for task in task_list:\n",
        "    if task[\"time_to_complete\"] <= 5:\n",
        "        task_to_do = task[\"description\"]\n",
        "        print_llm_response(task_to_do)"
      ]
    },
    {
      "cell_type": "markdown",
      "id": "77194b60-9e68-461a-a920-eb84d268bd87",
      "metadata": {
        "id": "77194b60-9e68-461a-a920-eb84d268bd87"
      },
      "source": [
        "## `if`-`else` بلوک‌های"
      ]
    },
    {
      "cell_type": "markdown",
      "id": "8f276ad1-48d1-4211-b509-20ce20ae3a1d",
      "metadata": {
        "id": "8f276ad1-48d1-4211-b509-20ce20ae3a1d"
      },
      "source": [
        "گاهی نیاز داریم که وقتی شرط برقرار نیست (تکه کد داخل بلوک ایف اجرا نمیشه) تکه کد دیگه‌ای اجرا بشه.\n",
        "این جور وقت‌ها از «الس» استفاه می‌کنیم.\n",
        "\n",
        "برای مثال تکه کد پایین یعنی:\n",
        "\n",
        "به ازای تک تک کارها در لیست،\n",
        "\n",
        "اگر زمان لازم برای کامل شدن زیر ۵ دقیقه بود انجام بده\n",
        "\n",
        "در غیراین صورت مدت زمان لازم برای انجام کار در آینده را اعلام کن.  "
      ]
    },
    {
      "cell_type": "code",
      "execution_count": null,
      "id": "a403c715-e321-446c-9fd9-ee5db1c28b05",
      "metadata": {
        "id": "a403c715-e321-446c-9fd9-ee5db1c28b05"
      },
      "outputs": [],
      "source": [
        "for task in task_list:\n",
        "    if task[\"time_to_complete\"] <= 5:\n",
        "        task_to_do = task[\"description\"]\n",
        "        print_llm_response(task_to_do)\n",
        "    else:\n",
        "        print(f\"To complete later: {task['time_to_complete']} minutes to complete.\")"
      ]
    },
    {
      "cell_type": "markdown",
      "id": "425e5bb2-c90e-42b0-a046-8b760ea007b7",
      "metadata": {
        "id": "425e5bb2-c90e-42b0-a046-8b760ea007b7"
      },
      "source": [
        "## ذخیره کارهای انجام نشده"
      ]
    },
    {
      "cell_type": "markdown",
      "id": "04030334-2cdf-4164-967d-4d2af593c3d9",
      "metadata": {
        "id": "04030334-2cdf-4164-967d-4d2af593c3d9"
      },
      "source": [
        "بعد از اجرای حلقه بالا برخی کارها هنوز انجام نشدن.\n",
        "\n",
        "بیا اطلاعات کارهای باقی رو در یک لیست جدید ذخیره کنیم.\n",
        "\n",
        "پارادایم این کد رو یادت هست؟\n",
        "ایجاد یک لیست خالی و افزودن عضو  بسته به شرایط"
      ]
    },
    {
      "cell_type": "code",
      "execution_count": null,
      "id": "20751a1a-e73e-4ded-98a5-48c341debae5",
      "metadata": {
        "id": "20751a1a-e73e-4ded-98a5-48c341debae5"
      },
      "outputs": [],
      "source": [
        "tasks_for_later = []\n",
        "\n",
        "for task in task_list:\n",
        "    if task[\"time_to_complete\"] <= 5:\n",
        "        task_to_do = task[\"description\"]\n",
        "        print_llm_response(task_to_do)\n",
        "    else:\n",
        "        tasks_for_later.append(task)"
      ]
    },
    {
      "cell_type": "code",
      "execution_count": null,
      "id": "f5969c9f-57ac-4146-839b-226ce092387a",
      "metadata": {
        "id": "f5969c9f-57ac-4146-839b-226ce092387a"
      },
      "outputs": [],
      "source": [
        "print(tasks_for_later)"
      ]
    },
    {
      "cell_type": "markdown",
      "id": "9d616998-e210-4d8b-8928-a9776856f518",
      "metadata": {
        "id": "9d616998-e210-4d8b-8928-a9776856f518"
      },
      "source": [
        "شادا 🎉🎉🎉,\n",
        "\n",
        "این هفته خیلی چیزا یاد گرفتیم.\n",
        "\n",
        "نگرانی که فراموش کنی؟\n",
        "\n",
        "نگران نباش. فقط بدون که چنین امکاناتی هست.\n",
        "\n",
        "هر وقت نیاز باشه می‌تونی از چت‌بات برای واکاوی و یادآوری مفهوم‌ها و نحوه کدنویسی کمک بگیری."
      ]
    },
    {
      "cell_type": "markdown",
      "id": "3b4a0ab3-f01a-4fe4-9a50-5f985972b51f",
      "metadata": {
        "id": "3b4a0ab3-f01a-4fe4-9a50-5f985972b51f"
      },
      "source": [
        "## تمرین بیش‌تر"
      ]
    },
    {
      "cell_type": "markdown",
      "id": "ecbfea5c-678a-4a50-9843-a8a939098c18",
      "metadata": {
        "id": "ecbfea5c-678a-4a50-9843-a8a939098c18"
      },
      "source": [
        "بیا تمرین کنیم تا بینش عمیق‌تری پیدا کنیم."
      ]
    },
    {
      "cell_type": "code",
      "execution_count": null,
      "id": "f625ce01-fca2-4754-9503-2c33020524be",
      "metadata": {
        "id": "f625ce01-fca2-4754-9503-2c33020524be"
      },
      "outputs": [],
      "source": [
        "# کد پایین رو طوری اصلاح کن که\n",
        "# اگر کار بیش از ۱۵ دقیقه زمان لازم داشت انجام بشه\n",
        "\n",
        "task = task_list[2]\n",
        "\n",
        "### EDIT THE FOLLOWING CODE ###\n",
        "if task[\"time_to_complete\"]: #رو این خط کار کن\n",
        "    task_to_do = task[\"description\"]\n",
        "    print_llm_response(task_to_do)\n",
        "### --------------- ###"
      ]
    },
    {
      "cell_type": "code",
      "execution_count": null,
      "id": "42a8fb32-b7f9-4dbb-be2b-0eaa790a0e0f",
      "metadata": {
        "id": "42a8fb32-b7f9-4dbb-be2b-0eaa790a0e0f"
      },
      "outputs": [],
      "source": [
        "# کد پایین رو فقط با دندانه گذاری درست کن.\n",
        "# این کد باید چاپ کنه که آیا طعم بستنی شکلاتی\n",
        "# در لیست طعم‌های بستنی موجود هست یا نهlist.\n",
        "\n",
        "ice_cream_flavors = [\n",
        "    \"Vanilla\", \"Strawberry\", \"Mint Chocolate Chip\",\n",
        "    \"Cookies and Cream\", \"Rocky Road\", \"Butter Pecan\",\n",
        "    \"Pistachio\", \"Salted Caramel\", \"Chocolate\",\n",
        "    \"Mango\"\n",
        "]\n",
        "\n",
        "### EDIT THE FOLLOWING CODE ###\n",
        "#Hint: یادتون هست که کدهای شرط یا حلقه با دندانه داشته باشن\n",
        "# دندانه در پایتون به صورت پیش فرض ۴ اسپیس هست.\n",
        "for flavor in ice_cream_flavors:\n",
        "if flavor == \"Chocolate\":\n",
        "print(f\"The list of flavors contains {flavor}, Andrew's favorite.\")\n",
        "### --------------- ###"
      ]
    },
    {
      "cell_type": "code",
      "execution_count": null,
      "id": "fe5406ef-5da6-41d3-993a-764ef3e6dff9",
      "metadata": {
        "id": "fe5406ef-5da6-41d3-993a-764ef3e6dff9"
      },
      "outputs": [],
      "source": [
        "# تو کد پایین تو بخش الس، اف استرینگ رو طوری بساز\n",
        "# که توصیف و زمان لازم برای کارهای مونده رو واضح چاپ کنه\n",
        "\n",
        "for task in task_list:\n",
        "    if task[\"time_to_complete\"] <= 5:\n",
        "        task_to_do = task[\"description\"]\n",
        "        print_llm_response(task_to_do)\n",
        "    else:\n",
        "        ### EDIT THE FOLLOWING CODE ###\n",
        "        # Hint: To add a variable in an f-string\n",
        "        # you need to use the following syntax: {variable_name}.\n",
        "        print(f\"To complete later:\")\n",
        "        ### ---------------  ###"
      ]
    }
  ],
  "metadata": {
    "kernelspec": {
      "display_name": "Python 3 (ipykernel)",
      "language": "python",
      "name": "python3"
    },
    "language_info": {
      "codemirror_mode": {
        "name": "ipython",
        "version": 3
      },
      "file_extension": ".py",
      "mimetype": "text/x-python",
      "name": "python",
      "nbconvert_exporter": "python",
      "pygments_lexer": "ipython3",
      "version": "3.9.19"
    },
    "colab": {
      "provenance": [],
      "include_colab_link": true
    }
  },
  "nbformat": 4,
  "nbformat_minor": 5
}