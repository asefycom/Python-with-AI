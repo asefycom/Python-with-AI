{
  "cells": [
    {
      "cell_type": "markdown",
      "metadata": {
        "id": "view-in-github",
        "colab_type": "text"
      },
      "source": [
        "<a href=\"https://colab.research.google.com/github/asefycom/Python-with-AI/blob/main/2nd-week/L03_for_loops.ipynb\" target=\"_parent\"><img src=\"https://colab.research.google.com/assets/colab-badge.svg\" alt=\"Open In Colab\"/></a>"
      ]
    },
    {
      "cell_type": "markdown",
      "id": "4bd8fbd2-de5c-47bd-bcd9-cbbe8cdc3104",
      "metadata": {
        "id": "4bd8fbd2-de5c-47bd-bcd9-cbbe8cdc3104"
      },
      "source": [
        "# هفته دوم - درس ۳: حلقه‌ی فور"
      ]
    },
    {
      "cell_type": "markdown",
      "id": "e270cc1f",
      "metadata": {
        "id": "e270cc1f"
      },
      "source": [
        "این درس تو رو با مفهوم بسیار مهمی در برنامه‌نویس آشنا می‌کنه.\n",
        "\n",
        "`for loop`\n",
        "\n",
        "حلقه فور در زبان‌های برنامه‌نویسی گوناگون وجود داره؛ حالا کمی با سینتکس متفاوت.\n",
        "\n",
        "\n",
        "با حلقه فور می‌تونی یک کار تکراری «به ازای» همه اعضای لیست رو خودکار کنی.\n"
      ]
    },
    {
      "cell_type": "markdown",
      "source": [
        "## راه‌اندازی توگدر برای کار با هوش مصنوعی"
      ],
      "metadata": {
        "id": "OCeYYwDiLThZ"
      },
      "id": "OCeYYwDiLThZ"
    },
    {
      "cell_type": "code",
      "execution_count": null,
      "id": "41ef33ad-2b5c-40db-a1ab-9f3c689edd55",
      "metadata": {
        "id": "41ef33ad-2b5c-40db-a1ab-9f3c689edd55"
      },
      "outputs": [],
      "source": [
        "!pip install together"
      ]
    },
    {
      "cell_type": "code",
      "source": [
        "from google.colab import userdata\n",
        "from together import Together\n",
        "\n",
        "client = Together(api_key=userdata.get('TOGETHER_API_KEY'))\n",
        "\n",
        "def print_llm_response(prompt):\n",
        "    response = client.chat.completions.create(\n",
        "        model=\"google/gemma-3n-E4B-it\",\n",
        "        # model=\"meta-llama/Llama-3.3-70B-Instruct-Turbo-Free\",\n",
        "        messages=[\n",
        "        {\n",
        "            \"role\": \"user\",\n",
        "            \"content\": prompt\n",
        "        }\n",
        "        ]\n",
        "    )\n",
        "    return response.choices[0].message.content"
      ],
      "metadata": {
        "id": "n6ag_ZIhLL_x"
      },
      "id": "n6ag_ZIhLL_x",
      "execution_count": null,
      "outputs": []
    },
    {
      "cell_type": "markdown",
      "id": "db2a457b",
      "metadata": {
        "id": "db2a457b"
      },
      "source": [
        "## از درس قبل\n",
        "\n",
        "پایان درس قبل لیستی از کارها رو داشتیم یادته؟"
      ]
    },
    {
      "cell_type": "code",
      "execution_count": null,
      "id": "c2f3989f",
      "metadata": {
        "id": "c2f3989f"
      },
      "outputs": [],
      "source": [
        "#from previous lesson:\n",
        "list_of_tasks = [\n",
        "    \"Compose a brief email to my boss explaining that I will be late for tomorrow's meeting.\",\n",
        "    \"Write a birthday poem for Otto, celebrating his 28th birthday.\",\n",
        "    \"Write a 300-word review of the movie 'The Arrival'.\"\n",
        "]\n",
        "print(list_of_tasks)"
      ]
    },
    {
      "cell_type": "markdown",
      "id": "e5bae794",
      "metadata": {
        "id": "e5bae794"
      },
      "source": [
        "تک تک اعضای این لیست رو جدا جدا به مدل زبانی بزرگ فرستادیم."
      ]
    },
    {
      "cell_type": "code",
      "execution_count": null,
      "id": "9f426b72",
      "metadata": {
        "id": "9f426b72"
      },
      "outputs": [],
      "source": [
        "task = list_of_tasks[0]\n",
        "print_llm_response(task)"
      ]
    },
    {
      "cell_type": "markdown",
      "id": "c46ed944-05e1-4ae0-a238-f172413b1771",
      "metadata": {
        "id": "c46ed944-05e1-4ae0-a238-f172413b1771"
      },
      "source": [
        "به جای تکرار دستی می‌تونی از حلقه فور استفاده کنی."
      ]
    },
    {
      "cell_type": "markdown",
      "id": "b40551bc",
      "metadata": {
        "id": "b40551bc"
      },
      "source": [
        "## تکرار وظایف ارسالی به هوش مصنوعی"
      ]
    },
    {
      "cell_type": "markdown",
      "id": "58985454-e28e-49c8-9fe9-3b9057bafd08",
      "metadata": {
        "id": "58985454-e28e-49c8-9fe9-3b9057bafd08"
      },
      "source": [
        "کد پایین رو ببین. با این دو خط کد ما به پایتون گفتیم که «به ازای» تک اعضای لیست مورد نظرمون اون عضو رو چاپ کنه."
      ]
    },
    {
      "cell_type": "code",
      "execution_count": null,
      "id": "0c05dc28-4833-46ae-aad1-3607fab9cd67",
      "metadata": {
        "id": "0c05dc28-4833-46ae-aad1-3607fab9cd67"
      },
      "outputs": [],
      "source": [
        "for task in list_of_tasks:\n",
        "    print(task)"
      ]
    },
    {
      "cell_type": "markdown",
      "id": "e7dedcb5",
      "metadata": {
        "id": "e7dedcb5"
      },
      "source": [
        "حالا این یکی رو داشته باش\n",
        "\n",
        "اینجا گفتیم «به ازای» هر عضو لیست بیا اون عضو رو -که در واقع یک پرامپت هست- به مدل زبانی بزرگ\n",
        " بفرست و جوابش رو چاپ کن و بعد برو سراغ عضو بعدی"
      ]
    },
    {
      "cell_type": "code",
      "execution_count": null,
      "id": "721136bd",
      "metadata": {
        "id": "721136bd"
      },
      "outputs": [],
      "source": [
        "for task in list_of_tasks:\n",
        "    print_llm_response(task)"
      ]
    },
    {
      "cell_type": "markdown",
      "id": "f9a7a927",
      "metadata": {
        "id": "f9a7a927"
      },
      "source": [
        "بیا برات مراحل اجرای کد بالا توسط پایتون رو توضیح بدم.\n",
        "\n",
        "عبارت\n",
        "\n",
        "`for task in list`\n",
        "\n",
        "به این صورت کار می‌کنه:\n",
        "\n",
        "- اول متغیر\n",
        "\n",
        "`task`\n",
        "\n",
        "مقدار اولین عضو رو می‌گیره یعنی:\n",
        "\n",
        "`\"Compose a brief email to my boss explaining that I will be late for tomorrow's meeting.\"`\n",
        "\n",
        "- بعد عملی که داخل حلقه نوشته شده روی متغیر\n",
        "\n",
        "`task`\n",
        "\n",
        "اجرا میشه و در واقع مقدار اون رو به تابع پرینت ریسپانس میده تا به مدل زبانی بفرسته و جوابش رو برگردونه.\n",
        "\n",
        "- سرانجام این دور کامل میشه و حلقه فور سراغ دور بعدی میره. مقدارعضو دوم به متغیر تخصیص داده میشه و پرامپت به مدل زبانی فرستاده میشه.\n",
        "\n",
        "- مراحل بالا به ازای همه اعضای لیست تکرار میشه.\n",
        "\n",
        "\n",
        "*نکته مهم*\n",
        "\n",
        "علامت دو نقطه در پایان عبارت فور الزامی هست و دندانه گذاری عبارت داخل فور هم همین طور."
      ]
    },
    {
      "cell_type": "code",
      "execution_count": null,
      "id": "8516a3dc",
      "metadata": {
        "id": "8516a3dc"
      },
      "outputs": [],
      "source": [
        "for task in list_of_tasks:\n",
        "print_llm_response(task)"
      ]
    },
    {
      "cell_type": "markdown",
      "id": "2d8e58be",
      "metadata": {
        "id": "2d8e58be"
      },
      "source": [
        "<p style=\"background-color:#F5C780; padding:15px\"> 🤖 <b>از چت‌بات استفاده کنید:</b>\n",
        "\n",
        "خطای دندانه گذاری رو برام توضیح بده و تکه کد پایین رو اصلاح کنی:\n",
        "\n",
        " <br>\n",
        "for task in list_of_tasks:<br>\n",
        "print_llm_response(task)\n",
        "</p>"
      ]
    },
    {
      "cell_type": "markdown",
      "id": "8fdafdba-1a33-4bbd-9061-6950bd8bc488",
      "metadata": {
        "id": "8fdafdba-1a33-4bbd-9061-6950bd8bc488"
      },
      "source": [
        "## پرامپت پویا با حلقه‌ی فور"
      ]
    },
    {
      "cell_type": "markdown",
      "id": "09cf3e07",
      "metadata": {
        "id": "09cf3e07"
      },
      "source": [
        "می تونی از حلقه فور استفاده کنی و پرامپت‌های پویایی با مقدارهای گوناگون متغیرها درست کنی.\n",
        "\n",
        "مثلا فرض کن تعدادی طعم بستنی داریم:"
      ]
    },
    {
      "cell_type": "code",
      "execution_count": null,
      "id": "385f6ec5",
      "metadata": {
        "id": "385f6ec5"
      },
      "outputs": [],
      "source": [
        "#ice cream flavor example\n",
        "ice_cream_flavors = [\n",
        "    \"وانیل\",\n",
        "    \"شکلات\",\n",
        "    \"توت فرنگی\",\n",
        "    \"چیپس شکلات نعنایی\"\n",
        "]"
      ]
    },
    {
      "cell_type": "code",
      "execution_count": null,
      "id": "d732762f",
      "metadata": {
        "id": "d732762f"
      },
      "outputs": [],
      "source": [
        "for flavor in ice_cream_flavors:\n",
        "    prompt = f\"\"\"من بستنی‌فروشی دارم. طعم بستنی پایین رو در نظر بگیر و\n",
        "    یه توصیف گیرا برای تبلیغ این بستنی بنویس. یک جمله باشه.\n",
        "\n",
        "    طعم: {flavor}\n",
        "\n",
        "    \"\"\"\n",
        "    print_llm_response(prompt)"
      ]
    },
    {
      "cell_type": "markdown",
      "id": "d3f3ead6",
      "metadata": {
        "id": "d3f3ead6"
      },
      "source": [
        "از درس قبلی تابع\n",
        "\n",
        " `.append()`\n",
        "\n",
        "یادت هست؟\n",
        "\n",
        "با کمک این تابع می‌تونیم خروجی‌های مدل (توصیف‌ طعم‌های گوناگون بستنی) رو هم تو به لیست تازهز ای اضافه کنیم."
      ]
    },
    {
      "cell_type": "code",
      "execution_count": null,
      "id": "db66a442",
      "metadata": {
        "id": "db66a442"
      },
      "outputs": [],
      "source": [
        "#saving results to a list\n",
        "promotional_descriptions = []\n",
        "for flavor in ice_cream_flavors:\n",
        "    prompt = f\"\"\"For the ice cream flavor listed below,\n",
        "    provide a captivating description that could be used for promotional purposes.\n",
        "\n",
        "    Flavor: {flavor}\n",
        "\n",
        "    \"\"\"\n",
        "    description = print_llm_response(prompt)\n",
        "    promotional_descriptions.append(description)"
      ]
    },
    {
      "cell_type": "markdown",
      "id": "ebdbcfa5",
      "metadata": {
        "id": "ebdbcfa5"
      },
      "source": [
        "با اجرای کد بالا همه توصیف‌ها رو یکجا داری."
      ]
    },
    {
      "cell_type": "code",
      "execution_count": null,
      "id": "cad94172",
      "metadata": {
        "id": "cad94172"
      },
      "outputs": [],
      "source": [
        "print(promotional_descriptions)"
      ]
    },
    {
      "cell_type": "markdown",
      "id": "7135f13d-0f36-4de4-9365-bdadb8e6d611",
      "metadata": {
        "id": "7135f13d-0f36-4de4-9365-bdadb8e6d611"
      },
      "source": [
        "## تمرین فراتر"
      ]
    },
    {
      "cell_type": "markdown",
      "id": "c01cc56d-92c7-4632-8cf9-aef3f9f9e3c7",
      "metadata": {
        "id": "c01cc56d-92c7-4632-8cf9-aef3f9f9e3c7"
      },
      "source": [
        "برای تمرین بیشتر کار با حلقه‌ها تمرین‌های پایین رو حل کن."
      ]
    },
    {
      "cell_type": "code",
      "execution_count": null,
      "id": "f5a19e85-cd80-4e02-a5e1-762284bd27b6",
      "metadata": {
        "id": "f5a19e85-cd80-4e02-a5e1-762284bd27b6"
      },
      "outputs": [],
      "source": [
        "# کد پایین رو اصلاح کن.\n",
        "# باید طوری بشه که تک تک طعم ها چاپ بشن\n",
        "\n",
        "ice_cream_flavors = [\"Chocolate\", \"Mint Chocolate Chip\"]\n",
        "\n",
        "### EDIT THE FOLLOWING CODE ###\n",
        "for flavor in ice_cream_flavors;\n",
        "    print(ice_cream_flavors)\n",
        "### --------------- ###"
      ]
    },
    {
      "cell_type": "code",
      "execution_count": null,
      "id": "7b7480c4-ae67-42bd-8cac-189f1f087053",
      "metadata": {
        "id": "7b7480c4-ae67-42bd-8cac-189f1f087053"
      },
      "outputs": [],
      "source": [
        "# طعم های لیست پایین رو\n",
        "# با اضافه کردن یکی دو جمله به پرامپت\n",
        "# به فارسی ترجمه کن\n",
        "ice_cream_flavors = [\"Vanilla\", \"Strawberry\"]\n",
        "\n",
        "for flavor in ice_cream_flavors:\n",
        "    ### EDIT THE FOLLOWING CODE ###\n",
        "    #Hint: you only need to add one or two sentences to the prompt\n",
        "    prompt = f\"\"\"For the ice cream flavor listed below,\n",
        "\n",
        "    \"\"\"\n",
        "    ### --------------- ###\n",
        "    print_llm_response(prompt)"
      ]
    },
    {
      "cell_type": "code",
      "execution_count": null,
      "id": "6394bb74-a839-4732-8dbf-1b96bd8e97f9",
      "metadata": {
        "id": "6394bb74-a839-4732-8dbf-1b96bd8e97f9"
      },
      "outputs": [],
      "source": [
        "# کاری کن که فهرست کلمات بدون غلط املایی کامل بشه\n",
        "\n",
        "words_with_typos = [\"Aple\", \"Wether\", \"Newpaper\"]\n",
        "words_without_typos = []\n",
        "\n",
        "for word in words_with_typos:\n",
        "    prompt = f\"\"\"Fix the spelling mistake in the following word: {word}\n",
        "    Provide only the word.\n",
        "    \"\"\"\n",
        "    correct_word = print_llm_response(prompt)\n",
        "    ### WRITE CODE HERE  ###\n",
        "    #Hint: Append the correct_word to the words_without_typos list\n",
        "    ### --------------- ###\n",
        "\n",
        "print(words_without_typos)"
      ]
    }
  ],
  "metadata": {
    "kernelspec": {
      "display_name": "Python 3 (ipykernel)",
      "language": "python",
      "name": "python3"
    },
    "language_info": {
      "codemirror_mode": {
        "name": "ipython",
        "version": 3
      },
      "file_extension": ".py",
      "mimetype": "text/x-python",
      "name": "python",
      "nbconvert_exporter": "python",
      "pygments_lexer": "ipython3",
      "version": "3.9.19"
    },
    "colab": {
      "provenance": [],
      "include_colab_link": true
    }
  },
  "nbformat": 4,
  "nbformat_minor": 5
}