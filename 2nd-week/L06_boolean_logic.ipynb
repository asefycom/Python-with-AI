{
  "cells": [
    {
      "cell_type": "markdown",
      "metadata": {
        "id": "view-in-github",
        "colab_type": "text"
      },
      "source": [
        "<a href=\"https://colab.research.google.com/github/asefycom/Python-with-AI/blob/main/2nd-week/L06_boolean_logic.ipynb\" target=\"_parent\"><img src=\"https://colab.research.google.com/assets/colab-badge.svg\" alt=\"Open In Colab\"/></a>"
      ]
    },
    {
      "cell_type": "markdown",
      "id": "1d3c3445-0836-45b7-b879-df92ba1fd264",
      "metadata": {
        "id": "1d3c3445-0836-45b7-b879-df92ba1fd264"
      },
      "source": [
        "# هفته دوم - درس ۶: مقایسه داده‌ها\n",
        "\n",
        "نگاهی به منطق بولی و اجراش در پایتون\n"
      ]
    },
    {
      "cell_type": "markdown",
      "source": [
        "## راه‌اندازی توگدر برای کار با هوش مصنوعی\n"
      ],
      "metadata": {
        "id": "zEVZWGH9eqKh"
      },
      "id": "zEVZWGH9eqKh"
    },
    {
      "cell_type": "code",
      "execution_count": null,
      "id": "3f11902c-9cf7-42f5-9c0f-890cfed3506c",
      "metadata": {
        "colab": {
          "base_uri": "https://localhost:8080/"
        },
        "id": "3f11902c-9cf7-42f5-9c0f-890cfed3506c",
        "outputId": "d045ec63-3d9c-4fe1-b24c-505d958c6cea"
      },
      "outputs": [
        {
          "output_type": "stream",
          "name": "stdout",
          "text": [
            "Collecting together\n",
            "  Downloading together-1.5.19-py3-none-any.whl.metadata (15 kB)\n",
            "Requirement already satisfied: aiohttp<4.0.0,>=3.9.3 in /usr/local/lib/python3.11/dist-packages (from together) (3.11.15)\n",
            "Requirement already satisfied: click<9.0.0,>=8.1.7 in /usr/local/lib/python3.11/dist-packages (from together) (8.2.1)\n",
            "Collecting eval-type-backport<0.3.0,>=0.1.3 (from together)\n",
            "  Downloading eval_type_backport-0.2.2-py3-none-any.whl.metadata (2.2 kB)\n",
            "Requirement already satisfied: filelock<4.0.0,>=3.13.1 in /usr/local/lib/python3.11/dist-packages (from together) (3.18.0)\n",
            "Requirement already satisfied: numpy>=1.23.5 in /usr/local/lib/python3.11/dist-packages (from together) (2.0.2)\n",
            "Requirement already satisfied: pillow<12.0.0,>=11.1.0 in /usr/local/lib/python3.11/dist-packages (from together) (11.2.1)\n",
            "Requirement already satisfied: pydantic<3.0.0,>=2.6.3 in /usr/local/lib/python3.11/dist-packages (from together) (2.11.7)\n",
            "Requirement already satisfied: requests<3.0.0,>=2.31.0 in /usr/local/lib/python3.11/dist-packages (from together) (2.32.3)\n",
            "Requirement already satisfied: rich<15.0.0,>=13.8.1 in /usr/local/lib/python3.11/dist-packages (from together) (13.9.4)\n",
            "Requirement already satisfied: tabulate<0.10.0,>=0.9.0 in /usr/local/lib/python3.11/dist-packages (from together) (0.9.0)\n",
            "Requirement already satisfied: tqdm<5.0.0,>=4.66.2 in /usr/local/lib/python3.11/dist-packages (from together) (4.67.1)\n",
            "Collecting typer<0.16,>=0.9 (from together)\n",
            "  Downloading typer-0.15.4-py3-none-any.whl.metadata (15 kB)\n",
            "Requirement already satisfied: aiohappyeyeballs>=2.3.0 in /usr/local/lib/python3.11/dist-packages (from aiohttp<4.0.0,>=3.9.3->together) (2.6.1)\n",
            "Requirement already satisfied: aiosignal>=1.1.2 in /usr/local/lib/python3.11/dist-packages (from aiohttp<4.0.0,>=3.9.3->together) (1.3.2)\n",
            "Requirement already satisfied: attrs>=17.3.0 in /usr/local/lib/python3.11/dist-packages (from aiohttp<4.0.0,>=3.9.3->together) (25.3.0)\n",
            "Requirement already satisfied: frozenlist>=1.1.1 in /usr/local/lib/python3.11/dist-packages (from aiohttp<4.0.0,>=3.9.3->together) (1.7.0)\n",
            "Requirement already satisfied: multidict<7.0,>=4.5 in /usr/local/lib/python3.11/dist-packages (from aiohttp<4.0.0,>=3.9.3->together) (6.6.3)\n",
            "Requirement already satisfied: propcache>=0.2.0 in /usr/local/lib/python3.11/dist-packages (from aiohttp<4.0.0,>=3.9.3->together) (0.3.2)\n",
            "Requirement already satisfied: yarl<2.0,>=1.17.0 in /usr/local/lib/python3.11/dist-packages (from aiohttp<4.0.0,>=3.9.3->together) (1.20.1)\n",
            "Requirement already satisfied: annotated-types>=0.6.0 in /usr/local/lib/python3.11/dist-packages (from pydantic<3.0.0,>=2.6.3->together) (0.7.0)\n",
            "Requirement already satisfied: pydantic-core==2.33.2 in /usr/local/lib/python3.11/dist-packages (from pydantic<3.0.0,>=2.6.3->together) (2.33.2)\n",
            "Requirement already satisfied: typing-extensions>=4.12.2 in /usr/local/lib/python3.11/dist-packages (from pydantic<3.0.0,>=2.6.3->together) (4.14.0)\n",
            "Requirement already satisfied: typing-inspection>=0.4.0 in /usr/local/lib/python3.11/dist-packages (from pydantic<3.0.0,>=2.6.3->together) (0.4.1)\n",
            "Requirement already satisfied: charset-normalizer<4,>=2 in /usr/local/lib/python3.11/dist-packages (from requests<3.0.0,>=2.31.0->together) (3.4.2)\n",
            "Requirement already satisfied: idna<4,>=2.5 in /usr/local/lib/python3.11/dist-packages (from requests<3.0.0,>=2.31.0->together) (3.10)\n",
            "Requirement already satisfied: urllib3<3,>=1.21.1 in /usr/local/lib/python3.11/dist-packages (from requests<3.0.0,>=2.31.0->together) (2.4.0)\n",
            "Requirement already satisfied: certifi>=2017.4.17 in /usr/local/lib/python3.11/dist-packages (from requests<3.0.0,>=2.31.0->together) (2025.6.15)\n",
            "Requirement already satisfied: markdown-it-py>=2.2.0 in /usr/local/lib/python3.11/dist-packages (from rich<15.0.0,>=13.8.1->together) (3.0.0)\n",
            "Requirement already satisfied: pygments<3.0.0,>=2.13.0 in /usr/local/lib/python3.11/dist-packages (from rich<15.0.0,>=13.8.1->together) (2.19.2)\n",
            "Collecting click<9.0.0,>=8.1.7 (from together)\n",
            "  Downloading click-8.1.8-py3-none-any.whl.metadata (2.3 kB)\n",
            "Requirement already satisfied: shellingham>=1.3.0 in /usr/local/lib/python3.11/dist-packages (from typer<0.16,>=0.9->together) (1.5.4)\n",
            "Requirement already satisfied: mdurl~=0.1 in /usr/local/lib/python3.11/dist-packages (from markdown-it-py>=2.2.0->rich<15.0.0,>=13.8.1->together) (0.1.2)\n",
            "Downloading together-1.5.19-py3-none-any.whl (91 kB)\n",
            "\u001b[2K   \u001b[90m━━━━━━━━━━━━━━━━━━━━━━━━━━━━━━━━━━━━━━━━\u001b[0m \u001b[32m91.6/91.6 kB\u001b[0m \u001b[31m2.9 MB/s\u001b[0m eta \u001b[36m0:00:00\u001b[0m\n",
            "\u001b[?25hDownloading eval_type_backport-0.2.2-py3-none-any.whl (5.8 kB)\n",
            "Downloading typer-0.15.4-py3-none-any.whl (45 kB)\n",
            "\u001b[2K   \u001b[90m━━━━━━━━━━━━━━━━━━━━━━━━━━━━━━━━━━━━━━━━\u001b[0m \u001b[32m45.3/45.3 kB\u001b[0m \u001b[31m2.7 MB/s\u001b[0m eta \u001b[36m0:00:00\u001b[0m\n",
            "\u001b[?25hDownloading click-8.1.8-py3-none-any.whl (98 kB)\n",
            "\u001b[2K   \u001b[90m━━━━━━━━━━━━━━━━━━━━━━━━━━━━━━━━━━━━━━━━\u001b[0m \u001b[32m98.2/98.2 kB\u001b[0m \u001b[31m6.7 MB/s\u001b[0m eta \u001b[36m0:00:00\u001b[0m\n",
            "\u001b[?25hInstalling collected packages: eval-type-backport, click, typer, together\n",
            "  Attempting uninstall: click\n",
            "    Found existing installation: click 8.2.1\n",
            "    Uninstalling click-8.2.1:\n",
            "      Successfully uninstalled click-8.2.1\n",
            "  Attempting uninstall: typer\n",
            "    Found existing installation: typer 0.16.0\n",
            "    Uninstalling typer-0.16.0:\n",
            "      Successfully uninstalled typer-0.16.0\n",
            "Successfully installed click-8.1.8 eval-type-backport-0.2.2 together-1.5.19 typer-0.15.4\n"
          ]
        }
      ],
      "source": [
        "!pip install together"
      ]
    },
    {
      "cell_type": "code",
      "source": [
        "from google.colab import userdata\n",
        "from together import Together\n",
        "\n",
        "client = Together(api_key=userdata.get('TOGETHER_API_KEY'))\n",
        "\n",
        "def print_llm_response(prompt):\n",
        "    response = client.chat.completions.create(\n",
        "        model=\"google/gemma-3n-E4B-it\",\n",
        "        # model=\"meta-llama/Llama-3.3-70B-Instruct-Turbo-Free\",\n",
        "        messages=[\n",
        "        {\n",
        "            \"role\": \"user\",\n",
        "            \"content\": prompt\n",
        "        }\n",
        "        ]\n",
        "    )\n",
        "    return response.choices[0].message.content"
      ],
      "metadata": {
        "id": "yT1f8cD-evk6"
      },
      "id": "yT1f8cD-evk6",
      "execution_count": null,
      "outputs": []
    },
    {
      "cell_type": "markdown",
      "source": [
        "## یادآوری"
      ],
      "metadata": {
        "id": "LgHHMBsCfMYC"
      },
      "id": "LgHHMBsCfMYC"
    },
    {
      "cell_type": "markdown",
      "id": "27643fe1-d280-4c25-9df6-4c1fbdc93c91",
      "metadata": {
        "id": "27643fe1-d280-4c25-9df6-4c1fbdc93c91"
      },
      "source": [
        "فرض کن تو مثال درس قبل گیاه‌خوار بودن رضا رو به صورت یک عبارت درست یا نادرست گزاش کنیم."
      ]
    },
    {
      "cell_type": "code",
      "execution_count": null,
      "id": "66fd82db-5451-4286-a2d8-bc2b48de47d0",
      "metadata": {
        "id": "66fd82db-5451-4286-a2d8-bc2b48de47d0"
      },
      "outputs": [],
      "source": [
        "food_preferences_reza = {\n",
        "    #\"dietary_restrictions\": \"vegetarian\",\n",
        "    \"favorite_ingredients\": [\"mushrooms\", \"olives\"],\n",
        "    \"experience_level\": \"intermediate\",\n",
        "    \"maximum_spice_level\": 6\n",
        "}"
      ]
    },
    {
      "cell_type": "markdown",
      "id": "53d1571a-0f64-45b8-8cee-2b427e9055e4",
      "metadata": {
        "id": "53d1571a-0f64-45b8-8cee-2b427e9055e4"
      },
      "source": [
        "به جای کلید «محدودیت رژیمی» کلید «آیا گیاهخوار است؟» به صورت پایین اضافه می‌کنیم.\n",
        "\n",
        "مقدار این کلید در واقع جواب همین سوال هست و بنابراین می‌تونه بله/خیر یا درست/نادرست باشه."
      ]
    },
    {
      "cell_type": "code",
      "execution_count": null,
      "id": "fa282cdb",
      "metadata": {
        "id": "fa282cdb"
      },
      "outputs": [],
      "source": [
        "food_preferences_reza[\"is_vegetarian\"] = True"
      ]
    },
    {
      "cell_type": "markdown",
      "id": "c21c36e3-3b19-403c-b667-e81c38e8dc09",
      "metadata": {
        "id": "c21c36e3-3b19-403c-b667-e81c38e8dc09"
      },
      "source": [
        "این نوع داده‌‌ها به نام «بولین» شناخته میشن و فقط می‌تونن دو مقدار داشته باشن:\n",
        "\n",
        " `True` یا `False`."
      ]
    },
    {
      "cell_type": "code",
      "execution_count": null,
      "id": "c986cc9a-853c-46f7-bdf8-ef8df55abe32",
      "metadata": {
        "id": "c986cc9a-853c-46f7-bdf8-ef8df55abe32",
        "colab": {
          "base_uri": "https://localhost:8080/"
        },
        "outputId": "1064af8b-3f74-43f1-80c7-be501197c214"
      },
      "outputs": [
        {
          "output_type": "stream",
          "name": "stdout",
          "text": [
            "{'favorite_ingredients': ['mushrooms', 'olives'], 'experience_level': 'intermediate', 'maximum_spice_level': 6, 'is_vegetarian': True}\n"
          ]
        }
      ],
      "source": [
        "print(food_preferences_reza)"
      ]
    },
    {
      "cell_type": "markdown",
      "id": "df2a16f0",
      "metadata": {
        "id": "df2a16f0"
      },
      "source": [
        "## True و False مقدارهای\n",
        "این دو مقدار شبیه استرینگ‌ها نوشته میشن ولی کوتیشن ندارن.\n",
        "\n",
        "داده بولین فقط یکی از این دو مقدار رو می‌تونه داشته باشه."
      ]
    },
    {
      "cell_type": "code",
      "execution_count": null,
      "id": "bf4bbcab",
      "metadata": {
        "id": "bf4bbcab",
        "colab": {
          "base_uri": "https://localhost:8080/"
        },
        "outputId": "c9b32b5c-9573-4d30-a009-038cd9a42361"
      },
      "outputs": [
        {
          "output_type": "stream",
          "name": "stdout",
          "text": [
            "True\n",
            "False\n"
          ]
        }
      ],
      "source": [
        "print(True)\n",
        "print(False)"
      ]
    },
    {
      "cell_type": "markdown",
      "id": "dd28620f",
      "metadata": {
        "id": "dd28620f"
      },
      "source": [
        "Below, you can check the type for each of these values."
      ]
    },
    {
      "cell_type": "code",
      "execution_count": null,
      "id": "81b76163-452a-41fc-99d9-7409d501739d",
      "metadata": {
        "id": "81b76163-452a-41fc-99d9-7409d501739d",
        "colab": {
          "base_uri": "https://localhost:8080/"
        },
        "outputId": "41d1dde6-78b5-4037-c328-dd20062c749a"
      },
      "outputs": [
        {
          "output_type": "execute_result",
          "data": {
            "text/plain": [
              "bool"
            ]
          },
          "metadata": {},
          "execution_count": 5
        }
      ],
      "source": [
        "type(True)"
      ]
    },
    {
      "cell_type": "code",
      "execution_count": null,
      "id": "65304293",
      "metadata": {
        "id": "65304293",
        "colab": {
          "base_uri": "https://localhost:8080/"
        },
        "outputId": "d62c7fac-4490-4ed1-b159-a2018739cc70"
      },
      "outputs": [
        {
          "output_type": "execute_result",
          "data": {
            "text/plain": [
              "bool"
            ]
          },
          "metadata": {},
          "execution_count": 6
        }
      ],
      "source": [
        "type(False)"
      ]
    },
    {
      "cell_type": "markdown",
      "id": "54b865d5",
      "metadata": {
        "id": "54b865d5"
      },
      "source": [
        "اگه کنجکاوی از چت‌بات در مورد علت این نام‌گذاری بپرس\n",
        "<p style=\"background-color:#F5C780; padding:15px\"> 🤖 <b>پرامپت به چت‌بات</b>\n",
        "\n",
        "علت نام‌گذای نوع داده بولین چیست؟\n",
        "</p>  \n"
      ]
    },
    {
      "cell_type": "markdown",
      "id": "00fc7a7e",
      "metadata": {
        "id": "00fc7a7e"
      },
      "source": [
        "بولین هم مثل نوع‌داده‌های دیگه می‌تونی داخل متغیر ذخیره کنی."
      ]
    },
    {
      "cell_type": "code",
      "execution_count": null,
      "id": "d94fb8d3-4c0a-4247-b802-fa0a1821754b",
      "metadata": {
        "id": "d94fb8d3-4c0a-4247-b802-fa0a1821754b"
      },
      "outputs": [],
      "source": [
        "is_reza_my_friend = True"
      ]
    },
    {
      "cell_type": "code",
      "execution_count": null,
      "id": "fe3aef3c-8c01-4ad2-867a-fef7c8afe109",
      "metadata": {
        "id": "fe3aef3c-8c01-4ad2-867a-fef7c8afe109"
      },
      "outputs": [],
      "source": [
        "is_sara_older_than_me = False"
      ]
    },
    {
      "cell_type": "code",
      "execution_count": null,
      "id": "41c2106f-2878-459e-9b91-8b59efe0de1f",
      "metadata": {
        "id": "41c2106f-2878-459e-9b91-8b59efe0de1f"
      },
      "outputs": [],
      "source": [
        "print(is_reza_my_friend)"
      ]
    },
    {
      "cell_type": "code",
      "execution_count": null,
      "id": "2160cb40-97a6-48f9-a3ef-fc97a1b74f11",
      "metadata": {
        "id": "2160cb40-97a6-48f9-a3ef-fc97a1b74f11"
      },
      "outputs": [],
      "source": [
        "print(is_sara_older_than_me)"
      ]
    },
    {
      "cell_type": "code",
      "execution_count": null,
      "id": "110edbfc-3412-4f97-91d3-f294ddf009c6",
      "metadata": {
        "id": "110edbfc-3412-4f97-91d3-f294ddf009c6"
      },
      "outputs": [],
      "source": [
        "type(is_sara_older_than_me)"
      ]
    },
    {
      "cell_type": "markdown",
      "id": "6930b80c",
      "metadata": {
        "id": "6930b80c"
      },
      "source": [
        "## عملگرهای مقایسه‌\n",
        "\n",
        "وقتی دو متغیر رو در پایتون مقایسه می‌کنی، خروجی این مقایسه بولین هست.\n",
        "\n",
        "مثال"
      ]
    },
    {
      "cell_type": "code",
      "execution_count": null,
      "id": "2e3000f5",
      "metadata": {
        "id": "2e3000f5"
      },
      "outputs": [],
      "source": [
        "isabel_age = 28\n",
        "daniel_age = 30\n",
        "tommy_age = 30"
      ]
    },
    {
      "cell_type": "markdown",
      "id": "cc9b9c70",
      "metadata": {
        "id": "cc9b9c70"
      },
      "source": [
        "سه متغیر بالا حاوی سه عدد صحیح هستن.\n",
        "\n",
        "شبیه چیزی که در ریاضی تجربه کردی اینجا هم می‌تونی برای مقایسه این سه عدد از عملگرهایی مثل < و ... استفاده کنی.\n",
        "\n",
        "مثلا ببینیم که آیا متغیر سن ایزابل از متغیر سن دنیل بزرگتر هست؟"
      ]
    },
    {
      "cell_type": "code",
      "execution_count": null,
      "id": "6c9370d2-5d69-428f-8c8a-c321fa8d830b",
      "metadata": {
        "id": "6c9370d2-5d69-428f-8c8a-c321fa8d830b"
      },
      "outputs": [],
      "source": [
        "print(isabel_age > daniel_age)"
      ]
    },
    {
      "cell_type": "markdown",
      "id": "3ecf1493-cddf-495f-ba6d-b21549d33538",
      "metadata": {
        "id": "3ecf1493-cddf-495f-ba6d-b21549d33538"
      },
      "source": [
        "حالا ببینیم که آیا سن ایزابل از سن دنیل کوچکتر هست؟"
      ]
    },
    {
      "cell_type": "code",
      "execution_count": null,
      "id": "0c6dca17-e8d0-4b22-935e-9162882f9910",
      "metadata": {
        "id": "0c6dca17-e8d0-4b22-935e-9162882f9910"
      },
      "outputs": [],
      "source": [
        "print(isabel_age < daniel_age)"
      ]
    },
    {
      "cell_type": "markdown",
      "source": [
        "حالا ببین چطور نتیجه مقایسه که یک داده بولین هست رو داخل یک متغیر جدید ذخیره می‌کنم."
      ],
      "metadata": {
        "id": "XbWdxvGtFW4S"
      },
      "id": "XbWdxvGtFW4S"
    },
    {
      "cell_type": "code",
      "execution_count": null,
      "id": "d52d2c60-0ac9-4a4d-acb9-3bf98d56efb6",
      "metadata": {
        "id": "d52d2c60-0ac9-4a4d-acb9-3bf98d56efb6"
      },
      "outputs": [],
      "source": [
        "is_isabel_older_than_daniel = isabel_age > daniel_age\n",
        "print(is_isabel_older_than_daniel)"
      ]
    },
    {
      "cell_type": "markdown",
      "id": "104a2ac5",
      "metadata": {
        "id": "104a2ac5"
      },
      "source": [
        "به همین شکل عملگرهای بزرگتر مساوی\n",
        "\n",
        "`>=‍` و\n",
        "\n",
        "کوچکتر مساوی\n",
        "\n",
        "`<=`\n",
        "\n",
        "هم داریم."
      ]
    },
    {
      "cell_type": "code",
      "execution_count": null,
      "id": "b9a720e6-8727-4284-812a-96c5a7f502c5",
      "metadata": {
        "id": "b9a720e6-8727-4284-812a-96c5a7f502c5"
      },
      "outputs": [],
      "source": [
        "print(isabel_age <= daniel_age)"
      ]
    },
    {
      "cell_type": "markdown",
      "id": "73861806-67ac-4554-91a0-9d46c226cbc8",
      "metadata": {
        "id": "73861806-67ac-4554-91a0-9d46c226cbc8"
      },
      "source": [
        "تامی و دنیل سن برابر دارن؛ پس نتیجه هر دو کد پایین «درست» هست."
      ]
    },
    {
      "cell_type": "code",
      "execution_count": null,
      "id": "2ce5ab16-cc4c-4911-977b-1b1bad075434",
      "metadata": {
        "id": "2ce5ab16-cc4c-4911-977b-1b1bad075434",
        "colab": {
          "base_uri": "https://localhost:8080/"
        },
        "outputId": "ba75108d-fb69-4b03-a585-419e2da3133c"
      },
      "outputs": [
        {
          "output_type": "stream",
          "name": "stdout",
          "text": [
            "True\n"
          ]
        }
      ],
      "source": [
        "print(tommy_age >= daniel_age)"
      ]
    },
    {
      "cell_type": "code",
      "execution_count": null,
      "id": "4919a6c8-8c01-48e4-95da-51cf265d900e",
      "metadata": {
        "id": "4919a6c8-8c01-48e4-95da-51cf265d900e",
        "colab": {
          "base_uri": "https://localhost:8080/"
        },
        "outputId": "39e26529-450c-426d-bf53-03ab25593c7b"
      },
      "outputs": [
        {
          "output_type": "stream",
          "name": "stdout",
          "text": [
            "True\n"
          ]
        }
      ],
      "source": [
        "print(tommy_age <= daniel_age)"
      ]
    },
    {
      "cell_type": "markdown",
      "id": "b2cc56ad",
      "metadata": {
        "id": "b2cc56ad"
      },
      "source": [
        "### عملگر برابری\n",
        "چطور برابری دو متغیر مثل نمونه بالا رو یکباره اثبات کنیم؟\n",
        "برای این کار از عملگر\n",
        "\n",
        " `==`\n",
        "\n",
        " استفاده می‌کنیم.  این عملگر بررسی می‌کنه که آیا دو چیز مقدار یکسانی دارن یا دو تکه داده یکسان رو در خودشون نگهداری می‌کنن یا خیر.\n",
        "\n",
        "- `= ` توجه کن که این عملگر تخصیص مقدار هست\n",
        "- `==` توجه کن که این عملگر بررسی برابری هست"
      ]
    },
    {
      "cell_type": "markdown",
      "id": "1ad8f8b9-5511-4647-899f-83c1cab8b659",
      "metadata": {
        "id": "1ad8f8b9-5511-4647-899f-83c1cab8b659"
      },
      "source": [
        "با استفاده از عملگر برابری می‌تونیم یکباره به مساوی بودن سن دنیل و تامی پی ببریم."
      ]
    },
    {
      "cell_type": "code",
      "execution_count": null,
      "id": "4ee287e3-3cd2-4e34-8d4e-eada1cb17b1c",
      "metadata": {
        "id": "4ee287e3-3cd2-4e34-8d4e-eada1cb17b1c"
      },
      "outputs": [],
      "source": [
        "print(tommy_age == daniel_age)"
      ]
    },
    {
      "cell_type": "markdown",
      "id": "1bb8a1ef-e7cd-4c8d-bb85-bac592a3cfa2",
      "metadata": {
        "id": "1bb8a1ef-e7cd-4c8d-bb85-bac592a3cfa2"
      },
      "source": [
        "و این که آیا ایزابل و دنیل هم سن برابر دارن یا نه."
      ]
    },
    {
      "cell_type": "code",
      "execution_count": null,
      "id": "bed57b0f",
      "metadata": {
        "id": "bed57b0f"
      },
      "outputs": [],
      "source": [
        "print(isabel_age == daniel_age)"
      ]
    },
    {
      "cell_type": "markdown",
      "id": "e9d3f4f0",
      "metadata": {
        "id": "e9d3f4f0"
      },
      "source": [
        "این عملگر برای استرینگ‌ها هم کار می‌کنه. این که آیا دو استرینگ حاوی توالی یکسانی هستن یا نه."
      ]
    },
    {
      "cell_type": "code",
      "execution_count": null,
      "id": "f2f80d9f-4f26-490d-a331-8e59db46f060",
      "metadata": {
        "id": "f2f80d9f-4f26-490d-a331-8e59db46f060"
      },
      "outputs": [],
      "source": [
        "#strings\n",
        "print(\"vegetarian\" == \"vegan\")"
      ]
    },
    {
      "cell_type": "markdown",
      "id": "3faccc81",
      "metadata": {
        "id": "3faccc81"
      },
      "source": [
        "### عملگرهای منطقی"
      ]
    },
    {
      "cell_type": "markdown",
      "id": "2de271c3-68b0-41e9-821b-a6b1d8788b17",
      "metadata": {
        "id": "2de271c3-68b0-41e9-821b-a6b1d8788b17"
      },
      "source": [
        "برای کار با عددها به عملگرهای ریاضی مثل + و - و * نیاز داریم.\n",
        "\n",
        "برای کار با بولین‌ها هم به عملگرهای منطقی نیاز اریم. مثل\n",
        "\n",
        "`and` و `or`\n",
        "\n",
        "بیا دو تا متغیر بولین تعریف و باهاشون کار کنیم."
      ]
    },
    {
      "cell_type": "code",
      "execution_count": null,
      "id": "9cc10aa3-44a1-4663-80af-198008a2be60",
      "metadata": {
        "id": "9cc10aa3-44a1-4663-80af-198008a2be60"
      },
      "outputs": [],
      "source": [
        "is_tommy_my_friend = True\n",
        "is_isabel_my_friend = True"
      ]
    },
    {
      "cell_type": "markdown",
      "id": "ccbd2a3e-9fff-4c62-8365-76a466d69480",
      "metadata": {
        "id": "ccbd2a3e-9fff-4c62-8365-76a466d69480"
      },
      "source": [
        "با داشتن این دو متغیر حالا فرض کن می‌خوای پاسخ این سوال رو به صورت بولین بدی:\n",
        "\n",
        "آیا ایزابل «و» تامی هر دو دوست من هستن؟\n",
        "\n",
        "(یعنی همزمان هر دو دوست من هستن؟)"
      ]
    },
    {
      "cell_type": "code",
      "execution_count": null,
      "id": "31f3bcc0-4bcb-43e8-b146-ab0470f96dd5",
      "metadata": {
        "id": "31f3bcc0-4bcb-43e8-b146-ab0470f96dd5"
      },
      "outputs": [],
      "source": [
        "print(is_tommy_my_friend and is_isabel_my_friend)"
      ]
    },
    {
      "cell_type": "markdown",
      "id": "292e21dc-4aff-402c-80a0-481c0dece2cf",
      "metadata": {
        "id": "292e21dc-4aff-402c-80a0-481c0dece2cf"
      },
      "source": [
        "حالا این سوال رو داشته باش:\n",
        "\n",
        "آیا ایزابل «یا» تامی دوست من هستن؟\n",
        "\n",
        "(یعنی دست کم یا این یا اون دوست من هستن؟)"
      ]
    },
    {
      "cell_type": "code",
      "execution_count": null,
      "id": "18256980-3b56-4d5b-8197-7a920a3004dd",
      "metadata": {
        "id": "18256980-3b56-4d5b-8197-7a920a3004dd"
      },
      "outputs": [],
      "source": [
        "print(is_tommy_my_friend or is_isabel_my_friend)"
      ]
    },
    {
      "cell_type": "markdown",
      "id": "8b34bd9d",
      "metadata": {
        "id": "8b34bd9d"
      },
      "source": [
        "حالا این سه متغیر عدد صحیح رو دوباره در نظر بگیر."
      ]
    },
    {
      "cell_type": "code",
      "execution_count": null,
      "id": "2debc569-bdc9-4756-989c-a2be8b1cf2d1",
      "metadata": {
        "id": "2debc569-bdc9-4756-989c-a2be8b1cf2d1"
      },
      "outputs": [],
      "source": [
        "isabel_age = 28\n",
        "daniel_age = 30\n",
        "otto_age = 29"
      ]
    },
    {
      "cell_type": "markdown",
      "id": "92787623-d59b-4195-bca0-9ab36a993010",
      "metadata": {
        "id": "92787623-d59b-4195-bca0-9ab36a993010"
      },
      "source": [
        "این دو خط که واضح هستن درسته؟"
      ]
    },
    {
      "cell_type": "code",
      "execution_count": null,
      "id": "31d50ba0-7fc6-4867-81b4-84e6202c7415",
      "metadata": {
        "id": "31d50ba0-7fc6-4867-81b4-84e6202c7415"
      },
      "outputs": [],
      "source": [
        "is_isabel_younger_than_tommy = isabel_age < tommy_age\n",
        "is_isabel_younger_than_daniel = isabel_age < daniel_age"
      ]
    },
    {
      "cell_type": "markdown",
      "source": [
        "حالا با عملگر منطقی درک این یکی یکم دشوارتر هست درسته؟ ولی با کمی دقت به اون شواری که اولش به نظر می‌رسه نیست درسته؟ 😀"
      ],
      "metadata": {
        "id": "Xz7jzLExI5ar"
      },
      "id": "Xz7jzLExI5ar"
    },
    {
      "cell_type": "code",
      "execution_count": null,
      "id": "ebd00bba-e1e0-49f1-97f5-0c307e65c2f3",
      "metadata": {
        "id": "ebd00bba-e1e0-49f1-97f5-0c307e65c2f3"
      },
      "outputs": [],
      "source": [
        "print(is_isabel_younger_than_tommy and is_isabel_younger_than_daniel)"
      ]
    },
    {
      "cell_type": "markdown",
      "id": "58f13ff5-abb1-4f49-b754-20b2301f572d",
      "metadata": {
        "id": "58f13ff5-abb1-4f49-b754-20b2301f572d"
      },
      "source": [
        "در درس بعدی از بولین‌ها برای تعریف شرط استفاده می‌کنیم."
      ]
    },
    {
      "cell_type": "markdown",
      "id": "e63f57b8-f653-4295-aff1-fac06a807136",
      "metadata": {
        "id": "e63f57b8-f653-4295-aff1-fac06a807136"
      },
      "source": [
        "## تمرین بیش‌تر"
      ]
    },
    {
      "cell_type": "markdown",
      "id": "ce9e6425-5ea6-4216-9262-225b79ede6df",
      "metadata": {
        "id": "ce9e6425-5ea6-4216-9262-225b79ede6df"
      },
      "source": [
        "دست‌ها رو گلی کنیم برای جا افتادن مطلب."
      ]
    },
    {
      "cell_type": "code",
      "execution_count": null,
      "id": "54049d9c-c247-4ade-bee3-0ee5d72cb73c",
      "metadata": {
        "id": "54049d9c-c247-4ade-bee3-0ee5d72cb73c"
      },
      "outputs": [],
      "source": [
        "# بررسی کن که آیا ایزابل حداقل\n",
        "# از یکی از دوستان دیگه بزرگ‌تر هست یا نه.\n",
        "\n",
        "### EDIT THE FOLLOWING CODE ###\n",
        "# Hint: علامت سوال رو با عملگر مناسب جایگزین کن.\n",
        "is_isabel_older_than_tommy = isabel_age ? tommy_age\n",
        "is_isabel_older_than_daniel = isabel_age ? daniel_age\n",
        "### --------------- ###\n",
        "\n",
        "### EDIT THE FOLLOWING CODE ###\n",
        "#Hint: با استفاده از عملگرهای منطقی کد مناسب رو بنویس و چاپ کن.\n",
        "print(\"Check if Isabel is older than at least one of my friends\")\n",
        "### --------------- ###"
      ]
    }
  ],
  "metadata": {
    "kernelspec": {
      "display_name": "Python 3 (ipykernel)",
      "language": "python",
      "name": "python3"
    },
    "language_info": {
      "codemirror_mode": {
        "name": "ipython",
        "version": 3
      },
      "file_extension": ".py",
      "mimetype": "text/x-python",
      "name": "python",
      "nbconvert_exporter": "python",
      "pygments_lexer": "ipython3",
      "version": "3.9.19"
    },
    "colab": {
      "provenance": [],
      "collapsed_sections": [
        "zEVZWGH9eqKh"
      ],
      "include_colab_link": true
    }
  },
  "nbformat": 4,
  "nbformat_minor": 5
}