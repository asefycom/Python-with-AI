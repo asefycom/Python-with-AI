{
  "cells": [
    {
      "cell_type": "markdown",
      "metadata": {
        "id": "view-in-github",
        "colab_type": "text"
      },
      "source": [
        "<a href=\"https://colab.research.google.com/github/asefycom/Python-with-AI/blob/main/2nd-week/L02_lists.ipynb\" target=\"_parent\"><img src=\"https://colab.research.google.com/assets/colab-badge.svg\" alt=\"Open In Colab\"/></a>"
      ]
    },
    {
      "cell_type": "markdown",
      "id": "4bd8fbd2-de5c-47bd-bcd9-cbbe8cdc3104",
      "metadata": {
        "id": "4bd8fbd2-de5c-47bd-bcd9-cbbe8cdc3104"
      },
      "source": [
        "# هفته دوم - درس ۲: لیست\n",
        "انجام لیست کارها با هوش مصنوعی\n",
        "\n",
        "تو چند درس پیش‌رو یاد می‌گیری که کارها رو با پایتون خودکار کنی.\n",
        "\n",
        "یاد می‌گیری منطقی با پایتون طراحی کنی که کارهای تکراری رو انجام بده و تصمیم‌های تو رو به موقع از طرف تو اعمال کنه.\n",
        "\n",
        "یکی از مهارت‌های مهمی که یاد می‌گیری این هست که چطور داده‌های پی‌درپی رو یکجا ذخیره کنی. لیست‌ها یکی از ابزارهای قدرتمند برای این کار هستند.\n",
        "\n",
        "در این درس به ساخت و مدیریت لیست‌ها در پایتون می‌پردازیم.\n"
      ]
    },
    {
      "cell_type": "markdown",
      "id": "f2ba7ff3",
      "metadata": {
        "id": "f2ba7ff3"
      },
      "source": [
        "### راه‌اندازی توگدر برای کار با هوش مصنوعی"
      ]
    },
    {
      "cell_type": "code",
      "execution_count": 5,
      "id": "41ef33ad-2b5c-40db-a1ab-9f3c689edd55",
      "metadata": {
        "colab": {
          "base_uri": "https://localhost:8080/"
        },
        "id": "41ef33ad-2b5c-40db-a1ab-9f3c689edd55",
        "outputId": "b8151d80-2cab-46ae-e7fc-ed58db0b2c60"
      },
      "outputs": [
        {
          "output_type": "stream",
          "name": "stdout",
          "text": [
            "Collecting together\n",
            "  Downloading together-1.5.18-py3-none-any.whl.metadata (15 kB)\n",
            "Requirement already satisfied: aiohttp<4.0.0,>=3.9.3 in /usr/local/lib/python3.11/dist-packages (from together) (3.11.15)\n",
            "Requirement already satisfied: click<9.0.0,>=8.1.7 in /usr/local/lib/python3.11/dist-packages (from together) (8.2.1)\n",
            "Collecting eval-type-backport<0.3.0,>=0.1.3 (from together)\n",
            "  Downloading eval_type_backport-0.2.2-py3-none-any.whl.metadata (2.2 kB)\n",
            "Requirement already satisfied: filelock<4.0.0,>=3.13.1 in /usr/local/lib/python3.11/dist-packages (from together) (3.18.0)\n",
            "Requirement already satisfied: numpy>=1.23.5 in /usr/local/lib/python3.11/dist-packages (from together) (2.0.2)\n",
            "Requirement already satisfied: pillow<12.0.0,>=11.1.0 in /usr/local/lib/python3.11/dist-packages (from together) (11.2.1)\n",
            "Requirement already satisfied: pydantic<3.0.0,>=2.6.3 in /usr/local/lib/python3.11/dist-packages (from together) (2.11.7)\n",
            "Requirement already satisfied: requests<3.0.0,>=2.31.0 in /usr/local/lib/python3.11/dist-packages (from together) (2.32.3)\n",
            "Requirement already satisfied: rich<15.0.0,>=13.8.1 in /usr/local/lib/python3.11/dist-packages (from together) (13.9.4)\n",
            "Requirement already satisfied: tabulate<0.10.0,>=0.9.0 in /usr/local/lib/python3.11/dist-packages (from together) (0.9.0)\n",
            "Requirement already satisfied: tqdm<5.0.0,>=4.66.2 in /usr/local/lib/python3.11/dist-packages (from together) (4.67.1)\n",
            "Collecting typer<0.16,>=0.9 (from together)\n",
            "  Downloading typer-0.15.4-py3-none-any.whl.metadata (15 kB)\n",
            "Requirement already satisfied: aiohappyeyeballs>=2.3.0 in /usr/local/lib/python3.11/dist-packages (from aiohttp<4.0.0,>=3.9.3->together) (2.6.1)\n",
            "Requirement already satisfied: aiosignal>=1.1.2 in /usr/local/lib/python3.11/dist-packages (from aiohttp<4.0.0,>=3.9.3->together) (1.3.2)\n",
            "Requirement already satisfied: attrs>=17.3.0 in /usr/local/lib/python3.11/dist-packages (from aiohttp<4.0.0,>=3.9.3->together) (25.3.0)\n",
            "Requirement already satisfied: frozenlist>=1.1.1 in /usr/local/lib/python3.11/dist-packages (from aiohttp<4.0.0,>=3.9.3->together) (1.7.0)\n",
            "Requirement already satisfied: multidict<7.0,>=4.5 in /usr/local/lib/python3.11/dist-packages (from aiohttp<4.0.0,>=3.9.3->together) (6.6.3)\n",
            "Requirement already satisfied: propcache>=0.2.0 in /usr/local/lib/python3.11/dist-packages (from aiohttp<4.0.0,>=3.9.3->together) (0.3.2)\n",
            "Requirement already satisfied: yarl<2.0,>=1.17.0 in /usr/local/lib/python3.11/dist-packages (from aiohttp<4.0.0,>=3.9.3->together) (1.20.1)\n",
            "Requirement already satisfied: annotated-types>=0.6.0 in /usr/local/lib/python3.11/dist-packages (from pydantic<3.0.0,>=2.6.3->together) (0.7.0)\n",
            "Requirement already satisfied: pydantic-core==2.33.2 in /usr/local/lib/python3.11/dist-packages (from pydantic<3.0.0,>=2.6.3->together) (2.33.2)\n",
            "Requirement already satisfied: typing-extensions>=4.12.2 in /usr/local/lib/python3.11/dist-packages (from pydantic<3.0.0,>=2.6.3->together) (4.14.0)\n",
            "Requirement already satisfied: typing-inspection>=0.4.0 in /usr/local/lib/python3.11/dist-packages (from pydantic<3.0.0,>=2.6.3->together) (0.4.1)\n",
            "Requirement already satisfied: charset-normalizer<4,>=2 in /usr/local/lib/python3.11/dist-packages (from requests<3.0.0,>=2.31.0->together) (3.4.2)\n",
            "Requirement already satisfied: idna<4,>=2.5 in /usr/local/lib/python3.11/dist-packages (from requests<3.0.0,>=2.31.0->together) (3.10)\n",
            "Requirement already satisfied: urllib3<3,>=1.21.1 in /usr/local/lib/python3.11/dist-packages (from requests<3.0.0,>=2.31.0->together) (2.4.0)\n",
            "Requirement already satisfied: certifi>=2017.4.17 in /usr/local/lib/python3.11/dist-packages (from requests<3.0.0,>=2.31.0->together) (2025.6.15)\n",
            "Requirement already satisfied: markdown-it-py>=2.2.0 in /usr/local/lib/python3.11/dist-packages (from rich<15.0.0,>=13.8.1->together) (3.0.0)\n",
            "Requirement already satisfied: pygments<3.0.0,>=2.13.0 in /usr/local/lib/python3.11/dist-packages (from rich<15.0.0,>=13.8.1->together) (2.19.2)\n",
            "Collecting click<9.0.0,>=8.1.7 (from together)\n",
            "  Downloading click-8.1.8-py3-none-any.whl.metadata (2.3 kB)\n",
            "Requirement already satisfied: shellingham>=1.3.0 in /usr/local/lib/python3.11/dist-packages (from typer<0.16,>=0.9->together) (1.5.4)\n",
            "Requirement already satisfied: mdurl~=0.1 in /usr/local/lib/python3.11/dist-packages (from markdown-it-py>=2.2.0->rich<15.0.0,>=13.8.1->together) (0.1.2)\n",
            "Downloading together-1.5.18-py3-none-any.whl (91 kB)\n",
            "\u001b[2K   \u001b[90m━━━━━━━━━━━━━━━━━━━━━━━━━━━━━━━━━━━━━━━━\u001b[0m \u001b[32m91.6/91.6 kB\u001b[0m \u001b[31m6.3 MB/s\u001b[0m eta \u001b[36m0:00:00\u001b[0m\n",
            "\u001b[?25hDownloading eval_type_backport-0.2.2-py3-none-any.whl (5.8 kB)\n",
            "Downloading typer-0.15.4-py3-none-any.whl (45 kB)\n",
            "\u001b[2K   \u001b[90m━━━━━━━━━━━━━━━━━━━━━━━━━━━━━━━━━━━━━━━━\u001b[0m \u001b[32m45.3/45.3 kB\u001b[0m \u001b[31m2.8 MB/s\u001b[0m eta \u001b[36m0:00:00\u001b[0m\n",
            "\u001b[?25hDownloading click-8.1.8-py3-none-any.whl (98 kB)\n",
            "\u001b[2K   \u001b[90m━━━━━━━━━━━━━━━━━━━━━━━━━━━━━━━━━━━━━━━━\u001b[0m \u001b[32m98.2/98.2 kB\u001b[0m \u001b[31m6.9 MB/s\u001b[0m eta \u001b[36m0:00:00\u001b[0m\n",
            "\u001b[?25hInstalling collected packages: eval-type-backport, click, typer, together\n",
            "  Attempting uninstall: click\n",
            "    Found existing installation: click 8.2.1\n",
            "    Uninstalling click-8.2.1:\n",
            "      Successfully uninstalled click-8.2.1\n",
            "  Attempting uninstall: typer\n",
            "    Found existing installation: typer 0.16.0\n",
            "    Uninstalling typer-0.16.0:\n",
            "      Successfully uninstalled typer-0.16.0\n",
            "Successfully installed click-8.1.8 eval-type-backport-0.2.2 together-1.5.18 typer-0.15.4\n"
          ]
        }
      ],
      "source": [
        "!pip install together"
      ]
    },
    {
      "cell_type": "code",
      "source": [
        "from google.colab import userdata\n",
        "from together import Together\n",
        "\n",
        "client = Together(api_key=userdata.get('TOGETHER_API_KEY'))\n",
        "\n",
        "def print_llm_response(prompt):\n",
        "    response = client.chat.completions.create(\n",
        "        model=\"google/gemma-3n-E4B-it\",\n",
        "        # model=\"meta-llama/Llama-3.3-70B-Instruct-Turbo-Free\",\n",
        "        messages=[\n",
        "        {\n",
        "            \"role\": \"user\",\n",
        "            \"content\": prompt\n",
        "        }\n",
        "        ]\n",
        "    )\n",
        "    return response.choices[0].message.content"
      ],
      "metadata": {
        "id": "8n3F5F2t363s"
      },
      "id": "8n3F5F2t363s",
      "execution_count": 6,
      "outputs": []
    },
    {
      "cell_type": "markdown",
      "id": "f156dba3",
      "metadata": {
        "id": "f156dba3"
      },
      "source": [
        "## لیست چیست؟\n",
        "از هفته گذشته، متغیرها رو به یاد داری؟ هر متغیر ظرفی بود که یک داده رو در خودش نگه می‌داشت.\n",
        "\n",
        ":برای مثال"
      ]
    },
    {
      "cell_type": "code",
      "execution_count": null,
      "id": "73758fc8",
      "metadata": {
        "id": "73758fc8"
      },
      "outputs": [],
      "source": [
        "name = \"Avash\""
      ]
    },
    {
      "cell_type": "markdown",
      "id": "b8e315cf",
      "metadata": {
        "id": "b8e315cf"
      },
      "source": [
        "برای تغییر مقدار یک متغیر باید به صورت دستی مقدار جدید رو بهش بدیم یا متغیر جدیدی با مقدار جدید تعریف کنیم.\n",
        "\n",
        "حالا تصور کنید قرار باشه پرامپت پایین برای سه نام تکرار بشه.\n",
        "\n",
        "چه کار می‌کنی؟\n"
      ]
    },
    {
      "cell_type": "code",
      "execution_count": null,
      "id": "30a8e543",
      "metadata": {
        "id": "30a8e543"
      },
      "outputs": [],
      "source": [
        "prompt = f\"\"\"\n",
        "Write a four line birthday poem for my friend {name}.\n",
        "\"\"\"\n",
        "print_llm_response(prompt)"
      ]
    },
    {
      "cell_type": "markdown",
      "id": "cb48382c",
      "metadata": {
        "id": "cb48382c"
      },
      "source": [
        "سه بار باید مقدار متغیر رو تغییر بدی و پرامپت رو دوباره بفرستی. حالا اگه صد تا دوست داشتی چی؟\n",
        "\n",
        "\n",
        "راه بهتر این هست که از لیست استفاده کنم.\n",
        "\n",
        "لیست خودش یک نوع داده در پایتون هست. نوع داده‌ای برای نگهداری چندین داده مثل ۱۰۰ تا یا ۱۰۰۰ تا نام.\n"
      ]
    },
    {
      "cell_type": "markdown",
      "id": "5d36fc84-7238-478c-a70b-8b4988dae5b9",
      "metadata": {
        "id": "5d36fc84-7238-478c-a70b-8b4988dae5b9"
      },
      "source": [
        "## ساخت لیست\n",
        "\n",
        "با سینتکس پایین می‌تونی یک لیست در پایتون ایجاد و نام سه دوستت رو یکجا داخلش ذخیره کنی."
      ]
    },
    {
      "cell_type": "code",
      "execution_count": 2,
      "id": "b2cdf52d-f8be-4eb9-870b-19b0ed83fc25",
      "metadata": {
        "id": "b2cdf52d-f8be-4eb9-870b-19b0ed83fc25"
      },
      "outputs": [],
      "source": [
        "friends_list = [\"Reza\", \"Babak\", \"Rashid\"]"
      ]
    },
    {
      "cell_type": "code",
      "execution_count": null,
      "id": "343fb2a6-3bfc-44b8-9dd3-a3d8e177906a",
      "metadata": {
        "id": "343fb2a6-3bfc-44b8-9dd3-a3d8e177906a"
      },
      "outputs": [],
      "source": [
        "print(friends_list)"
      ]
    },
    {
      "cell_type": "markdown",
      "id": "10fe72bf",
      "metadata": {
        "id": "10fe72bf"
      },
      "source": [
        "دقت کن که متغیر\n",
        "\n",
        "`friends_list`\n",
        "\n",
        "یک متغیر از نوع\n",
        "\n",
        " `list`\n",
        "\n",
        " هست که سه داده رو در خودش نگه داشته.\n",
        ""
      ]
    },
    {
      "cell_type": "code",
      "execution_count": null,
      "id": "bfae06d5",
      "metadata": {
        "id": "bfae06d5"
      },
      "outputs": [],
      "source": [
        "type(friends_list)"
      ]
    },
    {
      "cell_type": "markdown",
      "id": "7df5e778",
      "metadata": {
        "id": "7df5e778"
      },
      "source": [
        "مثل استرینگ اینجا هم می‌تونی طول لیست رو با تابع\n",
        "\n",
        " `len()`\n",
        "\n",
        " از پایتون بپرسی:"
      ]
    },
    {
      "cell_type": "code",
      "execution_count": null,
      "id": "c675bd49",
      "metadata": {
        "id": "c675bd49"
      },
      "outputs": [],
      "source": [
        "len(friends_list)"
      ]
    },
    {
      "cell_type": "markdown",
      "id": "54e11255",
      "metadata": {
        "id": "54e11255"
      },
      "source": [
        "لیست بالا سه عضو داره."
      ]
    },
    {
      "cell_type": "markdown",
      "id": "5ae55d3c",
      "metadata": {
        "id": "5ae55d3c"
      },
      "source": [
        "از لیست‌ها -مثل متغیرها- می‌تونی داخل پرامپت استفاده کنی.\n",
        "\n",
        "برای نمونه تو پرامپت پایین از هوش مصنوعی خواستی که برای هر کدوم از دوستانت چهار خط شعر بنویسه."
      ]
    },
    {
      "cell_type": "code",
      "execution_count": 7,
      "id": "e0b59524",
      "metadata": {
        "colab": {
          "base_uri": "https://localhost:8080/"
        },
        "id": "e0b59524",
        "outputId": "1ec57d55-a2f5-4b8f-d34a-28f29026e48e"
      },
      "outputs": [
        {
          "output_type": "stream",
          "name": "stdout",
          "text": [
            "\n",
            "Write a set of four line birthday poems for my friends ['Reza', 'Babak', 'Rashid']. \n",
            "The poems should be insipred by the first letter of each friend's name.\n",
            "\n"
          ]
        }
      ],
      "source": [
        "prompt = f\"\"\"\n",
        "Write a set of four line birthday poems for my friends {friends_list}.\n",
        "The poems should be insipred by the first letter of each friend's name.\n",
        "\"\"\"\n",
        "print(prompt)"
      ]
    },
    {
      "cell_type": "markdown",
      "id": "2cf56776",
      "metadata": {
        "id": "2cf56776"
      },
      "source": [
        "و حالا که این پرامپت رو درک کردی بیا امتحانش کنیم."
      ]
    },
    {
      "cell_type": "code",
      "execution_count": 8,
      "id": "ac8ed4b1",
      "metadata": {
        "colab": {
          "base_uri": "https://localhost:8080/",
          "height": 122
        },
        "id": "ac8ed4b1",
        "outputId": "f321692a-78e1-42b1-8ec9-96f2f254b634"
      },
      "outputs": [
        {
          "output_type": "execute_result",
          "data": {
            "text/plain": [
              "\"Okay, here are four four-line birthday poems, one for each of your friends, inspired by the first letter of their names:\\n\\n**For Reza:**\\n\\n**R**adiant smile, a heart so true,\\n**E**ver kind in all you do.\\n**Z**est for life, a joyful spark,\\nHappy Birthday, shining in the dark!\\n\\n**For Babak:**\\n\\n**B**right and bold, a spirit free,\\n**A**lways a joy for all to see.\\n**B**est of luck in all you chase,\\nHappy Birthday, with love and grace!\\n\\n**For Rashid:**\\n\\n**R**emarkable friend, a loyal soul,\\n**A**lways reaching for a higher goal.\\n**S**uccess and happiness we send,\\nHappy Birthday, dear friend, until the very end!\\n\\n\\n\\nI hope your friends enjoy these! Let me know if you'd like any adjustments or different themes. 😊\\n\\n\\n\\n\""
            ],
            "application/vnd.google.colaboratory.intrinsic+json": {
              "type": "string"
            }
          },
          "metadata": {},
          "execution_count": 8
        }
      ],
      "source": [
        "print_llm_response(prompt)"
      ]
    },
    {
      "cell_type": "markdown",
      "id": "2d0a44bf",
      "metadata": {
        "id": "2d0a44bf"
      },
      "source": [
        "## دسترسی به یک عضو لیست"
      ]
    },
    {
      "cell_type": "markdown",
      "id": "d7de8ba8",
      "metadata": {
        "id": "d7de8ba8"
      },
      "source": [
        "ما می‌تونیم یک عضو خاص داخل یک لیست رو صدا بزنیم.\n",
        "\n",
        "این امکان تو پایتون هست. من می‌دونم که هست ولی فراموشش کردم. بیایید از چت‌بات بپرسیم."
      ]
    },
    {
      "cell_type": "markdown",
      "id": "82fe4e72",
      "metadata": {
        "id": "82fe4e72"
      },
      "source": [
        "<p style=\"background-color:#F5C780; padding:15px\"> 🤖 <b>از چت‌بات کمک بگیر:</b>\n",
        "\n",
        " فرض کن لیست پایین رو داریم. چطور در پایتون یک عضو خاص از این لیست دسترسی پیدا می‌کنیم؟\n",
        "\n",
        "friends_list = [\"Reza\", \"Babak\", \"Rashid\"]\n",
        "</p>"
      ]
    },
    {
      "cell_type": "markdown",
      "id": "05ad7e82",
      "metadata": {
        "id": "05ad7e82"
      },
      "source": [
        "جوابی که چت‌جی‌پی‌تی به من داده:\n",
        "\n",
        "برای دسترسی به یک عضو خاص از لیست در پایتون، از اندیس‌گذاری (Indexing) استفاده می‌کنیم. اندیس‌ها (index) از صفر شروع می‌شوند. مثلا:"
      ]
    },
    {
      "cell_type": "code",
      "execution_count": null,
      "id": "db3b8120",
      "metadata": {
        "id": "db3b8120"
      },
      "outputs": [],
      "source": [
        "friends_list = [\"Reza\", \"Babak\", \"Rashid\"]\n",
        "\n",
        "print(friends_list[0])  # خروجی: Reza\n",
        "print(friends_list[1])  # خروجی: Babak\n",
        "print(friends_list[2])  # خروجی: Rashid"
      ]
    },
    {
      "cell_type": "markdown",
      "id": "9ba91b9a-4bd7-4cc7-b9f1-87fa15e55dfc",
      "metadata": {
        "id": "9ba91b9a-4bd7-4cc7-b9f1-87fa15e55dfc"
      },
      "source": [
        "توجه کنید که ایندکس‌ها از شماره ۰ آغاز شدن.\n",
        "\n",
        "اولین عضو با ایندکس صفر فراخوانی شده و به همین ترتیب دومین و سومین عضو با ایندکس‌های ۱ و ۲ فراخوانی‌شدن."
      ]
    },
    {
      "cell_type": "markdown",
      "id": "59eed6c3",
      "metadata": {
        "id": "59eed6c3"
      },
      "source": [
        "پس برای یک لیست با سه عضو ما ایندکس ۳ نداریم و بالاترین ایندکس میشه ۳ منهای ۱."
      ]
    },
    {
      "cell_type": "code",
      "execution_count": null,
      "id": "c19112dc",
      "metadata": {
        "id": "c19112dc"
      },
      "outputs": [],
      "source": [
        "print(friends_list[3]) # Gives an error"
      ]
    },
    {
      "cell_type": "markdown",
      "id": "73cabe3b",
      "metadata": {
        "id": "73cabe3b"
      },
      "source": [
        "بنابراین برای اشاره به آخرین عضو تو این لیست خودمون باید ایندکس ۳ منهای ۱ یعنی ۲ رو قرار بدیم."
      ]
    },
    {
      "cell_type": "code",
      "execution_count": null,
      "id": "408eff97",
      "metadata": {
        "id": "408eff97"
      },
      "outputs": [],
      "source": [
        "print(friends_list[2])"
      ]
    },
    {
      "cell_type": "markdown",
      "id": "88cef078",
      "metadata": {
        "id": "88cef078"
      },
      "source": [
        "## افزودن عضو به لیست"
      ]
    },
    {
      "cell_type": "code",
      "execution_count": null,
      "id": "77705088-bfb4-40ed-8cc8-76b17b8f1357",
      "metadata": {
        "id": "77705088-bfb4-40ed-8cc8-76b17b8f1357"
      },
      "outputs": [],
      "source": [
        "print(friends_list)"
      ]
    },
    {
      "cell_type": "markdown",
      "id": "6a9f875a-5fc9-4bde-be57-3ba9b0d4f1d5",
      "metadata": {
        "id": "6a9f875a-5fc9-4bde-be57-3ba9b0d4f1d5"
      },
      "source": [
        "من دوست تازه‌ای پیدا کردم. برای افزودن نام این دوست به لیست خودم می‌تونم از تابع اپند به صورت پایین استفاده کنم:\n",
        "\n",
        "`list.append(new_friend)`\n",
        "\n",
        "به نظرت چرا نرفتیم اسم رو دستی به جایی که لیست رو اولین بار تعریف کردیم اضافه کنیم؟"
      ]
    },
    {
      "cell_type": "code",
      "execution_count": null,
      "id": "c2c816b9-f7c7-4f0b-a3e2-8fdf3d2e31f7",
      "metadata": {
        "id": "c2c816b9-f7c7-4f0b-a3e2-8fdf3d2e31f7"
      },
      "outputs": [],
      "source": [
        "# add single element to list\n",
        "friends_list.append(\"Ali\")"
      ]
    },
    {
      "cell_type": "code",
      "execution_count": null,
      "id": "5ed4248d-367d-4432-873d-229f084ca42c",
      "metadata": {
        "id": "5ed4248d-367d-4432-873d-229f084ca42c"
      },
      "outputs": [],
      "source": [
        "print(friends_list)"
      ]
    },
    {
      "cell_type": "markdown",
      "id": "b6c04751",
      "metadata": {
        "id": "b6c04751"
      },
      "source": [
        "برای تمرین، کد پایین رو طوری ویرایش کنید که نام دوست دیگه‌ای اضافه بشه."
      ]
    },
    {
      "cell_type": "code",
      "execution_count": null,
      "id": "ed18d3a1",
      "metadata": {
        "id": "ed18d3a1"
      },
      "outputs": [],
      "source": [
        "# Modify the code below to add another friend:\n",
        "friends_list.append()"
      ]
    },
    {
      "cell_type": "markdown",
      "id": "1b22945c-42b3-4ed5-aa1c-bc64c6845897",
      "metadata": {
        "id": "1b22945c-42b3-4ed5-aa1c-bc64c6845897"
      },
      "source": [
        "## حذف عضو از لیست"
      ]
    },
    {
      "cell_type": "markdown",
      "id": "91c62ca8",
      "metadata": {
        "id": "91c62ca8"
      },
      "source": [
        "من یه دوستم رو از دست دادم. دعوامون شد.\n",
        "\n",
        "حالا چطور از لیست دوستام حذفش کنم؟\n",
        "\n",
        "باز هم تابعی وجود داره به نام:\n",
        "\n",
        " `.remove()`:"
      ]
    },
    {
      "cell_type": "code",
      "execution_count": null,
      "id": "999f5ce1-a7d0-4f17-a3de-b09eb524b130",
      "metadata": {
        "id": "999f5ce1-a7d0-4f17-a3de-b09eb524b130"
      },
      "outputs": [],
      "source": [
        "#using remove\n",
        "friends_list.remove(\"Babak\")"
      ]
    },
    {
      "cell_type": "code",
      "execution_count": null,
      "id": "8b8fdd0f-709b-4076-ba2c-a5bb767dfa21",
      "metadata": {
        "id": "8b8fdd0f-709b-4076-ba2c-a5bb767dfa21"
      },
      "outputs": [],
      "source": [
        "print(friends_list)"
      ]
    },
    {
      "cell_type": "markdown",
      "id": "e8eca359-4e2d-4f2e-8a3e-29a706cd5097",
      "metadata": {
        "id": "e8eca359-4e2d-4f2e-8a3e-29a706cd5097"
      },
      "source": [
        "## لیست‌هایی با نوع داده عددی\n",
        "\n",
        "لیست‌ها می‌تونن انواع داده رو نگهداری کنن.\n",
        "برای مثال می‌تونیم لیستی از عددهای صحیح داشته باشیم."
      ]
    },
    {
      "cell_type": "code",
      "execution_count": null,
      "id": "8b884de4",
      "metadata": {
        "id": "8b884de4"
      },
      "outputs": [],
      "source": [
        "list_ages = [42, 28, 30]"
      ]
    },
    {
      "cell_type": "code",
      "execution_count": null,
      "id": "53d6be61-0b24-4c3a-84c8-fd800296c2bb",
      "metadata": {
        "id": "53d6be61-0b24-4c3a-84c8-fd800296c2bb"
      },
      "outputs": [],
      "source": [
        "print(list_ages)"
      ]
    },
    {
      "cell_type": "markdown",
      "id": "3fe09e1c",
      "metadata": {
        "id": "3fe09e1c"
      },
      "source": [
        "لیست‌ها می‌تونن استرینگ‌های بلند یا حتی چند خطی رو هم در خودشون نگه دارن."
      ]
    },
    {
      "cell_type": "code",
      "execution_count": null,
      "id": "b3eded47-a74d-4f79-938b-f1580753a706",
      "metadata": {
        "id": "b3eded47-a74d-4f79-938b-f1580753a706"
      },
      "outputs": [],
      "source": [
        "#list of tasks in priority order. Multi-line lists are allowed in python!\n",
        "list_of_tasks = [\n",
        "    \"Compose a brief email to my boss explaining that I will be late for tomorrow's meeting.\",\n",
        "    \"Write a birthday poem for Reza, celebrating his 28th birthday.\",\n",
        "    \"Write a 300-word review of the movie 'The Arrival'.\"\n",
        "]"
      ]
    },
    {
      "cell_type": "markdown",
      "id": "62c4c86c",
      "metadata": {
        "id": "62c4c86c"
      },
      "source": [
        "حالا فرض کن که این سه استرینگ سه پرامپت هستن که به نوبت قصد داری به هوش مصنوعی بفرستی.\n"
      ]
    },
    {
      "cell_type": "code",
      "execution_count": null,
      "id": "642ab497-32dd-45b9-996b-e06861b2b7dc",
      "metadata": {
        "id": "642ab497-32dd-45b9-996b-e06861b2b7dc"
      },
      "outputs": [],
      "source": [
        "task = list_of_tasks[0]\n",
        "print_llm_response(task)"
      ]
    },
    {
      "cell_type": "code",
      "execution_count": null,
      "id": "d5040f08-d01a-4b7f-acd0-70a9bfffe805",
      "metadata": {
        "id": "d5040f08-d01a-4b7f-acd0-70a9bfffe805"
      },
      "outputs": [],
      "source": [
        "task = list_of_tasks[1]\n",
        "print_llm_response(task)"
      ]
    },
    {
      "cell_type": "code",
      "execution_count": null,
      "id": "2085c168-21ee-4675-b10e-082945b80af4",
      "metadata": {
        "id": "2085c168-21ee-4675-b10e-082945b80af4"
      },
      "outputs": [],
      "source": [
        "task = list_of_tasks[2]\n",
        "print_llm_response(task)"
      ]
    },
    {
      "cell_type": "markdown",
      "id": "dcac3fe6",
      "metadata": {
        "id": "dcac3fe6"
      },
      "source": [
        "خودمون رو تکرار کردیم نه؟ برخلاف شعار رایج برنامه‌نویسی که می‌گه «خودت رو تکرار نکن!». و اگه به جای این سه کار ده تا کار داشتیم سخت‌ترم می‌شد.\n",
        "\n",
        "یه راه بهتر براش وجود داره که تو درس بعدی بهش می‌پردازیم."
      ]
    },
    {
      "cell_type": "markdown",
      "id": "ba8d2d3b-8745-4d96-b175-08cffdc856a4",
      "metadata": {
        "id": "ba8d2d3b-8745-4d96-b175-08cffdc856a4"
      },
      "source": [
        "## تمرین بیش‌تر"
      ]
    },
    {
      "cell_type": "markdown",
      "id": "558ae3a6-972f-45a2-bfc3-7dbbda7f1c7b",
      "metadata": {
        "id": "558ae3a6-972f-45a2-bfc3-7dbbda7f1c7b"
      },
      "source": [
        "تمرین‌های پایین برای کنکاش بیشتر در مورد لیست‌هاست."
      ]
    },
    {
      "cell_type": "code",
      "execution_count": null,
      "id": "a52ac3fe-7e72-44c4-9556-8f872ec6bf73",
      "metadata": {
        "id": "a52ac3fe-7e72-44c4-9556-8f872ec6bf73"
      },
      "outputs": [],
      "source": [
        "# لیستی از پنج فیلم دلخواهت بساز\n",
        "\n",
        "### WRITE CODE HERE ###\n",
        "movie_list =\n",
        "### --------------- ###"
      ]
    },
    {
      "cell_type": "code",
      "execution_count": null,
      "id": "a2f8afeb-ee8e-46f9-ad39-751a1ab9fdf3",
      "metadata": {
        "id": "a2f8afeb-ee8e-46f9-ad39-751a1ab9fdf3"
      },
      "outputs": [],
      "source": [
        "# با استفاده از تابع پرینت،\n",
        "# چهارمین عضو لیست زیر رو چاپ کن.\n",
        "\n",
        "prime_numbers = [2, 3, 5, 7, 11]\n",
        "\n",
        "### WRITE CODE HERE ###\n",
        "\n",
        "### --------------- ###"
      ]
    },
    {
      "cell_type": "code",
      "execution_count": null,
      "id": "ca358297-651e-4ad7-912f-921af007ef01",
      "metadata": {
        "id": "ca358297-651e-4ad7-912f-921af007ef01"
      },
      "outputs": [],
      "source": [
        "# باگ کد پایین رو پیدا و برطرف کن\n",
        "\n",
        "prime_numbers = [2, 3, 5, 7, 11]\n",
        "\n",
        "### FIX THIS CODE ###\n",
        "print(prime_numbers(3)) #access and print() the fourth element\n",
        "### --------------- ###"
      ]
    },
    {
      "cell_type": "code",
      "execution_count": null,
      "id": "a823e76b-18b1-45d9-a678-1aa481d17496",
      "metadata": {
        "id": "a823e76b-18b1-45d9-a678-1aa481d17496"
      },
      "outputs": [],
      "source": [
        "# فهرستی از نام دوستانت بساز و بعد یک دوست تازه رو اضافه کن\n",
        "\n",
        "friends_list = []\n",
        "\n",
        "### WRITE CODE HERE ###\n",
        "\n",
        "### --------------- ###\n",
        "\n",
        "print(friends_list)"
      ]
    },
    {
      "cell_type": "code",
      "execution_count": null,
      "id": "bae37d2d-3736-410b-983b-2e40fe5b1302",
      "metadata": {
        "id": "bae37d2d-3736-410b-983b-2e40fe5b1302"
      },
      "outputs": [],
      "source": [
        "# در لیست پایین نام یک کشور رو که اشتباه درج شده حذف کن\n",
        "\n",
        "countries_in_south_america = [\"Colombia\", \"Peru\",\n",
        "                              \"Brasil\", \"Japan\",\n",
        "                              \"Argentina\"]\n",
        "\n",
        "### WRITE CODE HERE ###\n",
        "\n",
        "### --------------- ###\n",
        "\n",
        "print(countries_in_south_america)"
      ]
    }
  ],
  "metadata": {
    "kernelspec": {
      "display_name": "Python 3 (ipykernel)",
      "language": "python",
      "name": "python3"
    },
    "language_info": {
      "codemirror_mode": {
        "name": "ipython",
        "version": 3
      },
      "file_extension": ".py",
      "mimetype": "text/x-python",
      "name": "python",
      "nbconvert_exporter": "python",
      "pygments_lexer": "ipython3",
      "version": "3.9.19"
    },
    "colab": {
      "provenance": [],
      "include_colab_link": true
    }
  },
  "nbformat": 4,
  "nbformat_minor": 5
}