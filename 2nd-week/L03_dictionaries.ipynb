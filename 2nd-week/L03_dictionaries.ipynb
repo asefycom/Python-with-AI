{
  "cells": [
    {
      "cell_type": "markdown",
      "metadata": {
        "id": "view-in-github",
        "colab_type": "text"
      },
      "source": [
        "<a href=\"https://colab.research.google.com/github/asefycom/Python-with-AI/blob/main/2nd-week/L03_dictionaries.ipynb\" target=\"_parent\"><img src=\"https://colab.research.google.com/assets/colab-badge.svg\" alt=\"Open In Colab\"/></a>"
      ]
    },
    {
      "cell_type": "markdown",
      "id": "f6bf49f7-21f0-47bc-9a3e-7fd325a0b9bf",
      "metadata": {
        "id": "f6bf49f7-21f0-47bc-9a3e-7fd325a0b9bf"
      },
      "source": [
        "# هفته دوم - درس ۴: دیکشنری\n",
        "اولویت بندی کارها با دیکشنری و هوش مصنوعی"
      ]
    },
    {
      "cell_type": "markdown",
      "id": "8ab78425-c090-450a-a810-1ff6d8f4aefb",
      "metadata": {
        "id": "8ab78425-c090-450a-a810-1ff6d8f4aefb"
      },
      "source": [
        "دیکشنری یکی از ساختارهای داده در پایتون هست.\n",
        "یک جور لیست رو تصور کن که هر عضوش یک کلید و یک مقدار داره.\n",
        "\n",
        "به این شکل می‌تونی بدون نیاز به ایندکس به یک عضوی که کلیدش رو می‌دونی اشاره و اون رو انتخاب کنی."
      ]
    },
    {
      "cell_type": "markdown",
      "source": [
        "## راه‌اندازی توگدر برای کار با هوش مصنوعی"
      ],
      "metadata": {
        "id": "P1XiHBE-kKU0"
      },
      "id": "P1XiHBE-kKU0"
    },
    {
      "cell_type": "code",
      "execution_count": 1,
      "id": "0669df5d-5013-466b-90c8-679364ff80a1",
      "metadata": {
        "colab": {
          "base_uri": "https://localhost:8080/"
        },
        "id": "0669df5d-5013-466b-90c8-679364ff80a1",
        "outputId": "3e5ca99a-8ffe-4697-f9b5-203955fe02d0"
      },
      "outputs": [
        {
          "output_type": "stream",
          "name": "stdout",
          "text": [
            "Collecting together\n",
            "  Downloading together-1.5.18-py3-none-any.whl.metadata (15 kB)\n",
            "Requirement already satisfied: aiohttp<4.0.0,>=3.9.3 in /usr/local/lib/python3.11/dist-packages (from together) (3.11.15)\n",
            "Requirement already satisfied: click<9.0.0,>=8.1.7 in /usr/local/lib/python3.11/dist-packages (from together) (8.2.1)\n",
            "Collecting eval-type-backport<0.3.0,>=0.1.3 (from together)\n",
            "  Downloading eval_type_backport-0.2.2-py3-none-any.whl.metadata (2.2 kB)\n",
            "Requirement already satisfied: filelock<4.0.0,>=3.13.1 in /usr/local/lib/python3.11/dist-packages (from together) (3.18.0)\n",
            "Requirement already satisfied: numpy>=1.23.5 in /usr/local/lib/python3.11/dist-packages (from together) (2.0.2)\n",
            "Requirement already satisfied: pillow<12.0.0,>=11.1.0 in /usr/local/lib/python3.11/dist-packages (from together) (11.2.1)\n",
            "Requirement already satisfied: pydantic<3.0.0,>=2.6.3 in /usr/local/lib/python3.11/dist-packages (from together) (2.11.7)\n",
            "Requirement already satisfied: requests<3.0.0,>=2.31.0 in /usr/local/lib/python3.11/dist-packages (from together) (2.32.3)\n",
            "Requirement already satisfied: rich<15.0.0,>=13.8.1 in /usr/local/lib/python3.11/dist-packages (from together) (13.9.4)\n",
            "Requirement already satisfied: tabulate<0.10.0,>=0.9.0 in /usr/local/lib/python3.11/dist-packages (from together) (0.9.0)\n",
            "Requirement already satisfied: tqdm<5.0.0,>=4.66.2 in /usr/local/lib/python3.11/dist-packages (from together) (4.67.1)\n",
            "Collecting typer<0.16,>=0.9 (from together)\n",
            "  Downloading typer-0.15.4-py3-none-any.whl.metadata (15 kB)\n",
            "Requirement already satisfied: aiohappyeyeballs>=2.3.0 in /usr/local/lib/python3.11/dist-packages (from aiohttp<4.0.0,>=3.9.3->together) (2.6.1)\n",
            "Requirement already satisfied: aiosignal>=1.1.2 in /usr/local/lib/python3.11/dist-packages (from aiohttp<4.0.0,>=3.9.3->together) (1.3.2)\n",
            "Requirement already satisfied: attrs>=17.3.0 in /usr/local/lib/python3.11/dist-packages (from aiohttp<4.0.0,>=3.9.3->together) (25.3.0)\n",
            "Requirement already satisfied: frozenlist>=1.1.1 in /usr/local/lib/python3.11/dist-packages (from aiohttp<4.0.0,>=3.9.3->together) (1.7.0)\n",
            "Requirement already satisfied: multidict<7.0,>=4.5 in /usr/local/lib/python3.11/dist-packages (from aiohttp<4.0.0,>=3.9.3->together) (6.6.3)\n",
            "Requirement already satisfied: propcache>=0.2.0 in /usr/local/lib/python3.11/dist-packages (from aiohttp<4.0.0,>=3.9.3->together) (0.3.2)\n",
            "Requirement already satisfied: yarl<2.0,>=1.17.0 in /usr/local/lib/python3.11/dist-packages (from aiohttp<4.0.0,>=3.9.3->together) (1.20.1)\n",
            "Requirement already satisfied: annotated-types>=0.6.0 in /usr/local/lib/python3.11/dist-packages (from pydantic<3.0.0,>=2.6.3->together) (0.7.0)\n",
            "Requirement already satisfied: pydantic-core==2.33.2 in /usr/local/lib/python3.11/dist-packages (from pydantic<3.0.0,>=2.6.3->together) (2.33.2)\n",
            "Requirement already satisfied: typing-extensions>=4.12.2 in /usr/local/lib/python3.11/dist-packages (from pydantic<3.0.0,>=2.6.3->together) (4.14.0)\n",
            "Requirement already satisfied: typing-inspection>=0.4.0 in /usr/local/lib/python3.11/dist-packages (from pydantic<3.0.0,>=2.6.3->together) (0.4.1)\n",
            "Requirement already satisfied: charset-normalizer<4,>=2 in /usr/local/lib/python3.11/dist-packages (from requests<3.0.0,>=2.31.0->together) (3.4.2)\n",
            "Requirement already satisfied: idna<4,>=2.5 in /usr/local/lib/python3.11/dist-packages (from requests<3.0.0,>=2.31.0->together) (3.10)\n",
            "Requirement already satisfied: urllib3<3,>=1.21.1 in /usr/local/lib/python3.11/dist-packages (from requests<3.0.0,>=2.31.0->together) (2.4.0)\n",
            "Requirement already satisfied: certifi>=2017.4.17 in /usr/local/lib/python3.11/dist-packages (from requests<3.0.0,>=2.31.0->together) (2025.6.15)\n",
            "Requirement already satisfied: markdown-it-py>=2.2.0 in /usr/local/lib/python3.11/dist-packages (from rich<15.0.0,>=13.8.1->together) (3.0.0)\n",
            "Requirement already satisfied: pygments<3.0.0,>=2.13.0 in /usr/local/lib/python3.11/dist-packages (from rich<15.0.0,>=13.8.1->together) (2.19.2)\n",
            "Collecting click<9.0.0,>=8.1.7 (from together)\n",
            "  Downloading click-8.1.8-py3-none-any.whl.metadata (2.3 kB)\n",
            "Requirement already satisfied: shellingham>=1.3.0 in /usr/local/lib/python3.11/dist-packages (from typer<0.16,>=0.9->together) (1.5.4)\n",
            "Requirement already satisfied: mdurl~=0.1 in /usr/local/lib/python3.11/dist-packages (from markdown-it-py>=2.2.0->rich<15.0.0,>=13.8.1->together) (0.1.2)\n",
            "Downloading together-1.5.18-py3-none-any.whl (91 kB)\n",
            "\u001b[2K   \u001b[90m━━━━━━━━━━━━━━━━━━━━━━━━━━━━━━━━━━━━━━━━\u001b[0m \u001b[32m91.6/91.6 kB\u001b[0m \u001b[31m3.3 MB/s\u001b[0m eta \u001b[36m0:00:00\u001b[0m\n",
            "\u001b[?25hDownloading eval_type_backport-0.2.2-py3-none-any.whl (5.8 kB)\n",
            "Downloading typer-0.15.4-py3-none-any.whl (45 kB)\n",
            "\u001b[2K   \u001b[90m━━━━━━━━━━━━━━━━━━━━━━━━━━━━━━━━━━━━━━━━\u001b[0m \u001b[32m45.3/45.3 kB\u001b[0m \u001b[31m4.7 MB/s\u001b[0m eta \u001b[36m0:00:00\u001b[0m\n",
            "\u001b[?25hDownloading click-8.1.8-py3-none-any.whl (98 kB)\n",
            "\u001b[2K   \u001b[90m━━━━━━━━━━━━━━━━━━━━━━━━━━━━━━━━━━━━━━━━\u001b[0m \u001b[32m98.2/98.2 kB\u001b[0m \u001b[31m10.6 MB/s\u001b[0m eta \u001b[36m0:00:00\u001b[0m\n",
            "\u001b[?25hInstalling collected packages: eval-type-backport, click, typer, together\n",
            "  Attempting uninstall: click\n",
            "    Found existing installation: click 8.2.1\n",
            "    Uninstalling click-8.2.1:\n",
            "      Successfully uninstalled click-8.2.1\n",
            "  Attempting uninstall: typer\n",
            "    Found existing installation: typer 0.16.0\n",
            "    Uninstalling typer-0.16.0:\n",
            "      Successfully uninstalled typer-0.16.0\n",
            "Successfully installed click-8.1.8 eval-type-backport-0.2.2 together-1.5.18 typer-0.15.4\n"
          ]
        }
      ],
      "source": [
        "!pip install together"
      ]
    },
    {
      "cell_type": "code",
      "source": [
        "from google.colab import userdata\n",
        "from together import Together\n",
        "\n",
        "client = Together(api_key=userdata.get('TOGETHER_API_KEY'))\n",
        "\n",
        "def print_llm_response(prompt):\n",
        "    response = client.chat.completions.create(\n",
        "        model=\"google/gemma-3n-E4B-it\",\n",
        "        # model=\"meta-llama/Llama-3.3-70B-Instruct-Turbo-Free\",\n",
        "        messages=[\n",
        "        {\n",
        "            \"role\": \"user\",\n",
        "            \"content\": prompt\n",
        "        }\n",
        "        ]\n",
        "    )\n",
        "    return response.choices[0].message.content"
      ],
      "metadata": {
        "id": "v3h0bTpJkOpc"
      },
      "id": "v3h0bTpJkOpc",
      "execution_count": 2,
      "outputs": []
    },
    {
      "cell_type": "markdown",
      "id": "25969c7c",
      "metadata": {
        "id": "25969c7c"
      },
      "source": [
        "برای ذخیره طعم بستنی ها همراه توصیف تبلیغاتی که از هوش مصنوعی گرفتی اگه فقط لیست‌ها وجود داشته باشن باید این طور کد بزنی:"
      ]
    },
    {
      "cell_type": "code",
      "execution_count": null,
      "id": "ca5a2042",
      "metadata": {
        "id": "ca5a2042"
      },
      "outputs": [],
      "source": [
        "ice_cream_flavors = [\n",
        "    \"Vanilla: Classic and creamy with a rich, smooth flavor from real vanilla beans.\",\n",
        "    \"Chocolate: Deep and indulgent, made with rich cocoa for a satisfying chocolate experience.\",\n",
        "    \"Strawberry: Sweet and fruity, bursting with the fresh taste of ripe strawberries.\",\n",
        "    \"Mint Chocolate Chip: Refreshing mint ice cream studded with decadent chocolate chips.\",\n",
        "    \"Cookie Dough: Vanilla ice cream loaded with chunks of chocolate chip cookie dough.\",\n",
        "    \"Salted Caramel: Sweet and salty with a smooth caramel swirl and a hint of sea salt.\",\n",
        "    \"Pistachio: Nutty and creamy, featuring the distinct taste of real pistachios.\",\n",
        "    \"Cookies and Cream: Vanilla ice cream packed with chunks of chocolate sandwich cookies.\",\n",
        "    \"Mango: Tropical and tangy, made with juicy mangoes for a refreshing treat.\",\n",
        "    \"Rocky Road: Chocolate ice cream mixed with marshmallows, nuts, and chocolate chunks.\"\n",
        "]"
      ]
    },
    {
      "cell_type": "markdown",
      "id": "1eeea849-9f55-4f3c-884a-9181814c55fc",
      "metadata": {
        "id": "1eeea849-9f55-4f3c-884a-9181814c55fc"
      },
      "source": [
        "هر طعمی که بخواهی از این لیست بیرون بکشی باید ایندکسش رو صدا بزنی و بنابراین باید ایندکسش یادت باشه."
      ]
    },
    {
      "cell_type": "markdown",
      "id": "36e7364c-e8ac-4f32-80dc-955883ce072a",
      "metadata": {
        "id": "36e7364c-e8ac-4f32-80dc-955883ce072a"
      },
      "source": [
        "## درک شهودی دیکشنری‌ها\n",
        "\n",
        "دیکشنری‌ها در پایتون خیلی شبیه به کتاب‌های دیکشنری (فرهنگ لغت) هستن که تو کتابخونه‌ها می‌بینی.\n",
        "\n",
        "هر لغت یه توصیف داره و اگه بخواهی توصیفش رو بخونی باید اون لغت رو که معمولا به ترتیب الفبا هم تو کتاب جا گرفته پیدا کنی.\n",
        "\n",
        "حالا تصور کن یه دیشکنری داری که مخصوص طعم بستنی‌هاست!\n",
        "\n",
        "ولی این دیکشنری به صورت کتاب چاپی نیست بلکه به صورت مجازی و پایتونی هست:"
      ]
    },
    {
      "cell_type": "code",
      "execution_count": null,
      "id": "7e725e5e-4fa2-4a09-95e9-a67c34f96e46",
      "metadata": {
        "id": "7e725e5e-4fa2-4a09-95e9-a67c34f96e46"
      },
      "outputs": [],
      "source": [
        "ice_cream_flavors = {\n",
        "    \"Mint Chocolate Chip\": \"Refreshing mint ice cream studded with decadent chocolate chips.\",\n",
        "    \"Cookie Dough\": \"Vanilla ice cream loaded with chunks of chocolate chip cookie dough.\",\n",
        "    \"Salted Caramel\": \"Sweet and salty with a smooth caramel swirl and a hint of sea salt.\"\n",
        "}"
      ]
    },
    {
      "cell_type": "markdown",
      "id": "ec17ee22",
      "metadata": {
        "id": "ec17ee22"
      },
      "source": [
        "کلیدهای دیشکنری\n",
        "\n",
        "`ice_cream_flavors`\n",
        "\n",
        "به کمک تابع «کیز» قابل نمایش هستن:"
      ]
    },
    {
      "cell_type": "code",
      "execution_count": null,
      "id": "f798f6bf-7fa9-4eb3-b576-77fa101e24b2",
      "metadata": {
        "id": "f798f6bf-7fa9-4eb3-b576-77fa101e24b2"
      },
      "outputs": [],
      "source": [
        "print(ice_cream_flavors.keys())"
      ]
    },
    {
      "cell_type": "markdown",
      "id": "2fb5e9c3",
      "metadata": {
        "id": "2fb5e9c3"
      },
      "source": [
        "و مقدارهاش رو هم با تابع «ولیوز» می‌تونی نمایش بدی:"
      ]
    },
    {
      "cell_type": "code",
      "execution_count": null,
      "id": "91a35e3b-f437-4832-8610-0960ac9705b5",
      "metadata": {
        "id": "91a35e3b-f437-4832-8610-0960ac9705b5"
      },
      "outputs": [],
      "source": [
        "print(ice_cream_flavors.values())"
      ]
    },
    {
      "cell_type": "markdown",
      "id": "e5700c35-4814-4e92-8435-eb614da9bce0",
      "metadata": {
        "id": "e5700c35-4814-4e92-8435-eb614da9bce0"
      },
      "source": [
        "## دسترسی به اعضای دیکشنری"
      ]
    },
    {
      "cell_type": "markdown",
      "id": "cb11e3ff",
      "metadata": {
        "id": "cb11e3ff"
      },
      "source": [
        "دیکشنری‌های پایتونی مثل لیست‌های پایتونی نیستن. اعضاشون رو نمیشه با ایندکس صا کرد.\n",
        "\n",
        "کد پایین اشتباه هست:"
      ]
    },
    {
      "cell_type": "code",
      "execution_count": null,
      "id": "c20fbfe7-e0fd-45e9-8fbb-071bf5a64ecb",
      "metadata": {
        "id": "c20fbfe7-e0fd-45e9-8fbb-071bf5a64ecb"
      },
      "outputs": [],
      "source": [
        "#Wrong way of accessing elements (treating dict as a list)\n",
        "print(ice_cream_flavors[0])"
      ]
    },
    {
      "cell_type": "markdown",
      "id": "5f0d780a",
      "metadata": {
        "id": "5f0d780a"
      },
      "source": [
        "بیا از چت‌بات در مورد فراخوانی اعضای دیکشنری بپرسیم.\n",
        "\n",
        "<p style=\"background-color:#F5C780; padding:15px\"> 🤖 <b>پرامپت چت‌بات:</b>\n",
        "\n",
        "چطور در پایتون به یک عضو دیکشنری دسترسی پیدا کنم؟ مثلا دیکشنری پایین رو در نظر بگیر. <br>\n",
        "ice_cream_flavors = {<br>\n",
        "    \"Mint Chocolate Chip\": \"Refreshing mint ice cream studded with decadent chocolate chips.\",<br>\n",
        "    \"Cookie Dough\": \"Vanilla ice cream loaded with chunks of chocolate chip cookie dough.\",<br>\n",
        "    \"Salted Caramel\": \"Sweet and salty with a smooth caramel swirl and a hint of sea salt.\"<br>\n",
        "} <br>\n",
        "</p>"
      ]
    },
    {
      "cell_type": "markdown",
      "id": "66d94bb2",
      "metadata": {
        "id": "66d94bb2"
      },
      "source": [
        "پس برای دسترسی به مقدار داده‌های دیکشنری باید از کلیدشون استفاده کنی.\n",
        "\n",
        "مثلا برای دسترسی به توصیف بستنی با طعم خمیر کوکی باید کلیدش رو این شکلی صدا کنیم:"
      ]
    },
    {
      "cell_type": "code",
      "execution_count": null,
      "id": "529b68a1-57fe-4ebb-ad6a-db08c3c3f38a",
      "metadata": {
        "id": "529b68a1-57fe-4ebb-ad6a-db08c3c3f38a"
      },
      "outputs": [],
      "source": [
        "cookie_dough_description = ice_cream_flavors[\"Cookie Dough\"]\n",
        "print(cookie_dough_description)"
      ]
    },
    {
      "cell_type": "markdown",
      "id": "0c72ec6c-54c3-4452-aeb6-7ca4c11365f8",
      "metadata": {
        "id": "0c72ec6c-54c3-4452-aeb6-7ca4c11365f8"
      },
      "source": [
        "## افزودن و روزآمدی عضو در دیکشنری"
      ]
    },
    {
      "cell_type": "markdown",
      "id": "525a82e3-8815-4e38-8c05-0d17b8e29e8b",
      "metadata": {
        "id": "525a82e3-8815-4e38-8c05-0d17b8e29e8b"
      },
      "source": [
        "دیشکنری طعم بستنی رو یه بار دیگه بهش دقت کن."
      ]
    },
    {
      "cell_type": "code",
      "execution_count": null,
      "id": "85b77c6b-f3a9-4c43-a88b-8b21a8ea3b14",
      "metadata": {
        "id": "85b77c6b-f3a9-4c43-a88b-8b21a8ea3b14"
      },
      "outputs": [],
      "source": [
        "print(ice_cream_flavors)"
      ]
    },
    {
      "cell_type": "markdown",
      "id": "c4f538b4",
      "metadata": {
        "id": "c4f538b4"
      },
      "source": [
        "برای افزودن طعم تازه‌ای به این دیکشنری کد پایتونی این شکلی میشه:"
      ]
    },
    {
      "cell_type": "code",
      "execution_count": null,
      "id": "f443cc67-2008-4e6a-93e9-b5ce7955dda2",
      "metadata": {
        "id": "f443cc67-2008-4e6a-93e9-b5ce7955dda2"
      },
      "outputs": [],
      "source": [
        "ice_cream_flavors[\"Rocky Road\"] = \"Chocolate ice cream mixd witother ngredients.\""
      ]
    },
    {
      "cell_type": "markdown",
      "id": "97ed0ed1",
      "metadata": {
        "id": "97ed0ed1"
      },
      "source": [
        "توجه کردی؟\n",
        "\n",
        "این همون سینتکسی هست که برای اشاره به یک عضو استفاده کرده بودیم. فقط این بار کلیدی رو اشاره کردیم که وجود نداره و یک مقدار هم همزمان بهش تخصیص دادیم.\n",
        "\n",
        "حالا دوباره دیکشنری طعم بستنی‌ها رو داشته باش:"
      ]
    },
    {
      "cell_type": "code",
      "execution_count": null,
      "id": "6547f5e5",
      "metadata": {
        "id": "6547f5e5"
      },
      "outputs": [],
      "source": [
        "print(ice_cream_flavors)"
      ]
    },
    {
      "cell_type": "markdown",
      "id": "e1e0cce4",
      "metadata": {
        "id": "e1e0cce4"
      },
      "source": [
        "دقیقا به همین شکل هم می‌تونی با تخصیص مقدار به کلیدی که از قبل وجود داره، مقدار اون رو به‌روز کنی."
      ]
    },
    {
      "cell_type": "code",
      "execution_count": null,
      "id": "37d150d3",
      "metadata": {
        "id": "37d150d3"
      },
      "outputs": [],
      "source": [
        "ice_cream_flavors[\"Rocky Road\"] = \"Chocolate ice cream mixed with other ingredients.\""
      ]
    },
    {
      "cell_type": "code",
      "execution_count": null,
      "id": "2a411986-59a5-4553-9192-65a3b54a8410",
      "metadata": {
        "id": "2a411986-59a5-4553-9192-65a3b54a8410"
      },
      "outputs": [],
      "source": [
        "print(ice_cream_flavors)"
      ]
    },
    {
      "cell_type": "markdown",
      "id": "00ada507-22fe-468e-b3b4-5af0994a0cce",
      "metadata": {
        "id": "00ada507-22fe-468e-b3b4-5af0994a0cce"
      },
      "source": [
        "## اعضای دیشکنری با نوع‌داده‌های گوناگون"
      ]
    },
    {
      "cell_type": "markdown",
      "id": "84da9a17-038e-4d95-9dab-ec9471b48bd3",
      "metadata": {
        "id": "84da9a17-038e-4d95-9dab-ec9471b48bd3"
      },
      "source": [
        "فرض کن تو اطلاعات دوستات رو ذخیره می کنی تا بتونی بعدتر متناسب با ویژگی‌هاشون براشون هدیه بخری یا به هر نحوی خوشحالشون کنی."
      ]
    },
    {
      "cell_type": "code",
      "execution_count": null,
      "id": "a021ebf7-25c6-45b5-913b-b159c73a54b6",
      "metadata": {
        "id": "a021ebf7-25c6-45b5-913b-b159c73a54b6"
      },
      "outputs": [],
      "source": [
        "reza_facts = {\n",
        "    \"age\": 28,\n",
        "    \"Favorite color\": \"red\"\n",
        "}\n",
        "print(reza_facts)"
      ]
    },
    {
      "cell_type": "markdown",
      "id": "71c84574-6b83-4586-83a2-1a12e6bc0878",
      "metadata": {
        "id": "71c84574-6b83-4586-83a2-1a12e6bc0878"
      },
      "source": [
        "می‌بینی؟ یک عضو با کلید «سن« مقدارش عدد صحیح هست و عضو دیگه مقدارش استرینگ.\n",
        "\n",
        "حتی می‌تونی مقدار یک عضو رو به صورت لیست تعریف کنی."
      ]
    },
    {
      "cell_type": "code",
      "execution_count": null,
      "id": "b1e47c85-fd16-404a-a866-a01a9410b7f1",
      "metadata": {
        "id": "b1e47c85-fd16-404a-a866-a01a9410b7f1"
      },
      "outputs": [],
      "source": [
        "reza_facts[\"Cat names\"] = [\"Charlie\", \"Smokey\", \"Tabitha\"]"
      ]
    },
    {
      "cell_type": "code",
      "execution_count": null,
      "id": "5596580c-7715-4b6e-92df-ca0f92134ddb",
      "metadata": {
        "id": "5596580c-7715-4b6e-92df-ca0f92134ddb"
      },
      "outputs": [],
      "source": [
        "print(reza_facts)"
      ]
    },
    {
      "cell_type": "code",
      "execution_count": null,
      "id": "db4c72de-08b1-4960-9b1a-d9d6b7a8c867",
      "metadata": {
        "id": "db4c72de-08b1-4960-9b1a-d9d6b7a8c867"
      },
      "outputs": [],
      "source": [
        "reza_facts[\"Favorite Snacks\"] = [\"pineapple cake\",\"candy\"]"
      ]
    },
    {
      "cell_type": "code",
      "execution_count": null,
      "id": "2f9d168e-793b-42a5-bce3-c4d5573f7b45",
      "metadata": {
        "id": "2f9d168e-793b-42a5-bce3-c4d5573f7b45"
      },
      "outputs": [],
      "source": [
        "print(reza_facts)"
      ]
    },
    {
      "cell_type": "markdown",
      "source": [
        "به نظرت مقدار یک عضو می ‌تونه دیشکنری دیگه‌ای باشه؟ از چت‌بات مشورت بگیر."
      ],
      "metadata": {
        "id": "S6_KJ5hBpWCo"
      },
      "id": "S6_KJ5hBpWCo"
    },
    {
      "cell_type": "markdown",
      "id": "dca7e8ac-9a22-4298-a09a-05325bbd00bd",
      "metadata": {
        "id": "dca7e8ac-9a22-4298-a09a-05325bbd00bd"
      },
      "source": [
        "## استفاده از دیکشنری در پرامپت\n",
        "اولویت‌بندی کارها به کمک هوش مصنوعی"
      ]
    },
    {
      "cell_type": "markdown",
      "id": "057ee2c7",
      "metadata": {
        "id": "057ee2c7"
      },
      "source": [
        "درس گذشته اومدیم یه لیست از کارهای در دست انجام تهیه و برای اجرا به هوش مصنوعی ارسال کردیم."
      ]
    },
    {
      "cell_type": "code",
      "execution_count": null,
      "id": "1c7e996d-2cc1-48e5-9c8f-51b1403cfcb8",
      "metadata": {
        "id": "1c7e996d-2cc1-48e5-9c8f-51b1403cfcb8"
      },
      "outputs": [],
      "source": [
        "#task example, large list not ordered by priority. Want to prioritize\n",
        "list_of_tasks = [\n",
        "    \"Compose a brief email to my boss explaining that I will be late for tomorrow's meeting.\",\n",
        "    \"Write a birthday poem for Otto, celebrating his 28th birthday.\",\n",
        "    \"Write a 300-word review of the movie 'The Arrival'.\",\n",
        "    \"Draft a thank-you note for my neighbor Dapinder who helped water my plants while I was on vacation.\",\n",
        "    \"Create an outline for a presentation on the benefits of remote work.\"\n",
        "]"
      ]
    },
    {
      "cell_type": "markdown",
      "id": "6bbfc589",
      "metadata": {
        "id": "6bbfc589"
      },
      "source": [
        "تو دنیای واقعی همه کارها اولویت یکسانی ندارن! تو همین مثال بالا ما کارهایی با درجه اولویت «بالا» و «متوسط» و «پایین» داریم."
      ]
    },
    {
      "cell_type": "code",
      "execution_count": null,
      "id": "24fe42ec-0cbf-46e8-af15-6cc2eeff98a9",
      "metadata": {
        "id": "24fe42ec-0cbf-46e8-af15-6cc2eeff98a9"
      },
      "outputs": [],
      "source": [
        "#instead of that unorganized large list, divide tasks by priority\n",
        "high_priority_tasks = [\n",
        "    \"Compose a brief email to my boss explaining that I will be late for tomorrow's meeting.\",\n",
        "    \"Create an outline for a presentation on the benefits of remote work.\"\n",
        "]\n",
        "\n",
        "medium_priority_tasks = [\n",
        "    \"Write a birthday poem for Otto, celebrating his 28th birthday.\",\n",
        "    \"Draft a thank-you note for my neighbor Dapinder who helped water my plants while I was on vacation.\"\n",
        "]\n",
        "\n",
        "low_priority_tasks = [\n",
        "    \"Write a 300-word review of the movie 'The Arrival'.\"\n",
        "]"
      ]
    },
    {
      "cell_type": "markdown",
      "id": "f5732409",
      "metadata": {
        "id": "f5732409"
      },
      "source": [
        "حالا با شناخت دیشکنری می‌تونی هر کار رو همراه اولویتش ذخیره کنی."
      ]
    },
    {
      "cell_type": "code",
      "execution_count": null,
      "id": "9db13c1e-3c7a-49c2-aaf7-96ba2f5c129d",
      "metadata": {
        "id": "9db13c1e-3c7a-49c2-aaf7-96ba2f5c129d"
      },
      "outputs": [],
      "source": [
        "#create dictionary with all tasks\n",
        "#dictionaries can contain lists!\n",
        "prioritized_tasks = {\n",
        "    \"high_priority\": high_priority_tasks,\n",
        "    \"medium_priority\": medium_priority_tasks,\n",
        "    \"low_priority\": low_priority_tasks\n",
        "}"
      ]
    },
    {
      "cell_type": "code",
      "execution_count": null,
      "id": "0b5a6caf-ac2b-42de-bfed-34f65e7af533",
      "metadata": {
        "id": "0b5a6caf-ac2b-42de-bfed-34f65e7af533"
      },
      "outputs": [],
      "source": [
        "print(prioritized_tasks)"
      ]
    },
    {
      "cell_type": "markdown",
      "id": "b9133811",
      "metadata": {
        "id": "b9133811"
      },
      "source": [
        "حالا می‌تونی برای مثال از بین همه کارها بیای روی کارهای با اولویت بالا تمرکز و اون‌ها رو کامل کنی.\n",
        "\n",
        "بندازشون تو یه حلقه فور تا خودکار فرستاده و کامل بشن."
      ]
    },
    {
      "cell_type": "code",
      "execution_count": null,
      "id": "a5983ba4-e53c-4e43-b00b-a405ed95cba4",
      "metadata": {
        "id": "a5983ba4-e53c-4e43-b00b-a405ed95cba4"
      },
      "outputs": [],
      "source": [
        "print(prioritized_tasks[\"high_priority\"])"
      ]
    },
    {
      "cell_type": "code",
      "execution_count": null,
      "id": "497c5938-347d-4551-a291-2eb8d5c137f9",
      "metadata": {
        "id": "497c5938-347d-4551-a291-2eb8d5c137f9"
      },
      "outputs": [],
      "source": [
        "#complete high priority tasks\n",
        "for task in prioritized_tasks[\"high_priority\"]:\n",
        "    print_llm_response(task)"
      ]
    },
    {
      "cell_type": "markdown",
      "id": "0252164f-5855-4c65-a631-bd71fd3b0586",
      "metadata": {
        "id": "0252164f-5855-4c65-a631-bd71fd3b0586"
      },
      "source": [
        "درس بعدی این مبحث رو در ترکیب با هوش مصنوعی ادامه می‌دیم.\n",
        "\n",
        "حالا بیا اونچه از دیکشنری یاد گرفتیم تمرین کنیم."
      ]
    },
    {
      "cell_type": "markdown",
      "id": "0b3b2ee6-0afb-4b3b-afc0-9d4906333edc",
      "metadata": {
        "id": "0b3b2ee6-0afb-4b3b-afc0-9d4906333edc"
      },
      "source": [
        "## تمرین"
      ]
    },
    {
      "cell_type": "markdown",
      "id": "39e1f950-58a2-43bb-a586-4e9f14155b32",
      "metadata": {
        "id": "39e1f950-58a2-43bb-a586-4e9f14155b32"
      },
      "source": [
        "با تمرین‌های پایین درک خودت از دیشکنری‌ها رو مرور و بهتر کن."
      ]
    },
    {
      "cell_type": "code",
      "execution_count": null,
      "id": "84928944-5d07-4475-8dda-07bb54823e32",
      "metadata": {
        "id": "84928944-5d07-4475-8dda-07bb54823e32"
      },
      "outputs": [],
      "source": [
        "# توصیف طعم «جاده سنگی» رو به کمک هوش مصنوعی روزآمد کن\n",
        "\n",
        "flavor = \"Rocky Road\"\n",
        "prompt = f\"Provide a brief description for the {flavor} ice cream flavor\"\n",
        "\n",
        "### EDIT THE FOLLOWING CODE ###\n",
        "ice_cream_flavors[\"Rocky Road\"] =\n",
        "### --------------- ###"
      ]
    },
    {
      "cell_type": "code",
      "execution_count": null,
      "id": "2bb222c9-9f01-4f29-9abc-d7c189e5d2d5",
      "metadata": {
        "id": "2bb222c9-9f01-4f29-9abc-d7c189e5d2d5"
      },
      "outputs": [],
      "source": [
        "# کارهای با درجه اولویت متوسط رو با اصلاح کد پایین انجام بده\n",
        "\n",
        "### EDIT THE FOLLOWING CODE ###\n",
        "for task in prioritized_tasks[\"high_priority\"]:\n",
        "    print_llm_response(task)\n",
        "### --------------- ###"
      ]
    }
  ],
  "metadata": {
    "kernelspec": {
      "display_name": "Python 3 (ipykernel)",
      "language": "python",
      "name": "python3"
    },
    "language_info": {
      "codemirror_mode": {
        "name": "ipython",
        "version": 3
      },
      "file_extension": ".py",
      "mimetype": "text/x-python",
      "name": "python",
      "nbconvert_exporter": "python",
      "pygments_lexer": "ipython3",
      "version": "3.9.19"
    },
    "colab": {
      "provenance": [],
      "include_colab_link": true
    }
  },
  "nbformat": 4,
  "nbformat_minor": 5
}