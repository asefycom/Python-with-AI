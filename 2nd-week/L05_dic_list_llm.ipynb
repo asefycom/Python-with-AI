{
  "cells": [
    {
      "cell_type": "markdown",
      "metadata": {
        "id": "view-in-github",
        "colab_type": "text"
      },
      "source": [
        "<a href=\"https://colab.research.google.com/github/asefycom/Python-with-AI/blob/main/2nd-week/L05_dic_list_llm.ipynb\" target=\"_parent\"><img src=\"https://colab.research.google.com/assets/colab-badge.svg\" alt=\"Open In Colab\"/></a>"
      ]
    },
    {
      "cell_type": "markdown",
      "id": "f6bf49f7-21f0-47bc-9a3e-7fd325a0b9bf",
      "metadata": {
        "id": "f6bf49f7-21f0-47bc-9a3e-7fd325a0b9bf"
      },
      "source": [
        "# هفته دوم - درس ۵: پروژه لیست و دیکشنری"
      ]
    },
    {
      "cell_type": "markdown",
      "id": "a9f73957",
      "metadata": {
        "id": "a9f73957"
      },
      "source": [
        "درس قبلی از دیکشنری‌ برای انجام کارها به اولویت استفاده کردیم. این درس از ترکیب دیکشنری و لیست برای ساخت پرامپت پویا استفاده می‌کنیم و دستور غذاهایی می‌سازیم که با علایق و محدودیت‌ها و تجربه آشپزی دوستان سازگار بشه.  "
      ]
    },
    {
      "cell_type": "markdown",
      "source": [
        "## راه‌اندازی توگدر برای کار با هوش مصنوعی"
      ],
      "metadata": {
        "id": "fuael9riQBiI"
      },
      "id": "fuael9riQBiI"
    },
    {
      "cell_type": "code",
      "execution_count": 6,
      "id": "0669df5d-5013-466b-90c8-679364ff80a1",
      "metadata": {
        "colab": {
          "base_uri": "https://localhost:8080/"
        },
        "collapsed": true,
        "id": "0669df5d-5013-466b-90c8-679364ff80a1",
        "outputId": "2d428fa9-dfe0-4073-e0a9-c1d8d501bb79"
      },
      "outputs": [
        {
          "output_type": "stream",
          "name": "stdout",
          "text": [
            "Collecting together\n",
            "  Downloading together-1.5.19-py3-none-any.whl.metadata (15 kB)\n",
            "Requirement already satisfied: aiohttp<4.0.0,>=3.9.3 in /usr/local/lib/python3.11/dist-packages (from together) (3.11.15)\n",
            "Requirement already satisfied: click<9.0.0,>=8.1.7 in /usr/local/lib/python3.11/dist-packages (from together) (8.2.1)\n",
            "Collecting eval-type-backport<0.3.0,>=0.1.3 (from together)\n",
            "  Downloading eval_type_backport-0.2.2-py3-none-any.whl.metadata (2.2 kB)\n",
            "Requirement already satisfied: filelock<4.0.0,>=3.13.1 in /usr/local/lib/python3.11/dist-packages (from together) (3.18.0)\n",
            "Requirement already satisfied: numpy>=1.23.5 in /usr/local/lib/python3.11/dist-packages (from together) (2.0.2)\n",
            "Requirement already satisfied: pillow<12.0.0,>=11.1.0 in /usr/local/lib/python3.11/dist-packages (from together) (11.2.1)\n",
            "Requirement already satisfied: pydantic<3.0.0,>=2.6.3 in /usr/local/lib/python3.11/dist-packages (from together) (2.11.7)\n",
            "Requirement already satisfied: requests<3.0.0,>=2.31.0 in /usr/local/lib/python3.11/dist-packages (from together) (2.32.3)\n",
            "Requirement already satisfied: rich<15.0.0,>=13.8.1 in /usr/local/lib/python3.11/dist-packages (from together) (13.9.4)\n",
            "Requirement already satisfied: tabulate<0.10.0,>=0.9.0 in /usr/local/lib/python3.11/dist-packages (from together) (0.9.0)\n",
            "Requirement already satisfied: tqdm<5.0.0,>=4.66.2 in /usr/local/lib/python3.11/dist-packages (from together) (4.67.1)\n",
            "Collecting typer<0.16,>=0.9 (from together)\n",
            "  Downloading typer-0.15.4-py3-none-any.whl.metadata (15 kB)\n",
            "Requirement already satisfied: aiohappyeyeballs>=2.3.0 in /usr/local/lib/python3.11/dist-packages (from aiohttp<4.0.0,>=3.9.3->together) (2.6.1)\n",
            "Requirement already satisfied: aiosignal>=1.1.2 in /usr/local/lib/python3.11/dist-packages (from aiohttp<4.0.0,>=3.9.3->together) (1.3.2)\n",
            "Requirement already satisfied: attrs>=17.3.0 in /usr/local/lib/python3.11/dist-packages (from aiohttp<4.0.0,>=3.9.3->together) (25.3.0)\n",
            "Requirement already satisfied: frozenlist>=1.1.1 in /usr/local/lib/python3.11/dist-packages (from aiohttp<4.0.0,>=3.9.3->together) (1.7.0)\n",
            "Requirement already satisfied: multidict<7.0,>=4.5 in /usr/local/lib/python3.11/dist-packages (from aiohttp<4.0.0,>=3.9.3->together) (6.6.3)\n",
            "Requirement already satisfied: propcache>=0.2.0 in /usr/local/lib/python3.11/dist-packages (from aiohttp<4.0.0,>=3.9.3->together) (0.3.2)\n",
            "Requirement already satisfied: yarl<2.0,>=1.17.0 in /usr/local/lib/python3.11/dist-packages (from aiohttp<4.0.0,>=3.9.3->together) (1.20.1)\n",
            "Requirement already satisfied: annotated-types>=0.6.0 in /usr/local/lib/python3.11/dist-packages (from pydantic<3.0.0,>=2.6.3->together) (0.7.0)\n",
            "Requirement already satisfied: pydantic-core==2.33.2 in /usr/local/lib/python3.11/dist-packages (from pydantic<3.0.0,>=2.6.3->together) (2.33.2)\n",
            "Requirement already satisfied: typing-extensions>=4.12.2 in /usr/local/lib/python3.11/dist-packages (from pydantic<3.0.0,>=2.6.3->together) (4.14.0)\n",
            "Requirement already satisfied: typing-inspection>=0.4.0 in /usr/local/lib/python3.11/dist-packages (from pydantic<3.0.0,>=2.6.3->together) (0.4.1)\n",
            "Requirement already satisfied: charset-normalizer<4,>=2 in /usr/local/lib/python3.11/dist-packages (from requests<3.0.0,>=2.31.0->together) (3.4.2)\n",
            "Requirement already satisfied: idna<4,>=2.5 in /usr/local/lib/python3.11/dist-packages (from requests<3.0.0,>=2.31.0->together) (3.10)\n",
            "Requirement already satisfied: urllib3<3,>=1.21.1 in /usr/local/lib/python3.11/dist-packages (from requests<3.0.0,>=2.31.0->together) (2.4.0)\n",
            "Requirement already satisfied: certifi>=2017.4.17 in /usr/local/lib/python3.11/dist-packages (from requests<3.0.0,>=2.31.0->together) (2025.6.15)\n",
            "Requirement already satisfied: markdown-it-py>=2.2.0 in /usr/local/lib/python3.11/dist-packages (from rich<15.0.0,>=13.8.1->together) (3.0.0)\n",
            "Requirement already satisfied: pygments<3.0.0,>=2.13.0 in /usr/local/lib/python3.11/dist-packages (from rich<15.0.0,>=13.8.1->together) (2.19.2)\n",
            "Collecting click<9.0.0,>=8.1.7 (from together)\n",
            "  Downloading click-8.1.8-py3-none-any.whl.metadata (2.3 kB)\n",
            "Requirement already satisfied: shellingham>=1.3.0 in /usr/local/lib/python3.11/dist-packages (from typer<0.16,>=0.9->together) (1.5.4)\n",
            "Requirement already satisfied: mdurl~=0.1 in /usr/local/lib/python3.11/dist-packages (from markdown-it-py>=2.2.0->rich<15.0.0,>=13.8.1->together) (0.1.2)\n",
            "Downloading together-1.5.19-py3-none-any.whl (91 kB)\n",
            "\u001b[2K   \u001b[90m━━━━━━━━━━━━━━━━━━━━━━━━━━━━━━━━━━━━━━━━\u001b[0m \u001b[32m91.6/91.6 kB\u001b[0m \u001b[31m3.3 MB/s\u001b[0m eta \u001b[36m0:00:00\u001b[0m\n",
            "\u001b[?25hDownloading eval_type_backport-0.2.2-py3-none-any.whl (5.8 kB)\n",
            "Downloading typer-0.15.4-py3-none-any.whl (45 kB)\n",
            "\u001b[2K   \u001b[90m━━━━━━━━━━━━━━━━━━━━━━━━━━━━━━━━━━━━━━━━\u001b[0m \u001b[32m45.3/45.3 kB\u001b[0m \u001b[31m3.4 MB/s\u001b[0m eta \u001b[36m0:00:00\u001b[0m\n",
            "\u001b[?25hDownloading click-8.1.8-py3-none-any.whl (98 kB)\n",
            "\u001b[2K   \u001b[90m━━━━━━━━━━━━━━━━━━━━━━━━━━━━━━━━━━━━━━━━\u001b[0m \u001b[32m98.2/98.2 kB\u001b[0m \u001b[31m6.8 MB/s\u001b[0m eta \u001b[36m0:00:00\u001b[0m\n",
            "\u001b[?25hInstalling collected packages: eval-type-backport, click, typer, together\n",
            "  Attempting uninstall: click\n",
            "    Found existing installation: click 8.2.1\n",
            "    Uninstalling click-8.2.1:\n",
            "      Successfully uninstalled click-8.2.1\n",
            "  Attempting uninstall: typer\n",
            "    Found existing installation: typer 0.16.0\n",
            "    Uninstalling typer-0.16.0:\n",
            "      Successfully uninstalled typer-0.16.0\n",
            "Successfully installed click-8.1.8 eval-type-backport-0.2.2 together-1.5.19 typer-0.15.4\n"
          ]
        }
      ],
      "source": [
        "!pip install together"
      ]
    },
    {
      "cell_type": "code",
      "source": [
        "from google.colab import userdata\n",
        "from together import Together\n",
        "\n",
        "client = Together(api_key=userdata.get('TOGETHER_API_KEY'))\n",
        "\n",
        "def print_llm_response(prompt):\n",
        "    response = client.chat.completions.create(\n",
        "        model=\"google/gemma-3n-E4B-it\",\n",
        "        # model=\"meta-llama/Llama-3.3-70B-Instruct-Turbo-Free\",\n",
        "        messages=[\n",
        "        {\n",
        "            \"role\": \"user\",\n",
        "            \"content\": prompt\n",
        "        }\n",
        "        ]\n",
        "    )\n",
        "    return response.choices[0].message.content"
      ],
      "metadata": {
        "id": "k-hLKQD1QG1j"
      },
      "id": "k-hLKQD1QG1j",
      "execution_count": 7,
      "outputs": []
    },
    {
      "cell_type": "markdown",
      "id": "f2ddd461",
      "metadata": {
        "id": "f2ddd461"
      },
      "source": [
        "## دیکشنری علایق غذایی\n",
        "\n",
        "دیشکنری‌ها برای چیدن چند متغیر مرتبط با یک موجودیت مفید هستن.\n",
        "\n",
        "دیکشنری پایین رو ببین: علایق غذایی و تجربه آشپزی رضا رو در خودش جا داده."
      ]
    },
    {
      "cell_type": "code",
      "execution_count": 2,
      "id": "5ccb6d62",
      "metadata": {
        "id": "5ccb6d62"
      },
      "outputs": [],
      "source": [
        "food_preferences_reza = {\n",
        "        \"dietary_restrictions\": \"vegetarian\",\n",
        "        \"favorite_ingredients\": [\"tofu\", \"olives\"],\n",
        "        \"experience_level\": \"intermediate\",\n",
        "        \"maximum_spice_level\": ۶\n",
        "}"
      ]
    },
    {
      "cell_type": "markdown",
      "id": "b27a261d",
      "metadata": {
        "id": "b27a261d"
      },
      "source": [
        "این دیکشنری چهار کلید داره."
      ]
    },
    {
      "cell_type": "code",
      "execution_count": null,
      "id": "8849cd3c",
      "metadata": {
        "id": "8849cd3c"
      },
      "outputs": [],
      "source": [
        "print(food_preferences_reza.keys())"
      ]
    },
    {
      "cell_type": "markdown",
      "id": "d73a2a44",
      "metadata": {
        "id": "d73a2a44"
      },
      "source": [
        "و مقدارهایی با نوع‌داده‌های گوناگون: لیست، استرینگ و عدد صحیح"
      ]
    },
    {
      "cell_type": "code",
      "execution_count": null,
      "id": "31f98465",
      "metadata": {
        "id": "31f98465"
      },
      "outputs": [],
      "source": [
        "print(food_preferences_reza.values())"
      ]
    },
    {
      "cell_type": "markdown",
      "id": "4d786ed3",
      "metadata": {
        "id": "4d786ed3"
      },
      "source": [
        "حالا بیا از این داده‌ها پرامپت‌ پویایی بسازیم و به هوش مصنوعی بدیم تا برامون دستور غذاهایی متناسب با شرایط رضا بده."
      ]
    },
    {
      "cell_type": "markdown",
      "id": "5241f8b9",
      "metadata": {
        "id": "5241f8b9"
      },
      "source": [
        "## استفاده از کلیدها و مقدارها در پرامپت"
      ]
    },
    {
      "cell_type": "markdown",
      "id": "6a8f30dc",
      "metadata": {
        "id": "6a8f30dc"
      },
      "source": [
        "پرامپت پایین از همه اطلاعات موجود دیکشنری رضا برای ساخت دستور غذای سفارشی استفاده کرده."
      ]
    },
    {
      "cell_type": "code",
      "execution_count": 12,
      "id": "463a6d2a",
      "metadata": {
        "id": "463a6d2a"
      },
      "outputs": [],
      "source": [
        "prompt = f\"\"\"لطفا یک دستور غذا پیشنهاد کن که\n",
        "شامل این مواد باشه:\n",
        "{food_preferences_reza[\"favorite_ingredients\"]}.\n",
        "این دستور غذا باید به محدودیت‌های رژیم غذایی زیر پایبند باشه:\n",
        "{food_preferences_reza[\"dietary_restrictions\"]}.\n",
        "دشواری این دستور غذا باید در این سطح باشه:\n",
        "{food_preferences_reza[\"experience_level\"]}\n",
        "حداکثر مقدار تندی در  مقیاس ۱۰ باید این عدد باشه:\n",
        "{food_preferences_reza[\"maximum_spice_level\"]}\n",
        "توضیح این دستور غذا باید در حد دو جمله باشه.\n",
        "\"\"\""
      ]
    },
    {
      "cell_type": "markdown",
      "id": "b24af997",
      "metadata": {
        "id": "b24af997"
      },
      "source": [
        "بیا پرامپت پویای بالا رو در مورد رضا چاپ کنیم."
      ]
    },
    {
      "cell_type": "code",
      "execution_count": 13,
      "id": "6cceec03-639e-460c-a0d6-b34adb2cd28d",
      "metadata": {
        "colab": {
          "base_uri": "https://localhost:8080/"
        },
        "id": "6cceec03-639e-460c-a0d6-b34adb2cd28d",
        "outputId": "f1e50559-c850-4f6d-d947-d7cc10bab760"
      },
      "outputs": [
        {
          "output_type": "stream",
          "name": "stdout",
          "text": [
            "لطفا یک دستور غذا پیشنهاد کن که\n",
            "شامل این مواد باشه:  \n",
            "['tofu', 'olives'].\n",
            "این دستور غذا باید به محدودیت‌های رژیم غذایی زیر پایبند باشه: \n",
            "vegetarian.\n",
            "دشواری این دستور غذا باید در این سطح باشه:  \n",
            "intermediate\n",
            "حداکثر مقدار تندی در  مقیاس ۱۰ باید این عدد باشه:\n",
            "6 \n",
            "توضیح این دستور غذا باید در حد دو جمله باشه. \n",
            "\n"
          ]
        }
      ],
      "source": [
        "print(prompt)"
      ]
    },
    {
      "cell_type": "markdown",
      "id": "10b37203",
      "metadata": {
        "id": "10b37203"
      },
      "source": [
        "حالا می‌تونی این پرامپت رو که در حال حاضر با اطلاعات رضا پر شده به هوش مصنوعی بدی تا دستور غذایی مناسب شرایط رضا تولید کنه:"
      ]
    },
    {
      "cell_type": "code",
      "execution_count": 14,
      "id": "14850b74",
      "metadata": {
        "colab": {
          "base_uri": "https://localhost:8080/",
          "height": 140
        },
        "id": "14850b74",
        "outputId": "d562204b-6c68-4867-81c4-3ab16ee9c197"
      },
      "outputs": [
        {
          "output_type": "execute_result",
          "data": {
            "text/plain": [
              "'## توفو و زیتون با سس لیمویی و فلفل (Vegetarian, Medium Difficulty, Heat Level: 6)\\n\\nاین دستور غذا یک غذای خوشمزه و مقوی با طعم مدیترانه\\u200cای است که توفو و زیتون را با طعم لیمو و کمی تندی ترکیب می\\u200cکند. این غذا برای کسانی که به دنبال یک غذای گیاهی با طعم\\u200cهای متنوع هستند، مناسب است.\\n\\n**مواد لازم:**\\n\\n*   200 گرم توفو سفت، خرد شده به قطعات 2 سانتی متری\\n*   1/2 فنجان زیتون سیاه، بدون هسته و خرد شده\\n*   2 قاشق غذاخوری روغن زیتون\\n*   2 حبه سیر، خرد شده\\n*   1 قاشق غذاخوری آب لیموی تازه\\n*   1 قاشق چایخوری سس فلفل قرمز (یا بیشتر، بسته به میزان تندی مورد نظر)\\n*   1/2 قاشق چایخوری پودر پیاز\\n*   نمک و فلفل سیاه به مقدار لازم\\n*   جعفری تازه خرد شده برای تزئین (اختیاری)\\n*   برنج یا سبزیجات بخارپز برای سرو (اختیاری)\\n\\n**طرز تهیه:**\\n\\n1.  توفو خرد شده را به مدت 10 دقیقه در یک تفت\\u200cدان با کمی روغن زیتون تفت دهید تا کمی طلایی شود.\\n2.  سیر خرد شده و پودر پیاز را اضافه کرده و 1 دقیقه دیگر تفت دهید تا عطر آن بلند شود.\\n3.  زیتون خرد شده، آب لیموی تازه و سس فلفل قرمز را اضافه کنید. نمک و فلفل سیاه را به مقدار لازم تنظیم کنید.\\n4.  به مدت 2-3 دقیقه دیگر تفت دهید تا سس غلیظ شود و مواد با هم ترکیب شوند.\\n5.  در صورت تمایل، با جعفری تازه تزئین کنید و با برنج یا سبزیجات بخارپز سرو کنید.\\n\\n**نکات:**\\n\\n*   برای داشتن طعم تندتر، می\\u200cتوانید از فلفل قرمز بیشتر استفاده کنید.\\n*   می\\u200cتوانید از انواع دیگر زیتون مانند زیتون سبز نیز استفاده کنید.\\n*   برای یک غذای کامل\\u200cتر، می\\u200cتوانید سبزیجات دیگری مانند فلفل دلمه\\u200cای یا قارچ را به این غذا اضافه کنید.\\n'"
            ],
            "application/vnd.google.colaboratory.intrinsic+json": {
              "type": "string"
            }
          },
          "metadata": {},
          "execution_count": 14
        }
      ],
      "source": [
        "print_llm_response(prompt)"
      ]
    },
    {
      "cell_type": "markdown",
      "id": "e00bb0c1",
      "metadata": {
        "id": "e00bb0c1"
      },
      "source": [
        "به به!‌ مدل دستور غذایی مناسب رضا تولید کرد.\n",
        "رضا احتمالا خوشش میاد.\n"
      ]
    },
    {
      "cell_type": "markdown",
      "id": "86e7ba47",
      "metadata": {
        "id": "86e7ba47"
      },
      "source": [
        "## اصلاح پرامپت با موادی که موجود داریم"
      ]
    },
    {
      "cell_type": "markdown",
      "id": "e813a9b6",
      "metadata": {
        "id": "e813a9b6"
      },
      "source": [
        "بیا پرامپت رو بهتر کنیم. ببینیم چه ادویه‌هایی تو خونه دارم.\n",
        "\n",
        "این مثلا لیست ادویه‌های موجود ما باشه:"
      ]
    },
    {
      "cell_type": "code",
      "execution_count": 16,
      "id": "72256217-4474-4c48-a87d-36b444c25ea6",
      "metadata": {
        "id": "72256217-4474-4c48-a87d-36b444c25ea6"
      },
      "outputs": [],
      "source": [
        "available_spices = [\"cumin\", \"turmeric\", \"oregano\", \"paprika\"]"
      ]
    },
    {
      "cell_type": "markdown",
      "id": "b2f46ab1",
      "metadata": {
        "id": "b2f46ab1"
      },
      "source": [
        "حالا این لیست رو به پرامپت اضافه کنیم:"
      ]
    },
    {
      "cell_type": "code",
      "execution_count": 17,
      "id": "3b73cd00-bf5e-4865-9a05-07e7f68b1296",
      "metadata": {
        "colab": {
          "base_uri": "https://localhost:8080/"
        },
        "id": "3b73cd00-bf5e-4865-9a05-07e7f68b1296",
        "outputId": "7f635806-d60b-4cc2-e33f-da7cb74d745c"
      },
      "outputs": [
        {
          "output_type": "stream",
          "name": "stdout",
          "text": [
            "لطفا یک دستور غذا پیشنهاد کن که\n",
            "شامل این مواد باشه:  \n",
            "['tofu', 'olives'].\n",
            "این دستور غذا باید به محدودیت‌های رژیم غذایی زیر پایبند باشه: \n",
            "vegetarian.\n",
            "دشواری این دستور غذا باید در این سطح باشه:  \n",
            "intermediate\n",
            "حداکثر مقدار تندی در  مقیاس ۱۰ باید این عدد باشه:\n",
            "6 \n",
            "توضیح این دستور غذا باید در حد دو جمله باشه. \n",
            "\n",
            "این دستور غذا نباید شامل موادی باشه که تو این لیست نیست:\n",
            "Spices: ['cumin', 'turmeric', 'oregano', 'paprika']\n",
            "\n"
          ]
        }
      ],
      "source": [
        "prompt = f\"\"\"لطفا یک دستور غذا پیشنهاد کن که\n",
        "شامل این مواد باشه:\n",
        "{food_preferences_reza[\"favorite_ingredients\"]}.\n",
        "این دستور غذا باید به محدودیت‌های رژیم غذایی زیر پایبند باشه:\n",
        "{food_preferences_reza[\"dietary_restrictions\"]}.\n",
        "دشواری این دستور غذا باید در این سطح باشه:\n",
        "{food_preferences_reza[\"experience_level\"]}\n",
        "حداکثر مقدار تندی در  مقیاس ۱۰ باید این عدد باشه:\n",
        "{food_preferences_reza[\"maximum_spice_level\"]}\n",
        "توضیح این دستور غذا باید در حد دو جمله باشه.\n",
        "\n",
        "این دستور غذا نباید شامل موادی باشه که تو این لیست نیست:\n",
        "Spices: {available_spices}\n",
        "\"\"\"\n",
        "\n",
        "\n",
        "print(prompt)"
      ]
    },
    {
      "cell_type": "markdown",
      "id": "4a78b961",
      "metadata": {
        "id": "4a78b961"
      },
      "source": [
        "حالا دستور غذایی رو با پرامپت اصلاح‌شده بالا دوباره تولید و داخل یک متغیر ذخیره کنیم:"
      ]
    },
    {
      "cell_type": "code",
      "execution_count": 18,
      "id": "bc9f9acf",
      "metadata": {
        "id": "bc9f9acf"
      },
      "outputs": [],
      "source": [
        "recipe = print_llm_response(prompt)"
      ]
    },
    {
      "cell_type": "markdown",
      "id": "c87c1079",
      "metadata": {
        "id": "c87c1079"
      },
      "source": [
        "و اینک! چاپ دستور غذای مخصوص رضا با توجه به مواد موجود تو خونه:"
      ]
    },
    {
      "cell_type": "code",
      "execution_count": 19,
      "id": "d211dac7",
      "metadata": {
        "colab": {
          "base_uri": "https://localhost:8080/"
        },
        "id": "d211dac7",
        "outputId": "98420940-e795-40e2-eaae-423ca96d67a7"
      },
      "outputs": [
        {
          "output_type": "stream",
          "name": "stdout",
          "text": [
            "## توفو و زیتون سرخ شده با سس لیمویی-فلفلی (Vegetarian)\n",
            "\n",
            "این دستور غذا یک غذای خوشمزه و مقوی است که با ترکیب توفو ترد، زیتون‌های آبدار و سس لیمویی-فلفلی، طعمی عالی ایجاد می‌کند. این غذا برای کسانی که به دنبال یک وعده غذایی گیاهی با طعم متفاوت هستند، مناسب است.\n",
            "\n",
            "**مواد لازم:**\n",
            "\n",
            "*   توفو سفت: 400 گرم، ورقه شده و خشک شده\n",
            "*   زیتون سیاه یا سبز: 1 پیمانه، خرد شده\n",
            "*   پیاز: 1 عدد، خرد شده\n",
            "*   سیر: 3 حبه، خرد شده\n",
            "*   آب لیموی تازه: 3 قاشق غذاخوری\n",
            "*   روغن زیتون: 4 قاشق غذاخوری\n",
            "*   فلفل قرمز خرد شده: 1 تا 2 قاشق چایخوری (بسته به میزان تندی دلخواه)\n",
            "*   جعفری تازه خرد شده: برای تزئین\n",
            "*   نمک و فلفل سیاه: به مقدار لازم\n",
            "\n",
            "**طرز تهیه:**\n",
            "\n",
            "1.  توفو را در مقداری روغن زیتون سرخ کنید تا طلایی و ترد شود. سپس از تابه خارج کرده و کنار بگذارید.\n",
            "2.  در همان تابه، پیاز و سیر را با مقداری روغن زیتون تفت دهید تا نرم شوند.\n",
            "3.  فلفل قرمز خرد شده را اضافه کنید و برای یک دقیقه تفت دهید تا عطر آن بلند شود.\n",
            "4.  زیتون‌های خرد شده را اضافه کنید و به مدت 2 دقیقه تفت دهید.\n",
            "5.  توفو سرخ شده را به تابه اضافه کنید و با سس لیمویی (آب لیمو، نمک و فلفل سیاه) مخلوط کنید.\n",
            "6.  به مدت 2-3 دقیقه تفت دهید تا مواد به خوبی با هم ترکیب شوند.\n",
            "7.  در نهایت، غذا را با جعفری تازه خرد شده تزئین کرده و سرو کنید.\n",
            "\n",
            "**سطح دشواری:** متوسط\n",
            "**حداکثر تندی:** 6/10\n",
            "\n"
          ]
        }
      ],
      "source": [
        "print(recipe)"
      ]
    },
    {
      "cell_type": "markdown",
      "id": "8dd1eebb",
      "metadata": {
        "id": "8dd1eebb"
      },
      "source": [
        "Try changing the prompt to give you step-by-step instructions and try adding a key-value pair to the dictionary that indicates favorite cuisine."
      ]
    },
    {
      "cell_type": "markdown",
      "id": "d21d016e-e278-47f9-a3da-b031eb6905e9",
      "metadata": {
        "id": "d21d016e-e278-47f9-a3da-b031eb6905e9"
      },
      "source": [
        "## نگاهی به پیش رو"
      ]
    },
    {
      "cell_type": "markdown",
      "id": "71e7f4a4-efbe-4bbb-a6b4-60305a2e5427",
      "metadata": {
        "id": "71e7f4a4-efbe-4bbb-a6b4-60305a2e5427"
      },
      "source": [
        "بیا دوباره محدودیت رژیم غذایی رضا رو چاپ کنیم:"
      ]
    },
    {
      "cell_type": "code",
      "execution_count": 20,
      "id": "91bb95c7-1940-452d-a120-149bf8db61c7",
      "metadata": {
        "colab": {
          "base_uri": "https://localhost:8080/"
        },
        "id": "91bb95c7-1940-452d-a120-149bf8db61c7",
        "outputId": "5b9b2d61-7ff1-4c85-d04a-e7b392beb7ff"
      },
      "outputs": [
        {
          "output_type": "stream",
          "name": "stdout",
          "text": [
            "vegetarian\n"
          ]
        }
      ],
      "source": [
        "print(food_preferences_reza[\"dietary_restrictions\"])"
      ]
    },
    {
      "cell_type": "markdown",
      "id": "b5f5fe5e-feae-4a8a-9e11-9cfb99958df2",
      "metadata": {
        "id": "b5f5fe5e-feae-4a8a-9e11-9cfb99958df2"
      },
      "source": [
        "برای این که به پایتون بگی که رضا چه رژیمی داره، می‌تونی این شکلی هم بنویسی:"
      ]
    },
    {
      "cell_type": "code",
      "execution_count": 21,
      "id": "c447a119-a75b-4f83-87e1-81a6f4e34c13",
      "metadata": {
        "id": "c447a119-a75b-4f83-87e1-81a6f4e34c13"
      },
      "outputs": [],
      "source": [
        "food_preferences_reza[\"is_vegetarian\"] = True"
      ]
    },
    {
      "cell_type": "code",
      "execution_count": 22,
      "id": "bfea6233-99af-43b8-b26f-6ba0696f34c6",
      "metadata": {
        "colab": {
          "base_uri": "https://localhost:8080/"
        },
        "id": "bfea6233-99af-43b8-b26f-6ba0696f34c6",
        "outputId": "f1d05b0a-e8d8-4556-8223-9bbaeffb70ec"
      },
      "outputs": [
        {
          "output_type": "stream",
          "name": "stdout",
          "text": [
            "{'dietary_restrictions': 'vegetarian', 'favorite_ingredients': ['tofu', 'olives'], 'experience_level': 'intermediate', 'maximum_spice_level': 6, 'is_vegetarian': True}\n"
          ]
        }
      ],
      "source": [
        "print(food_preferences_reza)"
      ]
    },
    {
      "cell_type": "markdown",
      "id": "3e43d1db-4ce2-4444-9c47-d0ae02370976",
      "metadata": {
        "id": "3e43d1db-4ce2-4444-9c47-d0ae02370976"
      },
      "source": [
        "ببین یه کلید-مقدار تازه به دیکشنری اضافه کردم. یه کلید-مقدار با منطق درست یا غلط ساختم!\n",
        "\n",
        "کلید: گیاهخوار؟ مقدار: درست\n",
        "\n",
        "درس بعد در موردش بیشتر صحبت می‌کنیم."
      ]
    },
    {
      "cell_type": "markdown",
      "id": "cc7e65ef-1983-43d0-93b5-ce29a2c9f387",
      "metadata": {
        "id": "cc7e65ef-1983-43d0-93b5-ce29a2c9f387"
      },
      "source": [
        "## تمرین بیشتر"
      ]
    },
    {
      "cell_type": "code",
      "execution_count": null,
      "id": "83969e6c-e89b-4061-8a9b-69764225dccd",
      "metadata": {
        "id": "83969e6c-e89b-4061-8a9b-69764225dccd"
      },
      "outputs": [],
      "source": [
        "# دیکشنری پایین رو با شرایط خودت کامل کن\n",
        "\n",
        "### EDIT THE FOLLOWING CODE ###\n",
        "my_food_preferences = {\n",
        "        \"dietary_restrictions\": [], #لیستی از محدودیت‌های رژیم غذایی\n",
        "        \"favorite_ingredients\": [], #لیست سه ماده محبوب خودت\n",
        "        \"experience_level\": \"\", #میزان تجربه آشپزی خودت\n",
        "        \"maximum_spice_level\": 0 #درجه تندی قابل قبولت از ۰ تا ۱۰\n",
        "}\n",
        "### --------------- ###\n",
        "\n",
        "print(my_food_preferences)"
      ]
    },
    {
      "cell_type": "code",
      "execution_count": null,
      "id": "e22eb004-6a9c-4274-9ae3-c9ee106689fb",
      "metadata": {
        "id": "e22eb004-6a9c-4274-9ae3-c9ee106689fb"
      },
      "outputs": [],
      "source": [
        "# پرامپت پایین رو طوری اصلاح کن که\n",
        "# شرح کامل مراحل اجرای دستور غذا داده بشه\n",
        "# سعی کن بیش از دو جمله اضافه نکنی\n",
        "\n",
        "### EDIT THE FOLLOWING CODE ###\n",
        "#Hint: به آخرین جمله این پرامپت دقت کن\n",
        "prompt = f\"\"\"لطفا یک دستور غذا پیشنهاد کن که\n",
        "شامل این مواد باشه:\n",
        "{food_preferences_reza[\"favorite_ingredients\"]}.\n",
        "این دستور غذا باید به محدودیت‌های رژیم غذایی زیر پایبند باشه:\n",
        "{food_preferences_reza[\"dietary_restrictions\"]}.\n",
        "دشواری این دستور غذا باید در این سطح باشه:\n",
        "{food_preferences_reza[\"experience_level\"]}\n",
        "حداکثر مقدار تندی در  مقیاس ۱۰ باید این عدد باشه:\n",
        "{food_preferences_reza[\"maximum_spice_level\"]}\n",
        "توضیح این دستور غذا باید در حد دو جمله باشه.\n",
        "\"\"\"\n",
        "### --------------- ###\n",
        "\n",
        "print_llm_response(prompt)"
      ]
    }
  ],
  "metadata": {
    "kernelspec": {
      "display_name": "Python 3 (ipykernel)",
      "language": "python",
      "name": "python3"
    },
    "language_info": {
      "codemirror_mode": {
        "name": "ipython",
        "version": 3
      },
      "file_extension": ".py",
      "mimetype": "text/x-python",
      "name": "python",
      "nbconvert_exporter": "python",
      "pygments_lexer": "ipython3",
      "version": "3.9.19"
    },
    "colab": {
      "provenance": [],
      "include_colab_link": true
    }
  },
  "nbformat": 4,
  "nbformat_minor": 5
}