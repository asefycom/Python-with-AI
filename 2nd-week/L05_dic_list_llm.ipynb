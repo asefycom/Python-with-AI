{
  "cells": [
    {
      "cell_type": "markdown",
      "metadata": {
        "id": "view-in-github",
        "colab_type": "text"
      },
      "source": [
        "<a href=\"https://colab.research.google.com/github/asefycom/Python-with-AI/blob/main/2nd-week/L05_dic_list_llm.ipynb\" target=\"_parent\"><img src=\"https://colab.research.google.com/assets/colab-badge.svg\" alt=\"Open In Colab\"/></a>"
      ]
    },
    {
      "cell_type": "markdown",
      "id": "f6bf49f7-21f0-47bc-9a3e-7fd325a0b9bf",
      "metadata": {
        "id": "f6bf49f7-21f0-47bc-9a3e-7fd325a0b9bf"
      },
      "source": [
        "# هفته دوم - درس ۵: پروژه لیست و دیکشنری"
      ]
    },
    {
      "cell_type": "markdown",
      "id": "a9f73957",
      "metadata": {
        "id": "a9f73957"
      },
      "source": [
        "درس قبلی از دیکشنری‌ برای انجام کارها به اولویت استفاده کردیم. این درس از ترکیب دیکشنری و لیست برای ساخت پرامپت پویا استفاده می‌کنیم و دستور غذاهایی می‌سازیم که با علایق و محدودیت‌ها و تجربه آشپزی دوستان سازگار بشه.  "
      ]
    },
    {
      "cell_type": "markdown",
      "source": [
        "## راه‌اندازی توگدر برای کار با هوش مصنوعی"
      ],
      "metadata": {
        "id": "fuael9riQBiI"
      },
      "id": "fuael9riQBiI"
    },
    {
      "cell_type": "code",
      "execution_count": null,
      "id": "0669df5d-5013-466b-90c8-679364ff80a1",
      "metadata": {
        "id": "0669df5d-5013-466b-90c8-679364ff80a1"
      },
      "outputs": [],
      "source": [
        "!pip install together"
      ]
    },
    {
      "cell_type": "code",
      "source": [
        "from google.colab import userdata\n",
        "from together import Together\n",
        "\n",
        "client = Together(api_key=userdata.get('TOGETHER_API_KEY'))\n",
        "\n",
        "def print_llm_response(prompt):\n",
        "    response = client.chat.completions.create(\n",
        "        model=\"google/gemma-3n-E4B-it\",\n",
        "        # model=\"meta-llama/Llama-3.3-70B-Instruct-Turbo-Free\",\n",
        "        messages=[\n",
        "        {\n",
        "            \"role\": \"user\",\n",
        "            \"content\": prompt\n",
        "        }\n",
        "        ]\n",
        "    )\n",
        "    return response.choices[0].message.content"
      ],
      "metadata": {
        "id": "k-hLKQD1QG1j"
      },
      "id": "k-hLKQD1QG1j",
      "execution_count": null,
      "outputs": []
    },
    {
      "cell_type": "markdown",
      "id": "f2ddd461",
      "metadata": {
        "id": "f2ddd461"
      },
      "source": [
        "## دیکشنری علایق غذایی\n",
        "\n",
        "دیشکنری‌ها برای چیدن چند متغیر مرتبط با یک موجودیت مفید هستن.\n",
        "\n",
        "دیکشنری پایین رو ببین: علایق غذایی و تجربه آشپزی رضا رو در خودش جا داده."
      ]
    },
    {
      "cell_type": "code",
      "execution_count": null,
      "id": "5ccb6d62",
      "metadata": {
        "id": "5ccb6d62"
      },
      "outputs": [],
      "source": [
        "food_preferences_reza = {\n",
        "        \"dietary_restrictions\": \"vegetarian\",\n",
        "        \"favorite_ingredients\": [\"tofu\", \"olives\"],\n",
        "        \"experience_level\": \"intermediate\",\n",
        "        \"maximum_spice_level\": ۶\n",
        "}"
      ]
    },
    {
      "cell_type": "markdown",
      "id": "b27a261d",
      "metadata": {
        "id": "b27a261d"
      },
      "source": [
        "این دیکشنری چهار کلید داره."
      ]
    },
    {
      "cell_type": "code",
      "execution_count": null,
      "id": "8849cd3c",
      "metadata": {
        "id": "8849cd3c"
      },
      "outputs": [],
      "source": [
        "print(food_preferences_reza.keys())"
      ]
    },
    {
      "cell_type": "markdown",
      "id": "d73a2a44",
      "metadata": {
        "id": "d73a2a44"
      },
      "source": [
        "و مقدارهایی با نوع‌داده‌های گوناگون: لیست، استرینگ و عدد صحیح"
      ]
    },
    {
      "cell_type": "code",
      "execution_count": null,
      "id": "31f98465",
      "metadata": {
        "id": "31f98465"
      },
      "outputs": [],
      "source": [
        "print(food_preferences_reza.values())"
      ]
    },
    {
      "cell_type": "markdown",
      "id": "4d786ed3",
      "metadata": {
        "id": "4d786ed3"
      },
      "source": [
        "حالا بیا از این داده‌ها پرامپت‌ پویایی بسازیم و به هوش مصنوعی بدیم تا برامون دستور غذاهایی متناسب با شرایط رضا بده."
      ]
    },
    {
      "cell_type": "markdown",
      "id": "5241f8b9",
      "metadata": {
        "id": "5241f8b9"
      },
      "source": [
        "## استفاده از کلیدها و مقدارها در پرامپت"
      ]
    },
    {
      "cell_type": "markdown",
      "id": "6a8f30dc",
      "metadata": {
        "id": "6a8f30dc"
      },
      "source": [
        "پرامپت پایین از همه اطلاعات موجود دیکشنری رضا برای ساخت دستور غذای سفارشی استفاده کرده."
      ]
    },
    {
      "cell_type": "code",
      "execution_count": null,
      "id": "463a6d2a",
      "metadata": {
        "id": "463a6d2a"
      },
      "outputs": [],
      "source": [
        "prompt = f\"\"\"لطفا یک دستور غذا پیشنهاد کن که\n",
        "شامل این مواد باشه:\n",
        "{food_preferences_reza[\"favorite_ingredients\"]}.\n",
        "این دستور غذا باید به محدودیت‌های رژیم غذایی زیر پایبند باشه:\n",
        "{food_preferences_reza[\"dietary_restrictions\"]}.\n",
        "دشواری این دستور غذا باید در این سطح باشه:\n",
        "{food_preferences_reza[\"experience_level\"]}\n",
        "حداکثر مقدار تندی در  مقیاس ۱۰ باید این عدد باشه:\n",
        "{food_preferences_reza[\"maximum_spice_level\"]}\n",
        "توضیح این دستور غذا باید در حد دو جمله باشه.\n",
        "\"\"\""
      ]
    },
    {
      "cell_type": "markdown",
      "id": "b24af997",
      "metadata": {
        "id": "b24af997"
      },
      "source": [
        "بیا پرامپت پویای بالا رو در مورد رضا چاپ کنیم."
      ]
    },
    {
      "cell_type": "code",
      "execution_count": null,
      "id": "6cceec03-639e-460c-a0d6-b34adb2cd28d",
      "metadata": {
        "colab": {
          "base_uri": "https://localhost:8080/"
        },
        "id": "6cceec03-639e-460c-a0d6-b34adb2cd28d",
        "outputId": "f1e50559-c850-4f6d-d947-d7cc10bab760"
      },
      "outputs": [
        {
          "output_type": "stream",
          "name": "stdout",
          "text": [
            "لطفا یک دستور غذا پیشنهاد کن که\n",
            "شامل این مواد باشه:  \n",
            "['tofu', 'olives'].\n",
            "این دستور غذا باید به محدودیت‌های رژیم غذایی زیر پایبند باشه: \n",
            "vegetarian.\n",
            "دشواری این دستور غذا باید در این سطح باشه:  \n",
            "intermediate\n",
            "حداکثر مقدار تندی در  مقیاس ۱۰ باید این عدد باشه:\n",
            "6 \n",
            "توضیح این دستور غذا باید در حد دو جمله باشه. \n",
            "\n"
          ]
        }
      ],
      "source": [
        "print(prompt)"
      ]
    },
    {
      "cell_type": "markdown",
      "id": "10b37203",
      "metadata": {
        "id": "10b37203"
      },
      "source": [
        "حالا می‌تونی این پرامپت رو که در حال حاضر با اطلاعات رضا پر شده به هوش مصنوعی بدی تا دستور غذایی مناسب شرایط رضا تولید کنه:"
      ]
    },
    {
      "cell_type": "code",
      "execution_count": null,
      "id": "14850b74",
      "metadata": {
        "colab": {
          "base_uri": "https://localhost:8080/",
          "height": 140
        },
        "id": "14850b74",
        "outputId": "d562204b-6c68-4867-81c4-3ab16ee9c197"
      },
      "outputs": [
        {
          "output_type": "execute_result",
          "data": {
            "text/plain": [
              "'## توفو و زیتون با سس لیمویی و فلفل (Vegetarian, Medium Difficulty, Heat Level: 6)\\n\\nاین دستور غذا یک غذای خوشمزه و مقوی با طعم مدیترانه\\u200cای است که توفو و زیتون را با طعم لیمو و کمی تندی ترکیب می\\u200cکند. این غذا برای کسانی که به دنبال یک غذای گیاهی با طعم\\u200cهای متنوع هستند، مناسب است.\\n\\n**مواد لازم:**\\n\\n*   200 گرم توفو سفت، خرد شده به قطعات 2 سانتی متری\\n*   1/2 فنجان زیتون سیاه، بدون هسته و خرد شده\\n*   2 قاشق غذاخوری روغن زیتون\\n*   2 حبه سیر، خرد شده\\n*   1 قاشق غذاخوری آب لیموی تازه\\n*   1 قاشق چایخوری سس فلفل قرمز (یا بیشتر، بسته به میزان تندی مورد نظر)\\n*   1/2 قاشق چایخوری پودر پیاز\\n*   نمک و فلفل سیاه به مقدار لازم\\n*   جعفری تازه خرد شده برای تزئین (اختیاری)\\n*   برنج یا سبزیجات بخارپز برای سرو (اختیاری)\\n\\n**طرز تهیه:**\\n\\n1.  توفو خرد شده را به مدت 10 دقیقه در یک تفت\\u200cدان با کمی روغن زیتون تفت دهید تا کمی طلایی شود.\\n2.  سیر خرد شده و پودر پیاز را اضافه کرده و 1 دقیقه دیگر تفت دهید تا عطر آن بلند شود.\\n3.  زیتون خرد شده، آب لیموی تازه و سس فلفل قرمز را اضافه کنید. نمک و فلفل سیاه را به مقدار لازم تنظیم کنید.\\n4.  به مدت 2-3 دقیقه دیگر تفت دهید تا سس غلیظ شود و مواد با هم ترکیب شوند.\\n5.  در صورت تمایل، با جعفری تازه تزئین کنید و با برنج یا سبزیجات بخارپز سرو کنید.\\n\\n**نکات:**\\n\\n*   برای داشتن طعم تندتر، می\\u200cتوانید از فلفل قرمز بیشتر استفاده کنید.\\n*   می\\u200cتوانید از انواع دیگر زیتون مانند زیتون سبز نیز استفاده کنید.\\n*   برای یک غذای کامل\\u200cتر، می\\u200cتوانید سبزیجات دیگری مانند فلفل دلمه\\u200cای یا قارچ را به این غذا اضافه کنید.\\n'"
            ],
            "application/vnd.google.colaboratory.intrinsic+json": {
              "type": "string"
            }
          },
          "metadata": {},
          "execution_count": 14
        }
      ],
      "source": [
        "print_llm_response(prompt)"
      ]
    },
    {
      "cell_type": "markdown",
      "id": "e00bb0c1",
      "metadata": {
        "id": "e00bb0c1"
      },
      "source": [
        "به به!‌ مدل دستور غذایی مناسب رضا تولید کرد.\n",
        "رضا احتمالا خوشش میاد.\n"
      ]
    },
    {
      "cell_type": "markdown",
      "id": "86e7ba47",
      "metadata": {
        "id": "86e7ba47"
      },
      "source": [
        "## اصلاح پرامپت با موادی که موجود داریم"
      ]
    },
    {
      "cell_type": "markdown",
      "id": "e813a9b6",
      "metadata": {
        "id": "e813a9b6"
      },
      "source": [
        "بیا پرامپت رو بهتر کنیم. ببینیم چه ادویه‌هایی تو خونه دارم.\n",
        "\n",
        "این مثلا لیست ادویه‌های موجود ما باشه:"
      ]
    },
    {
      "cell_type": "code",
      "execution_count": null,
      "id": "72256217-4474-4c48-a87d-36b444c25ea6",
      "metadata": {
        "id": "72256217-4474-4c48-a87d-36b444c25ea6"
      },
      "outputs": [],
      "source": [
        "available_spices = [\"cumin\", \"turmeric\", \"oregano\", \"paprika\"]"
      ]
    },
    {
      "cell_type": "markdown",
      "id": "b2f46ab1",
      "metadata": {
        "id": "b2f46ab1"
      },
      "source": [
        "حالا این لیست رو به پرامپت اضافه کنیم:"
      ]
    },
    {
      "cell_type": "code",
      "execution_count": null,
      "id": "3b73cd00-bf5e-4865-9a05-07e7f68b1296",
      "metadata": {
        "colab": {
          "base_uri": "https://localhost:8080/"
        },
        "id": "3b73cd00-bf5e-4865-9a05-07e7f68b1296",
        "outputId": "7f635806-d60b-4cc2-e33f-da7cb74d745c"
      },
      "outputs": [
        {
          "output_type": "stream",
          "name": "stdout",
          "text": [
            "لطفا یک دستور غذا پیشنهاد کن که\n",
            "شامل این مواد باشه:  \n",
            "['tofu', 'olives'].\n",
            "این دستور غذا باید به محدودیت‌های رژیم غذایی زیر پایبند باشه: \n",
            "vegetarian.\n",
            "دشواری این دستور غذا باید در این سطح باشه:  \n",
            "intermediate\n",
            "حداکثر مقدار تندی در  مقیاس ۱۰ باید این عدد باشه:\n",
            "6 \n",
            "توضیح این دستور غذا باید در حد دو جمله باشه. \n",
            "\n",
            "این دستور غذا نباید شامل موادی باشه که تو این لیست نیست:\n",
            "Spices: ['cumin', 'turmeric', 'oregano', 'paprika']\n",
            "\n"
          ]
        }
      ],
      "source": [
        "prompt = f\"\"\"لطفا یک دستور غذا پیشنهاد کن که\n",
        "شامل این مواد باشه:\n",
        "{food_preferences_reza[\"favorite_ingredients\"]}.\n",
        "این دستور غذا باید به محدودیت‌های رژیم غذایی زیر پایبند باشه:\n",
        "{food_preferences_reza[\"dietary_restrictions\"]}.\n",
        "دشواری این دستور غذا باید در این سطح باشه:\n",
        "{food_preferences_reza[\"experience_level\"]}\n",
        "حداکثر مقدار تندی در  مقیاس ۱۰ باید این عدد باشه:\n",
        "{food_preferences_reza[\"maximum_spice_level\"]}\n",
        "توضیح این دستور غذا باید در حد دو جمله باشه.\n",
        "\n",
        "این دستور غذا نباید شامل موادی باشه که تو این لیست نیست:\n",
        "Spices: {available_spices}\n",
        "\"\"\"\n",
        "\n",
        "\n",
        "print(prompt)"
      ]
    },
    {
      "cell_type": "markdown",
      "id": "4a78b961",
      "metadata": {
        "id": "4a78b961"
      },
      "source": [
        "حالا دستور غذایی رو با پرامپت اصلاح‌شده بالا دوباره تولید و داخل یک متغیر ذخیره کنیم:"
      ]
    },
    {
      "cell_type": "code",
      "execution_count": null,
      "id": "bc9f9acf",
      "metadata": {
        "id": "bc9f9acf"
      },
      "outputs": [],
      "source": [
        "recipe = print_llm_response(prompt)"
      ]
    },
    {
      "cell_type": "markdown",
      "id": "c87c1079",
      "metadata": {
        "id": "c87c1079"
      },
      "source": [
        "و اینک! چاپ دستور غذای مخصوص رضا با توجه به مواد موجود تو خونه:"
      ]
    },
    {
      "cell_type": "code",
      "execution_count": null,
      "id": "d211dac7",
      "metadata": {
        "colab": {
          "base_uri": "https://localhost:8080/"
        },
        "id": "d211dac7",
        "outputId": "98420940-e795-40e2-eaae-423ca96d67a7"
      },
      "outputs": [
        {
          "output_type": "stream",
          "name": "stdout",
          "text": [
            "## توفو و زیتون سرخ شده با سس لیمویی-فلفلی (Vegetarian)\n",
            "\n",
            "این دستور غذا یک غذای خوشمزه و مقوی است که با ترکیب توفو ترد، زیتون‌های آبدار و سس لیمویی-فلفلی، طعمی عالی ایجاد می‌کند. این غذا برای کسانی که به دنبال یک وعده غذایی گیاهی با طعم متفاوت هستند، مناسب است.\n",
            "\n",
            "**مواد لازم:**\n",
            "\n",
            "*   توفو سفت: 400 گرم، ورقه شده و خشک شده\n",
            "*   زیتون سیاه یا سبز: 1 پیمانه، خرد شده\n",
            "*   پیاز: 1 عدد، خرد شده\n",
            "*   سیر: 3 حبه، خرد شده\n",
            "*   آب لیموی تازه: 3 قاشق غذاخوری\n",
            "*   روغن زیتون: 4 قاشق غذاخوری\n",
            "*   فلفل قرمز خرد شده: 1 تا 2 قاشق چایخوری (بسته به میزان تندی دلخواه)\n",
            "*   جعفری تازه خرد شده: برای تزئین\n",
            "*   نمک و فلفل سیاه: به مقدار لازم\n",
            "\n",
            "**طرز تهیه:**\n",
            "\n",
            "1.  توفو را در مقداری روغن زیتون سرخ کنید تا طلایی و ترد شود. سپس از تابه خارج کرده و کنار بگذارید.\n",
            "2.  در همان تابه، پیاز و سیر را با مقداری روغن زیتون تفت دهید تا نرم شوند.\n",
            "3.  فلفل قرمز خرد شده را اضافه کنید و برای یک دقیقه تفت دهید تا عطر آن بلند شود.\n",
            "4.  زیتون‌های خرد شده را اضافه کنید و به مدت 2 دقیقه تفت دهید.\n",
            "5.  توفو سرخ شده را به تابه اضافه کنید و با سس لیمویی (آب لیمو، نمک و فلفل سیاه) مخلوط کنید.\n",
            "6.  به مدت 2-3 دقیقه تفت دهید تا مواد به خوبی با هم ترکیب شوند.\n",
            "7.  در نهایت، غذا را با جعفری تازه خرد شده تزئین کرده و سرو کنید.\n",
            "\n",
            "**سطح دشواری:** متوسط\n",
            "**حداکثر تندی:** 6/10\n",
            "\n"
          ]
        }
      ],
      "source": [
        "print(recipe)"
      ]
    },
    {
      "cell_type": "markdown",
      "id": "cc7e65ef-1983-43d0-93b5-ce29a2c9f387",
      "metadata": {
        "id": "cc7e65ef-1983-43d0-93b5-ce29a2c9f387"
      },
      "source": [
        "## تمرین بیشتر"
      ]
    },
    {
      "cell_type": "code",
      "execution_count": null,
      "id": "83969e6c-e89b-4061-8a9b-69764225dccd",
      "metadata": {
        "id": "83969e6c-e89b-4061-8a9b-69764225dccd"
      },
      "outputs": [],
      "source": [
        "# دیکشنری پایین رو با شرایط خودت کامل کن\n",
        "\n",
        "### EDIT THE FOLLOWING CODE ###\n",
        "my_food_preferences = {\n",
        "        \"dietary_restrictions\": [], #لیستی از محدودیت‌های رژیم غذایی\n",
        "        \"favorite_ingredients\": [], #لیست سه ماده محبوب خودت\n",
        "        \"experience_level\": \"\", #میزان تجربه آشپزی خودت\n",
        "        \"maximum_spice_level\": 0 #درجه تندی قابل قبولت از ۰ تا ۱۰\n",
        "}\n",
        "### --------------- ###\n",
        "\n",
        "print(my_food_preferences)"
      ]
    },
    {
      "cell_type": "code",
      "execution_count": null,
      "id": "e22eb004-6a9c-4274-9ae3-c9ee106689fb",
      "metadata": {
        "id": "e22eb004-6a9c-4274-9ae3-c9ee106689fb"
      },
      "outputs": [],
      "source": [
        "# پرامپت پایین رو طوری اصلاح کن که\n",
        "# شرح کامل مراحل اجرای دستور غذا داده بشه\n",
        "# سعی کن بیش از دو جمله اضافه نکنی\n",
        "\n",
        "### EDIT THE FOLLOWING CODE ###\n",
        "#Hint: به آخرین جمله این پرامپت دقت کن\n",
        "prompt = f\"\"\"لطفا یک دستور غذا پیشنهاد کن که\n",
        "شامل این مواد باشه:\n",
        "{food_preferences_reza[\"favorite_ingredients\"]}.\n",
        "این دستور غذا باید به محدودیت‌های رژیم غذایی زیر پایبند باشه:\n",
        "{food_preferences_reza[\"dietary_restrictions\"]}.\n",
        "دشواری این دستور غذا باید در این سطح باشه:\n",
        "{food_preferences_reza[\"experience_level\"]}\n",
        "حداکثر مقدار تندی در  مقیاس ۱۰ باید این عدد باشه:\n",
        "{food_preferences_reza[\"maximum_spice_level\"]}\n",
        "توضیح این دستور غذا باید در حد دو جمله باشه.\n",
        "\"\"\"\n",
        "### --------------- ###\n",
        "\n",
        "print_llm_response(prompt)"
      ]
    }
  ],
  "metadata": {
    "kernelspec": {
      "display_name": "Python 3 (ipykernel)",
      "language": "python",
      "name": "python3"
    },
    "language_info": {
      "codemirror_mode": {
        "name": "ipython",
        "version": 3
      },
      "file_extension": ".py",
      "mimetype": "text/x-python",
      "name": "python",
      "nbconvert_exporter": "python",
      "pygments_lexer": "ipython3",
      "version": "3.9.19"
    },
    "colab": {
      "provenance": [],
      "include_colab_link": true
    }
  },
  "nbformat": 4,
  "nbformat_minor": 5
}