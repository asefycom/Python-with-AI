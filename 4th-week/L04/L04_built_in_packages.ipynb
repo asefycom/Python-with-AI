{
  "cells": [
    {
      "cell_type": "markdown",
      "metadata": {
        "id": "view-in-github",
        "colab_type": "text"
      },
      "source": [
        "<a href=\"https://colab.research.google.com/github/asefycom/Python-with-AI/blob/main/4th-week/L04/L04_built_in_packages.ipynb\" target=\"_parent\"><img src=\"https://colab.research.google.com/assets/colab-badge.svg\" alt=\"Open In Colab\"/></a>"
      ]
    },
    {
      "cell_type": "markdown",
      "metadata": {
        "id": "FbWoGOis4KoG"
      },
      "source": [
        "# هفته چهارم - درس ۴: بسته‌های پیش‌ساخته"
      ]
    },
    {
      "cell_type": "markdown",
      "metadata": {
        "id": "GSGoJUO-pF1w"
      },
      "source": [
        "تو این درس یاد می‌گیری که چطور از ماژول‌ها و بسته‌های آماده پایتون استفاده کنی\n",
        "\n",
        "این بسته‌ها (پکیج‌ها) تابع‌های مفیدی رو ر خودشون دارن که با ایمپورت کردن می‌تونی استفاده کنی."
      ]
    },
    {
      "cell_type": "markdown",
      "metadata": {
        "id": "nW_Uck0KpF1x"
      },
      "source": [
        "## بسته ریاضی"
      ]
    },
    {
      "cell_type": "markdown",
      "metadata": {
        "id": "elipW69FpF1y"
      },
      "source": [
        "یکی از بسته‌های آماده و پرکاربرد پایتون بسته ریاضی هست با این نام:\n",
        "\n",
        " ```math```\n",
        "\n",
        "فرض کن محاسبه‌های مثلثاتی داری. خیلی ساده می‌تونی تابع‌های مرتبط رو به شکل پایین از این بسته فراخوانی کنی:"
      ]
    },
    {
      "cell_type": "code",
      "execution_count": 1,
      "metadata": {
        "height": 66,
        "id": "jjioQc2hpF1z"
      },
      "outputs": [],
      "source": [
        "# فراخوانی عدد پای و تابع‌های سینوس و کسینوس\n",
        "from math import cos, sin, pi"
      ]
    },
    {
      "cell_type": "markdown",
      "metadata": {
        "id": "ppY5GaUGpF10"
      },
      "source": [
        "عدد پای البته تابع نیست به صورت یک متغیر با مقدار ۳.۱۴... تعریف شده.\n",
        "\n",
        "> این جور متغیرها که قرارنیست تغییر کنن و یک بارتعریف و مقداردهی میشن رو میگن ثابت یا\n",
        "\n",
        ">  `constant`\n",
        "\n",
        "راستی می‌بینی؟ در ماژول‌ها ما محدود به تابع‌ها نیستیم. می‌تونیم متغیر و یا تابع و یا کلاس هم داشته باشیم."
      ]
    },
    {
      "cell_type": "code",
      "execution_count": 2,
      "metadata": {
        "height": 31,
        "colab": {
          "base_uri": "https://localhost:8080/"
        },
        "id": "EoHBSl4tpF11",
        "outputId": "12a6cfb1-2bd5-481d-a766-bc1c657e3209"
      },
      "outputs": [
        {
          "output_type": "stream",
          "name": "stdout",
          "text": [
            "3.141592653589793\n"
          ]
        }
      ],
      "source": [
        "print(pi)"
      ]
    },
    {
      "cell_type": "markdown",
      "metadata": {
        "id": "CVBddJfCpF11"
      },
      "source": [
        "بیا نوع این متغیر پای رو بررسی کنیم."
      ]
    },
    {
      "cell_type": "code",
      "execution_count": 3,
      "metadata": {
        "height": 31,
        "colab": {
          "base_uri": "https://localhost:8080/"
        },
        "id": "U7ujNW9xpF12",
        "outputId": "96645473-9fad-48ce-a660-bc7d1a8e4ff5"
      },
      "outputs": [
        {
          "output_type": "execute_result",
          "data": {
            "text/plain": [
              "float"
            ]
          },
          "metadata": {},
          "execution_count": 3
        }
      ],
      "source": [
        "type(pi)"
      ]
    },
    {
      "cell_type": "markdown",
      "metadata": {
        "id": "KyNt-o4BpF12"
      },
      "source": [
        "حالا فهرستی از عددها رو بساز و سینوس و کسینوس‌هاشون رو به راحتی محاسبه کن:"
      ]
    },
    {
      "cell_type": "code",
      "execution_count": 4,
      "metadata": {
        "height": 31,
        "id": "Wl7aoQWJpF13"
      },
      "outputs": [],
      "source": [
        "values = [0, pi/2, pi, 3/2*pi, 2*pi]"
      ]
    },
    {
      "cell_type": "markdown",
      "metadata": {
        "id": "asdZX4RcpF13"
      },
      "source": [
        "یادت نره که برای کارهای تکراری روی لیست از حلقه فور استفاده کنی!"
      ]
    },
    {
      "cell_type": "code",
      "execution_count": 5,
      "metadata": {
        "height": 66,
        "colab": {
          "base_uri": "https://localhost:8080/"
        },
        "id": "26s_zW9_pF13",
        "outputId": "bf2582a8-a758-406d-de8e-b7047096d643"
      },
      "outputs": [
        {
          "output_type": "stream",
          "name": "stdout",
          "text": [
            "The cosine of 0.00 is 1.00\n",
            "The cosine of 1.57 is 0.00\n",
            "The cosine of 3.14 is -1.00\n",
            "The cosine of 4.71 is -0.00\n",
            "The cosine of 6.28 is 1.00\n"
          ]
        }
      ],
      "source": [
        "for value in values:\n",
        "    print(f\"The cosine of {value:.2f} is {cos(value):.2f}\")"
      ]
    },
    {
      "cell_type": "markdown",
      "metadata": {
        "id": "cmrL4ChKpF14"
      },
      "source": [
        "### دست‌ورزی\n",
        "\n",
        "برای محاسبه سینوس همین عددها چه تغییری باید تو کد پایین بدی؟"
      ]
    },
    {
      "cell_type": "code",
      "execution_count": null,
      "metadata": {
        "height": 66,
        "id": "SLHSkefhpF14"
      },
      "outputs": [],
      "source": [
        "for value in values:\n",
        "    print(f\"The sine of {value:.2f} is {cos(value):.2f}\")"
      ]
    },
    {
      "cell_type": "markdown",
      "metadata": {
        "id": "X25hvTRmpF14"
      },
      "source": [
        "بسته ریاضی، تابعی هم برای گرد کردن عددهای اعشاری داره.\n",
        "\n",
        "عدد رو که بدی به نزدیک‌ترین عدد صحیح به سمت پایین گرد می‌کنه.\n",
        "\n",
        "بیا امتحانش کنیم:\n",
        "* 🚨 هشدار: همین طوری نمیشه صداش کردا! کد پایین خطا داره"
      ]
    },
    {
      "cell_type": "code",
      "execution_count": 6,
      "metadata": {
        "height": 31,
        "colab": {
          "base_uri": "https://localhost:8080/",
          "height": 141
        },
        "id": "K_Lm-Df7pF14",
        "outputId": "4d019369-8bdc-411c-9990-39018a9bc155"
      },
      "outputs": [
        {
          "output_type": "error",
          "ename": "NameError",
          "evalue": "name 'floor' is not defined",
          "traceback": [
            "\u001b[0;31m---------------------------------------------------------------------------\u001b[0m",
            "\u001b[0;31mNameError\u001b[0m                                 Traceback (most recent call last)",
            "\u001b[0;32m/tmp/ipython-input-3678894933.py\u001b[0m in \u001b[0;36m<cell line: 0>\u001b[0;34m()\u001b[0m\n\u001b[0;32m----> 1\u001b[0;31m \u001b[0mfloor\u001b[0m\u001b[0;34m(\u001b[0m\u001b[0;36m5.7\u001b[0m\u001b[0;34m)\u001b[0m\u001b[0;34m\u001b[0m\u001b[0;34m\u001b[0m\u001b[0m\n\u001b[0m",
            "\u001b[0;31mNameError\u001b[0m: name 'floor' is not defined"
          ]
        }
      ],
      "source": [
        "floor(5.7)"
      ]
    },
    {
      "cell_type": "markdown",
      "metadata": {
        "id": "AFM3K6oxpF15"
      },
      "source": [
        "اول باید ایمپورت درست رو براش انجام بدی"
      ]
    },
    {
      "cell_type": "code",
      "execution_count": 7,
      "metadata": {
        "height": 31,
        "id": "ulNoyLWNpF15"
      },
      "outputs": [],
      "source": [
        "from math import floor"
      ]
    },
    {
      "cell_type": "markdown",
      "metadata": {
        "id": "gf7aNUPzpF15"
      },
      "source": [
        "حالا این کد درست و قابل اجراست:"
      ]
    },
    {
      "cell_type": "code",
      "source": [
        "# تلاش دوباره\n",
        "floor(5.7)"
      ],
      "metadata": {
        "colab": {
          "base_uri": "https://localhost:8080/"
        },
        "id": "f8AHh-l-VhIS",
        "outputId": "42d108f9-caa4-4752-a247-b1c0be502ad1"
      },
      "execution_count": 8,
      "outputs": [
        {
          "output_type": "execute_result",
          "data": {
            "text/plain": [
              "5"
            ]
          },
          "metadata": {},
          "execution_count": 8
        }
      ]
    },
    {
      "cell_type": "markdown",
      "metadata": {
        "id": "eeGhzG8TpF16"
      },
      "source": [
        "از چت‌بات بخواه که تابع‌های دیگری از این بسته ریاضی رو بهت معرفی کنه.\n",
        "\n",
        " یا می‌تونی لینک پایین رو بررسی کنی:\n",
        "\n",
        "[مستندات بسته ریاضی پایتون](https://docs.python.org/3/library/math.html)"
      ]
    },
    {
      "cell_type": "markdown",
      "metadata": {
        "id": "jrj5-qVhpF16"
      },
      "source": [
        "## بسته آمار"
      ]
    },
    {
      "cell_type": "markdown",
      "metadata": {
        "id": "atgdUoBNpF16"
      },
      "source": [
        "محاسبه‌های آماری هم پرکاربرد هستن. بیا با بسته پیش‌ساخته پایتون در این زمینه آشنات کنم.\n",
        "\n",
        "```statistics```\n",
        "\n",
        "برای نمونه آماره‌های معروفی مثل میانگین و انحراف معیار رو می‌تونی با تابع‌های این بسته محاسبه کنی.\n"
      ]
    },
    {
      "cell_type": "code",
      "execution_count": 9,
      "metadata": {
        "height": 31,
        "id": "Yfs8ESkcpF17"
      },
      "outputs": [],
      "source": [
        "from statistics import mean, stdev"
      ]
    },
    {
      "cell_type": "markdown",
      "metadata": {
        "id": "R6kqeU4dpF17"
      },
      "source": [
        "بعد از فراخوانی این دو تابع بیا یک لیست فرضی بسازیم. مثلا اندازه قامت چند دوست:  "
      ]
    },
    {
      "cell_type": "code",
      "execution_count": 10,
      "metadata": {
        "height": 49,
        "id": "F-rHS_N4pF17"
      },
      "outputs": [],
      "source": [
        "my_friends_heights = [160, 172, 155, 180, 165, 170, 158, 182, 175, 168]"
      ]
    },
    {
      "cell_type": "markdown",
      "metadata": {
        "id": "EIhn1hubpF17"
      },
      "source": [
        "حالا بیا میانگین قدها رو محاسبه کنیم:"
      ]
    },
    {
      "cell_type": "code",
      "execution_count": 11,
      "metadata": {
        "height": 31,
        "colab": {
          "base_uri": "https://localhost:8080/"
        },
        "id": "8NMWJgGRpF17",
        "outputId": "8b963491-2156-4da5-fe15-9c4ea672a9a1"
      },
      "outputs": [
        {
          "output_type": "execute_result",
          "data": {
            "text/plain": [
              "168.5"
            ]
          },
          "metadata": {},
          "execution_count": 11
        }
      ],
      "source": [
        "mean(my_friends_heights)"
      ]
    },
    {
      "cell_type": "markdown",
      "metadata": {
        "id": "L448pPKupF18"
      },
      "source": [
        "به همین سادگی. حالا متوسط فاصله جامعه از این میانگین چقدر هست؟ به این آماره انحراف معیار یا انحراف از استاندارد گفته میشه"
      ]
    },
    {
      "cell_type": "code",
      "execution_count": 12,
      "metadata": {
        "height": 31,
        "colab": {
          "base_uri": "https://localhost:8080/"
        },
        "id": "6ttjQMe2pF18",
        "outputId": "c951626f-4e61-441b-b7b7-fcce11ec6ec3"
      },
      "outputs": [
        {
          "output_type": "execute_result",
          "data": {
            "text/plain": [
              "9.119576013536301"
            ]
          },
          "metadata": {},
          "execution_count": 12
        }
      ],
      "source": [
        "stdev(my_friends_heights)"
      ]
    },
    {
      "cell_type": "markdown",
      "metadata": {
        "id": "u7adpnafpF18"
      },
      "source": [
        "آماره‌هایی مثل میانه هم می‌تونی محاسبه کنی.\n",
        "\n",
        "برای آشنایی با امکانات این بسته به لینک پایین برو یا از چت بات بپرس:\n",
        "\n",
        "[مستندات بسته آمار در پایتون](https://docs.python.org/3/library/statistics.html)"
      ]
    },
    {
      "cell_type": "markdown",
      "metadata": {
        "id": "Bn_uBFZkpF18"
      },
      "source": [
        "## بسته عددهای  تصادفی"
      ]
    },
    {
      "cell_type": "markdown",
      "metadata": {
        "id": "BnU2ace-pF18"
      },
      "source": [
        "پایتون یک بسته برای خلق عددهای تصادفی یاانتخاب‌های تصادفی از لیست‌ها داره.\n",
        "اسمش هست:\n",
        "\n",
        " ```random```\n",
        "\n",
        "در موردش با چت‌بات مشورت کن یا لینک پایین رو ببین:\n",
        "\n",
        "[مستندات بسته رندوم در پایتون](https://docs.python.org/3/library/random.html).\n",
        "\n",
        "\n",
        "برای این که این بسته رو هم تجربه کنی بیا تابع سمپل رو فراخوانی کن برای نمونه‌گیری تصادفی! ساده‌تر بگم: انتخاب تصافی عضو از یک لیست"
      ]
    },
    {
      "cell_type": "code",
      "execution_count": 13,
      "metadata": {
        "height": 31,
        "id": "OejzA0umpF18"
      },
      "outputs": [],
      "source": [
        "from random import sample"
      ]
    },
    {
      "cell_type": "markdown",
      "metadata": {
        "id": "xxKzNxJbpF19"
      },
      "source": [
        "<p style=\"background-color:#F5C780; padding:15px\"> 🤖 <b>از چت‌بات بپرس</b>:\n",
        "<br>Explain how to use the function sample from the random module.</p>"
      ]
    },
    {
      "cell_type": "markdown",
      "metadata": {
        "id": "2muNSzNmpF19"
      },
      "source": [
        "چند لیست از مواد آشپزی بساز.\n",
        "\n",
        " بعدتر از اعضای این لیست‌ها چندین مورد به تصادف انتخاب می‌کنیم تا هوش مصنوعی با اون‌ها یک دستور غذا برامون بسازه:"
      ]
    },
    {
      "cell_type": "code",
      "execution_count": 14,
      "metadata": {
        "height": 83,
        "id": "XvRZTPb2pF19"
      },
      "outputs": [],
      "source": [
        "spices = [\"زیره\", \"زردچوبه\", \"پونه کوهی\", \"پاپریکا\"]\n",
        "vegetables = [\"کاهو\", \"گوجه\", \"هویج\", \"بروکلی\"]\n",
        "proteins = [\"مرغ\", \"توفو\", \"گوشت گاو\", \"ماهی\", \"تمپه\"]"
      ]
    },
    {
      "cell_type": "markdown",
      "metadata": {
        "id": "yc8HBeImpF19"
      },
      "source": [
        "تابع سمپل دو تا پارامتر می‌گیره:\n",
        "\n",
        "لیستی مورد نظر برای انتخاب\n",
        "و\n",
        "تعداد عضوی که باید به تصادف از لیست انتخاب بشن"
      ]
    },
    {
      "cell_type": "code",
      "execution_count": 15,
      "metadata": {
        "height": 65,
        "id": "BKXqdPZEpF2D"
      },
      "outputs": [],
      "source": [
        "random_spices = sample(spices, 2)\n",
        "random_vegetables = sample(vegetables, 2)\n",
        "random_protein = sample(proteins, 1)"
      ]
    },
    {
      "cell_type": "markdown",
      "metadata": {
        "id": "Jut34SH3pF2E"
      },
      "source": [
        "ببینیم برای مثال از بین پروتئینی‌ها چه مواردی انتخاب شدن؟"
      ]
    },
    {
      "cell_type": "code",
      "execution_count": 16,
      "metadata": {
        "height": 31,
        "colab": {
          "base_uri": "https://localhost:8080/"
        },
        "id": "1UCxqI6_pF2E",
        "outputId": "b0023fdd-60b9-4b52-b0aa-da6646cdac4d"
      },
      "outputs": [
        {
          "output_type": "stream",
          "name": "stdout",
          "text": [
            "['ماهی']\n"
          ]
        }
      ],
      "source": [
        "print(random_protein)"
      ]
    },
    {
      "cell_type": "markdown",
      "metadata": {
        "id": "VpZYNZ03pF2E"
      },
      "source": [
        "## دست‌ورزی\n",
        "\n",
        "دو سلول بالا رو دوباره پشت هم اجرا کن.\n",
        "\n",
        "هر بار که اجرا می‌کنی انتخاب‌ها متفاوت هستن درست؟"
      ]
    },
    {
      "cell_type": "markdown",
      "metadata": {
        "id": "r6qjHyf_pF2E"
      },
      "source": [
        "## دستورغذای پیشنهادی هوش مصنوعی بر پایه مواد تصادفی\n"
      ]
    },
    {
      "cell_type": "code",
      "execution_count": 17,
      "metadata": {
        "height": 134,
        "id": "52VZ7D5bpF2F"
      },
      "outputs": [],
      "source": [
        "prompt = f\"\"\"یک دستور غذا پیشنهاد کن که شامل مواد پایین باشه:\n",
        "\n",
        "ادویه: {random_spices}\n",
        "سبزیجات: {random_vegetables}\n",
        "پروتئین‌ها: {random_protein}\n",
        "\"\"\""
      ]
    },
    {
      "cell_type": "markdown",
      "metadata": {
        "id": "hQ15FLs0pF2F"
      },
      "source": [
        "پرامپت رو چاپ کنیم ببینیم چی داریم می‌فرستیم."
      ]
    },
    {
      "cell_type": "code",
      "execution_count": 18,
      "metadata": {
        "height": 31,
        "colab": {
          "base_uri": "https://localhost:8080/"
        },
        "id": "Yk1boa33pF2F",
        "outputId": "2d5fbcb5-7430-499a-c7f9-29945e0bed22"
      },
      "outputs": [
        {
          "output_type": "stream",
          "name": "stdout",
          "text": [
            "یک دستور غذا پیشنهاد کن که شامل مواد پایین باشه: \n",
            "\n",
            "ادویه: ['پونه کوهی', 'زردچوبه']\n",
            "سبزیجات: ['گوجه', 'هویج']\n",
            "پروتئین‌ها: ['ماهی']\n",
            "\n"
          ]
        }
      ],
      "source": [
        "print(prompt)"
      ]
    },
    {
      "cell_type": "markdown",
      "metadata": {
        "id": "EEi6RyNZpF2F"
      },
      "source": [
        "حالا بریم سراغ ماژول دست‌ساز خودمون و تابع دریافت پاسخ مدل‌زبانی رو فراخوانی کنیم:"
      ]
    },
    {
      "cell_type": "code",
      "source": [
        "#پیشنیازهای اجرای ماژول یادمون نره\n",
        "!pip install together"
      ],
      "metadata": {
        "colab": {
          "base_uri": "https://localhost:8080/"
        },
        "id": "wZiCanHTd2V1",
        "outputId": "87ce2050-7d81-4f73-bc24-0fa7b01850e7"
      },
      "execution_count": 20,
      "outputs": [
        {
          "output_type": "stream",
          "name": "stdout",
          "text": [
            "Collecting together\n",
            "  Downloading together-1.5.21-py3-none-any.whl.metadata (15 kB)\n",
            "Requirement already satisfied: aiohttp<4.0.0,>=3.9.3 in /usr/local/lib/python3.11/dist-packages (from together) (3.12.14)\n",
            "Requirement already satisfied: click<9.0.0,>=8.1.7 in /usr/local/lib/python3.11/dist-packages (from together) (8.2.1)\n",
            "Collecting eval-type-backport<0.3.0,>=0.1.3 (from together)\n",
            "  Downloading eval_type_backport-0.2.2-py3-none-any.whl.metadata (2.2 kB)\n",
            "Requirement already satisfied: filelock<4.0.0,>=3.13.1 in /usr/local/lib/python3.11/dist-packages (from together) (3.18.0)\n",
            "Requirement already satisfied: numpy>=1.23.5 in /usr/local/lib/python3.11/dist-packages (from together) (2.0.2)\n",
            "Requirement already satisfied: pillow<12.0.0,>=11.1.0 in /usr/local/lib/python3.11/dist-packages (from together) (11.3.0)\n",
            "Requirement already satisfied: pydantic<3.0.0,>=2.6.3 in /usr/local/lib/python3.11/dist-packages (from together) (2.11.7)\n",
            "Requirement already satisfied: requests<3.0.0,>=2.31.0 in /usr/local/lib/python3.11/dist-packages (from together) (2.32.3)\n",
            "Requirement already satisfied: rich<15.0.0,>=13.8.1 in /usr/local/lib/python3.11/dist-packages (from together) (13.9.4)\n",
            "Requirement already satisfied: tabulate<0.10.0,>=0.9.0 in /usr/local/lib/python3.11/dist-packages (from together) (0.9.0)\n",
            "Requirement already satisfied: tqdm<5.0.0,>=4.66.2 in /usr/local/lib/python3.11/dist-packages (from together) (4.67.1)\n",
            "Collecting typer<0.16,>=0.9 (from together)\n",
            "  Downloading typer-0.15.4-py3-none-any.whl.metadata (15 kB)\n",
            "Requirement already satisfied: aiohappyeyeballs>=2.5.0 in /usr/local/lib/python3.11/dist-packages (from aiohttp<4.0.0,>=3.9.3->together) (2.6.1)\n",
            "Requirement already satisfied: aiosignal>=1.4.0 in /usr/local/lib/python3.11/dist-packages (from aiohttp<4.0.0,>=3.9.3->together) (1.4.0)\n",
            "Requirement already satisfied: attrs>=17.3.0 in /usr/local/lib/python3.11/dist-packages (from aiohttp<4.0.0,>=3.9.3->together) (25.3.0)\n",
            "Requirement already satisfied: frozenlist>=1.1.1 in /usr/local/lib/python3.11/dist-packages (from aiohttp<4.0.0,>=3.9.3->together) (1.7.0)\n",
            "Requirement already satisfied: multidict<7.0,>=4.5 in /usr/local/lib/python3.11/dist-packages (from aiohttp<4.0.0,>=3.9.3->together) (6.6.3)\n",
            "Requirement already satisfied: propcache>=0.2.0 in /usr/local/lib/python3.11/dist-packages (from aiohttp<4.0.0,>=3.9.3->together) (0.3.2)\n",
            "Requirement already satisfied: yarl<2.0,>=1.17.0 in /usr/local/lib/python3.11/dist-packages (from aiohttp<4.0.0,>=3.9.3->together) (1.20.1)\n",
            "Requirement already satisfied: annotated-types>=0.6.0 in /usr/local/lib/python3.11/dist-packages (from pydantic<3.0.0,>=2.6.3->together) (0.7.0)\n",
            "Requirement already satisfied: pydantic-core==2.33.2 in /usr/local/lib/python3.11/dist-packages (from pydantic<3.0.0,>=2.6.3->together) (2.33.2)\n",
            "Requirement already satisfied: typing-extensions>=4.12.2 in /usr/local/lib/python3.11/dist-packages (from pydantic<3.0.0,>=2.6.3->together) (4.14.1)\n",
            "Requirement already satisfied: typing-inspection>=0.4.0 in /usr/local/lib/python3.11/dist-packages (from pydantic<3.0.0,>=2.6.3->together) (0.4.1)\n",
            "Requirement already satisfied: charset-normalizer<4,>=2 in /usr/local/lib/python3.11/dist-packages (from requests<3.0.0,>=2.31.0->together) (3.4.2)\n",
            "Requirement already satisfied: idna<4,>=2.5 in /usr/local/lib/python3.11/dist-packages (from requests<3.0.0,>=2.31.0->together) (3.10)\n",
            "Requirement already satisfied: urllib3<3,>=1.21.1 in /usr/local/lib/python3.11/dist-packages (from requests<3.0.0,>=2.31.0->together) (2.5.0)\n",
            "Requirement already satisfied: certifi>=2017.4.17 in /usr/local/lib/python3.11/dist-packages (from requests<3.0.0,>=2.31.0->together) (2025.7.14)\n",
            "Requirement already satisfied: markdown-it-py>=2.2.0 in /usr/local/lib/python3.11/dist-packages (from rich<15.0.0,>=13.8.1->together) (3.0.0)\n",
            "Requirement already satisfied: pygments<3.0.0,>=2.13.0 in /usr/local/lib/python3.11/dist-packages (from rich<15.0.0,>=13.8.1->together) (2.19.2)\n",
            "Collecting click<9.0.0,>=8.1.7 (from together)\n",
            "  Downloading click-8.1.8-py3-none-any.whl.metadata (2.3 kB)\n",
            "Requirement already satisfied: shellingham>=1.3.0 in /usr/local/lib/python3.11/dist-packages (from typer<0.16,>=0.9->together) (1.5.4)\n",
            "Requirement already satisfied: mdurl~=0.1 in /usr/local/lib/python3.11/dist-packages (from markdown-it-py>=2.2.0->rich<15.0.0,>=13.8.1->together) (0.1.2)\n",
            "Downloading together-1.5.21-py3-none-any.whl (96 kB)\n",
            "\u001b[2K   \u001b[90m━━━━━━━━━━━━━━━━━━━━━━━━━━━━━━━━━━━━━━━━\u001b[0m \u001b[32m96.1/96.1 kB\u001b[0m \u001b[31m4.5 MB/s\u001b[0m eta \u001b[36m0:00:00\u001b[0m\n",
            "\u001b[?25hDownloading eval_type_backport-0.2.2-py3-none-any.whl (5.8 kB)\n",
            "Downloading typer-0.15.4-py3-none-any.whl (45 kB)\n",
            "\u001b[2K   \u001b[90m━━━━━━━━━━━━━━━━━━━━━━━━━━━━━━━━━━━━━━━━\u001b[0m \u001b[32m45.3/45.3 kB\u001b[0m \u001b[31m2.0 MB/s\u001b[0m eta \u001b[36m0:00:00\u001b[0m\n",
            "\u001b[?25hDownloading click-8.1.8-py3-none-any.whl (98 kB)\n",
            "\u001b[2K   \u001b[90m━━━━━━━━━━━━━━━━━━━━━━━━━━━━━━━━━━━━━━━━\u001b[0m \u001b[32m98.2/98.2 kB\u001b[0m \u001b[31m5.9 MB/s\u001b[0m eta \u001b[36m0:00:00\u001b[0m\n",
            "\u001b[?25hInstalling collected packages: eval-type-backport, click, typer, together\n",
            "  Attempting uninstall: click\n",
            "    Found existing installation: click 8.2.1\n",
            "    Uninstalling click-8.2.1:\n",
            "      Successfully uninstalled click-8.2.1\n",
            "  Attempting uninstall: typer\n",
            "    Found existing installation: typer 0.16.0\n",
            "    Uninstalling typer-0.16.0:\n",
            "      Successfully uninstalled typer-0.16.0\n",
            "Successfully installed click-8.1.8 eval-type-backport-0.2.2 together-1.5.21 typer-0.15.4\n"
          ]
        }
      ]
    },
    {
      "cell_type": "code",
      "source": [
        "# برای گرفتن  کلید از فایل دات انو به صورت امن\n",
        "!pip install python-dotenv"
      ],
      "metadata": {
        "colab": {
          "base_uri": "https://localhost:8080/"
        },
        "id": "SCMVUAiSd73O",
        "outputId": "8c104ac1-fda9-4869-8b65-480f8b1ca404"
      },
      "execution_count": 21,
      "outputs": [
        {
          "output_type": "stream",
          "name": "stdout",
          "text": [
            "Collecting python-dotenv\n",
            "  Downloading python_dotenv-1.1.1-py3-none-any.whl.metadata (24 kB)\n",
            "Downloading python_dotenv-1.1.1-py3-none-any.whl (20 kB)\n",
            "Installing collected packages: python-dotenv\n",
            "Successfully installed python-dotenv-1.1.1\n"
          ]
        }
      ]
    },
    {
      "cell_type": "code",
      "execution_count": 22,
      "metadata": {
        "height": 31,
        "id": "oN6oU13gpF2G"
      },
      "outputs": [],
      "source": [
        "from temperature_tools import print_llm_response"
      ]
    },
    {
      "cell_type": "markdown",
      "metadata": {
        "id": "jUEgOt81pF2G"
      },
      "source": [
        "حالا از این تابع استفاده کنیم، پرامپت رو بفرستیم و جواب مدل رو چاپ کنیم:"
      ]
    },
    {
      "cell_type": "code",
      "execution_count": 23,
      "metadata": {
        "height": 65,
        "colab": {
          "base_uri": "https://localhost:8080/"
        },
        "id": "mgeX_9JypF2G",
        "outputId": "eb94d93c-b922-41dd-9840-0cc44efada28"
      },
      "outputs": [
        {
          "output_type": "stream",
          "name": "stdout",
          "text": [
            "## ماهی بخارپز با پونه کوهی و هویج و گوجه فرنگی\n",
            "\n",
            "این دستور غذا با مواد اولیه‌ای که ذکر کردید تهیه می‌شود و بسیار ساده، سالم و خوشمزه است.\n",
            "\n",
            "**مواد لازم:**\n",
            "\n",
            "*   ماهی (سینه یا فیله) - 2 عدد (حدود 200-250 گرم)\n",
            "*   هویج - 2 عدد متوسط\n",
            "*   گوجه فرنگی - 2 عدد متوسط\n",
            "*   پونه کوهی تازه - 1 قاشق غذاخوری (خرد شده) یا 1 قاشق چایخوری پونه کوهی خشک\n",
            "*   زردچوبه - 1 قاشق چایخوری\n",
            "*   نمک و فلفل سیاه - به میزان لازم\n",
            "*   روغن زیتون - 1 قاشق غذاخوری\n",
            "*   آب لیمو ترش تازه - به میزان لازم (اختیاری)\n",
            "\n",
            "**طرز تهیه:**\n",
            "\n",
            "1.  **آماده‌سازی سبزیجات:** هویج‌ها را پوست بگیرید و به قطعات کوچک (مثل میوه‌های کوچک) خرد کنید. گوجه فرنگی‌ها را هم به قطعات مشابه خرد کنید.\n",
            "2.  **آماده‌سازی ماهی:** ماهی‌ها را بشویید و خشک کنید. روی آن‌ها نمک، فلفل سیاه و زردچوبه بپاشید و به آرامی ماساژ دهید تا ادویه‌ها به خوبی جذب شوند.\n",
            "3.  **چیدن مواد در ظرف بخارپز:** یک ظرف بخارپز را کمی چرب کنید (می‌توانید از روغن زیتون استفاده کنید). ابتدا یک لایه هویج در کف ظرف بریزید. سپس ماهی‌ها را روی هویج بچینید. روی ماهی‌ها، گوجه فرنگی‌های خرد شده را پخش کنید.\n",
            "4.  **بخارپز کردن:** ظرف بخارپز را روی حرارت ملایم قرار دهید و درب آن را بگذارید. به مدت 15-20 دقیقه بپزید تا ماهی کاملا پخته شود و سبزیجات نرم شوند. زمان پخت بسته به ضخامت ماهی می‌تواند متفاوت باشد.\n",
            "5.  **اضافه کردن پونه کوهی و آب لیمو (اختیاری):** در 5 دقیقه آخر پخت، پونه کوهی خرد شده را روی ماهی و سبزیجات بپاشید. در صورت تمایل، کمی آب لیمو ترش تازه هم روی غذا بریزید.\n",
            "6.  **سرو:** ماهی بخارپز را با سبزیجات و سس حاصل از آن‌ها سرو کنید.\n",
            "\n",
            "**نکات:**\n",
            "\n",
            "*   می‌توانید از سبزیجات دیگری مانند قارچ یا کدو سبز هم در این غذا استفاده کنید.\n",
            "*   برای طعم بهتر، می‌توانید کمی سیر رنده شده هم به مواد اضافه کنید.\n",
            "*   اگر دوست دارید غذا کمی تند باشد، می‌توانید کمی فلفل قرمز هم به آن اضافه کنید.\n",
            "*   این غذا با برنج یا نان سبوس‌دار بسیار خوشمزه است.\n",
            "\n",
            "امیدوارم از این دستور غذا لذت ببرید!\n",
            "\n"
          ]
        }
      ],
      "source": [
        "recipe = print_llm_response(prompt)\n",
        "\n",
        "print(recipe)"
      ]
    },
    {
      "cell_type": "markdown",
      "metadata": {
        "id": "RZe-by27pF2H"
      },
      "source": [
        "## تمرین بیشتر\n",
        "\n",
        "تمرین‌های پایین رو به اتکای سواد پایتونی که داری انجام بده.\n",
        "\n",
        "هر جا نیاز هست ازش مشورت بگیر. از کی؟ 🤖\n",
        "\n",
        "\n",
        "### تمرین ۱\n",
        "\n",
        "کدی بنویس که تابع تانژانت رو با نام پایین از بسته ریاضی فراخوانی کنی. بعد تانژانت هر عدد رو در پایین محاسبه و چاپ کن:\n",
        "\n",
        "`tan` (tangent)"
      ]
    },
    {
      "cell_type": "code",
      "execution_count": null,
      "metadata": {
        "height": 168,
        "id": "Rs4ENc7HpF2H"
      },
      "outputs": [],
      "source": [
        "# تابع محاسبه تانژانت رو از بسته مث فراخوانی کن\n",
        "from math\n",
        "\n",
        "values = [0, pi/2, pi, 3/2*pi, 2*pi]\n",
        "\n",
        "# تانژانت هر عضو لیست رو به سادگی محاسبه کن\n",
        "for value in values:\n",
        "    print (f\"The tangent of {value:.2f} is    \")"
      ]
    },
    {
      "cell_type": "markdown",
      "metadata": {
        "id": "7gY3GGQZpF2I"
      },
      "source": [
        "### تمرین ۲\n",
        "\n",
        "کدی بنویس که برای لیست نمره‌های پایین آماره «میانه» رو محاسبه کنه.\n",
        "\n",
        "اینجا هم باید تابع میانه رو با نام پایین از بسته استاتیستیکس پایتون فراخوانی کنی:\n",
        "\n",
        "`median`"
      ]
    },
    {
      "cell_type": "code",
      "execution_count": null,
      "metadata": {
        "height": 185,
        "id": "-9ysEAH0pF2I"
      },
      "outputs": [],
      "source": [
        "\n",
        "scores = [28, 14, 15, 25, 21, 26, 30, 8, 36]\n",
        "\n",
        "# تابع میانه رو از بسته آمار فراخوانی کن\n",
        "from\n",
        "\n",
        "# میانه نمره‌ها رو محاسبه کن\n",
        "median_score =\n",
        "print(median_score)"
      ]
    },
    {
      "cell_type": "markdown",
      "metadata": {
        "id": "HrBfqB9npF2I"
      },
      "source": [
        "### تمرین چالشی\n",
        "\n",
        "به کمک بسته رندوم پایتون کدی بنویس که با اجراش هر بار یک عدد  تصادفی بین ۱ تا ۱۰ چاپ بشه.\n",
        "\n",
        "از چت‌بات کمک بگیر هم برای نوشتن و هم درک کد! بعد لینک پایین هم ببین:\n",
        "\n",
        "[لینک مستندات بسته رندوم پایتون](https://docs.python.org/3/library/random.html)"
      ]
    },
    {
      "cell_type": "code",
      "execution_count": null,
      "metadata": {
        "height": 31,
        "id": "85eiTNY8pF2I"
      },
      "outputs": [],
      "source": [
        "# کد رو اینجا بزن و اجرا کن"
      ]
    }
  ],
  "metadata": {
    "colab": {
      "provenance": [],
      "include_colab_link": true
    },
    "kernelspec": {
      "display_name": "Python 3 (ipykernel)",
      "language": "python",
      "name": "python3"
    },
    "language_info": {
      "codemirror_mode": {
        "name": "ipython",
        "version": 3
      },
      "file_extension": ".py",
      "mimetype": "text/x-python",
      "name": "python",
      "nbconvert_exporter": "python",
      "pygments_lexer": "ipython3",
      "version": "3.9.19"
    }
  },
  "nbformat": 4,
  "nbformat_minor": 0
}