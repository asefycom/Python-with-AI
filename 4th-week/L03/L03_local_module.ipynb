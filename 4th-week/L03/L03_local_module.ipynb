{
  "cells": [
    {
      "cell_type": "markdown",
      "metadata": {
        "id": "view-in-github",
        "colab_type": "text"
      },
      "source": [
        "<a href=\"https://colab.research.google.com/github/asefycom/Python-with-AI/blob/main/4th-week/L03/L03_local_module.ipynb\" target=\"_parent\"><img src=\"https://colab.research.google.com/assets/colab-badge.svg\" alt=\"Open In Colab\"/></a>"
      ]
    },
    {
      "cell_type": "markdown",
      "metadata": {
        "id": "WMGxBP-yQoCl"
      },
      "source": [
        "# هفته چهارم - درس ۳: فراخوانی تابع از یک فایل محلی"
      ]
    },
    {
      "cell_type": "markdown",
      "metadata": {
        "id": "r1PGaghZamkZ"
      },
      "source": [
        "در هفته‌های گذشته بارها پیش اومد که تابعی تعریف و تو سلول‌های بعدی با فراخوانی نامش ازش استفاده کردیم.\n",
        "\n",
        "حالا برای خلوت شدن دفترچه و همین طور امکان استفاده دوباره، تابع های کمکی رو می بریم به یک فایل در کنار دفترچه\n"
      ]
    },
    {
      "cell_type": "markdown",
      "source": [
        "## پیشنیاز"
      ],
      "metadata": {
        "id": "3-BdecnWXxhj"
      }
    },
    {
      "cell_type": "markdown",
      "source": [
        "این درس رو می‌تونی مثل هفته‌های گذشته با کلون کردن مخزن گیت هاب و رفتن به دایرکتوری این درس، داخل کولب هم اجرا کنی.\n"
      ],
      "metadata": {
        "id": "61awcezwXz4N"
      }
    },
    {
      "cell_type": "code",
      "source": [
        "# در صورت اجرا در کولب\n",
        "# کدهای این سلول رو از حالت کامنت خارج کن\n",
        "\n",
        "# یا این که فایل ماژول و دات انو رو دستی داخل کولب آپلود کن\n",
        "\n",
        "# import os\n",
        "\n",
        "# if not os.path.exists('Python-with-AI'):\n",
        "#     !git clone https://github.com/asefycom/Python-with-AI.git\n",
        "\n",
        "# os.chdir('Python-with-AI/4th-week/L03')\n",
        "# print(\"Current Working Directory:\", os.getcwd())"
      ],
      "metadata": {
        "id": "DQZNfRvjRJs5"
      },
      "execution_count": null,
      "outputs": []
    },
    {
      "cell_type": "markdown",
      "source": [
        "اما پیشنهاد می‌کنم که این درس رو و این دفترچه رو روی ژوپیتر سیستم خودت اجرا کنی.\n",
        "\n",
        "آموزش راه‌اندازی ژپیتر رو در درس ۱ این هفته داشتیم.\n",
        "\n",
        "در هر دو صورت باید بسته‌های پایین روی سیستم یا کولب نصب باشن."
      ],
      "metadata": {
        "id": "VSfn3Nw3Rj9A"
      }
    },
    {
      "cell_type": "code",
      "source": [
        "# نصب بسته توگدر برای استفاده از تابع‌ها و کلاس‌هاش\n",
        "# و صحبت با مدل‌های زبانی بزرگ\n",
        "!pip install together"
      ],
      "metadata": {
        "colab": {
          "base_uri": "https://localhost:8080/"
        },
        "id": "Iq1bwp_rY7ob",
        "outputId": "5c2f933e-e49b-488c-8784-a7c6cd132315"
      },
      "execution_count": 1,
      "outputs": [
        {
          "output_type": "stream",
          "name": "stdout",
          "text": [
            "Collecting together\n",
            "  Downloading together-1.5.21-py3-none-any.whl.metadata (15 kB)\n",
            "Requirement already satisfied: aiohttp<4.0.0,>=3.9.3 in /usr/local/lib/python3.11/dist-packages (from together) (3.12.14)\n",
            "Requirement already satisfied: click<9.0.0,>=8.1.7 in /usr/local/lib/python3.11/dist-packages (from together) (8.2.1)\n",
            "Collecting eval-type-backport<0.3.0,>=0.1.3 (from together)\n",
            "  Downloading eval_type_backport-0.2.2-py3-none-any.whl.metadata (2.2 kB)\n",
            "Requirement already satisfied: filelock<4.0.0,>=3.13.1 in /usr/local/lib/python3.11/dist-packages (from together) (3.18.0)\n",
            "Requirement already satisfied: numpy>=1.23.5 in /usr/local/lib/python3.11/dist-packages (from together) (2.0.2)\n",
            "Requirement already satisfied: pillow<12.0.0,>=11.1.0 in /usr/local/lib/python3.11/dist-packages (from together) (11.3.0)\n",
            "Requirement already satisfied: pydantic<3.0.0,>=2.6.3 in /usr/local/lib/python3.11/dist-packages (from together) (2.11.7)\n",
            "Requirement already satisfied: requests<3.0.0,>=2.31.0 in /usr/local/lib/python3.11/dist-packages (from together) (2.32.3)\n",
            "Requirement already satisfied: rich<15.0.0,>=13.8.1 in /usr/local/lib/python3.11/dist-packages (from together) (13.9.4)\n",
            "Requirement already satisfied: tabulate<0.10.0,>=0.9.0 in /usr/local/lib/python3.11/dist-packages (from together) (0.9.0)\n",
            "Requirement already satisfied: tqdm<5.0.0,>=4.66.2 in /usr/local/lib/python3.11/dist-packages (from together) (4.67.1)\n",
            "Collecting typer<0.16,>=0.9 (from together)\n",
            "  Downloading typer-0.15.4-py3-none-any.whl.metadata (15 kB)\n",
            "Requirement already satisfied: aiohappyeyeballs>=2.5.0 in /usr/local/lib/python3.11/dist-packages (from aiohttp<4.0.0,>=3.9.3->together) (2.6.1)\n",
            "Requirement already satisfied: aiosignal>=1.4.0 in /usr/local/lib/python3.11/dist-packages (from aiohttp<4.0.0,>=3.9.3->together) (1.4.0)\n",
            "Requirement already satisfied: attrs>=17.3.0 in /usr/local/lib/python3.11/dist-packages (from aiohttp<4.0.0,>=3.9.3->together) (25.3.0)\n",
            "Requirement already satisfied: frozenlist>=1.1.1 in /usr/local/lib/python3.11/dist-packages (from aiohttp<4.0.0,>=3.9.3->together) (1.7.0)\n",
            "Requirement already satisfied: multidict<7.0,>=4.5 in /usr/local/lib/python3.11/dist-packages (from aiohttp<4.0.0,>=3.9.3->together) (6.6.3)\n",
            "Requirement already satisfied: propcache>=0.2.0 in /usr/local/lib/python3.11/dist-packages (from aiohttp<4.0.0,>=3.9.3->together) (0.3.2)\n",
            "Requirement already satisfied: yarl<2.0,>=1.17.0 in /usr/local/lib/python3.11/dist-packages (from aiohttp<4.0.0,>=3.9.3->together) (1.20.1)\n",
            "Requirement already satisfied: annotated-types>=0.6.0 in /usr/local/lib/python3.11/dist-packages (from pydantic<3.0.0,>=2.6.3->together) (0.7.0)\n",
            "Requirement already satisfied: pydantic-core==2.33.2 in /usr/local/lib/python3.11/dist-packages (from pydantic<3.0.0,>=2.6.3->together) (2.33.2)\n",
            "Requirement already satisfied: typing-extensions>=4.12.2 in /usr/local/lib/python3.11/dist-packages (from pydantic<3.0.0,>=2.6.3->together) (4.14.1)\n",
            "Requirement already satisfied: typing-inspection>=0.4.0 in /usr/local/lib/python3.11/dist-packages (from pydantic<3.0.0,>=2.6.3->together) (0.4.1)\n",
            "Requirement already satisfied: charset-normalizer<4,>=2 in /usr/local/lib/python3.11/dist-packages (from requests<3.0.0,>=2.31.0->together) (3.4.2)\n",
            "Requirement already satisfied: idna<4,>=2.5 in /usr/local/lib/python3.11/dist-packages (from requests<3.0.0,>=2.31.0->together) (3.10)\n",
            "Requirement already satisfied: urllib3<3,>=1.21.1 in /usr/local/lib/python3.11/dist-packages (from requests<3.0.0,>=2.31.0->together) (2.5.0)\n",
            "Requirement already satisfied: certifi>=2017.4.17 in /usr/local/lib/python3.11/dist-packages (from requests<3.0.0,>=2.31.0->together) (2025.7.14)\n",
            "Requirement already satisfied: markdown-it-py>=2.2.0 in /usr/local/lib/python3.11/dist-packages (from rich<15.0.0,>=13.8.1->together) (3.0.0)\n",
            "Requirement already satisfied: pygments<3.0.0,>=2.13.0 in /usr/local/lib/python3.11/dist-packages (from rich<15.0.0,>=13.8.1->together) (2.19.2)\n",
            "Collecting click<9.0.0,>=8.1.7 (from together)\n",
            "  Downloading click-8.1.8-py3-none-any.whl.metadata (2.3 kB)\n",
            "Requirement already satisfied: shellingham>=1.3.0 in /usr/local/lib/python3.11/dist-packages (from typer<0.16,>=0.9->together) (1.5.4)\n",
            "Requirement already satisfied: mdurl~=0.1 in /usr/local/lib/python3.11/dist-packages (from markdown-it-py>=2.2.0->rich<15.0.0,>=13.8.1->together) (0.1.2)\n",
            "Downloading together-1.5.21-py3-none-any.whl (96 kB)\n",
            "\u001b[2K   \u001b[90m━━━━━━━━━━━━━━━━━━━━━━━━━━━━━━━━━━━━━━━━\u001b[0m \u001b[32m96.1/96.1 kB\u001b[0m \u001b[31m4.0 MB/s\u001b[0m eta \u001b[36m0:00:00\u001b[0m\n",
            "\u001b[?25hDownloading eval_type_backport-0.2.2-py3-none-any.whl (5.8 kB)\n",
            "Downloading typer-0.15.4-py3-none-any.whl (45 kB)\n",
            "\u001b[2K   \u001b[90m━━━━━━━━━━━━━━━━━━━━━━━━━━━━━━━━━━━━━━━━\u001b[0m \u001b[32m45.3/45.3 kB\u001b[0m \u001b[31m3.7 MB/s\u001b[0m eta \u001b[36m0:00:00\u001b[0m\n",
            "\u001b[?25hDownloading click-8.1.8-py3-none-any.whl (98 kB)\n",
            "\u001b[2K   \u001b[90m━━━━━━━━━━━━━━━━━━━━━━━━━━━━━━━━━━━━━━━━\u001b[0m \u001b[32m98.2/98.2 kB\u001b[0m \u001b[31m8.5 MB/s\u001b[0m eta \u001b[36m0:00:00\u001b[0m\n",
            "\u001b[?25hInstalling collected packages: eval-type-backport, click, typer, together\n",
            "  Attempting uninstall: click\n",
            "    Found existing installation: click 8.2.1\n",
            "    Uninstalling click-8.2.1:\n",
            "      Successfully uninstalled click-8.2.1\n",
            "  Attempting uninstall: typer\n",
            "    Found existing installation: typer 0.16.0\n",
            "    Uninstalling typer-0.16.0:\n",
            "      Successfully uninstalled typer-0.16.0\n",
            "Successfully installed click-8.1.8 eval-type-backport-0.2.2 together-1.5.21 typer-0.15.4\n"
          ]
        }
      ]
    },
    {
      "cell_type": "code",
      "source": [
        "# برای گرفتن  کلید از فایل دات انو به صورت امن\n",
        "!pip install python-dotenv"
      ],
      "metadata": {
        "colab": {
          "base_uri": "https://localhost:8080/"
        },
        "id": "scjcrizOYzRo",
        "outputId": "0b176b85-0903-4bce-d548-5c8bdee78b2d"
      },
      "execution_count": 2,
      "outputs": [
        {
          "output_type": "stream",
          "name": "stdout",
          "text": [
            "Collecting python-dotenv\n",
            "  Downloading python_dotenv-1.1.1-py3-none-any.whl.metadata (24 kB)\n",
            "Downloading python_dotenv-1.1.1-py3-none-any.whl (20 kB)\n",
            "Installing collected packages: python-dotenv\n",
            "Successfully installed python-dotenv-1.1.1\n"
          ]
        }
      ]
    },
    {
      "cell_type": "markdown",
      "metadata": {
        "id": "mRfb61ajamka"
      },
      "source": [
        "## بازبینی تابع تبدیل دما"
      ]
    },
    {
      "cell_type": "markdown",
      "metadata": {
        "id": "Mn2qv5M8amkb"
      },
      "source": [
        "این تابعی بود که هفته گذشته برای تبدیل دما از فارنهایت به سلسیوس نوشتیم.\n",
        "\n",
        "یادت هست؟ بیا سلول بعد رو اجرا کنیم تا نام این تابع تو فضای اجرای این دفترچه در دسترس باشه پایین‌تر ازش استفاده کنیم:"
      ]
    },
    {
      "cell_type": "code",
      "execution_count": 3,
      "metadata": {
        "height": 83,
        "id": "Ti5Xi7Djamkb"
      },
      "outputs": [],
      "source": [
        "def fahrenheit_to_celsius(fahrenheit):\n",
        "    celsius = (fahrenheit - 32) * 5 / 9\n",
        "    return celsius"
      ]
    },
    {
      "cell_type": "markdown",
      "metadata": {
        "id": "gB63U7qYamkd"
      },
      "source": [
        "حالا بیا با فراخوانی نامش ازش استفاده کنیم:"
      ]
    },
    {
      "cell_type": "code",
      "execution_count": 4,
      "metadata": {
        "height": 31,
        "id": "aUr2NBYMamkd",
        "colab": {
          "base_uri": "https://localhost:8080/"
        },
        "outputId": "b7dc282a-4fc1-42ad-c19b-90fa96af2404"
      },
      "outputs": [
        {
          "output_type": "stream",
          "name": "stdout",
          "text": [
            "68°F is equivalent to 20.00°C\n"
          ]
        }
      ],
      "source": [
        "fahr = 68\n",
        "cels = fahrenheit_to_celsius(fahr)\n",
        "\n",
        "print(f\"{fahr}°F is equivalent to {cels:.2f}°C\")"
      ]
    },
    {
      "cell_type": "markdown",
      "metadata": {
        "id": "-T_S-7kCamkd"
      },
      "source": [
        "حالا بیا این تابع رو داخل یک فایل ببریم تا هر وقت و هر دفترچه که بهش نیاز داشتیم دوباره ننویسیمش و از داخل فایل صداش کنیم.\n",
        "\n",
        "می‌تونیم مثلا اسم این فایل رو بگذاریم\n",
        "\n",
        "‍‍`temperature_tools.py`\n",
        "\n",
        "حالا میشه حتی تابع‌های دیگه‌ای هم اضافه کنیم. مثلا تبدیل برعکس از سلسیوس به فارنهایت:"
      ]
    },
    {
      "cell_type": "code",
      "execution_count": 5,
      "metadata": {
        "height": 31,
        "id": "ZSYMydNTamkd",
        "colab": {
          "base_uri": "https://localhost:8080/",
          "height": 141
        },
        "outputId": "31567730-abe8-4305-e70e-3648da6c7345"
      },
      "outputs": [
        {
          "output_type": "error",
          "ename": "NameError",
          "evalue": "name 'celsius_to_fahrenheit' is not defined",
          "traceback": [
            "\u001b[0;31m---------------------------------------------------------------------------\u001b[0m",
            "\u001b[0;31mNameError\u001b[0m                                 Traceback (most recent call last)",
            "\u001b[0;32m/tmp/ipython-input-1091932768.py\u001b[0m in \u001b[0;36m<cell line: 0>\u001b[0;34m()\u001b[0m\n\u001b[0;32m----> 1\u001b[0;31m \u001b[0mcelsius_to_fahrenheit\u001b[0m\u001b[0;34m(\u001b[0m\u001b[0;36m20\u001b[0m\u001b[0;34m)\u001b[0m\u001b[0;34m\u001b[0m\u001b[0;34m\u001b[0m\u001b[0m\n\u001b[0m",
            "\u001b[0;31mNameError\u001b[0m: name 'celsius_to_fahrenheit' is not defined"
          ]
        }
      ],
      "source": [
        "celsius_to_fahrenheit(20)"
      ]
    },
    {
      "cell_type": "markdown",
      "metadata": {
        "id": "whDlXx9Eamke"
      },
      "source": [
        "البته این سلول بالا الان کار نمی‌کنه چون باید فایل رو و این تابع رو به کرنل پایتون این دفترچه معرفی کنیم."
      ]
    },
    {
      "cell_type": "markdown",
      "metadata": {
        "id": "KaTPMMFfamke"
      },
      "source": [
        "<p style=\"background-color:#F5C780; padding:15px\"> 🤖 <b>بیا از چت‌بات مشورت بگیریم. مثلا من این پرامپت رو دادم</b>:\n",
        "\n",
        "من تابع celsius_to_fahrenheit را در فایل temperature_tools.py دارم. چگونه می‌توانم آن را در Jupyter notebook خود بارگذاری کنم؟\n",
        "\n",
        "جوابی که گرفتم طولانی اما جالب بود. یک بخشی رو پایین استفاده می‌کنم اما اگر علاقه‌ داشتی از [این لینک](https://claude.ai/share/38c0e123-41bf-462a-8fb1-0a1a54d19bfb) کاملش رو بخون\n",
        "</p>"
      ]
    },
    {
      "cell_type": "code",
      "execution_count": 6,
      "metadata": {
        "height": 31,
        "id": "lHpGD4Yaamkf"
      },
      "outputs": [],
      "source": [
        "from temperature_tools import celsius_to_fahrenheit"
      ]
    },
    {
      "cell_type": "markdown",
      "metadata": {
        "id": "U7yA-xLOamkf"
      },
      "source": [
        "و حالا با این اجرای سلول بالا من به تابع تبدیل سلسیوس به فارنهایت دسترسی دارم:"
      ]
    },
    {
      "cell_type": "code",
      "execution_count": 7,
      "metadata": {
        "height": 31,
        "id": "DLmMKG6Mamkf",
        "colab": {
          "base_uri": "https://localhost:8080/"
        },
        "outputId": "65a03c21-bd5c-4ff8-a6ef-4b020ade8cd6"
      },
      "outputs": [
        {
          "output_type": "execute_result",
          "data": {
            "text/plain": [
              "68.0"
            ]
          },
          "metadata": {},
          "execution_count": 7
        }
      ],
      "source": [
        "celsius_to_fahrenheit(20)"
      ]
    },
    {
      "cell_type": "code",
      "source": [
        "cel = 20\n",
        "fah = celsius_to_fahrenheit(cel)\n",
        "print(f\"{cel}°C is equivalent to {fah:.2f}°F\")"
      ],
      "metadata": {
        "colab": {
          "base_uri": "https://localhost:8080/"
        },
        "id": "dLqtPSYCheHT",
        "outputId": "7edc3655-466e-4919-c64a-c587fde187f0"
      },
      "execution_count": 8,
      "outputs": [
        {
          "output_type": "stream",
          "name": "stdout",
          "text": [
            "20°C is equivalent to 68.00°F\n"
          ]
        }
      ]
    },
    {
      "cell_type": "markdown",
      "metadata": {
        "id": "CO9H4g5Vamkf"
      },
      "source": [
        "## راه‌های گوناگون فراخوانی تابع‌ها از یک فایل"
      ]
    },
    {
      "cell_type": "markdown",
      "metadata": {
        "id": "YZHDi92Eamkf"
      },
      "source": [
        "اگر به شیوه پایین نام فایل رو وارد کنیم انگار داریم خود فایل رو به پایتون معرفی می‌کنیم:"
      ]
    },
    {
      "cell_type": "code",
      "execution_count": 9,
      "metadata": {
        "height": 31,
        "id": "LXts4CJxamkf"
      },
      "outputs": [],
      "source": [
        "import temperature_tools"
      ]
    },
    {
      "cell_type": "markdown",
      "metadata": {
        "id": "WH9ms0tTamkg"
      },
      "source": [
        "تو این روش برای فراخوانی یک تابع باید هر بار نام فایل رو بنویسی و بعد نقطه بگذاری و بعد نام تابع مور نظر رو صدا بزنی:"
      ]
    },
    {
      "cell_type": "code",
      "execution_count": 10,
      "metadata": {
        "height": 49,
        "id": "x8SKbmlZamkg",
        "colab": {
          "base_uri": "https://localhost:8080/",
          "height": 36
        },
        "outputId": "916d4d02-509e-4263-e85f-62b671494028"
      },
      "outputs": [
        {
          "output_type": "execute_result",
          "data": {
            "text/plain": [
              "'The capital of France is **Paris**. \\n'"
            ],
            "application/vnd.google.colaboratory.intrinsic+json": {
              "type": "string"
            }
          },
          "metadata": {},
          "execution_count": 10
        }
      ],
      "source": [
        "temperature_tools.print_llm_response(\"What is the capital of France?\")"
      ]
    },
    {
      "cell_type": "markdown",
      "metadata": {
        "id": "eb8FxIb5amkg"
      },
      "source": [
        "دقت کن وقتی فایل رو به این سبک به پایتون معرفی می‌کنی نمی‌تونی موقع صدا کردن تابع، فقط نامش رو بنویسی."
      ]
    },
    {
      "cell_type": "markdown",
      "metadata": {
        "id": "zdhFqiS_amkg"
      },
      "source": [
        "* 🚨 هشدار: کد پایین خطا در پی داره"
      ]
    },
    {
      "cell_type": "code",
      "execution_count": 11,
      "metadata": {
        "height": 49,
        "id": "6VDSh5SYamkh",
        "colab": {
          "base_uri": "https://localhost:8080/",
          "height": 141
        },
        "outputId": "c454a091-7203-4fc1-a4bf-5cc02c0b1c2f"
      },
      "outputs": [
        {
          "output_type": "error",
          "ename": "NameError",
          "evalue": "name 'print_llm_response' is not defined",
          "traceback": [
            "\u001b[0;31m---------------------------------------------------------------------------\u001b[0m",
            "\u001b[0;31mNameError\u001b[0m                                 Traceback (most recent call last)",
            "\u001b[0;32m/tmp/ipython-input-2921766468.py\u001b[0m in \u001b[0;36m<cell line: 0>\u001b[0;34m()\u001b[0m\n\u001b[0;32m----> 1\u001b[0;31m \u001b[0mresponse\u001b[0m \u001b[0;34m=\u001b[0m \u001b[0mprint_llm_response\u001b[0m\u001b[0;34m(\u001b[0m\u001b[0;34m\"What is the capital of France?\"\u001b[0m\u001b[0;34m)\u001b[0m\u001b[0;34m\u001b[0m\u001b[0;34m\u001b[0m\u001b[0m\n\u001b[0m",
            "\u001b[0;31mNameError\u001b[0m: name 'print_llm_response' is not defined"
          ]
        }
      ],
      "source": [
        "response = print_llm_response(\"What is the capital of France?\")"
      ]
    },
    {
      "cell_type": "markdown",
      "metadata": {
        "id": "Bvmh3E55amkh"
      },
      "source": [
        "باید نام فایل بعد نقطه رو بنویسی و بعد نام تابع رو صدا بزنی:"
      ]
    },
    {
      "cell_type": "code",
      "execution_count": 12,
      "metadata": {
        "height": 66,
        "id": "8Z3CBN6iamkh",
        "colab": {
          "base_uri": "https://localhost:8080/"
        },
        "outputId": "db72acf8-9866-44df-9761-19dd2636094f"
      },
      "outputs": [
        {
          "output_type": "stream",
          "name": "stdout",
          "text": [
            "The capital of France is **Paris**. \n",
            "\n"
          ]
        }
      ],
      "source": [
        "response = temperature_tools.print_llm_response(\"What is the capital of France?\")\n",
        "print(response)"
      ]
    },
    {
      "cell_type": "markdown",
      "metadata": {
        "id": "X8-CYetgamkh"
      },
      "source": [
        "اگه بخواهی نام تابع‌ها وارد فضای نام این کرنل (این دفترچه) بشه و هر بار نیاز به گذاشتن نام ماژول و بعد نقطه و بعد نام تابع نباشه، می‌تونی از سینتکس پایین استفاده کنی:"
      ]
    },
    {
      "cell_type": "code",
      "execution_count": 13,
      "metadata": {
        "height": 31,
        "id": "O4lxvRmqamkh"
      },
      "outputs": [],
      "source": [
        "from temperature_tools import *"
      ]
    },
    {
      "cell_type": "markdown",
      "metadata": {
        "id": "5th46PoVamki"
      },
      "source": [
        "این کد همه تابع‌های ماژول رو وارد می‌کنه و ازین پس می‌تونی فقط نامشون رو صدا بزنی:"
      ]
    },
    {
      "cell_type": "code",
      "execution_count": 14,
      "metadata": {
        "height": 66,
        "id": "675ODyFTamki"
      },
      "outputs": [],
      "source": [
        "# این رو دوباره آزمایش کن\n",
        "response = print_llm_response(\"سه نکته برای افزایش بازده یادگیری بگو! \")"
      ]
    },
    {
      "cell_type": "code",
      "execution_count": 15,
      "metadata": {
        "height": 48,
        "id": "KK_wVxVeamki",
        "colab": {
          "base_uri": "https://localhost:8080/"
        },
        "outputId": "6d6bef3b-d841-45e8-e348-14f7d6f08e54"
      },
      "outputs": [
        {
          "output_type": "stream",
          "name": "stdout",
          "text": [
            "البته! در اینجا سه نکته برای افزایش بازده یادگیری وجود دارد:\n",
            "\n",
            "1.  **یادگیری فعال داشته باشید:** به جای اینکه فقط مطالب را بخوانید یا گوش دهید، سعی کنید با آن تعامل فعال داشته باشید. این شامل موارد زیر می شود:\n",
            "    *   **خلاصه نویسی:** نکات اصلی را به زبان خودتان خلاصه کنید.\n",
            "    *   **پرسش و پاسخ:** خودتان را امتحان کنید و سعی کنید به سوالات پاسخ دهید.\n",
            "    *   **آموزش به دیگران:** مطالب را به کسی توضیح دهید.\n",
            "    *   **حل مسئله:** از مطالب برای حل مسائل یا تمرینات استفاده کنید.\n",
            "\n",
            "2.  **تکنیک تکرار با فاصله (Spaced Repetition):** به جای اینکه همه چیز را یکجا مطالعه کنید، مطالب را در فواصل زمانی مشخص مرور کنید. این کار به تثبیت اطلاعات در حافظه بلندمدت کمک می کند. نرم افزارهایی مانند Anki می توانند در این زمینه کمک کنند.\n",
            "\n",
            "3.  **محیط یادگیری مناسب را فراهم کنید:**\n",
            "    *   **حذف عوامل مزاحم:** تلفن همراه، تلویزیون و سایر عوامل حواس پرتی را از محیط یادگیری خود حذف کنید.\n",
            "    *   **مکان آرام و منظم:** یک مکان آرام و منظم برای مطالعه انتخاب کنید.\n",
            "    *   **استراحت های منظم:** در طول مطالعه، استراحت های کوتاه و منظم داشته باشید تا از خستگی ذهنی جلوگیری کنید.\n",
            "\n",
            "امیدوارم این نکات به شما کمک کند! اگر سوال دیگری دارید، بپرسید.\n"
          ]
        }
      ],
      "source": [
        "# It worked!\n",
        "print(response)"
      ]
    },
    {
      "cell_type": "markdown",
      "metadata": {
        "id": "T9woKPLuamki"
      },
      "source": [
        "حالا به نظرت چرا وقتی می‌شه با این سینتکس همه چیز رو وارد کرد باید از اون قبلی استفاده کنیم؟"
      ]
    },
    {
      "cell_type": "markdown",
      "source": [
        "پیشنهاد می‌کنم با سپارشی (پرامپتی) شبیه پایین از چت‌بات مشورت بگیری:\n",
        "\n",
        "> فرق این دو خط کد چی هست؟\n",
        "\n",
        "> import temperature_tools\n",
        "\n",
        "> from temperature_tools import *\n",
        "\n",
        "> اگه تو حالت دوم همه چیز ایمپورت میشه اصلا چه نیازی به اون حالت اول هست؟\n",
        "\n"
      ],
      "metadata": {
        "id": "EGlIEg05NK4l"
      }
    },
    {
      "cell_type": "markdown",
      "source": [
        "معمولا توصیه می‌شه که نه اون حالت اول و نه حالت دوم رو بلکه حالت پایین رو استفاده کنیم.\n",
        "\n",
        "هر تابعی نیاز داریم همون رو فراخوانی کنیم.\n",
        "\n",
        "`from temperature_tools import print_llm_response`"
      ],
      "metadata": {
        "id": "ZxSumBWTM2sR"
      }
    },
    {
      "cell_type": "markdown",
      "source": [
        "## تمرین\n",
        "\n",
        "برو سراغ ماژولمون و تابع تبدیل فارنهایت به سلسیوس که اینجا تو این دفترچه تعریف کرده بودیم رو هم به صورت یک تابع بهش اضافه کن.\n",
        "\n",
        "تبدیل کلوین به سلسیوس و برعکس هم می‌تونی اضافه و بعد اینجا فراخوانی و آزمایش کنی.\n",
        "\n",
        "\n",
        "این دفترچه خلوت تر میشه نه؟\n",
        "\n",
        "دیگه اون سلول تعریف تابع «پرینت ال ال ام» یا تابع های تبدیل نیاز نیست.\n",
        "\n",
        "فقط نامشون رو از ماژول صدا می‌کنیم."
      ],
      "metadata": {
        "id": "I20Z-faFia9h"
      }
    }
  ],
  "metadata": {
    "colab": {
      "gpuType": "T4",
      "provenance": [],
      "include_colab_link": true
    },
    "kernelspec": {
      "display_name": "Python 3 (ipykernel)",
      "language": "python",
      "name": "python3"
    },
    "language_info": {
      "codemirror_mode": {
        "name": "ipython",
        "version": 3
      },
      "file_extension": ".py",
      "mimetype": "text/x-python",
      "name": "python",
      "nbconvert_exporter": "python",
      "pygments_lexer": "ipython3",
      "version": "3.9.19"
    }
  },
  "nbformat": 4,
  "nbformat_minor": 0
}