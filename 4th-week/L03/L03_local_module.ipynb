{
  "cells": [
    {
      "cell_type": "markdown",
      "metadata": {
        "id": "view-in-github",
        "colab_type": "text"
      },
      "source": [
        "<a href=\"https://colab.research.google.com/github/asefycom/Python-with-AI/blob/main/4th-week/L03/L03_local_module.ipynb\" target=\"_parent\"><img src=\"https://colab.research.google.com/assets/colab-badge.svg\" alt=\"Open In Colab\"/></a>"
      ]
    },
    {
      "cell_type": "markdown",
      "metadata": {
        "id": "WMGxBP-yQoCl"
      },
      "source": [
        "# هفته چهارم - درس ۳: فراخوانی تابع از یک فایل محلی"
      ]
    },
    {
      "cell_type": "markdown",
      "metadata": {
        "id": "r1PGaghZamkZ"
      },
      "source": [
        "در هفته‌های گذشته بارها پیش اومد که تابعی تعریف و تو سلول‌های بعدی با فراخوانی نامش ازش استفاده کردیم.\n",
        "\n",
        "حالا برای خلوت شدن دفترچه و همین طور امکان استفاده دوباره، تابع های کمکی رو می بریم به یک فایل در کنار دفترچه\n"
      ]
    },
    {
      "cell_type": "markdown",
      "source": [
        "## پیشنیاز"
      ],
      "metadata": {
        "id": "3-BdecnWXxhj"
      }
    },
    {
      "cell_type": "markdown",
      "source": [
        "این درس رو می‌تونی مثل هفته‌های گذشته با کلون کردن مخزن گیت هاب و رفتن به دایرکتوری این درس، داخل کولب هم اجرا کنی.\n"
      ],
      "metadata": {
        "id": "61awcezwXz4N"
      }
    },
    {
      "cell_type": "code",
      "source": [
        "# در صورت اجرا در کولب\n",
        "import os\n",
        "\n",
        "if not os.path.exists('Python-with-AI'):\n",
        "    !git clone https://github.com/asefycom/Python-with-AI.git\n",
        "\n",
        "os.chdir('Python-with-AI/4th-week/L03')\n",
        "print(\"Current Working Directory:\", os.getcwd())"
      ],
      "metadata": {
        "id": "DQZNfRvjRJs5"
      },
      "execution_count": null,
      "outputs": []
    },
    {
      "cell_type": "markdown",
      "source": [
        "اما پیشنهاد می‌کنم که این درس رو و این دفترچه رو روی ژوپیتر سیستم خودت اجرا کنی.\n",
        "\n",
        "آموزش راه‌اندازی ژپیتر رو در درس ۱ این هفته داشتیم.\n",
        "\n",
        "در هر دو صورت باید بسته‌های پایین روی سیستم یا کولب نصب باشن."
      ],
      "metadata": {
        "id": "VSfn3Nw3Rj9A"
      }
    },
    {
      "cell_type": "code",
      "source": [
        "# نصب بسته توگدر برای استفاده از تابع‌ها و کلاس‌هاش\n",
        "# و صحبت با مدل‌های زبانی بزرگ\n",
        "!pip install together"
      ],
      "metadata": {
        "id": "Iq1bwp_rY7ob"
      },
      "execution_count": null,
      "outputs": []
    },
    {
      "cell_type": "code",
      "source": [
        "# برای گرفتن  کلید از فایل دات انو به صورت امن\n",
        "!pip install python-dotenv"
      ],
      "metadata": {
        "id": "scjcrizOYzRo"
      },
      "execution_count": null,
      "outputs": []
    },
    {
      "cell_type": "markdown",
      "metadata": {
        "id": "mRfb61ajamka"
      },
      "source": [
        "## بازبینی تابع تبدیل دما"
      ]
    },
    {
      "cell_type": "markdown",
      "metadata": {
        "id": "Mn2qv5M8amkb"
      },
      "source": [
        "این تابعی بود که هفته گذشته برای تبدیل دما از فارنهایت به سلسیوس نوشتیم.\n",
        "\n",
        "یادت هست؟ بیا سلول بعد رو اجرا کنیم تا نام این تابع تو فضای اجرای این دفترچه در دسترس باشه پایین‌تر ازش استفاده کنیم:"
      ]
    },
    {
      "cell_type": "code",
      "execution_count": null,
      "metadata": {
        "height": 83,
        "id": "Ti5Xi7Djamkb"
      },
      "outputs": [],
      "source": [
        "def fahrenheit_to_celsius(fahrenheit):\n",
        "    celsius = (fahrenheit - 32) * 5 / 9\n",
        "    return celsius"
      ]
    },
    {
      "cell_type": "markdown",
      "metadata": {
        "id": "gB63U7qYamkd"
      },
      "source": [
        "حالا بیا با فراخوانی نامش ازش استفاده کنیم:"
      ]
    },
    {
      "cell_type": "code",
      "execution_count": null,
      "metadata": {
        "height": 31,
        "id": "aUr2NBYMamkd"
      },
      "outputs": [],
      "source": [
        "fahr = 68\n",
        "cels = fahrenheit_to_celsius(fahr)\n",
        "\n",
        "print(f\"{fahr}°F is equivalent to {cels:.2f}°C\")"
      ]
    },
    {
      "cell_type": "markdown",
      "metadata": {
        "id": "-T_S-7kCamkd"
      },
      "source": [
        "حالا بیا این تابع رو داخل یک فایل ببریم تا هر وقت و هر دفترچه که بهش نیاز داشتیم دوباره ننویسیمش و از داخل فایل صداش کنیم.\n",
        "\n",
        "می‌تونیم مثلا اسم این فایل رو بگذاریم\n",
        "\n",
        "‍‍`temperature_tools.py`\n",
        "\n",
        "حالا میشه حتی تابع‌های دیگه‌ای هم اضافه کنیم. مثلا تبدیل برعکس از سلسیوس به فارنهایت:"
      ]
    },
    {
      "cell_type": "code",
      "execution_count": null,
      "metadata": {
        "height": 31,
        "id": "ZSYMydNTamkd"
      },
      "outputs": [],
      "source": [
        "celsius_to_fahrenheit(20)"
      ]
    },
    {
      "cell_type": "markdown",
      "metadata": {
        "id": "whDlXx9Eamke"
      },
      "source": [
        "البته این سلول بالا الان کار نمی‌کنه چون باید فایل رو و این تابع رو به کرنل پایتون این دفترچه معرفی کنیم."
      ]
    },
    {
      "cell_type": "markdown",
      "metadata": {
        "id": "KaTPMMFfamke"
      },
      "source": [
        "<p style=\"background-color:#F5C780; padding:15px\"> 🤖 <b>بیا از چت‌بات مشورت بگیریم. مثلا من این پرامپت رو دادم</b>:\n",
        "\n",
        "من تابع celsius_to_fahrenheit را در فایل temperature_tools.py دارم. چگونه می‌توانم آن را در Jupyter notebook خود بارگذاری کنم؟\n",
        "\n",
        "جوابی که گرفتم طولانی اما جالب بود. یک بخشی رو پایین استفاده می‌کنم اما اگر علاقه‌ داشتی از [این لینک](https://claude.ai/share/38c0e123-41bf-462a-8fb1-0a1a54d19bfb) کاملش رو بخون\n",
        "</p>"
      ]
    },
    {
      "cell_type": "code",
      "execution_count": null,
      "metadata": {
        "height": 31,
        "id": "lHpGD4Yaamkf"
      },
      "outputs": [],
      "source": [
        "from temperature_tools import celsius_to_fahrenheit"
      ]
    },
    {
      "cell_type": "markdown",
      "metadata": {
        "id": "U7yA-xLOamkf"
      },
      "source": [
        "و حالا با این اجرای سلول بالا من به تابع تبدیل سلسیوس به فارنهایت دسترسی دارم:"
      ]
    },
    {
      "cell_type": "code",
      "execution_count": null,
      "metadata": {
        "height": 31,
        "id": "DLmMKG6Mamkf"
      },
      "outputs": [],
      "source": [
        "celsius_to_fahrenheit(20)"
      ]
    },
    {
      "cell_type": "code",
      "source": [
        "cel = 20\n",
        "fah = celsius_to_fahrenheit(cel)\n",
        "print(f\"{cel}°C is equivalent to {fah:.2f}°F\")"
      ],
      "metadata": {
        "id": "dLqtPSYCheHT"
      },
      "execution_count": null,
      "outputs": []
    },
    {
      "cell_type": "markdown",
      "metadata": {
        "id": "CO9H4g5Vamkf"
      },
      "source": [
        "## راه‌های گوناگون فراخوانی تابع‌ها از یک فایل"
      ]
    },
    {
      "cell_type": "markdown",
      "metadata": {
        "id": "YZHDi92Eamkf"
      },
      "source": [
        "اگر به شیوه پایین نام فایل رو وارد کنیم انگار داریم خود فایل رو به پایتون معرفی می‌کنیم:"
      ]
    },
    {
      "cell_type": "code",
      "execution_count": null,
      "metadata": {
        "height": 31,
        "id": "LXts4CJxamkf"
      },
      "outputs": [],
      "source": [
        "import temperature_tools"
      ]
    },
    {
      "cell_type": "markdown",
      "metadata": {
        "id": "WH9ms0tTamkg"
      },
      "source": [
        "تو این روش برای فراخوانی یک تابع باید هر بار نام فایل رو بنویسی و بعد نقطه بگذاری و بعد نام تابع مور نظر رو صدا بزنی:"
      ]
    },
    {
      "cell_type": "code",
      "execution_count": null,
      "metadata": {
        "height": 49,
        "id": "x8SKbmlZamkg"
      },
      "outputs": [],
      "source": [
        "temperature_tools.print_llm_response(\"What is the capital of France?\")"
      ]
    },
    {
      "cell_type": "markdown",
      "metadata": {
        "id": "eb8FxIb5amkg"
      },
      "source": [
        "دقت کن وقتی فایل رو به این سبک به پایتون معرفی می‌کنی نمی‌تونی موقع صدا کردن تابع، فقط نامش رو بنویسی."
      ]
    },
    {
      "cell_type": "markdown",
      "metadata": {
        "id": "zdhFqiS_amkg"
      },
      "source": [
        "* 🚨 هشدار: کد پایین خطا در پی داره"
      ]
    },
    {
      "cell_type": "code",
      "execution_count": null,
      "metadata": {
        "height": 49,
        "id": "6VDSh5SYamkh"
      },
      "outputs": [],
      "source": [
        "response = print_llm_response(\"What is the capital of France?\")"
      ]
    },
    {
      "cell_type": "markdown",
      "metadata": {
        "id": "Bvmh3E55amkh"
      },
      "source": [
        "باید نام فایل بعد نقطه رو بنویسی و بعد نام تابع رو صدا بزنی:"
      ]
    },
    {
      "cell_type": "code",
      "execution_count": null,
      "metadata": {
        "height": 66,
        "id": "8Z3CBN6iamkh"
      },
      "outputs": [],
      "source": [
        "response = temperature_tools.print_llm_response(\"What is the capital of France?\")\n",
        "print(response)"
      ]
    },
    {
      "cell_type": "markdown",
      "metadata": {
        "id": "X8-CYetgamkh"
      },
      "source": [
        "اگه بخواهی نام تابع‌ها وارد فضای نام این کرنل (این دفترچه) بشه و هر بار نیاز به گذاشتن نام ماژول و بعد نقطه و بعد نام تابع نباشه، می‌تونی از سینتکس پایین استفاده کنی:"
      ]
    },
    {
      "cell_type": "code",
      "execution_count": null,
      "metadata": {
        "height": 31,
        "id": "O4lxvRmqamkh"
      },
      "outputs": [],
      "source": [
        "from temperature_tools import *"
      ]
    },
    {
      "cell_type": "markdown",
      "metadata": {
        "id": "5th46PoVamki"
      },
      "source": [
        "این کد همه تابع‌های ماژول رو وارد می‌کنه و ازین پس می‌تونی فقط نامشون رو صدا بزنی:"
      ]
    },
    {
      "cell_type": "code",
      "execution_count": null,
      "metadata": {
        "height": 66,
        "id": "675ODyFTamki"
      },
      "outputs": [],
      "source": [
        "# این رو دوباره آزمایش کن\n",
        "response = print_llm_response(\"سه نکته برای افزایش بازده یادگیری بگو! \")"
      ]
    },
    {
      "cell_type": "code",
      "execution_count": null,
      "metadata": {
        "height": 48,
        "id": "KK_wVxVeamki"
      },
      "outputs": [],
      "source": [
        "# It worked!\n",
        "print(response)"
      ]
    },
    {
      "cell_type": "markdown",
      "metadata": {
        "id": "T9woKPLuamki"
      },
      "source": [
        "حالا به نظرت چرا وقتی می‌شه با این سینتکس همه چیز رو وارد کرد باید از اون قبلی استفاده کنیم؟"
      ]
    },
    {
      "cell_type": "markdown",
      "source": [
        "پیشنهاد می‌کنم با سپارشی (پرامپتی) شبیه پایین از چت‌بات مشورت بگیری:\n",
        "\n",
        "> فرق این دو خط کد چی هست؟\n",
        "\n",
        "> import temperature_tools\n",
        "\n",
        "> from temperature_tools import *\n",
        "\n",
        "> اگه تو حالت دوم همه چیز ایمپورت میشه اصلا چه نیازی به اون حالت اول هست؟\n",
        "\n"
      ],
      "metadata": {
        "id": "EGlIEg05NK4l"
      }
    },
    {
      "cell_type": "markdown",
      "source": [
        "معمولا توصیه می‌شه که نه اون حالت اول و نه حالت دوم رو بلکه حالت پایین رو استفاده کنیم.\n",
        "\n",
        "هر تابعی نیاز داریم همون رو فراخوانی کنیم.\n",
        "\n",
        "`from temperature_tools import print_llm_response`"
      ],
      "metadata": {
        "id": "ZxSumBWTM2sR"
      }
    },
    {
      "cell_type": "markdown",
      "source": [
        "## تمرین\n",
        "\n",
        "برو سراغ ماژولمون و تابع تبدیل فارنهایت به سلسیوس که اینجا تو این دفترچه تعریف کرده بودیم رو هم به صورت یک تابع بهش اضافه کن.\n",
        "\n",
        "تبدیل کلوین به سلسیوس و برعکس هم می‌تونی اضافه و بعد اینجا فراخوانی و آزمایش کنی.\n",
        "\n",
        "\n",
        "این دفترچه خلوت تر میشه نه؟\n",
        "\n",
        "دیگه اون سلول تعریف تابع «پرینت ال ال ام» یا تابع های تبدیل نیاز نیست.\n",
        "\n",
        "فقط نامشون رو از ماژول صدا می‌کنیم."
      ],
      "metadata": {
        "id": "I20Z-faFia9h"
      }
    }
  ],
  "metadata": {
    "colab": {
      "gpuType": "T4",
      "provenance": [],
      "include_colab_link": true
    },
    "kernelspec": {
      "display_name": "Python 3 (ipykernel)",
      "language": "python",
      "name": "python3"
    },
    "language_info": {
      "codemirror_mode": {
        "name": "ipython",
        "version": 3
      },
      "file_extension": ".py",
      "mimetype": "text/x-python",
      "name": "python",
      "nbconvert_exporter": "python",
      "pygments_lexer": "ipython3",
      "version": "3.9.19"
    }
  },
  "nbformat": 4,
  "nbformat_minor": 0
}